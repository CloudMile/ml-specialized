{
 "cells": [
  {
   "cell_type": "markdown",
   "metadata": {},
   "source": [
    "\n",
    "\n",
    "\n",
    "## What kind of problem to solve?\n",
    "\n",
    "Music Personalize Recommendation, here because of the target column is binary, we take this as a classification problem, in a nutshell, this is a binary classification."
   ]
  },
  {
   "cell_type": "code",
   "execution_count": 1,
   "metadata": {
    "scrolled": true
   },
   "outputs": [
    {
     "name": "stderr",
     "output_type": "stream",
     "text": [
      "d:\\python\\anaconda3\\envs\\py3_6\\lib\\site-packages\\h5py\\__init__.py:36: FutureWarning: Conversion of the second argument of issubdtype from `float` to `np.floating` is deprecated. In future, it will be treated as `np.float64 == np.dtype(float).type`.\n",
      "  from ._conv import register_converters as _register_converters\n"
     ]
    },
    {
     "name": "stdout",
     "output_type": "stream",
     "text": [
      "init logger instance ...\n"
     ]
    }
   ],
   "source": [
    "%reload_ext autoreload\n",
    "%autoreload 2\n",
    "\n",
    "import os, sys, numpy as np, pandas as pd, tensorflow as tf, re, codecs, json, time, html\n",
    "import pickle, collections, random, math, numbers, scipy.sparse as sp, itertools, shutil\n",
    "import requests, seaborn as sns\n",
    "import numba\n",
    "\n",
    "from sklearn import preprocessing\n",
    "from collections import defaultdict, Counter, OrderedDict\n",
    "from datetime import datetime\n",
    "from pprint import pprint\n",
    "from matplotlib import pyplot as plt\n",
    "# plt.style.use('ggplot')\n",
    "plt.style.use('seaborn-whitegrid') # \n",
    "\n",
    "ctx = os.path.abspath(os.path.dirname('.'))\n",
    "if ctx not in sys.path:\n",
    "    sys.path.insert(0, ctx)\n",
    "\n",
    "from trainer.utils import utils, utils_nb\n",
    "from trainer import app_conf, metadata, input as inp, service\n",
    "from trainer.ctrl import Ctrl\n",
    "\n",
    "np.set_printoptions(precision=4, suppress=True, linewidth=100)\n",
    "np.random.seed(42)"
   ]
  },
  {
   "cell_type": "markdown",
   "metadata": {},
   "source": [
    "## Preview\n",
    "<br/>\n",
    "\n",
    "### train.csv\n",
    "Column | Description\n",
    "--:--  | --:-- \n",
    "msno | user id\n",
    "song_id | song id\n",
    "source_system_tab | the name of the tab where the event was triggered. System tabs are used to categorize KKBOX mobile apps functions. For example, tab my library contains functions to manipulate the local storage, and tab search contains functions relating to search.\n",
    "source_screen_name | name of the layout a user sees.\n",
    "source_type | an entry point a user first plays music on mobile apps. An entry point could be album, online-playlist, song .. etc.\n",
    "target | this is the target variable. target=1 means there are recurring listening event(s) triggered within a month after the user’s very first observable listening event, target=0 otherwise .\n",
    "<br/>\n",
    "\n",
    "## songs.csv\n",
    "Column | Description\n",
    "--:--  | --:-- \n",
    "song_id | \n",
    "song_length | in ms\n",
    "genre_ids | genre category. Some songs have multiple genres and they are separated by\n",
    "artist_name | \n",
    "composer | \n",
    "lyricist | \n",
    "language |\n",
    "<br/>\n",
    "\n",
    "## members.csv\n",
    "Column | Description\n",
    "--:--  | --:-- \n",
    "msno | \n",
    "city | \n",
    "bd | age. Note: this column has outlier values, please use your judgement.\n",
    "gender | \n",
    "registered_via | registration method\n",
    "registration_init_time | format %Y%m%d\n",
    "expiration_date | format %Y%m%d\n",
    "\n",
    "## song_extra_info.csv\n",
    "Column | Description\n",
    "--:--  | --:-- \n",
    "song_id | \n",
    "song name | the name of the song.\n",
    "isrc | International Standard Recording Code, theoretically can be used as an identity of a song. However, what worth to note is, ISRCs generated from providers have not been officially verified; therefore the information in ISRC, such as country code and reference year, can be misleading/incorrect. Multiple songs could share one ISRC since a single recording could be re-published several times."
   ]
  },
  {
   "cell_type": "code",
   "execution_count": 2,
   "metadata": {},
   "outputs": [
    {
     "data": {
      "text/html": [
       "<div>\n",
       "<style scoped>\n",
       "    .dataframe tbody tr th:only-of-type {\n",
       "        vertical-align: middle;\n",
       "    }\n",
       "\n",
       "    .dataframe tbody tr th {\n",
       "        vertical-align: top;\n",
       "    }\n",
       "\n",
       "    .dataframe thead th {\n",
       "        text-align: right;\n",
       "    }\n",
       "</style>\n",
       "<table border=\"1\" class=\"dataframe\">\n",
       "  <thead>\n",
       "    <tr style=\"text-align: right;\">\n",
       "      <th></th>\n",
       "      <th>msno</th>\n",
       "      <th>song_id</th>\n",
       "      <th>source_system_tab</th>\n",
       "      <th>source_screen_name</th>\n",
       "      <th>source_type</th>\n",
       "      <th>target</th>\n",
       "    </tr>\n",
       "  </thead>\n",
       "  <tbody>\n",
       "    <tr>\n",
       "      <th>0</th>\n",
       "      <td>FGtllVqz18RPiwJj/edr2gV78zirAiY/9SmYvia+kCg=</td>\n",
       "      <td>BBzumQNXUHKdEBOB7mAJuzok+IJA1c2Ryg/yzTF6tik=</td>\n",
       "      <td>explore</td>\n",
       "      <td>Explore</td>\n",
       "      <td>online-playlist</td>\n",
       "      <td>1</td>\n",
       "    </tr>\n",
       "    <tr>\n",
       "      <th>1</th>\n",
       "      <td>Xumu+NIjS6QYVxDS4/t3SawvJ7viT9hPKXmf0RtLNx8=</td>\n",
       "      <td>bhp/MpSNoqoxOIB+/l8WPqu6jldth4DIpCm3ayXnJqM=</td>\n",
       "      <td>my library</td>\n",
       "      <td>Local playlist more</td>\n",
       "      <td>local-playlist</td>\n",
       "      <td>1</td>\n",
       "    </tr>\n",
       "    <tr>\n",
       "      <th>2</th>\n",
       "      <td>Xumu+NIjS6QYVxDS4/t3SawvJ7viT9hPKXmf0RtLNx8=</td>\n",
       "      <td>JNWfrrC7zNN7BdMpsISKa4Mw+xVJYNnxXh3/Epw7QgY=</td>\n",
       "      <td>my library</td>\n",
       "      <td>Local playlist more</td>\n",
       "      <td>local-playlist</td>\n",
       "      <td>1</td>\n",
       "    </tr>\n",
       "    <tr>\n",
       "      <th>3</th>\n",
       "      <td>Xumu+NIjS6QYVxDS4/t3SawvJ7viT9hPKXmf0RtLNx8=</td>\n",
       "      <td>2A87tzfnJTSWqD7gIZHisolhe4DMdzkbd6LzO1KHjNs=</td>\n",
       "      <td>my library</td>\n",
       "      <td>Local playlist more</td>\n",
       "      <td>local-playlist</td>\n",
       "      <td>1</td>\n",
       "    </tr>\n",
       "    <tr>\n",
       "      <th>4</th>\n",
       "      <td>FGtllVqz18RPiwJj/edr2gV78zirAiY/9SmYvia+kCg=</td>\n",
       "      <td>3qm6XTZ6MOCU11x8FIVbAGH5l5uMkT3/ZalWG1oo2Gc=</td>\n",
       "      <td>explore</td>\n",
       "      <td>Explore</td>\n",
       "      <td>online-playlist</td>\n",
       "      <td>1</td>\n",
       "    </tr>\n",
       "  </tbody>\n",
       "</table>\n",
       "</div>"
      ],
      "text/plain": [
       "                                           msno  \\\n",
       "0  FGtllVqz18RPiwJj/edr2gV78zirAiY/9SmYvia+kCg=   \n",
       "1  Xumu+NIjS6QYVxDS4/t3SawvJ7viT9hPKXmf0RtLNx8=   \n",
       "2  Xumu+NIjS6QYVxDS4/t3SawvJ7viT9hPKXmf0RtLNx8=   \n",
       "3  Xumu+NIjS6QYVxDS4/t3SawvJ7viT9hPKXmf0RtLNx8=   \n",
       "4  FGtllVqz18RPiwJj/edr2gV78zirAiY/9SmYvia+kCg=   \n",
       "\n",
       "                                        song_id source_system_tab  \\\n",
       "0  BBzumQNXUHKdEBOB7mAJuzok+IJA1c2Ryg/yzTF6tik=           explore   \n",
       "1  bhp/MpSNoqoxOIB+/l8WPqu6jldth4DIpCm3ayXnJqM=        my library   \n",
       "2  JNWfrrC7zNN7BdMpsISKa4Mw+xVJYNnxXh3/Epw7QgY=        my library   \n",
       "3  2A87tzfnJTSWqD7gIZHisolhe4DMdzkbd6LzO1KHjNs=        my library   \n",
       "4  3qm6XTZ6MOCU11x8FIVbAGH5l5uMkT3/ZalWG1oo2Gc=           explore   \n",
       "\n",
       "    source_screen_name      source_type  target  \n",
       "0              Explore  online-playlist       1  \n",
       "1  Local playlist more   local-playlist       1  \n",
       "2  Local playlist more   local-playlist       1  \n",
       "3  Local playlist more   local-playlist       1  \n",
       "4              Explore  online-playlist       1  "
      ]
     },
     "execution_count": 2,
     "metadata": {},
     "output_type": "execute_result"
    }
   ],
   "source": [
    "utils.preview('./data/train.csv')"
   ]
  },
  {
   "cell_type": "code",
   "execution_count": 3,
   "metadata": {},
   "outputs": [
    {
     "data": {
      "text/html": [
       "<div>\n",
       "<style scoped>\n",
       "    .dataframe tbody tr th:only-of-type {\n",
       "        vertical-align: middle;\n",
       "    }\n",
       "\n",
       "    .dataframe tbody tr th {\n",
       "        vertical-align: top;\n",
       "    }\n",
       "\n",
       "    .dataframe thead th {\n",
       "        text-align: right;\n",
       "    }\n",
       "</style>\n",
       "<table border=\"1\" class=\"dataframe\">\n",
       "  <thead>\n",
       "    <tr style=\"text-align: right;\">\n",
       "      <th></th>\n",
       "      <th>id</th>\n",
       "      <th>msno</th>\n",
       "      <th>song_id</th>\n",
       "      <th>source_system_tab</th>\n",
       "      <th>source_screen_name</th>\n",
       "      <th>source_type</th>\n",
       "    </tr>\n",
       "  </thead>\n",
       "  <tbody>\n",
       "    <tr>\n",
       "      <th>0</th>\n",
       "      <td>0</td>\n",
       "      <td>V8ruy7SGk7tDm3zA51DPpn6qutt+vmKMBKa21dp54uM=</td>\n",
       "      <td>WmHKgKMlp1lQMecNdNvDMkvIycZYHnFwDT72I5sIssc=</td>\n",
       "      <td>my library</td>\n",
       "      <td>Local playlist more</td>\n",
       "      <td>local-library</td>\n",
       "    </tr>\n",
       "    <tr>\n",
       "      <th>1</th>\n",
       "      <td>1</td>\n",
       "      <td>V8ruy7SGk7tDm3zA51DPpn6qutt+vmKMBKa21dp54uM=</td>\n",
       "      <td>y/rsZ9DC7FwK5F2PK2D5mj+aOBUJAjuu3dZ14NgE0vM=</td>\n",
       "      <td>my library</td>\n",
       "      <td>Local playlist more</td>\n",
       "      <td>local-library</td>\n",
       "    </tr>\n",
       "    <tr>\n",
       "      <th>2</th>\n",
       "      <td>2</td>\n",
       "      <td>/uQAlrAkaczV+nWCd2sPF2ekvXPRipV7q0l+gbLuxjw=</td>\n",
       "      <td>8eZLFOdGVdXBSqoAv5nsLigeH2BvKXzTQYtUM53I0k4=</td>\n",
       "      <td>discover</td>\n",
       "      <td>NaN</td>\n",
       "      <td>song-based-playlist</td>\n",
       "    </tr>\n",
       "    <tr>\n",
       "      <th>3</th>\n",
       "      <td>3</td>\n",
       "      <td>1a6oo/iXKatxQx4eS9zTVD+KlSVaAFbTIqVvwLC1Y0k=</td>\n",
       "      <td>ztCf8thYsS4YN3GcIL/bvoxLm/T5mYBVKOO4C9NiVfQ=</td>\n",
       "      <td>radio</td>\n",
       "      <td>Radio</td>\n",
       "      <td>radio</td>\n",
       "    </tr>\n",
       "    <tr>\n",
       "      <th>4</th>\n",
       "      <td>4</td>\n",
       "      <td>1a6oo/iXKatxQx4eS9zTVD+KlSVaAFbTIqVvwLC1Y0k=</td>\n",
       "      <td>MKVMpslKcQhMaFEgcEQhEfi5+RZhMYlU3eRDpySrH8Y=</td>\n",
       "      <td>radio</td>\n",
       "      <td>Radio</td>\n",
       "      <td>radio</td>\n",
       "    </tr>\n",
       "  </tbody>\n",
       "</table>\n",
       "</div>"
      ],
      "text/plain": [
       "   id                                          msno  \\\n",
       "0   0  V8ruy7SGk7tDm3zA51DPpn6qutt+vmKMBKa21dp54uM=   \n",
       "1   1  V8ruy7SGk7tDm3zA51DPpn6qutt+vmKMBKa21dp54uM=   \n",
       "2   2  /uQAlrAkaczV+nWCd2sPF2ekvXPRipV7q0l+gbLuxjw=   \n",
       "3   3  1a6oo/iXKatxQx4eS9zTVD+KlSVaAFbTIqVvwLC1Y0k=   \n",
       "4   4  1a6oo/iXKatxQx4eS9zTVD+KlSVaAFbTIqVvwLC1Y0k=   \n",
       "\n",
       "                                        song_id source_system_tab  \\\n",
       "0  WmHKgKMlp1lQMecNdNvDMkvIycZYHnFwDT72I5sIssc=        my library   \n",
       "1  y/rsZ9DC7FwK5F2PK2D5mj+aOBUJAjuu3dZ14NgE0vM=        my library   \n",
       "2  8eZLFOdGVdXBSqoAv5nsLigeH2BvKXzTQYtUM53I0k4=          discover   \n",
       "3  ztCf8thYsS4YN3GcIL/bvoxLm/T5mYBVKOO4C9NiVfQ=             radio   \n",
       "4  MKVMpslKcQhMaFEgcEQhEfi5+RZhMYlU3eRDpySrH8Y=             radio   \n",
       "\n",
       "    source_screen_name          source_type  \n",
       "0  Local playlist more        local-library  \n",
       "1  Local playlist more        local-library  \n",
       "2                  NaN  song-based-playlist  \n",
       "3                Radio                radio  \n",
       "4                Radio                radio  "
      ]
     },
     "execution_count": 3,
     "metadata": {},
     "output_type": "execute_result"
    }
   ],
   "source": [
    "utils.preview('./data/test.csv')"
   ]
  },
  {
   "cell_type": "code",
   "execution_count": 4,
   "metadata": {},
   "outputs": [
    {
     "data": {
      "text/html": [
       "<div>\n",
       "<style scoped>\n",
       "    .dataframe tbody tr th:only-of-type {\n",
       "        vertical-align: middle;\n",
       "    }\n",
       "\n",
       "    .dataframe tbody tr th {\n",
       "        vertical-align: top;\n",
       "    }\n",
       "\n",
       "    .dataframe thead th {\n",
       "        text-align: right;\n",
       "    }\n",
       "</style>\n",
       "<table border=\"1\" class=\"dataframe\">\n",
       "  <thead>\n",
       "    <tr style=\"text-align: right;\">\n",
       "      <th></th>\n",
       "      <th>msno</th>\n",
       "      <th>city</th>\n",
       "      <th>bd</th>\n",
       "      <th>gender</th>\n",
       "      <th>registered_via</th>\n",
       "      <th>registration_init_time</th>\n",
       "      <th>expiration_date</th>\n",
       "    </tr>\n",
       "  </thead>\n",
       "  <tbody>\n",
       "    <tr>\n",
       "      <th>0</th>\n",
       "      <td>XQxgAYj3klVKjR3oxPPXYYFp4soD4TuBghkhMTD4oTw=</td>\n",
       "      <td>1</td>\n",
       "      <td>0</td>\n",
       "      <td>NaN</td>\n",
       "      <td>7</td>\n",
       "      <td>20110820</td>\n",
       "      <td>20170920</td>\n",
       "    </tr>\n",
       "    <tr>\n",
       "      <th>1</th>\n",
       "      <td>UizsfmJb9mV54qE9hCYyU07Va97c0lCRLEQX3ae+ztM=</td>\n",
       "      <td>1</td>\n",
       "      <td>0</td>\n",
       "      <td>NaN</td>\n",
       "      <td>7</td>\n",
       "      <td>20150628</td>\n",
       "      <td>20170622</td>\n",
       "    </tr>\n",
       "    <tr>\n",
       "      <th>2</th>\n",
       "      <td>D8nEhsIOBSoE6VthTaqDX8U6lqjJ7dLdr72mOyLya2A=</td>\n",
       "      <td>1</td>\n",
       "      <td>0</td>\n",
       "      <td>NaN</td>\n",
       "      <td>4</td>\n",
       "      <td>20160411</td>\n",
       "      <td>20170712</td>\n",
       "    </tr>\n",
       "    <tr>\n",
       "      <th>3</th>\n",
       "      <td>mCuD+tZ1hERA/o5GPqk38e041J8ZsBaLcu7nGoIIvhI=</td>\n",
       "      <td>1</td>\n",
       "      <td>0</td>\n",
       "      <td>NaN</td>\n",
       "      <td>9</td>\n",
       "      <td>20150906</td>\n",
       "      <td>20150907</td>\n",
       "    </tr>\n",
       "    <tr>\n",
       "      <th>4</th>\n",
       "      <td>q4HRBfVSssAFS9iRfxWrohxuk9kCYMKjHOEagUMV6rQ=</td>\n",
       "      <td>1</td>\n",
       "      <td>0</td>\n",
       "      <td>NaN</td>\n",
       "      <td>4</td>\n",
       "      <td>20170126</td>\n",
       "      <td>20170613</td>\n",
       "    </tr>\n",
       "  </tbody>\n",
       "</table>\n",
       "</div>"
      ],
      "text/plain": [
       "                                           msno  city  bd  gender  \\\n",
       "0  XQxgAYj3klVKjR3oxPPXYYFp4soD4TuBghkhMTD4oTw=     1   0     NaN   \n",
       "1  UizsfmJb9mV54qE9hCYyU07Va97c0lCRLEQX3ae+ztM=     1   0     NaN   \n",
       "2  D8nEhsIOBSoE6VthTaqDX8U6lqjJ7dLdr72mOyLya2A=     1   0     NaN   \n",
       "3  mCuD+tZ1hERA/o5GPqk38e041J8ZsBaLcu7nGoIIvhI=     1   0     NaN   \n",
       "4  q4HRBfVSssAFS9iRfxWrohxuk9kCYMKjHOEagUMV6rQ=     1   0     NaN   \n",
       "\n",
       "   registered_via  registration_init_time  expiration_date  \n",
       "0               7                20110820         20170920  \n",
       "1               7                20150628         20170622  \n",
       "2               4                20160411         20170712  \n",
       "3               9                20150906         20150907  \n",
       "4               4                20170126         20170613  "
      ]
     },
     "execution_count": 4,
     "metadata": {},
     "output_type": "execute_result"
    }
   ],
   "source": [
    "utils.preview('./data/members.csv')"
   ]
  },
  {
   "cell_type": "code",
   "execution_count": 5,
   "metadata": {},
   "outputs": [
    {
     "data": {
      "text/html": [
       "<div>\n",
       "<style scoped>\n",
       "    .dataframe tbody tr th:only-of-type {\n",
       "        vertical-align: middle;\n",
       "    }\n",
       "\n",
       "    .dataframe tbody tr th {\n",
       "        vertical-align: top;\n",
       "    }\n",
       "\n",
       "    .dataframe thead th {\n",
       "        text-align: right;\n",
       "    }\n",
       "</style>\n",
       "<table border=\"1\" class=\"dataframe\">\n",
       "  <thead>\n",
       "    <tr style=\"text-align: right;\">\n",
       "      <th></th>\n",
       "      <th>song_id</th>\n",
       "      <th>song_length</th>\n",
       "      <th>genre_ids</th>\n",
       "      <th>artist_name</th>\n",
       "      <th>composer</th>\n",
       "      <th>lyricist</th>\n",
       "      <th>language</th>\n",
       "    </tr>\n",
       "  </thead>\n",
       "  <tbody>\n",
       "    <tr>\n",
       "      <th>0</th>\n",
       "      <td>CXoTN1eb7AI+DntdU1vbcwGRV4SCIDxZu+YD8JP8r4E=</td>\n",
       "      <td>247640</td>\n",
       "      <td>465</td>\n",
       "      <td>張信哲 (Jeff Chang)</td>\n",
       "      <td>董貞</td>\n",
       "      <td>何啟弘</td>\n",
       "      <td>3.0</td>\n",
       "    </tr>\n",
       "    <tr>\n",
       "      <th>1</th>\n",
       "      <td>o0kFgae9QtnYgRkVPqLJwa05zIhRlUjfF7O1tDw0ZDU=</td>\n",
       "      <td>197328</td>\n",
       "      <td>444</td>\n",
       "      <td>BLACKPINK</td>\n",
       "      <td>TEDDY|  FUTURE BOUNCE|  Bekuh BOOM</td>\n",
       "      <td>TEDDY</td>\n",
       "      <td>31.0</td>\n",
       "    </tr>\n",
       "    <tr>\n",
       "      <th>2</th>\n",
       "      <td>DwVvVurfpuz+XPuFvucclVQEyPqcpUkHR0ne1RQzPs0=</td>\n",
       "      <td>231781</td>\n",
       "      <td>465</td>\n",
       "      <td>SUPER JUNIOR</td>\n",
       "      <td>NaN</td>\n",
       "      <td>NaN</td>\n",
       "      <td>31.0</td>\n",
       "    </tr>\n",
       "    <tr>\n",
       "      <th>3</th>\n",
       "      <td>dKMBWoZyScdxSkihKG+Vf47nc18N9q4m58+b4e7dSSE=</td>\n",
       "      <td>273554</td>\n",
       "      <td>465</td>\n",
       "      <td>S.H.E</td>\n",
       "      <td>湯小康</td>\n",
       "      <td>徐世珍</td>\n",
       "      <td>3.0</td>\n",
       "    </tr>\n",
       "    <tr>\n",
       "      <th>4</th>\n",
       "      <td>W3bqWd3T+VeHFzHAUfARgW9AvVRaF4N5Yzm4Mr6Eo/o=</td>\n",
       "      <td>140329</td>\n",
       "      <td>726</td>\n",
       "      <td>貴族精選</td>\n",
       "      <td>Traditional</td>\n",
       "      <td>Traditional</td>\n",
       "      <td>52.0</td>\n",
       "    </tr>\n",
       "  </tbody>\n",
       "</table>\n",
       "</div>"
      ],
      "text/plain": [
       "                                        song_id  song_length  genre_ids  \\\n",
       "0  CXoTN1eb7AI+DntdU1vbcwGRV4SCIDxZu+YD8JP8r4E=       247640        465   \n",
       "1  o0kFgae9QtnYgRkVPqLJwa05zIhRlUjfF7O1tDw0ZDU=       197328        444   \n",
       "2  DwVvVurfpuz+XPuFvucclVQEyPqcpUkHR0ne1RQzPs0=       231781        465   \n",
       "3  dKMBWoZyScdxSkihKG+Vf47nc18N9q4m58+b4e7dSSE=       273554        465   \n",
       "4  W3bqWd3T+VeHFzHAUfARgW9AvVRaF4N5Yzm4Mr6Eo/o=       140329        726   \n",
       "\n",
       "        artist_name                            composer     lyricist  language  \n",
       "0  張信哲 (Jeff Chang)                                  董貞          何啟弘       3.0  \n",
       "1         BLACKPINK  TEDDY|  FUTURE BOUNCE|  Bekuh BOOM        TEDDY      31.0  \n",
       "2      SUPER JUNIOR                                 NaN          NaN      31.0  \n",
       "3             S.H.E                                 湯小康          徐世珍       3.0  \n",
       "4              貴族精選                         Traditional  Traditional      52.0  "
      ]
     },
     "execution_count": 5,
     "metadata": {},
     "output_type": "execute_result"
    }
   ],
   "source": [
    "utils.preview('./data/songs.csv')"
   ]
  },
  {
   "cell_type": "code",
   "execution_count": 6,
   "metadata": {},
   "outputs": [
    {
     "data": {
      "text/html": [
       "<div>\n",
       "<style scoped>\n",
       "    .dataframe tbody tr th:only-of-type {\n",
       "        vertical-align: middle;\n",
       "    }\n",
       "\n",
       "    .dataframe tbody tr th {\n",
       "        vertical-align: top;\n",
       "    }\n",
       "\n",
       "    .dataframe thead th {\n",
       "        text-align: right;\n",
       "    }\n",
       "</style>\n",
       "<table border=\"1\" class=\"dataframe\">\n",
       "  <thead>\n",
       "    <tr style=\"text-align: right;\">\n",
       "      <th></th>\n",
       "      <th>song_id</th>\n",
       "      <th>name</th>\n",
       "      <th>isrc</th>\n",
       "    </tr>\n",
       "  </thead>\n",
       "  <tbody>\n",
       "    <tr>\n",
       "      <th>0</th>\n",
       "      <td>LP7pLJoJFBvyuUwvu+oLzjT+bI+UeBPURCecJsX1jjs=</td>\n",
       "      <td>我們</td>\n",
       "      <td>TWUM71200043</td>\n",
       "    </tr>\n",
       "    <tr>\n",
       "      <th>1</th>\n",
       "      <td>ClazTFnk6r0Bnuie44bocdNMM3rdlrq0bCGAsGUWcHE=</td>\n",
       "      <td>Let Me Love You</td>\n",
       "      <td>QMZSY1600015</td>\n",
       "    </tr>\n",
       "    <tr>\n",
       "      <th>2</th>\n",
       "      <td>u2ja/bZE3zhCGxvbbOB3zOoUjx27u40cf5g09UXMoKQ=</td>\n",
       "      <td>原諒我</td>\n",
       "      <td>TWA530887303</td>\n",
       "    </tr>\n",
       "    <tr>\n",
       "      <th>3</th>\n",
       "      <td>92Fqsy0+p6+RHe2EoLKjHahORHR1Kq1TBJoClW9v+Ts=</td>\n",
       "      <td>Classic</td>\n",
       "      <td>USSM11301446</td>\n",
       "    </tr>\n",
       "    <tr>\n",
       "      <th>4</th>\n",
       "      <td>0QFmz/+rJy1Q56C1DuYqT9hKKqi5TUqx0sN0IwvoHrw=</td>\n",
       "      <td>愛投羅網</td>\n",
       "      <td>TWA471306001</td>\n",
       "    </tr>\n",
       "  </tbody>\n",
       "</table>\n",
       "</div>"
      ],
      "text/plain": [
       "                                        song_id             name          isrc\n",
       "0  LP7pLJoJFBvyuUwvu+oLzjT+bI+UeBPURCecJsX1jjs=               我們  TWUM71200043\n",
       "1  ClazTFnk6r0Bnuie44bocdNMM3rdlrq0bCGAsGUWcHE=  Let Me Love You  QMZSY1600015\n",
       "2  u2ja/bZE3zhCGxvbbOB3zOoUjx27u40cf5g09UXMoKQ=              原諒我  TWA530887303\n",
       "3  92Fqsy0+p6+RHe2EoLKjHahORHR1Kq1TBJoClW9v+Ts=          Classic  USSM11301446\n",
       "4  0QFmz/+rJy1Q56C1DuYqT9hKKqi5TUqx0sN0IwvoHrw=             愛投羅網  TWA471306001"
      ]
     },
     "execution_count": 6,
     "metadata": {},
     "output_type": "execute_result"
    }
   ],
   "source": [
    "utils.preview('./data/song_extra_info.csv')"
   ]
  },
  {
   "cell_type": "markdown",
   "metadata": {},
   "source": [
    "<br/>\n",
    "<br/>\n",
    "<br/>\n",
    "## Data Clean, Data Type Fix"
   ]
  },
  {
   "cell_type": "markdown",
   "metadata": {},
   "source": [
    "1. Drop `name` in `song_extra_info`"
   ]
  },
  {
   "cell_type": "code",
   "execution_count": 2,
   "metadata": {
    "scrolled": true
   },
   "outputs": [
    {
     "name": "stdout",
     "output_type": "stream",
     "text": [
      "Wall time: 28.7 s\n"
     ]
    }
   ],
   "source": [
    "%%time\n",
    "tr = pd.read_csv('./data/train.csv')\n",
    "members = pd.read_csv('./data/members.csv')\n",
    "songs = pd.read_csv('./data/songs.csv')\\\n",
    "          .merge(pd.read_csv('./data/song_extra_info.csv'), how='left', on='song_id')\\\n",
    "          .drop('name', 1)"
   ]
  },
  {
   "cell_type": "markdown",
   "metadata": {},
   "source": [
    "### Interaction table"
   ]
  },
  {
   "cell_type": "code",
   "execution_count": 3,
   "metadata": {},
   "outputs": [
    {
     "name": "stdout",
     "output_type": "stream",
     "text": [
      "Wall time: 1.18 s\n"
     ]
    }
   ],
   "source": [
    "%%time\n",
    "# source_system_tab source_screen_name source_type\n",
    "tr['source_system_tab'] = tr.source_system_tab.fillna('')\n",
    "tr['source_screen_name'] = tr.source_screen_name.fillna('')\n",
    "tr['source_type'] = tr.source_type.fillna('')"
   ]
  },
  {
   "cell_type": "markdown",
   "metadata": {},
   "source": [
    "### members"
   ]
  },
  {
   "cell_type": "code",
   "execution_count": 4,
   "metadata": {},
   "outputs": [
    {
     "name": "stdout",
     "output_type": "stream",
     "text": [
      "Wall time: 443 ms\n"
     ]
    }
   ],
   "source": [
    "%%time\n",
    "members['gender'] = members.gender.fillna('')\n",
    "\n",
    "date_fmt = '%Y%m%d'\n",
    "members['registration_init_time'] = pd.to_datetime(members.registration_init_time, format=date_fmt).map(lambda e: e.timestamp() / 86400)\n",
    "members['expiration_date'] = pd.to_datetime(members.expiration_date, format=date_fmt).map(lambda e: e.timestamp() / 86400)\n",
    "\n",
    "members['registered_via'] = members.registered_via.astype(str)\n",
    "members['city'] = members.city.astype(str)"
   ]
  },
  {
   "cell_type": "markdown",
   "metadata": {},
   "source": [
    "### songs"
   ]
  },
  {
   "cell_type": "code",
   "execution_count": 5,
   "metadata": {
    "scrolled": false
   },
   "outputs": [
    {
     "name": "stdout",
     "output_type": "stream",
     "text": [
      "Wall time: 49 s\n"
     ]
    }
   ],
   "source": [
    "%%time\n",
    "def str2tuple(series):\n",
    "    return series.fillna('')\\\n",
    "                 .map(html.unescape)\\\n",
    "                 .str.replace('[^.\\w\\|]+', ' ')\\\n",
    "                 .str.replace('^[\\s\\|]+|[\\s\\|]+$', '')\\\n",
    "                 .str.split('\\s*\\|+\\s*')\\\n",
    "                 .map(lambda ary: tuple(sorted(ary)))\n",
    "\n",
    "songs['genre_ids'] = str2tuple(songs['genre_ids'])\n",
    "songs['artist_name'] = str2tuple(songs['artist_name'])\n",
    "songs['composer'] = str2tuple(songs['composer'])\n",
    "songs['lyricist'] = str2tuple(songs['lyricist'])\n",
    "songs['language'] = songs.language.fillna(0).map(int, na_action='ignore').map(str)"
   ]
  },
  {
   "cell_type": "markdown",
   "metadata": {},
   "source": [
    "### Filter Train Data and Split Train Valid"
   ]
  },
  {
   "cell_type": "code",
   "execution_count": 6,
   "metadata": {},
   "outputs": [
    {
     "name": "stdout",
     "output_type": "stream",
     "text": [
      "count    30755.000000\n",
      "mean       239.877028\n",
      "std        314.130788\n",
      "min          1.000000\n",
      "25%         27.000000\n",
      "50%        128.000000\n",
      "75%        340.000000\n",
      "max       5819.000000\n",
      "dtype: float64 \n",
      "\n",
      "count    27113.000000\n",
      "mean       137.006454\n",
      "std        176.338947\n",
      "min          1.000000\n",
      "25%         17.000000\n",
      "50%         76.000000\n",
      "75%        192.000000\n",
      "max       3288.000000\n",
      "dtype: float64\n"
     ]
    }
   ],
   "source": [
    "msno_count = tr.groupby('msno').size()\n",
    "pos_count = tr.query('target == 1').groupby('msno').size()\n",
    "print(msno_count.describe(), '\\n')\n",
    "print(pos_count.describe())"
   ]
  },
  {
   "cell_type": "code",
   "execution_count": 7,
   "metadata": {
    "scrolled": true
   },
   "outputs": [
    {
     "name": "stdout",
     "output_type": "stream",
     "text": [
      "Wall time: 23.3 s\n"
     ]
    }
   ],
   "source": [
    "%%time\n",
    "msno_describe = msno_count.describe()\n",
    "per25, per75 = int(msno_describe['25%']), int(msno_describe['75%'])\n",
    "\n",
    "valid_size = 0.2\n",
    "def filter_fn(pipe):\n",
    "    # At least 25 percentile\n",
    "    if len(pipe) >= per25:\n",
    "        # At most 75 percentile of latest data\n",
    "        pipe = pipe[-per75:]\n",
    "        len_ = len(pipe)\n",
    "        is_train = np.zeros(len_)\n",
    "        tr_size = int(len_ * (1 - valid_size))\n",
    "        is_train[:tr_size] = 1.\n",
    "        pipe['is_train'] = is_train\n",
    "        return pipe\n",
    "\n",
    "tr = tr.groupby('msno', as_index=False, sort=False).apply(filter_fn)\n",
    "vl = tr.query('is_train == 0').drop('is_train', 1).reset_index(drop=True)\n",
    "tr = tr.query('is_train == 1').drop('is_train', 1).reset_index(drop=True)"
   ]
  },
  {
   "cell_type": "code",
   "execution_count": 8,
   "metadata": {
    "scrolled": true
   },
   "outputs": [
    {
     "name": "stdout",
     "output_type": "stream",
     "text": [
      "Wall time: 14.6 s\n"
     ]
    }
   ],
   "source": [
    "%%time\n",
    "\n",
    "# Write to pickle for speed\n",
    "tr.to_pickle('./data/processed/cleaned/tr.pkl')\n",
    "vl.to_pickle('./data/processed/cleaned/vl.pkl')\n",
    "members.to_pickle('./data/processed/cleaned/members.pkl')\n",
    "songs.to_pickle('./data/processed/cleaned/songs.pkl')"
   ]
  },
  {
   "cell_type": "markdown",
   "metadata": {},
   "source": [
    "<br/>\n",
    "<br/>\n",
    "<br/>\n",
    "## Phase 1: Prepare,  Add Columns, Feature Engineering"
   ]
  },
  {
   "cell_type": "code",
   "execution_count": 30,
   "metadata": {
    "scrolled": true
   },
   "outputs": [
    {
     "name": "stdout",
     "output_type": "stream",
     "text": [
      "Wall time: 13.4 s\n"
     ]
    }
   ],
   "source": [
    "%%time\n",
    "members = pd.read_pickle('./data/processed/cleaned/members.pkl')\n",
    "songs = pd.read_pickle('./data/processed/cleaned/songs.pkl')\n",
    "tr = pd.read_pickle('./data/processed/cleaned/tr.pkl')\n",
    "vl = pd.read_pickle('./data/processed/cleaned/vl.pkl')\n",
    "data = tr.merge(songs, how='left', on='song_id')"
   ]
  },
  {
   "cell_type": "markdown",
   "metadata": {},
   "source": [
    "### members extra columns"
   ]
  },
  {
   "cell_type": "code",
   "execution_count": 31,
   "metadata": {},
   "outputs": [
    {
     "name": "stdout",
     "output_type": "stream",
     "text": [
      "Wall time: 25.7 ms\n"
     ]
    }
   ],
   "source": [
    "%%time\n",
    "msno_extra_cols = [\n",
    "    'msno_age_catg', 'msno_age_num', 'msno_tenure',\n",
    "    'msno_artist_name_hist', 'msno_artist_name_count', 'msno_artist_name_mean',\n",
    "    'msno_composer_hist', 'msno_composer_count', 'msno_composer_mean',\n",
    "    'msno_genre_ids_hist', 'msno_genre_ids_count', 'msno_genre_ids_mean',\n",
    "    'msno_language_hist', 'msno_language_count', 'msno_language_mean',\n",
    "    'msno_lyricist_hist', 'msno_lyricist_count', 'msno_lyricist_mean',\n",
    "    'msno_pos_query_hist', 'msno_pos_query_count', \n",
    "    'msno_neg_query_hist', 'msno_neg_query_count', \n",
    "    'msno_source_screen_name_hist', 'msno_source_screen_name_count',\n",
    "    'msno_source_system_tab_hist','msno_source_system_tab_count', \n",
    "    'msno_source_type_hist', 'msno_source_type_count']\n",
    "\n",
    "bd = members.bd.copy()\n",
    "bins = np.array([6, 10, 20, 30, 40, 60, 80])\n",
    "age_map = {0: '', 1: '6-10', 2: '10-20', 3: '20-30', 4: '30-40', 5: '40-60', 6: '60-80', 7: ''}\n",
    "members['msno_age_catg'] = pd.Series(np.digitize(bd, bins)).map(age_map)\n",
    "\n",
    "reasonable_range = (6 <= bd) & (bd <= 80)\n",
    "median = bd[reasonable_range].describe()['50%']\n",
    "bd[~reasonable_range] = median\n",
    "members['msno_age_num'] = bd\n",
    "members = members.drop('bd', 1)\n",
    "# Tenure: the customer life time\n",
    "members['msno_tenure'] = members.expiration_date - members.registration_init_time"
   ]
  },
  {
   "cell_type": "code",
   "execution_count": 32,
   "metadata": {
    "scrolled": true
   },
   "outputs": [
    {
     "name": "stdout",
     "output_type": "stream",
     "text": [
      "Wall time: 2min 7s\n"
     ]
    }
   ],
   "source": [
    "%%time\n",
    "msno_extra = {}\n",
    "base_msno = data.msno.unique()\n",
    "def msno_statis(data, col, to_calc, is_multi=False):\n",
    "    label_name = f'msno_{col}_hist'\n",
    "    calc_names = [f'msno_{col}_{calc}' for calc in to_calc]\n",
    "    if is_multi:\n",
    "        msno, multi, target = utils_nb.flat(data, col)\n",
    "        data = pd.DataFrame({'msno': msno, col: multi, 'target': target})\n",
    "        \n",
    "    series = data.groupby(['msno', col]).target.agg(to_calc).reset_index()\n",
    "    def map_fn(pipe):\n",
    "        ret = {label_name: tuple(sorted(pipe[col]))}\n",
    "        ret.update({f'msno_{col}_{calc}': tuple(sorted(pipe[calc])) for calc in to_calc})\n",
    "        return ret\n",
    "    \n",
    "    series = series.groupby('msno').apply(map_fn).reindex(base_msno)\n",
    "    na_conds = series.isna()\n",
    "    na_value = {label_name: ('',)}\n",
    "    na_value.update({c: (0.,) for c in calc_names})\n",
    "    series[na_conds] = [na_value] * len(na_conds)\n",
    "    return extract_col(series)\n",
    "\n",
    "def extract_col(series):\n",
    "    ret = {k: [] for k in series.values[0].keys()}\n",
    "    series.map(lambda dict_: [ret[k].append(v) for k, v in dict_.items()])\n",
    "    return ret\n",
    "\n",
    "# positive + negative songs query\n",
    "for key in ('pos', 'neg'):\n",
    "    name = f'{key}_query'\n",
    "    lable_name, w_name = f'msno_{name}_hist', f'msno_{name}_count'\n",
    "    query = data.query(f\"target == {1 if key == 'pos' else 0}\")\\\n",
    "                .groupby('msno')\\\n",
    "                .apply(lambda e: {lable_name: tuple(e.song_id), w_name: (1.,) * len(e)})\\\n",
    "                .reindex(base_msno)\n",
    "    na_conds = query.isna()\n",
    "    query[na_conds] = [{lable_name: ('',), w_name: (0.,)}] * len(na_conds)\n",
    "    msno_extra.update(extract_col(query))\n",
    "    \n",
    "# Freq distribution of each member interaction with context\n",
    "for col in ('source_system_tab', 'source_screen_name', 'source_type'):\n",
    "    msno_extra.update( msno_statis(data, col, ['count']) )\n",
    "\n",
    "# Preference of each member, calculate freq and mean\n",
    "msno_extra.update( msno_statis(data, 'language', ['count', 'mean']))\n",
    "for col in ('artist_name', 'composer', 'genre_ids', 'composer', 'lyricist'):\n",
    "    msno_extra.update(msno_statis(data, col, ['count', 'mean'], is_multi=True))\n",
    "\n",
    "msno_extra = pd.DataFrame(msno_extra)\n",
    "msno_extra['msno'] = base_msno\n",
    "members = members.merge(msno_extra, how='left', on='msno')\n",
    "\n",
    "# After merge, some members dosen't have any statistic values make the null, so fill default values\n",
    "for stats_feat in msno_extra_cols:\n",
    "    if stats_feat in ('msno_age_catg', 'msno_age_num', 'msno_tenure'): continue\n",
    "\n",
    "    na_conds = members[stats_feat].isna()\n",
    "    if stats_feat.endswith('_hist'):\n",
    "        na_value = ('',)\n",
    "    elif stats_feat.endswith('_count') or stats_feat.endswith('_mean'):\n",
    "        na_value = (0.,)\n",
    "    members.loc[na_conds, stats_feat] = members[stats_feat][na_conds].map(lambda na: na_value)"
   ]
  },
  {
   "cell_type": "markdown",
   "metadata": {},
   "source": [
    "### songs extra columns"
   ]
  },
  {
   "cell_type": "code",
   "execution_count": 33,
   "metadata": {},
   "outputs": [],
   "source": [
    "data = tr.merge(members,  how='left', on='msno')"
   ]
  },
  {
   "cell_type": "code",
   "execution_count": 34,
   "metadata": {},
   "outputs": [
    {
     "name": "stdout",
     "output_type": "stream",
     "text": [
      "Wall time: 9.32 s\n"
     ]
    }
   ],
   "source": [
    "%%time\n",
    "song_extra_cols = [\n",
    "    'song_cc', 'song_xxx', 'song_yy', 'song_length', 'song_pplrty', 'song_clicks',\n",
    "    'song_artist_name_len', 'song_composer_len', 'song_lyricist_len', 'song_genre_ids_len',\n",
    "    'song_city_hist', 'song_city_count', 'song_city_mean',\n",
    "    'song_gender_hist', 'song_gender_count', 'song_gender_mean',\n",
    "    'song_msno_age_catg_hist', 'song_msno_age_catg_count', 'song_msno_age_catg_mean', \n",
    "    'song_registered_via_hist', 'song_registered_via_count',\n",
    "    'song_source_screen_name_hist', 'song_source_screen_name_count', \n",
    "    'song_source_system_tab_hist', 'song_source_system_tab_count',  \n",
    "    'song_source_type_hist', 'song_source_type_count'\n",
    "]\n",
    "\n",
    "# Decode isrc\n",
    "songs['song_cc'] = songs.isrc.str.slice(0, 2).fillna('')\n",
    "songs['song_xxx'] = songs.isrc.str.slice(2, 5).fillna('')\n",
    "\n",
    "songs['song_yy'] = songs.isrc.str.slice(5, 7)\\\n",
    "                        .map(lambda e: 2000 + int(e) if int(e) < 18 else 1900 + int(e), na_action='ignore')\n",
    "songs['song_yy'] = songs.song_yy.fillna(songs.song_yy.median())\n",
    "songs['song_yy'] = songs.song_yy - 1900\n",
    "\n",
    "songs['song_artist_name_len'] = songs.artist_name.map(len)\n",
    "songs['song_composer_len'] = songs.composer.map(len)\n",
    "songs['song_lyricist_len'] = songs.lyricist.map(len)\n",
    "songs['song_genre_ids_len'] = songs.genre_ids.map(len)\n",
    "\n",
    "songs.drop('isrc', 1, inplace=True)"
   ]
  },
  {
   "cell_type": "code",
   "execution_count": 35,
   "metadata": {},
   "outputs": [
    {
     "name": "stdout",
     "output_type": "stream",
     "text": [
      "song_clicks done.\n",
      "song_pplrty done.\n",
      "source_system_tab count done, take 0:00:32.468244\n",
      "source_screen_name count done, take 0:00:33.854773\n",
      "source_type count done, take 0:00:33.338252\n",
      "registered_via count done, take 0:00:33.559282\n",
      "city count,mean done, take 0:00:48.577015\n",
      "gender count,mean done, take 0:00:49.457007\n",
      "msno_age_catg count,mean done, take 0:00:50.247573\n",
      "Wall time: 5min 11s\n",
      "Parser   : 159 ms\n"
     ]
    }
   ],
   "source": [
    "%%time\n",
    "def song_statis(data, col, to_calc, is_multi=False):\n",
    "    s = datetime.now()\n",
    "    label_name = f'song_{col}_hist'\n",
    "    calc_names = [f'song_{col}_{calc}' for calc in to_calc]\n",
    "    if is_multi:\n",
    "        song, multi, target = utils_nb.flat(data, col)\n",
    "        data = pd.DataFrame({'song': song, col: multi, 'target': target})\n",
    "    series = data.groupby(['song_id', col]).target.agg(to_calc).reset_index()\n",
    "    \n",
    "    def map_fn(pipe):\n",
    "        ret = {label_name: tuple(sorted(pipe[col]))}\n",
    "        ret.update({f'song_{col}_{calc}': tuple(sorted(pipe[calc])) for calc in to_calc})\n",
    "        return ret\n",
    "    series = series.groupby('song_id').apply(map_fn).reindex(base_song)\n",
    "    \n",
    "    na_conds = series.isna()\n",
    "    na_value = {label_name: ('',)}\n",
    "    na_value.update({c: (0.,) for c in calc_names})\n",
    "    series[na_conds] = [na_value] * len(na_conds)\n",
    "    ret = extract_col(series)\n",
    "    print(f'{col} {\",\".join(to_calc)} done, take {datetime.now() - s}')\n",
    "    return ret\n",
    "\n",
    "base_song = data.song_id.unique()\n",
    "basic_stats = data.groupby('song_id').target.agg(['count', 'mean'])\n",
    "basic_stats['song_clicks'] = basic_stats['count']\n",
    "basic_stats['song_pplrty'] = basic_stats['mean']\n",
    "basic_stats = basic_stats.drop(['count', 'mean'], 1).reset_index()\n",
    "print(f'song_clicks done.')\n",
    "print(f'song_pplrty done.')\n",
    "\n",
    "songs_extra = {}\n",
    "# Freq distribution of each song interaction with context\n",
    "for col in ('source_system_tab', 'source_screen_name', 'source_type', 'registered_via'):\n",
    "    songs_extra.update( song_statis(data, col, ['count']) )\n",
    "\n",
    "# Preference of each song, calculate freq and mean\n",
    "for col in ('city', 'gender', 'msno_age_catg'):\n",
    "    songs_extra.update( song_statis(data, col, ['count', 'mean']) )\n",
    "    \n",
    "songs_extra = pd.DataFrame(songs_extra)\n",
    "songs_extra['song_id'] = base_song\n",
    "songs = songs.merge(songs_extra, how='left', on='song_id').merge(basic_stats, how='left', on='song_id')\n",
    "\n",
    "# After merge, some members dosen't have any statistic values make the null, so fill default values\n",
    "for stats_feat in song_extra_cols:\n",
    "    if stats_feat in ('song_cc', 'song_xxx', 'song_yy', 'song_length',\n",
    "            'song_artist_name_len', 'song_composer_len', 'song_lyricist_len', 'song_genre_ids_len'): \n",
    "        continue\n",
    "\n",
    "    na_conds = songs[stats_feat].isna()\n",
    "    if stats_feat.endswith('_hist'):\n",
    "        songs.loc[na_conds, stats_feat] = songs[stats_feat][na_conds].map(lambda na: ('',))\n",
    "    elif stats_feat.endswith('_count') or stats_feat.endswith('_mean'):\n",
    "        songs.loc[na_conds, stats_feat] = songs[stats_feat][na_conds].map(lambda na: (0.,))\n",
    "    elif stats_feat in ('song_pplrty', 'song_clicks'):\n",
    "        songs[stats_feat] = songs[stats_feat].fillna(songs[stats_feat].median())"
   ]
  },
  {
   "cell_type": "code",
   "execution_count": 36,
   "metadata": {},
   "outputs": [
    {
     "name": "stderr",
     "output_type": "stream",
     "text": [
      "[autoreload of trainer.metadata failed: Traceback (most recent call last):\n",
      "  File \"d:\\python\\anaconda3\\envs\\py3_6\\lib\\site-packages\\IPython\\extensions\\autoreload.py\", line 245, in check\n",
      "    superreload(m, reload, self.old_objects)\n",
      "  File \"d:\\python\\anaconda3\\envs\\py3_6\\lib\\site-packages\\IPython\\extensions\\autoreload.py\", line 368, in superreload\n",
      "    module = reload(module)\n",
      "  File \"d:\\python\\anaconda3\\envs\\py3_6\\lib\\imp.py\", line 314, in reload\n",
      "    return importlib.reload(module)\n",
      "  File \"d:\\python\\anaconda3\\envs\\py3_6\\lib\\importlib\\__init__.py\", line 166, in reload\n",
      "    _bootstrap._exec(spec, module)\n",
      "  File \"<frozen importlib._bootstrap>\", line 608, in _exec\n",
      "  File \"<frozen importlib._bootstrap_external>\", line 678, in exec_module\n",
      "  File \"<frozen importlib._bootstrap>\", line 205, in _call_with_frames_removed\n",
      "  File \"D:\\Python\\notebook\\ml_specialized\\kkbox\\trainer\\metadata.py\", line 79, in <module>\n",
      "    HEADER = MEMBERS_FEATURES + SONG_FEATURES + CONTEXT_FEATURES + TARGET_NAME\n",
      "NameError: name 'MEMBERS_FEATURES' is not defined\n",
      "]\n"
     ]
    },
    {
     "name": "stdout",
     "output_type": "stream",
     "text": [
      "Wall time: 30.9 s\n"
     ]
    }
   ],
   "source": [
    "%%time\n",
    "members.to_pickle('./data/processed/prepared/members.pkl')\n",
    "songs.to_pickle('./data/processed/prepared/songs.pkl')\n",
    "tr.to_pickle('./data/processed/prepared/tr.pkl')\n",
    "vl.to_pickle('./data/processed/prepared/vl.pkl')"
   ]
  },
  {
   "cell_type": "markdown",
   "metadata": {},
   "source": [
    "<br/>\n",
    "<br/>\n",
    "<br/>\n",
    "## Fit\n",
    "1. 記住feature狀態, 這裡選擇fit merge過後的fat table, 照理說fit profile table就好(像songs, members), \n",
    "雖然fit fat table資料會虛增造成效能慢, 但是有時候會去計算feature出現的頻率, 有些超冷門類別就乾脆transform成0就好, \n",
    "這邊從profile資料就無法做到, 這也是選擇fit fat table的原因"
   ]
  },
  {
   "cell_type": "markdown",
   "metadata": {},
   "source": [
    "### load latest persistent data"
   ]
  },
  {
   "cell_type": "code",
   "execution_count": 37,
   "metadata": {},
   "outputs": [
    {
     "name": "stdout",
     "output_type": "stream",
     "text": [
      "Wall time: 47.6 s\n"
     ]
    }
   ],
   "source": [
    "%%time\n",
    "try: del tr, vl, members, songs, data\n",
    "except Exception as e: print(e)\n",
    "    \n",
    "members = pd.read_pickle('./data/processed/prepared/members.pkl')\n",
    "songs = pd.read_pickle('./data/processed/prepared/songs.pkl')\n",
    "tr = pd.read_pickle('./data/processed/prepared/tr.pkl')\n",
    "vl = pd.read_pickle('./data/processed/prepared/vl.pkl')\n",
    "data = tr.merge(members, how='left', on='msno').merge(songs, how='left', on='song_id')"
   ]
  },
  {
   "cell_type": "code",
   "execution_count": null,
   "metadata": {},
   "outputs": [],
   "source": [
    "%%time\n",
    "mapper_dict = {}\n",
    "# Categorical univariate features\n",
    "for uni_catg in ('msno', 'song_id', 'source_system_tab', 'source_screen_name', 'source_type', 'city',\n",
    "        'gender', 'registered_via', 'msno_age_catg', 'language', 'song_cc', 'song_xxx'):\n",
    "    print(f'fit {uni_catg} ...')\n",
    "    mapper_dict[uni_catg] = utils.CountMapper(outlier='').fit( data[uni_catg] )\n",
    "\n",
    "# Categorical multivariate features\n",
    "for multi_catg in ('genre_ids', 'artist_name', 'composer', 'lyricist'):\n",
    "    print(f'fit {multi_catg} ...')\n",
    "    mapper_dict[multi_catg] = utils.CountMapper(is_multi=True, sep=utils.sep_fn, outlier='').fit( data[multi_catg] )\n",
    "\n",
    "# Numeric features\n",
    "for numeric in ('registration_init_time', 'expiration_date', 'msno_age_num', 'msno_tenure', 'song_yy',\n",
    "        'song_length', 'song_pplrty', 'song_clicks'):\n",
    "    print(f'fit {numeric} ...')\n",
    "    mapper_dict[numeric] = utils.CountMapper(scaler=preprocessing.StandardScaler()).fit( data[numeric] )\n",
    "    \n",
    "# Persistent the statistic\n",
    "utils.write_pickle('./data/processed/fitted/stats.pkl', mapper_dict)"
   ]
  },
  {
   "cell_type": "code",
   "execution_count": 39,
   "metadata": {},
   "outputs": [],
   "source": [
    "mapper_dict = utils.read_pickle('./data/processed/fitted/stats.pkl')"
   ]
  },
  {
   "cell_type": "markdown",
   "metadata": {},
   "source": [
    "<br/>\n",
    "<br/>\n",
    "<br/>\n",
    "## Transform\n",
    "1. Trasnform 所有features為numeric, 這裡選擇transform profile table再去merge增加效能."
   ]
  },
  {
   "cell_type": "code",
   "execution_count": 40,
   "metadata": {
    "scrolled": true
   },
   "outputs": [
    {
     "name": "stdout",
     "output_type": "stream",
     "text": [
      "transform city, vocab_key: city ...\n",
      "transform take time 0:00:00.004987\n",
      "transform gender, vocab_key: gender ...\n",
      "transform take time 0:00:00.003507\n",
      "transform registered_via, vocab_key: registered_via ...\n",
      "transform take time 0:00:00.004986\n",
      "transform registration_init_time, vocab_key: registration_init_time ...\n",
      "transform take time 0:00:00.001988\n",
      "transform expiration_date, vocab_key: expiration_date ...\n",
      "transform take time 0:00:00.000998\n",
      "transform msno_age_catg, vocab_key: msno_age_catg ...\n",
      "transform take time 0:00:00.003988\n",
      "transform msno_age_num, vocab_key: msno_age_num ...\n",
      "transform take time 0:00:00.002992\n",
      "transform msno_tenure, vocab_key: msno_tenure ...\n",
      "transform take time 0:00:00.000999\n",
      "transform msno_pos_query_hist, vocab_key: song_id ...\n"
     ]
    },
    {
     "name": "stderr",
     "output_type": "stream",
     "text": [
      "d:\\python\\anaconda3\\envs\\py3_6\\lib\\site-packages\\sklearn\\utils\\validation.py:475: DataConversionWarning: Data with input dtype int64 was converted to float64 by StandardScaler.\n",
      "  warnings.warn(msg, DataConversionWarning)\n"
     ]
    },
    {
     "name": "stdout",
     "output_type": "stream",
     "text": [
      "transform take time 0:00:02.352132\n",
      "transform msno_neg_query_hist, vocab_key: song_id ...\n",
      "transform take time 0:00:02.212623\n",
      "transform msno_artist_name_hist, vocab_key: artist_name ...\n",
      "transform take time 0:00:00.667788\n",
      "transform msno_composer_hist, vocab_key: composer ...\n",
      "transform take time 0:00:01.471270\n",
      "transform msno_genre_ids_hist, vocab_key: genre_ids ...\n",
      "transform take time 0:00:00.200997\n",
      "transform msno_language_hist, vocab_key: language ...\n",
      "transform take time 0:00:00.225358\n",
      "transform msno_lyricist_hist, vocab_key: lyricist ...\n",
      "transform take time 0:00:00.840992\n",
      "transform msno_source_screen_name_hist, vocab_key: source_screen_name ...\n",
      "transform take time 0:00:00.159260\n",
      "transform msno_source_system_tab_hist, vocab_key: source_system_tab ...\n",
      "transform take time 0:00:00.135151\n",
      "transform msno_source_type_hist, vocab_key: source_type ...\n",
      "transform take time 0:00:00.148643\n",
      "transform song_id, vocab_key: song_id ...\n",
      "transform take time 0:00:01.106466\n",
      "transform genre_ids, vocab_key: genre_ids ...\n",
      "transform take time 0:00:09.497136\n",
      "transform artist_name, vocab_key: artist_name ...\n",
      "transform take time 0:00:10.026488\n",
      "transform composer, vocab_key: composer ...\n",
      "transform take time 0:00:10.294660\n",
      "transform lyricist, vocab_key: lyricist ...\n",
      "transform take time 0:00:08.994770\n",
      "transform language, vocab_key: language ...\n",
      "transform take time 0:00:00.286718\n",
      "transform song_cc, vocab_key: song_cc ...\n",
      "transform take time 0:00:00.259889\n",
      "transform song_xxx, vocab_key: song_xxx ...\n",
      "transform take time 0:00:00.300713\n",
      "transform song_yy, vocab_key: song_yy ...\n",
      "transform take time 0:00:00.063904\n",
      "transform song_length, vocab_key: song_length ...\n",
      "transform take time 0:00:00.056848\n",
      "transform song_pplrty, vocab_key: song_pplrty ...\n",
      "transform take time 0:00:00.052851\n",
      "transform song_clicks, vocab_key: song_clicks ...\n",
      "transform take time 0:00:00.050864\n",
      "transform song_city_hist, vocab_key: city ...\n",
      "transform take time 0:00:09.038483\n",
      "transform song_gender_hist, vocab_key: gender ...\n",
      "transform take time 0:00:08.675409\n",
      "transform song_msno_age_catg_hist, vocab_key: msno_age_catg ...\n",
      "transform take time 0:00:08.660685\n",
      "transform song_registered_via_hist, vocab_key: registered_via ...\n",
      "transform take time 0:00:09.085185\n",
      "transform song_source_screen_name_hist, vocab_key: source_screen_name ...\n",
      "transform take time 0:00:08.976327\n",
      "transform song_source_system_tab_hist, vocab_key: source_system_tab ...\n",
      "transform take time 0:00:08.975172\n",
      "transform song_source_type_hist, vocab_key: source_type ...\n",
      "transform take time 0:00:08.922636\n",
      "transform take time 0:00:02.122015\n",
      "transform take time 0:00:00.734677\n",
      "transform take time 0:00:00.332879\n",
      "transform take time 0:00:00.083921\n",
      "transform take time 0:00:00.330100\n",
      "transform take time 0:00:00.082944\n",
      "transform take time 0:00:00.337671\n",
      "transform take time 0:00:00.081036\n",
      "Wall time: 2min 3s\n"
     ]
    }
   ],
   "source": [
    "%%time\n",
    "# Members table transform\n",
    "members.insert(0, 'raw_msno', members.pop('msno'))\n",
    "for feat in metadata.MEMBER_FEATURES:\n",
    "    # Univariate features\n",
    "    if feat in ('city', 'gender', 'registered_via', 'registration_init_time', 'expiration_date', \n",
    "            'msno_age_catg', 'msno_age_num', 'msno_tenure'):\n",
    "        vocab_key = feat\n",
    "        print(f'transform {feat}, vocab_key: {vocab_key} ...')\n",
    "        members[feat] = utils.transform(members[feat], mapper_dict[vocab_key])\n",
    "    # Multivariate features\n",
    "    elif feat in ('msno_artist_name_hist', 'msno_composer_hist', 'msno_genre_ids_hist', 'msno_language_hist',  'msno_lyricist_hist', \n",
    "        'msno_pos_query_hist', 'msno_neg_query_hist', 'msno_source_screen_name_hist', 'msno_source_system_tab_hist', 'msno_source_type_hist'):\n",
    "        if feat in ('msno_pos_query_hist', 'msno_neg_query_hist'):\n",
    "            vocab_key = 'song_id'\n",
    "        else:\n",
    "            vocab_key = re.sub('^(msno|song)_|_hist$', '', feat)\n",
    "        print(f'transform {feat}, vocab_key: {vocab_key} ...')\n",
    "        # x = pd.Series( utils.transform(members[feat], mapper_dict[vocab_key], is_multi=True, sep=utils.sep_fn) )\n",
    "        # max_len = x.map(len).max()\n",
    "        # members[feat] = x.map(lambda tp: tp + (0,) * (max_len - len(tp)))\n",
    "        members[feat] = utils.transform(members[feat], mapper_dict[vocab_key], is_multi=True, sep=utils.sep_fn)\n",
    "    # elif feat.endswith('_count'):\n",
    "    #     members[feat] = members[feat].map(lambda tp: ','.join(map(str, tp)) )\n",
    "    # elif feat.endswith('_mean'):\n",
    "    #     members[feat] = members[feat].map(lambda tp: ','.join(map('{:.4f}'.format, tp)) )\n",
    "    # Padding weights Features, xxx_count, xxx_mean... etc.\n",
    "    else:\n",
    "        pass\n",
    "        # print(f'transform {feat} (weighted columns) ...')\n",
    "        # max_len = int(members[feat].map(len).max())\n",
    "        # members[feat] = members[feat].map(lambda tp: tp + (0.,) * (max_len - len(tp)))\n",
    "\n",
    "# Songs table transform\n",
    "songs.insert(0, 'raw_song_id', songs.song_id)\n",
    "for feat in metadata.SONG_FEATURES:\n",
    "    # if feat in ('song_artist_name_len', 'song_composer_len', 'song_lyricist_len', 'song_genre_ids_len'): continue\n",
    "    # Univariate features\n",
    "    if feat in ('song_id', 'language', 'song_cc', 'song_xxx', 'song_yy', 'song_length', 'song_pplrty', 'song_clicks'):\n",
    "        vocab_key = feat\n",
    "        print(f'transform {feat}, vocab_key: {vocab_key} ...')\n",
    "        songs[feat] = utils.transform(songs[feat], mapper_dict[vocab_key])\n",
    "    # Multivariate features\n",
    "    elif feat in ('genre_ids', 'artist_name', 'composer', 'lyricist',\n",
    "            'song_city_hist', 'song_gender_hist', 'song_msno_age_catg_hist', 'song_registered_via_hist', 'song_source_screen_name_hist', \n",
    "            'song_source_system_tab_hist', 'song_source_type_hist'):\n",
    "        vocab_key = re.sub('^(msno|song)_|_hist$', '', feat)\n",
    "        print(f'transform {feat}, vocab_key: {vocab_key} ...')\n",
    "        # x = pd.Series( utils.transform(songs[feat], mapper_dict[vocab_key], is_multi=True, sep=utils.sep_fn) )\n",
    "        # max_len = x.map(len).max()\n",
    "        # songs[feat] = x.map(lambda tp: tp + (0,) * (max_len - len(tp)) )\n",
    "        songs[feat] = utils.transform(songs[feat], mapper_dict[vocab_key], is_multi=True, sep=utils.sep_fn)\n",
    "    # Transform\n",
    "    # elif feat.endswith('_count'):\n",
    "    #     songs[feat] = songs[feat].map(lambda tp: ','.join(map(str, tp)) )\n",
    "    # elif feat.endswith('_mean'):\n",
    "    #     songs[feat] = songs[feat].map(lambda tp: ','.join(map('{:.4f}'.format, tp)) )\n",
    "    else:\n",
    "        pass\n",
    "        # print(f'transform {feat} (weighted columns) ...')\n",
    "        # max_len = int(members[feat].map(len).max())\n",
    "        # songs[feat] = songs[feat].map(lambda tp: tp + (0.,) * (max_len - len(tp)))\n",
    "\n",
    "# Train table transform\n",
    "tr.insert(0, 'raw_msno', tr.pop('msno'))\n",
    "tr.insert(1, 'raw_song_id', tr.song_id)\n",
    "vl.insert(0, 'raw_msno', vl.pop('msno'))\n",
    "vl.insert(1, 'raw_song_id', vl.song_id)\n",
    "for feat in ('song_id', 'source_system_tab', 'source_screen_name', 'source_type'):\n",
    "    tr[feat] = utils.transform(tr[feat], mapper_dict[feat])\n",
    "    vl[feat] = utils.transform(vl[feat], mapper_dict[feat])"
   ]
  },
  {
   "cell_type": "code",
   "execution_count": 76,
   "metadata": {},
   "outputs": [
    {
     "name": "stdout",
     "output_type": "stream",
     "text": [
      "163\n",
      "32045\n",
      "63781\n",
      "30916\n"
     ]
    }
   ],
   "source": [
    "# mapper_dict = utils.read_pickle('./data/processed/fitted/stats.pkl')\n",
    "\n",
    "print(len(mapper_dict['genre_ids'].classes_))\n",
    "print(len(mapper_dict['artist_name'].classes_))\n",
    "print(len(mapper_dict['composer'].classes_))\n",
    "print(len(mapper_dict['lyricist'].classes_))"
   ]
  },
  {
   "cell_type": "code",
   "execution_count": 41,
   "metadata": {
    "scrolled": true
   },
   "outputs": [
    {
     "name": "stdout",
     "output_type": "stream",
     "text": [
      "Wall time: 8min 43s\n"
     ]
    }
   ],
   "source": [
    "%%time\n",
    "try: del data\n",
    "except Exception as e: print(e)\n",
    "    \n",
    "def train_merge(inputs, members, songs):\n",
    "    ret = inputs.merge(members, how='left', on='raw_msno')\\\n",
    "                .merge(songs, how='left', on='raw_song_id', suffixes=('', '_y'))\\\n",
    "                .drop(['raw_msno', 'raw_song_id', 'song_id_y'], 1)[metadata.HEADER]\n",
    "            \n",
    "    defaults = dict(zip(metadata.HEADER, metadata.HEADER_DEFAULTS))\n",
    "    def multi_fillna(df, colname):\n",
    "        na_value = tuple(defaults[colname])\n",
    "        na_conds = df[colname].isna().values\n",
    "        df.loc[na_conds, colname] = df[na_conds][colname].map(lambda na: na_value)\n",
    "        \n",
    "    for colname in metadata.MEMBER_FEATURES + metadata.SONG_FEATURES:\n",
    "        if colname.endswith('_hist') or colname.endswith('_count') or colname.endswith('_mean') or \\\n",
    "           colname in ('genre_ids', 'artist_name', 'composer', 'lyricist'):\n",
    "            multi_fillna(ret, colname)\n",
    "        else:\n",
    "            ret[colname] = ret[colname].fillna(defaults[colname][0])\n",
    "            if type(na_value) == int:\n",
    "                ret[colname] = ret[colname].astype(int)\n",
    "    return ret\n",
    "\n",
    "members[['raw_msno'] + metadata.MEMBER_FEATURES].to_pickle('./data/processed/transformed/members.pkl')\n",
    "songs[['raw_song_id'] + metadata.SONG_FEATURES].to_pickle('./data/processed/transformed/songs.pkl')\n",
    "train_merge(tr, members, songs).to_pickle('./data/processed/transformed/tr.pkl')\n",
    "train_merge(vl, members, songs).to_pickle('./data/processed/transformed/vl.pkl')"
   ]
  },
  {
   "cell_type": "markdown",
   "metadata": {},
   "source": [
    "<br/>\n",
    "<br/>\n",
    "<br/>\n",
    "## Train"
   ]
  },
  {
   "cell_type": "code",
   "execution_count": 2,
   "metadata": {
    "scrolled": true
   },
   "outputs": [
    {
     "name": "stdout",
     "output_type": "stream",
     "text": [
      "name 'tr' is not defined\n",
      "Wall time: 46.6 s\n"
     ]
    }
   ],
   "source": [
    "%%time\n",
    "try: del tr, vl, members, songs, data\n",
    "except Exception as e: print(e)\n",
    "\n",
    "# members = pd.read_pickle('./data/processed/transformed/members.pkl')\n",
    "# songs = pd.read_pickle('./data/processed/transformed/songs.pkl')\n",
    "tr = pd.read_pickle('./data/processed/transformed/tr.pkl')\n",
    "vl = pd.read_pickle('./data/processed/transformed/vl.pkl')"
   ]
  },
  {
   "cell_type": "code",
   "execution_count": null,
   "metadata": {
    "scrolled": true
   },
   "outputs": [
    {
     "name": "stdout",
     "output_type": "stream",
     "text": [
      "2018-07-25 18:22:08,016 - trainer.input - INFO [line:368] - \n",
      "2018-07-25 18:22:08,018 - trainer.input - INFO [line:369] - * data input_fn:\n",
      "2018-07-25 18:22:08,018 - trainer.input - INFO [line:370] - ================\n",
      "2018-07-25 18:22:08,019 - trainer.input - INFO [line:371] - Mode: train\n",
      "2018-07-25 18:22:08,021 - trainer.input - INFO [line:372] - Batch size: 1000\n",
      "2018-07-25 18:22:08,022 - trainer.input - INFO [line:373] - Epoch count: 1\n",
      "2018-07-25 18:22:08,023 - trainer.input - INFO [line:374] - Thread count: 8\n",
      "2018-07-25 18:22:08,024 - trainer.input - INFO [line:375] - Shuffle: True\n",
      "2018-07-25 18:22:08,025 - trainer.input - INFO [line:376] - ================\n",
      "2018-07-25 18:22:08,026 - trainer.input - INFO [line:377] - \n",
      "2018-07-25 18:22:08,613 - trainer.service - INFO [line:35] - Model Directory: D:\\Python\\notebook\\ml_specialized\\kkbox/models/kkbox\n",
      "2018-07-25 18:22:08,616 - BestScoreExporter - INFO [line:279] - BestScoreExporter init, last best eval is 0.6955655813217163\n",
      "INFO:tensorflow:Using config: {'_model_dir': 'D:\\\\Python\\\\notebook\\\\ml_specialized\\\\kkbox/models/kkbox', '_tf_random_seed': None, '_save_summary_steps': 100, '_save_checkpoints_steps': 500, '_save_checkpoints_secs': None, '_session_config': None, '_keep_checkpoint_max': 5, '_keep_checkpoint_every_n_hours': 10000, '_log_step_count_steps': 100, '_train_distribute': None, '_device_fn': None, '_service': None, '_cluster_spec': <tensorflow.python.training.server_lib.ClusterSpec object at 0x000001FAD66B90B8>, '_task_type': 'worker', '_task_id': 0, '_global_id_in_cluster': 0, '_master': '', '_evaluation_master': '', '_is_chief': True, '_num_ps_replicas': 0, '_num_worker_replicas': 1}\n",
      "2018-07-25 18:22:08,617 - tensorflow - INFO [line:115] - Using config: {'_model_dir': 'D:\\\\Python\\\\notebook\\\\ml_specialized\\\\kkbox/models/kkbox', '_tf_random_seed': None, '_save_summary_steps': 100, '_save_checkpoints_steps': 500, '_save_checkpoints_secs': None, '_session_config': None, '_keep_checkpoint_max': 5, '_keep_checkpoint_every_n_hours': 10000, '_log_step_count_steps': 100, '_train_distribute': None, '_device_fn': None, '_service': None, '_cluster_spec': <tensorflow.python.training.server_lib.ClusterSpec object at 0x000001FAD66B90B8>, '_task_type': 'worker', '_task_id': 0, '_global_id_in_cluster': 0, '_master': '', '_evaluation_master': '', '_is_chief': True, '_num_ps_replicas': 0, '_num_worker_replicas': 1}\n",
      "2018-07-25 18:22:08,633 - trainer.model - INFO [line:261] - creating a regression model: <tensorflow.python.estimator.estimator.Estimator object at 0x000001FA8B51E320>\n",
      "INFO:tensorflow:Running training and evaluation locally (non-distributed).\n",
      "2018-07-25 18:22:08,634 - tensorflow - INFO [line:115] - Running training and evaluation locally (non-distributed).\n",
      "INFO:tensorflow:Start train and evaluate loop. The evaluate will happen after 4800 secs (eval_spec.throttle_secs) or training is finished.\n",
      "2018-07-25 18:22:08,636 - tensorflow - INFO [line:115] - Start train and evaluate loop. The evaluate will happen after 4800 secs (eval_spec.throttle_secs) or training is finished.\n",
      "2018-07-25 18:22:08,665 - trainer.input - INFO [line:368] - \n",
      "2018-07-25 18:22:08,666 - trainer.input - INFO [line:369] - * data input_fn:\n",
      "2018-07-25 18:22:08,667 - trainer.input - INFO [line:370] - ================\n",
      "2018-07-25 18:22:08,668 - trainer.input - INFO [line:371] - Mode: train\n",
      "2018-07-25 18:22:08,668 - trainer.input - INFO [line:372] - Batch size: 1000\n",
      "2018-07-25 18:22:08,669 - trainer.input - INFO [line:373] - Epoch count: 1\n",
      "2018-07-25 18:22:08,670 - trainer.input - INFO [line:374] - Thread count: 8\n",
      "2018-07-25 18:22:08,671 - trainer.input - INFO [line:375] - Shuffle: True\n",
      "2018-07-25 18:22:08,672 - trainer.input - INFO [line:376] - ================\n",
      "2018-07-25 18:22:08,673 - trainer.input - INFO [line:377] - \n",
      "INFO:tensorflow:Calling model_fn.\n",
      "2018-07-25 18:22:09,128 - tensorflow - INFO [line:115] - Calling model_fn.\n",
      "2018-07-25 18:22:09,474 - trainer.model - INFO [line:72] - self.members_feature: Tensor(\"members/members_feature:0\", shape=(?, 175), dtype=float32)\n",
      "2018-07-25 18:22:09,696 - trainer.model - INFO [line:114] - self.songs_feature: Tensor(\"songs/songs_feature:0\", shape=(?, 120), dtype=float32)\n",
      "2018-07-25 18:22:09,705 - trainer.model - INFO [line:123] - self.context_features: Tensor(\"context/context_features:0\", shape=(?, 9), dtype=float32)\n",
      "2018-07-25 18:22:09,710 - trainer.model - INFO [line:131] - net: Tensor(\"dnn/concat:0\", shape=(?, 304), dtype=float32, device=/device:GPU:0)\n",
      "INFO:tensorflow:Done calling model_fn.\n",
      "2018-07-25 18:22:11,617 - tensorflow - INFO [line:115] - Done calling model_fn.\n",
      "INFO:tensorflow:Create CheckpointSaverHook.\n",
      "2018-07-25 18:22:11,620 - tensorflow - INFO [line:115] - Create CheckpointSaverHook.\n",
      "INFO:tensorflow:Graph was finalized.\n",
      "2018-07-25 18:22:12,616 - tensorflow - INFO [line:115] - Graph was finalized.\n",
      "INFO:tensorflow:Restoring parameters from D:\\Python\\notebook\\ml_specialized\\kkbox/models/kkbox\\model.ckpt-3874\n",
      "2018-07-25 18:22:19,109 - tensorflow - INFO [line:115] - Restoring parameters from D:\\Python\\notebook\\ml_specialized\\kkbox/models/kkbox\\model.ckpt-3874\n",
      "INFO:tensorflow:Running local_init_op.\n",
      "2018-07-25 18:22:19,494 - tensorflow - INFO [line:115] - Running local_init_op.\n",
      "INFO:tensorflow:Done running local_init_op.\n",
      "2018-07-25 18:22:19,532 - tensorflow - INFO [line:115] - Done running local_init_op.\n"
     ]
    }
   ],
   "source": [
    "%%time\n",
    "from trainer.utils import utils, utils_nb\n",
    "from trainer import app_conf, metadata, input as inp, service, model as m\n",
    "from trainer.ctrl import Ctrl\n",
    "\n",
    "p = app_conf.instance\n",
    "\n",
    "tf.reset_default_graph()\n",
    "with tf.device('/cpu:0'):\n",
    "    train_fn, tr_hook = inp.Input.instance.generate_input_fn(\n",
    "        inputs=tr,\n",
    "        mode=tf.estimator.ModeKeys.TRAIN,\n",
    "        skip_header_lines=0,\n",
    "        num_epochs=p.num_epochs,\n",
    "        batch_size=app_conf.instance.batch_size,\n",
    "        shuffle=True,\n",
    "        multi_threading=True\n",
    "    )\n",
    "    valid_fn, vl_hook = inp.Input.instance.generate_input_fn(\n",
    "        inputs=vl,\n",
    "        mode=tf.estimator.ModeKeys.EVAL,\n",
    "        skip_header_lines=0,\n",
    "        num_epochs=p.num_epochs,\n",
    "        batch_size=app_conf.instance.batch_size,\n",
    "        shuffle=False,\n",
    "        multi_threading=True\n",
    "    )\n",
    "    features, target = train_fn()\n",
    "\n",
    "service.Service.instance.train(train_fn, tr_hook, valid_fn, vl_hook, reset=False)\n",
    "# with tf.Session() as sess:\n",
    "#     tf.global_variables_initializer().run()\n",
    "#     ori, encoded = sess.run([features['registered_via'], model.registered_via])\n",
    "#     r = sess.run(model.net)"
   ]
  },
  {
   "cell_type": "code",
   "execution_count": 10,
   "metadata": {
    "collapsed": true
   },
   "outputs": [
    {
     "name": "stdout",
     "output_type": "stream",
     "text": [
      "2018-07-25 16:34:19,458 - trainer.input - INFO [line:366] - \n",
      "2018-07-25 16:34:19,461 - trainer.input - INFO [line:367] - * data input_fn:\n",
      "2018-07-25 16:34:19,462 - trainer.input - INFO [line:368] - ================\n",
      "2018-07-25 16:34:19,463 - trainer.input - INFO [line:369] - Mode: train\n",
      "2018-07-25 16:34:19,464 - trainer.input - INFO [line:370] - Batch size: 1000\n",
      "2018-07-25 16:34:19,465 - trainer.input - INFO [line:371] - Epoch count: 1\n",
      "2018-07-25 16:34:19,466 - trainer.input - INFO [line:372] - Thread count: 8\n",
      "2018-07-25 16:34:19,467 - trainer.input - INFO [line:373] - Shuffle: True\n",
      "2018-07-25 16:34:19,468 - trainer.input - INFO [line:374] - ================\n",
      "2018-07-25 16:34:19,469 - trainer.input - INFO [line:375] - \n",
      " steps: 195, cnt; 195000"
     ]
    },
    {
     "ename": "KeyboardInterrupt",
     "evalue": "",
     "output_type": "error",
     "traceback": [
      "\u001b[1;31m---------------------------------------------------------------------------\u001b[0m",
      "\u001b[1;31mKeyboardInterrupt\u001b[0m                         Traceback (most recent call last)",
      "\u001b[1;32m<timed exec>\u001b[0m in \u001b[0;36m<module>\u001b[1;34m()\u001b[0m\n",
      "\u001b[1;32md:\\python\\anaconda3\\envs\\py3_6\\lib\\site-packages\\tensorflow\\python\\client\\session.py\u001b[0m in \u001b[0;36mrun\u001b[1;34m(self, fetches, feed_dict, options, run_metadata)\u001b[0m\n\u001b[0;32m    898\u001b[0m     \u001b[1;32mtry\u001b[0m\u001b[1;33m:\u001b[0m\u001b[1;33m\u001b[0m\u001b[0m\n\u001b[0;32m    899\u001b[0m       result = self._run(None, fetches, feed_dict, options_ptr,\n\u001b[1;32m--> 900\u001b[1;33m                          run_metadata_ptr)\n\u001b[0m\u001b[0;32m    901\u001b[0m       \u001b[1;32mif\u001b[0m \u001b[0mrun_metadata\u001b[0m\u001b[1;33m:\u001b[0m\u001b[1;33m\u001b[0m\u001b[0m\n\u001b[0;32m    902\u001b[0m         \u001b[0mproto_data\u001b[0m \u001b[1;33m=\u001b[0m \u001b[0mtf_session\u001b[0m\u001b[1;33m.\u001b[0m\u001b[0mTF_GetBuffer\u001b[0m\u001b[1;33m(\u001b[0m\u001b[0mrun_metadata_ptr\u001b[0m\u001b[1;33m)\u001b[0m\u001b[1;33m\u001b[0m\u001b[0m\n",
      "\u001b[1;32md:\\python\\anaconda3\\envs\\py3_6\\lib\\site-packages\\tensorflow\\python\\client\\session.py\u001b[0m in \u001b[0;36m_run\u001b[1;34m(self, handle, fetches, feed_dict, options, run_metadata)\u001b[0m\n\u001b[0;32m   1133\u001b[0m     \u001b[1;32mif\u001b[0m \u001b[0mfinal_fetches\u001b[0m \u001b[1;32mor\u001b[0m \u001b[0mfinal_targets\u001b[0m \u001b[1;32mor\u001b[0m \u001b[1;33m(\u001b[0m\u001b[0mhandle\u001b[0m \u001b[1;32mand\u001b[0m \u001b[0mfeed_dict_tensor\u001b[0m\u001b[1;33m)\u001b[0m\u001b[1;33m:\u001b[0m\u001b[1;33m\u001b[0m\u001b[0m\n\u001b[0;32m   1134\u001b[0m       results = self._do_run(handle, final_targets, final_fetches,\n\u001b[1;32m-> 1135\u001b[1;33m                              feed_dict_tensor, options, run_metadata)\n\u001b[0m\u001b[0;32m   1136\u001b[0m     \u001b[1;32melse\u001b[0m\u001b[1;33m:\u001b[0m\u001b[1;33m\u001b[0m\u001b[0m\n\u001b[0;32m   1137\u001b[0m       \u001b[0mresults\u001b[0m \u001b[1;33m=\u001b[0m \u001b[1;33m[\u001b[0m\u001b[1;33m]\u001b[0m\u001b[1;33m\u001b[0m\u001b[0m\n",
      "\u001b[1;32md:\\python\\anaconda3\\envs\\py3_6\\lib\\site-packages\\tensorflow\\python\\client\\session.py\u001b[0m in \u001b[0;36m_do_run\u001b[1;34m(self, handle, target_list, fetch_list, feed_dict, options, run_metadata)\u001b[0m\n\u001b[0;32m   1314\u001b[0m     \u001b[1;32mif\u001b[0m \u001b[0mhandle\u001b[0m \u001b[1;32mis\u001b[0m \u001b[1;32mNone\u001b[0m\u001b[1;33m:\u001b[0m\u001b[1;33m\u001b[0m\u001b[0m\n\u001b[0;32m   1315\u001b[0m       return self._do_call(_run_fn, feeds, fetches, targets, options,\n\u001b[1;32m-> 1316\u001b[1;33m                            run_metadata)\n\u001b[0m\u001b[0;32m   1317\u001b[0m     \u001b[1;32melse\u001b[0m\u001b[1;33m:\u001b[0m\u001b[1;33m\u001b[0m\u001b[0m\n\u001b[0;32m   1318\u001b[0m       \u001b[1;32mreturn\u001b[0m \u001b[0mself\u001b[0m\u001b[1;33m.\u001b[0m\u001b[0m_do_call\u001b[0m\u001b[1;33m(\u001b[0m\u001b[0m_prun_fn\u001b[0m\u001b[1;33m,\u001b[0m \u001b[0mhandle\u001b[0m\u001b[1;33m,\u001b[0m \u001b[0mfeeds\u001b[0m\u001b[1;33m,\u001b[0m \u001b[0mfetches\u001b[0m\u001b[1;33m)\u001b[0m\u001b[1;33m\u001b[0m\u001b[0m\n",
      "\u001b[1;32md:\\python\\anaconda3\\envs\\py3_6\\lib\\site-packages\\tensorflow\\python\\client\\session.py\u001b[0m in \u001b[0;36m_do_call\u001b[1;34m(self, fn, *args)\u001b[0m\n\u001b[0;32m   1320\u001b[0m   \u001b[1;32mdef\u001b[0m \u001b[0m_do_call\u001b[0m\u001b[1;33m(\u001b[0m\u001b[0mself\u001b[0m\u001b[1;33m,\u001b[0m \u001b[0mfn\u001b[0m\u001b[1;33m,\u001b[0m \u001b[1;33m*\u001b[0m\u001b[0margs\u001b[0m\u001b[1;33m)\u001b[0m\u001b[1;33m:\u001b[0m\u001b[1;33m\u001b[0m\u001b[0m\n\u001b[0;32m   1321\u001b[0m     \u001b[1;32mtry\u001b[0m\u001b[1;33m:\u001b[0m\u001b[1;33m\u001b[0m\u001b[0m\n\u001b[1;32m-> 1322\u001b[1;33m       \u001b[1;32mreturn\u001b[0m \u001b[0mfn\u001b[0m\u001b[1;33m(\u001b[0m\u001b[1;33m*\u001b[0m\u001b[0margs\u001b[0m\u001b[1;33m)\u001b[0m\u001b[1;33m\u001b[0m\u001b[0m\n\u001b[0m\u001b[0;32m   1323\u001b[0m     \u001b[1;32mexcept\u001b[0m \u001b[0merrors\u001b[0m\u001b[1;33m.\u001b[0m\u001b[0mOpError\u001b[0m \u001b[1;32mas\u001b[0m \u001b[0me\u001b[0m\u001b[1;33m:\u001b[0m\u001b[1;33m\u001b[0m\u001b[0m\n\u001b[0;32m   1324\u001b[0m       \u001b[0mmessage\u001b[0m \u001b[1;33m=\u001b[0m \u001b[0mcompat\u001b[0m\u001b[1;33m.\u001b[0m\u001b[0mas_text\u001b[0m\u001b[1;33m(\u001b[0m\u001b[0me\u001b[0m\u001b[1;33m.\u001b[0m\u001b[0mmessage\u001b[0m\u001b[1;33m)\u001b[0m\u001b[1;33m\u001b[0m\u001b[0m\n",
      "\u001b[1;32md:\\python\\anaconda3\\envs\\py3_6\\lib\\site-packages\\tensorflow\\python\\client\\session.py\u001b[0m in \u001b[0;36m_run_fn\u001b[1;34m(feed_dict, fetch_list, target_list, options, run_metadata)\u001b[0m\n\u001b[0;32m   1305\u001b[0m       \u001b[0mself\u001b[0m\u001b[1;33m.\u001b[0m\u001b[0m_extend_graph\u001b[0m\u001b[1;33m(\u001b[0m\u001b[1;33m)\u001b[0m\u001b[1;33m\u001b[0m\u001b[0m\n\u001b[0;32m   1306\u001b[0m       return self._call_tf_sessionrun(\n\u001b[1;32m-> 1307\u001b[1;33m           options, feed_dict, fetch_list, target_list, run_metadata)\n\u001b[0m\u001b[0;32m   1308\u001b[0m \u001b[1;33m\u001b[0m\u001b[0m\n\u001b[0;32m   1309\u001b[0m     \u001b[1;32mdef\u001b[0m \u001b[0m_prun_fn\u001b[0m\u001b[1;33m(\u001b[0m\u001b[0mhandle\u001b[0m\u001b[1;33m,\u001b[0m \u001b[0mfeed_dict\u001b[0m\u001b[1;33m,\u001b[0m \u001b[0mfetch_list\u001b[0m\u001b[1;33m)\u001b[0m\u001b[1;33m:\u001b[0m\u001b[1;33m\u001b[0m\u001b[0m\n",
      "\u001b[1;32md:\\python\\anaconda3\\envs\\py3_6\\lib\\site-packages\\tensorflow\\python\\client\\session.py\u001b[0m in \u001b[0;36m_call_tf_sessionrun\u001b[1;34m(self, options, feed_dict, fetch_list, target_list, run_metadata)\u001b[0m\n\u001b[0;32m   1407\u001b[0m       return tf_session.TF_SessionRun_wrapper(\n\u001b[0;32m   1408\u001b[0m           \u001b[0mself\u001b[0m\u001b[1;33m.\u001b[0m\u001b[0m_session\u001b[0m\u001b[1;33m,\u001b[0m \u001b[0moptions\u001b[0m\u001b[1;33m,\u001b[0m \u001b[0mfeed_dict\u001b[0m\u001b[1;33m,\u001b[0m \u001b[0mfetch_list\u001b[0m\u001b[1;33m,\u001b[0m \u001b[0mtarget_list\u001b[0m\u001b[1;33m,\u001b[0m\u001b[1;33m\u001b[0m\u001b[0m\n\u001b[1;32m-> 1409\u001b[1;33m           run_metadata)\n\u001b[0m\u001b[0;32m   1410\u001b[0m     \u001b[1;32melse\u001b[0m\u001b[1;33m:\u001b[0m\u001b[1;33m\u001b[0m\u001b[0m\n\u001b[0;32m   1411\u001b[0m       \u001b[1;32mwith\u001b[0m \u001b[0merrors\u001b[0m\u001b[1;33m.\u001b[0m\u001b[0mraise_exception_on_not_ok_status\u001b[0m\u001b[1;33m(\u001b[0m\u001b[1;33m)\u001b[0m \u001b[1;32mas\u001b[0m \u001b[0mstatus\u001b[0m\u001b[1;33m:\u001b[0m\u001b[1;33m\u001b[0m\u001b[0m\n",
      "\u001b[1;31mKeyboardInterrupt\u001b[0m: "
     ]
    }
   ],
   "source": [
    "%%time\n",
    "tf.reset_default_graph()\n",
    "train_fn = inp.Input.instance.generate_input_fn(\n",
    "    inputs=tr,\n",
    "    mode=tf.estimator.ModeKeys.TRAIN,\n",
    "    skip_header_lines=0,\n",
    "    num_epochs=app_conf.instance.num_epochs,\n",
    "    batch_size=app_conf.instance.batch_size,\n",
    "    shuffle=True,\n",
    "    multi_threading=True\n",
    ")\n",
    "_1, _2, it = train_fn()\n",
    "data = (_1, _2)  \n",
    "\n",
    "with tf.Session() as sess:\n",
    "    sess.run(it.initializer)\n",
    "    cnt, steps = 0, 0\n",
    "    while True:\n",
    "        try:\n",
    "            feat_, target_ = sess.run(data)\n",
    "            steps += 1\n",
    "            cnt += len(target_)\n",
    "            print(f'\\r steps: {steps}, cnt; {cnt}', end='')\n",
    "        except tf.errors.OutOfRangeError as e: break"
   ]
  },
  {
   "cell_type": "code",
   "execution_count": 40,
   "metadata": {
    "scrolled": true
   },
   "outputs": [
    {
     "name": "stdout",
     "output_type": "stream",
     "text": [
      "                               composer_list  len\n",
      "0                     (Dan Smith, Mark Crew)    2\n",
      "1    (N. Jones、W. Adams、J. Lordan、D. Ingle,)    1\n",
      "2                           (Kwadwo Donkoh,)    1\n",
      "3  (Brett Young, Justin Ebach, Kelly Archer)    3\n",
      "4                 (Adnan Khan, Sidney Selby)    2\n"
     ]
    },
    {
     "data": {
      "text/plain": [
       "('1011,Kenny Rogers,Roger Bowling',\n",
       " '139,G.E.M.鄧紫棋,Kaci Brown',\n",
       " '139,Oldies 101,William Mickey Stevenson',\n",
       " '947,Music-Themes,,,-1\\nXPGjUo/wPuYRoFYVB25kQ9TX5zP6Izcllmez7PPXB4I=,241673,465,Janet Jackson,Janet Jackson',\n",
       " 'Aaron Gillespie',\n",
       " 'Brian Carroll,,52\\n0KjXAae7rj9kfrIGhAoYBWJoQBqjtzTQMKMprbnStrs=,229506,,Monday Kiz,,,31\\nvoMgKcLbhYr1GIsEuMvT+Rjkib1qvY4WPSmw/mc8j1c=,402703,940,Guy Sweens,,,-1\\nPy+ROjXqGeJtSyQu1GWUEdvOkbEoKmBowX9lCq+E1Ow=,203593,1259,Pigeon John,,,52\\n8jxho4ldBqaadnEiNjhgF8keOFBc4z6Gy6zTMKvw7Tg=,245856,465,Bertie Higgins,Bertie Higgins/Sonny Limbo,Bertie Higgins/Sonny Limbo,52\\nImz3KL8KDLWIvNu/ytrFODhUvNCfziDLNdQP3OBIH/c=,347834,726,Hillsong Kids Junior,,,-1\\nmRh2QjHNk3tcjKszLXpnCWUgREMRk6H4RDOdCn48T8w=,249568,465,Melanie C,Rick Nowels',\n",
       " 'Charles Twong',\n",
       " 'Chauncey Hollis,,52\\n9sYIx+29PAF7BOk4loE2xYPSdeg7zmpGwbbInOyVhVo=,172849,921,Randy Newman,Axwell',\n",
       " 'Christopher Dudley,,52\\nOi7rlCO6VbZZ5UqcSyg8vDVvFjMQYeV+iYAbxB6LSd0=,169227,2122,Sarah Vaughan,R. Turk',\n",
       " 'DJ Hi-Tek,,-1\\nn0Ar4B4BrTYOJrJowAp5EtN97Cy/wMwoyjTURwlUME4=,273531,1138,Willie Colon,,,52\\n3+OBQRyVxirbtD79O0oyj/kVwcq7A8ghJCRs+LoA0ow=,248592,139,Donell Jones,Donell Jones',\n",
       " 'David Gamson,,3\\nwKi9MBH2TDdgx58A4PJYV06KdIC2tgQxM/vgn/Fx+Zc=,204986,2022,Underoath,Spencer Chamberlain',\n",
       " 'F. Ahlert,,-1\\nI+XRnXrWeNfqyL5HzYMX+zOfY5zCiPKNj1mPm0I1SpE=,390420,947,清淨身心靈,,,-1\\nEWiFM7uHc/BbjQ1Iabe8umdy2auYBT9dmiweJfT8TsA=,307575,880,Kirk Franklin,Kirk Franklin,Kirk Franklin,-1\\n5johB6MHMHJ3BAF6i7Fi2F1cGhRitfJ3FdexnRTyhvM=,353639,465,李克勤 (Hacken Lee),Unknown,,24\\na0S959XXxdHq02RRyJIYYysamjxwJNmoCnkadrWVrjA=,246317,465,Phil Collins,,,52\\nJX0XnRezKAvD0iIwbOQs7QMJP1jn4bRMKgnH6Tu6MBo=,212601,437,sumire sumomo (sumire sumomo),sumire sumomo,sumire sumomo,17\\no6G9PiWV55Shat8JNnNUp5IsK4U+dKQEg05PgSt4GZc=,241812,465,林一峰 (Chet Lam),,,24\\nq56DHVHETlI2i23Uol52mIH04w1Vk7M9ObL8BBa80pk=,66873,873,Top 48 Kids Songs,,,-1\\nbo+kTVU6S1dC0ksT88FZLBUf8ax+jBWL6oOFU4rScEo=,306085,2122,Gonzalo Rubalcaba,Gonzalo Rubalcaba,,-1\\n8dxHCuB+GHbt8uNwIRB2hv6yyeaDt3SHoeD6Vac5244=,189568,1152',\n",
       " 'Grant Brandell',\n",
       " 'Harriet Wheeler,,52\\nuikoKkrpGjT7nI7NfPSYCil3+czMjV++wsMC3yw1Tes=,234382,873,蒲公英合唱團,林穎茜,星雲大師,-1\\n5mLj4ohciexr7zZJ2lT9uQy7bNvgFpUoxhaehUxN9Dg=,143151,,Webb Pierce,,,52\\nOe23hwBJDzXY9zWip1HV8CS68Va29Jp+8mYkdEweN7I=,50712,921,Various Artists,Michelle Lewis',\n",
       " 'Ivy Jo Hunter,,52\\nwZQoXpIt+2n5+I1MRr+707OAWi1llYoPaLF6mVBLPpI=,313364,,董事長樂團 (The Chairman),,,10\\npDnpsHW/koNBO1aQuyynqYIYST9kBQm1WTalTk8vWE8=,116427,2122,CÉCILE McLORIN SALVANT,Cecile McLorin Salvant,,52\\nm7Ia7XWdHyAvBap14HZyW/c0zfEJL9snISGb719vDyQ=,199784,1259,YG,Keenon Jackson',\n",
       " 'J. Choung',\n",
       " 'J. Reeves',\n",
       " 'J. Roh',\n",
       " 'James Harris III',\n",
       " 'James Smith',\n",
       " 'Jong Hyun (12.5%) Harvey Mason',\n",
       " 'Joni Mitchell',\n",
       " \"Jr. / Steven,,31\\nw1zMqFE+5ynBzZil7EKEh2HvNHDLNvnlQ+al7cRBqjw=,281913,465,Madonna,,,52\\nRcGEZpOfi+Y9D7JIIcUtyGP2MddfnhVzhfKKhEAJAtM=,210372,2022,Guns N' Roses,Caram Costanzo\",\n",
       " 'Junnnnn Sato,17\\nGQK/aYFW8elL+4o7Qo1zNSQmjYDKJfacYT2+QKWQ71U=,137044,786,鋼琴饗宴,,,-1\\nU8cqqcX++Gf8YL/qrrbq/SknEgHlpwYZ5TPxMgwakio=,160031,465',\n",
       " 'K. Nishimura',\n",
       " 'Kamaal Ibn Fareed',\n",
       " 'Kay Hanley,,52\\n6LW3BZ1jm7spunKba4mWqkiNjspNPyhPRzhZ/eTo7wI=,121858,465,Carl Perkins,Carl Perkins,,52\\ntCFykwJO0+lwn26rRMXml4RQk6uT9GQ+kWahKLfznZQ=,217583,465,Westlife,Andreas Quiz\" Romdhane',\n",
       " 'Korean Lyrics by Kim',\n",
       " 'Lucio Quarantotto,,52\\n7E08nITOZ8J3jReI8/cn2lUQm8vcv52gTRhce+V8pFU=,192261,465,Andrew Oldham Orchestra,Andrew Loog Oldham,,52\\nOD/dXjvHoGh/RZH2v+zm92JhFJptTt902DPGq0oxpnM=,301923,2022,SCANDAL,Hajimetal,Hajimetal',\n",
       " 'Marc Nelkin',\n",
       " 'Marvin Gaye',\n",
       " 'Melanie Chisholm,,52\\ntoozU/3UBRkzsNtZ8V4GXYHcb3zTNWVszGXKSP1x4qc=,212601,451,譚詠麟 (Alan Tam),Teddy Robin,,24\\nSHpvIVpYFo+X19ccnFsuIQzNnidHdMHeg9sYzcP88LQ=,358400,2122,Marcus Miller,,,52\\nM7SSF0XHF9kbCQV6g3Du2XWD5pl0F4v6LVeLPkloAPs=,197834,1609,PRXZM,,,52\\nK2XSof258aFDY0w7x4HUhcdOCI1fcAnFVmd0AGq6aSw=,316023,958,Ludovico Einaudi,,,-1\\nod8r5XB+/CMny67UOFp+4pL9idnShsRtmmSaSLQILVg=,241859,465,Hudson Thames,Hudson Thames',\n",
       " 'Miliyah,17\\n1rQwAm2OQOWZIpJNQzElg7Xf5Gg4K5V1pCvJHiLV1mI=,212787,1011,HEARTLAND,,,52\\nbFWaWWksxSBSsiC0tZVJGpZ42juERWnMQPi8h5/1ARs=,259599,1609,Die Antwoord,Ninja',\n",
       " 'Miliyah,Shota Shimizu',\n",
       " 'N. Walker,,52\\n898dTVIsSDDautzUt7IK1DggQ21FkyhLqif4qLXn+CU=,197067,1609,Yasuo,Yasuo,Yasuo,17\\nYG3KANNMppf81UIZnasiJJ/2gqHMwckcy3IIz+v+zsA=,258670,465',\n",
       " 'Parrish Warrington,,52\\nNbq4EH8j6MPik4oXXsDZNkdP/bZz/7XayxWVBMzd308=,243565,465,Porno Graffitti (ポルノグラフィティ),Haruichi Shindo,Haruichi Shindo,17\\nSmnm1EYriYhGq9aru8xOk+015bo88lbR911eetjZ8hc=,171790,465,陳小春 (Jordan Chan),Farhad &quot;Ferari&quot; Zand',\n",
       " 'R. McCullough',\n",
       " 'R. Romulus',\n",
       " 'Rene Elizondo Jr.,,52\\nNzKHUdizUFikWIZbLIPik+ApyGxJknliRzZNzODIMUo=,225802,921,Ramin Djawadi,Ramin Djawadi,,52\\nLw4+I4zpBBSnuf5tsRsnU0ImYF4AlEPqsevLrZ0TeaE=,485041,1609,証聲音樂圖書館 ECHO MUSIC,Sebastian Kretzschmar,Sebastian Kretzschmar,52\\n2ERR0eBNGK0tAVKorpSrR4XDYnOqQDfNid/nPJzGd38=,221936,2022,LM.C,,,17\\n/C/wiubl/fCiUmjJwQ1yDv3seKLBaPvMEXRJOl93/e4=,235624,1955,Miss May I,,,52\\nhKXpJ+Y8Hesa/9KjL8wUj52XCs6UI4di2u6QKiSBS0k=,131343,786,廣告配樂精選,Cotton Club,Cotton Club,-1\\n6uYPDXZJGYhq6WDg35xDLMB0Z46Rw3Y0XTLik5F/w9c=,213321,1609,Far East Movement,J. Yip',\n",
       " 'Sarah Hart,,52\\n44K/wNQkmk0pAFX7/IWnaZy4wzUIOBc/u5lQw40CR/w=,310683,465,Shota Shimizu (清水翔太),Shota Shimizu',\n",
       " 'Savan Kotecha',\n",
       " 'Sebastian Ingrosso,,52\\nWKCEUOm70//9O7IQ3VE2ohtiJaDGUH7cChanz4plSdA=,306886,465,曹格 (Gary Chaw),曹格 ,姚若龍 等人,3\\nSOicQ4b0ieAafeGqjdGVU5MPAgtYlCfGi6P49/le65I=,409600,139,Slave,,,52\\ncuSwXYNpWOTM1drx/mJW3qM0P5b5TY44xtrIP8DoGzQ=,287093,465,J,,,17\\nI4p6lOJx+ZlqcVWD5AncdwaLGfhLJ7eqm/38rSTGLjc=,239281,458,于小冉,Qxygen（F1ST）,基械貓,3\\nSxekcRFJ/l4MWpWZhkTsEfD0bLRpqAGZ1Y2Ed1tJ3DY=,206836,465,李治廷 (Aarif Rahman),李治廷,張楚翹 @Solid Sound / 陳考威(SpingWo),3\\nDh1uPET9CjT916QXnHI1oUhnwB306jFJ/xemOyU+LYs=,392510,2022,Megadeth,Dave Mustaine,,52\\nuQpEdgHWBjo1R8/AXlzxvzWn0Jj0jJLlpBfxi+TZK00=,56982,958,Peter Serkin,Johann Sebastian Bach,,-1\\nQGch6e8vfa5uh7d9FvwiMpvL2SeGE0njRWnfVrUcL/k=,260937,465,劉錫明 (Canti Lau),Chow Yim Bing,Zhong Qing Hong,3\\nK6uq5x70nj0uasA8lKfYcD3Z4XIx+rDsBhld8L47q/0=,164884,2022,Perfume Genius,,,52\\neju9sOw1efXi0uGdYpeoznEaFIGnVW5JRRf8ET4oF8w=,283377,,fox capture plan feat. Keishi Tanaka,田中啓史,田中啓史,17\\nqXzFPPPO4HTgFayE4uzxWO5sll8xCHLmCursGTJYZ1Y=,244826,873,Audrey Assad,Audrey Assad',\n",
       " 'Sheldon Goode,52\\nZFXeT687A9YcBHkiWxZwK+SzZANHZpxYLUkrBB6OJtM=,178329,139,Ray Charles,Blackburn',\n",
       " 'Sheldon Goode,Donell Jones',\n",
       " 'Sofia Lindfos,林志年,3\\nPGP/3XYJlIJGYPBhs3aA0BE3vXvkydwsFuJOmaZQiKo=,257985,2072,Axxuell,,,52\\nYO+WsLNdbm7ujlys/RbCJO+LCehLu0HDGbDGKiW4Ouk=,199471,465,巨星系列,,,52\\nt2J4QCTd/Kasa3psLjwKC6rZnQZwpYndozQkV83LiI4=,232942,958,Sarah Àlainn,Francesco Sartori',\n",
       " 'Suessdorf,,52\\nzYi9bJipmSdl0d+g/MtrbM8kRFnTJxQJ+7/ALhaGfxE=,309661,2022,Steve Saluto,,,52\\nWZLJWeDhmtki6w61xyIvvq1VlUFyYjX7YUqMLy4EZC0=,242207,465,French Kiss (フレンチ・キス),黒須克彦,秋元康,17\\nKEnXQfwFdjdxbLbPGFy6yVDIDINocarPf5eRGXEwLYQ=,153984,1609,AWOLNATION,,,52\\n8Hx4/ciiQebsR1eV9tEWKwMjkgLLOdMcjEAVkiOQCng=,241240,109',\n",
       " 'Terry Lewis',\n",
       " 'Timothy McTague',\n",
       " 'V. Coquia',\n",
       " 'W. Axl Rose',\n",
       " 'Yo-landi Vi$$er')"
      ]
     },
     "execution_count": 40,
     "metadata": {},
     "output_type": "execute_result"
    }
   ],
   "source": [
    "df = pd.DataFrame({'composer_list': data.composer_list.dropna().values, \n",
    "                   'len': data.composer_list.dropna().map(len).values})\n",
    "print(df.head())\n",
    "df.loc[df.len.idxmax()].composer_list"
   ]
  },
  {
   "cell_type": "code",
   "execution_count": 13,
   "metadata": {},
   "outputs": [
    {
     "data": {
      "image/png": "[encoded data removed]",
      "text/plain": [
       "<Figure size 1440x360 with 6 Axes>"
      ]
     },
     "metadata": {},
     "output_type": "display_data"
    }
   ],
   "source": [
    "utils_nb.heatmap(data, 'language', 'city', annot=False)"
   ]
  },
  {
   "cell_type": "markdown",
   "metadata": {},
   "source": [
    "## Age and Genres"
   ]
  },
  {
   "cell_type": "code",
   "execution_count": null,
   "metadata": {},
   "outputs": [],
   "source": [
    "%%time\n",
    "multi_catg_heatmap('genre_list', 'age')"
   ]
  },
  {
   "cell_type": "markdown",
   "metadata": {},
   "source": [
    "## Popular Artist\n",
    "-  We evaluate the popularity of the artist by calculate `mean * sum` by target label, value of target belong to [0, 1], so `sum` can represent the popularity but, maybe there are many 0 in the votes, so multiple the `mean` to get more fair result\n",
    "-  According the boxplot, the popularity distribution is very skew, most of them close to zero, this is expected result, for this situation, we will add some features like the interaction between `[target + artist], [target + language]`..., etc."
   ]
  },
  {
   "cell_type": "code",
   "execution_count": null,
   "metadata": {
    "scrolled": true
   },
   "outputs": [],
   "source": [
    "artist_list, target = flat('artist_list')\n",
    "univ_boxplot(pd.DataFrame({'artist_list': artist_list, 'target': target}), 'artist_list')"
   ]
  },
  {
   "cell_type": "code",
   "execution_count": null,
   "metadata": {},
   "outputs": [],
   "source": [
    "artist_list, target = flat('artist_list')\n",
    "univ_boxplot(pd.DataFrame({'artist_list': artist_list, 'target': target}), 'artist_list')"
   ]
  },
  {
   "cell_type": "markdown",
   "metadata": {},
   "source": [
    "<br/>\n",
    "<br/>\n",
    "<br/>\n",
    "## Filter some rows\n",
    "\n",
    "1. First we filter out the majority and the minority => [100 <= msno.group.size <= 1000], we don't want some majority to dominate the model\n",
    "2. Insure that records of target = 1 greater than 35, we want 30% in valid data records of target = 1 greater than 10\n",
    "    ```\n",
    "    35 * 0.3 = 10.5\n",
    "    ```"
   ]
  },
  {
   "cell_type": "code",
   "execution_count": null,
   "metadata": {},
   "outputs": [],
   "source": [
    "\"\"\" Use DataFrameGroupBy.filter will be greate !!!\"\"\"\n",
    "# msno_grp = data.groupby('msno')\n",
    "# msno_grp.size().describe()\n",
    "\n",
    "# df = pd.DataFrame({'size': msno_grp.size(), 'sum': msno_grp.target.sum()})\n",
    "\n",
    "# data = data[data.msno.isin(df.query('sum >= 35 and 100 <= size and size <= 1000').index)]\n",
    "# print(data.shape)\n",
    "# print(data.target.value_counts())"
   ]
  },
  {
   "cell_type": "code",
   "execution_count": null,
   "metadata": {
    "scrolled": true
   },
   "outputs": [],
   "source": [
    "enc = utils.CounterEncoder()\n",
    "enc.partial_fit( train.source_system_tab )"
   ]
  },
  {
   "cell_type": "code",
   "execution_count": null,
   "metadata": {},
   "outputs": [],
   "source": [
    "np.linalg.norm([1, 2, 3] / np.linalg.norm([1, 2, 3]))\n"
   ]
  },
  {
   "cell_type": "code",
   "execution_count": null,
   "metadata": {},
   "outputs": [],
   "source": [
    "feat = 'source_system_tab'\n",
    "feat_dummies = pd.get_dummies(data[feat])\n",
    "feat_dummies.columns = ['msno_%s_'%feat + '%s'%col for col in feat_dummies.columns]\n",
    "feat_dummies.head()\n",
    "feat_dummies['msno'] = data['msno'].values\n",
    "feat_dummies = feat_dummies.groupby('msno').mean()\n",
    "feat_dummies['msno'] = feat_dummies.index\n",
    "a = members.merge(feat_dummies, on='msno', how='left')\n",
    "a.head()"
   ]
  },
  {
   "cell_type": "markdown",
   "metadata": {},
   "source": [
    "<br/>\n",
    "<br/>\n",
    "<br/>\n",
    "<br/>\n",
    "<br/>\n",
    "<br/>"
   ]
  },
  {
   "cell_type": "markdown",
   "metadata": {},
   "source": [
    "<br/>\n",
    "<br/>\n",
    "<br/>\n",
    "<br/>\n",
    "<br/>\n",
    "<br/>\n",
    "## Appendix"
   ]
  },
  {
   "cell_type": "markdown",
   "metadata": {},
   "source": [
    "+ Use `tf.saved_model.loader.load`, only for `json_serving_input_fn `"
   ]
  },
  {
   "cell_type": "code",
   "execution_count": null,
   "metadata": {
    "scrolled": true
   },
   "outputs": [],
   "source": [
    "%%time\n",
    "from trainer import app_conf, metadata, input, service\n",
    "from trainer.ctrl import Ctrl\n",
    "\n",
    "ctrl = Ctrl.instance\n",
    "test_df = ctrl.transform(pd.Series({'fpath': './data/test.csv'}))\n",
    "params = pd.Series({\n",
    "    'datasource': test_df,\n",
    "    'is_src_file': False\n",
    "})\n",
    "pred = ctrl.local_predict_alt(params)\n",
    "print(pred)"
   ]
  },
  {
   "cell_type": "markdown",
   "metadata": {},
   "source": [
    "## Tensor data inspection"
   ]
  },
  {
   "cell_type": "code",
   "execution_count": null,
   "metadata": {},
   "outputs": [],
   "source": [
    "%%time\n",
    "from trainer import app_conf, metadata, input, service\n",
    "from trainer.ctrl import Ctrl\n",
    "\n",
    "encoded, origin, feat_data, target_, all_ = Ctrl.instance.inspect('promo2')"
   ]
  },
  {
   "cell_type": "markdown",
   "metadata": {},
   "source": [
    "## Test"
   ]
  },
  {
   "cell_type": "code",
   "execution_count": 178,
   "metadata": {},
   "outputs": [
    {
     "name": "stdout",
     "output_type": "stream",
     "text": [
      "[[1. 0. 0.]\n",
      " [1. 1. 0.]\n",
      " [1. 1. 1.]]\n"
     ]
    }
   ],
   "source": [
    "from trainer import app_conf, metadata, input, service\n",
    "from trainer.ctrl import Ctrl\n",
    "\n",
    "tf.reset_default_graph()\n",
    "with tf.Graph().as_default():\n",
    "    norm = tf.sequence_mask([1, 2, 3], dtype=tf.float32)\n",
    "    with tf.Session() as sess:\n",
    "        tf.global_variables_initializer().run()\n",
    "        print( sess.run(norm) )"
   ]
  }
 ],
 "metadata": {
  "anaconda-cloud": {},
  "kernelspec": {
   "display_name": "Python 3",
   "language": "python",
   "name": "python3"
  },
  "language_info": {
   "codemirror_mode": {
    "name": "ipython",
    "version": 3
   },
   "file_extension": ".py",
   "mimetype": "text/x-python",
   "name": "python",
   "nbconvert_exporter": "python",
   "pygments_lexer": "ipython3",
   "version": "3.6.0"
  }
 },
 "nbformat": 4,
 "nbformat_minor": 1
}
