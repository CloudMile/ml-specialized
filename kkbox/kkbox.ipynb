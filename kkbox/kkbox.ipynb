{
 "cells": [
  {
   "cell_type": "markdown",
   "metadata": {},
   "source": [
    "\n",
    "\n",
    "\n",
    "## What kind of problem to solve?\n",
    "\n",
    "Music Personalize Recommendation, here because of the target column is binary, we take this as a classification problem, in a nutshell, this is a binary classification."
   ]
  },
  {
   "cell_type": "code",
   "execution_count": 2,
   "metadata": {
    "scrolled": true
   },
   "outputs": [],
   "source": [
    "%reload_ext autoreload\n",
    "%autoreload 2\n",
    "\n",
    "import os, sys, numpy as np, pandas as pd, tensorflow as tf, re, codecs, json, time, html\n",
    "import pickle, collections, random, math, numbers, scipy.sparse as sp, itertools, shutil\n",
    "import requests, seaborn as sns\n",
    "import numba\n",
    "\n",
    "from collections import defaultdict, Counter\n",
    "from datetime import datetime\n",
    "from pprint import pprint\n",
    "from matplotlib import pyplot as plt\n",
    "# plt.style.use('ggplot')\n",
    "plt.style.use('seaborn-whitegrid') # \n",
    "\n",
    "ctx = os.path.abspath(os.path.dirname('.'))\n",
    "if ctx not in sys.path:\n",
    "    sys.path.insert(0, ctx)\n",
    "\n",
    "from trainer.utils import utils, utils_nb\n",
    "from trainer import app_conf, metadata, input as inp, service\n",
    "from trainer.ctrl import Ctrl\n",
    "\n",
    "np.set_printoptions(precision=4, suppress=True, linewidth=100)\n",
    "np.random.seed(42)"
   ]
  },
  {
   "cell_type": "markdown",
   "metadata": {},
   "source": [
    "## Preview\n",
    "<br/>\n",
    "\n",
    "### train.csv\n",
    "Column | Description\n",
    "--:--  | --:-- \n",
    "msno | user id\n",
    "song_id | song id\n",
    "source_system_tab | the name of the tab where the event was triggered. System tabs are used to categorize KKBOX mobile apps functions. For example, tab my library contains functions to manipulate the local storage, and tab search contains functions relating to search.\n",
    "source_screen_name | name of the layout a user sees.\n",
    "source_type | an entry point a user first plays music on mobile apps. An entry point could be album, online-playlist, song .. etc.\n",
    "target | this is the target variable. target=1 means there are recurring listening event(s) triggered within a month after the user’s very first observable listening event, target=0 otherwise .\n",
    "<br/>\n",
    "\n",
    "## songs.csv\n",
    "Column | Description\n",
    "--:--  | --:-- \n",
    "song_id | \n",
    "song_length | in ms\n",
    "genre_ids | genre category. Some songs have multiple genres and they are separated by\n",
    "artist_name | \n",
    "composer | \n",
    "lyricist | \n",
    "language |\n",
    "<br/>\n",
    "\n",
    "## members.csv\n",
    "Column | Description\n",
    "--:--  | --:-- \n",
    "msno | \n",
    "city | \n",
    "bd | age. Note: this column has outlier values, please use your judgement.\n",
    "gender | \n",
    "registered_via | registration method\n",
    "registration_init_time | format %Y%m%d\n",
    "expiration_date | format %Y%m%d\n",
    "\n",
    "## song_extra_info.csv\n",
    "Column | Description\n",
    "--:--  | --:-- \n",
    "song_id | \n",
    "song name | the name of the song.\n",
    "isrc | International Standard Recording Code, theoretically can be used as an identity of a song. However, what worth to note is, ISRCs generated from providers have not been officially verified; therefore the information in ISRC, such as country code and reference year, can be misleading/incorrect. Multiple songs could share one ISRC since a single recording could be re-published several times."
   ]
  },
  {
   "cell_type": "code",
   "execution_count": 2,
   "metadata": {},
   "outputs": [
    {
     "data": {
      "text/html": [
       "<div>\n",
       "<style scoped>\n",
       "    .dataframe tbody tr th:only-of-type {\n",
       "        vertical-align: middle;\n",
       "    }\n",
       "\n",
       "    .dataframe tbody tr th {\n",
       "        vertical-align: top;\n",
       "    }\n",
       "\n",
       "    .dataframe thead th {\n",
       "        text-align: right;\n",
       "    }\n",
       "</style>\n",
       "<table border=\"1\" class=\"dataframe\">\n",
       "  <thead>\n",
       "    <tr style=\"text-align: right;\">\n",
       "      <th></th>\n",
       "      <th>msno</th>\n",
       "      <th>song_id</th>\n",
       "      <th>source_system_tab</th>\n",
       "      <th>source_screen_name</th>\n",
       "      <th>source_type</th>\n",
       "      <th>target</th>\n",
       "    </tr>\n",
       "  </thead>\n",
       "  <tbody>\n",
       "    <tr>\n",
       "      <th>0</th>\n",
       "      <td>FGtllVqz18RPiwJj/edr2gV78zirAiY/9SmYvia+kCg=</td>\n",
       "      <td>BBzumQNXUHKdEBOB7mAJuzok+IJA1c2Ryg/yzTF6tik=</td>\n",
       "      <td>explore</td>\n",
       "      <td>Explore</td>\n",
       "      <td>online-playlist</td>\n",
       "      <td>1</td>\n",
       "    </tr>\n",
       "    <tr>\n",
       "      <th>1</th>\n",
       "      <td>Xumu+NIjS6QYVxDS4/t3SawvJ7viT9hPKXmf0RtLNx8=</td>\n",
       "      <td>bhp/MpSNoqoxOIB+/l8WPqu6jldth4DIpCm3ayXnJqM=</td>\n",
       "      <td>my library</td>\n",
       "      <td>Local playlist more</td>\n",
       "      <td>local-playlist</td>\n",
       "      <td>1</td>\n",
       "    </tr>\n",
       "    <tr>\n",
       "      <th>2</th>\n",
       "      <td>Xumu+NIjS6QYVxDS4/t3SawvJ7viT9hPKXmf0RtLNx8=</td>\n",
       "      <td>JNWfrrC7zNN7BdMpsISKa4Mw+xVJYNnxXh3/Epw7QgY=</td>\n",
       "      <td>my library</td>\n",
       "      <td>Local playlist more</td>\n",
       "      <td>local-playlist</td>\n",
       "      <td>1</td>\n",
       "    </tr>\n",
       "    <tr>\n",
       "      <th>3</th>\n",
       "      <td>Xumu+NIjS6QYVxDS4/t3SawvJ7viT9hPKXmf0RtLNx8=</td>\n",
       "      <td>2A87tzfnJTSWqD7gIZHisolhe4DMdzkbd6LzO1KHjNs=</td>\n",
       "      <td>my library</td>\n",
       "      <td>Local playlist more</td>\n",
       "      <td>local-playlist</td>\n",
       "      <td>1</td>\n",
       "    </tr>\n",
       "    <tr>\n",
       "      <th>4</th>\n",
       "      <td>FGtllVqz18RPiwJj/edr2gV78zirAiY/9SmYvia+kCg=</td>\n",
       "      <td>3qm6XTZ6MOCU11x8FIVbAGH5l5uMkT3/ZalWG1oo2Gc=</td>\n",
       "      <td>explore</td>\n",
       "      <td>Explore</td>\n",
       "      <td>online-playlist</td>\n",
       "      <td>1</td>\n",
       "    </tr>\n",
       "  </tbody>\n",
       "</table>\n",
       "</div>"
      ],
      "text/plain": [
       "                                           msno  \\\n",
       "0  FGtllVqz18RPiwJj/edr2gV78zirAiY/9SmYvia+kCg=   \n",
       "1  Xumu+NIjS6QYVxDS4/t3SawvJ7viT9hPKXmf0RtLNx8=   \n",
       "2  Xumu+NIjS6QYVxDS4/t3SawvJ7viT9hPKXmf0RtLNx8=   \n",
       "3  Xumu+NIjS6QYVxDS4/t3SawvJ7viT9hPKXmf0RtLNx8=   \n",
       "4  FGtllVqz18RPiwJj/edr2gV78zirAiY/9SmYvia+kCg=   \n",
       "\n",
       "                                        song_id source_system_tab  \\\n",
       "0  BBzumQNXUHKdEBOB7mAJuzok+IJA1c2Ryg/yzTF6tik=           explore   \n",
       "1  bhp/MpSNoqoxOIB+/l8WPqu6jldth4DIpCm3ayXnJqM=        my library   \n",
       "2  JNWfrrC7zNN7BdMpsISKa4Mw+xVJYNnxXh3/Epw7QgY=        my library   \n",
       "3  2A87tzfnJTSWqD7gIZHisolhe4DMdzkbd6LzO1KHjNs=        my library   \n",
       "4  3qm6XTZ6MOCU11x8FIVbAGH5l5uMkT3/ZalWG1oo2Gc=           explore   \n",
       "\n",
       "    source_screen_name      source_type  target  \n",
       "0              Explore  online-playlist       1  \n",
       "1  Local playlist more   local-playlist       1  \n",
       "2  Local playlist more   local-playlist       1  \n",
       "3  Local playlist more   local-playlist       1  \n",
       "4              Explore  online-playlist       1  "
      ]
     },
     "execution_count": 2,
     "metadata": {},
     "output_type": "execute_result"
    }
   ],
   "source": [
    "utils.preview('./data/train.csv')"
   ]
  },
  {
   "cell_type": "code",
   "execution_count": 3,
   "metadata": {},
   "outputs": [
    {
     "data": {
      "text/html": [
       "<div>\n",
       "<style scoped>\n",
       "    .dataframe tbody tr th:only-of-type {\n",
       "        vertical-align: middle;\n",
       "    }\n",
       "\n",
       "    .dataframe tbody tr th {\n",
       "        vertical-align: top;\n",
       "    }\n",
       "\n",
       "    .dataframe thead th {\n",
       "        text-align: right;\n",
       "    }\n",
       "</style>\n",
       "<table border=\"1\" class=\"dataframe\">\n",
       "  <thead>\n",
       "    <tr style=\"text-align: right;\">\n",
       "      <th></th>\n",
       "      <th>id</th>\n",
       "      <th>msno</th>\n",
       "      <th>song_id</th>\n",
       "      <th>source_system_tab</th>\n",
       "      <th>source_screen_name</th>\n",
       "      <th>source_type</th>\n",
       "    </tr>\n",
       "  </thead>\n",
       "  <tbody>\n",
       "    <tr>\n",
       "      <th>0</th>\n",
       "      <td>0</td>\n",
       "      <td>V8ruy7SGk7tDm3zA51DPpn6qutt+vmKMBKa21dp54uM=</td>\n",
       "      <td>WmHKgKMlp1lQMecNdNvDMkvIycZYHnFwDT72I5sIssc=</td>\n",
       "      <td>my library</td>\n",
       "      <td>Local playlist more</td>\n",
       "      <td>local-library</td>\n",
       "    </tr>\n",
       "    <tr>\n",
       "      <th>1</th>\n",
       "      <td>1</td>\n",
       "      <td>V8ruy7SGk7tDm3zA51DPpn6qutt+vmKMBKa21dp54uM=</td>\n",
       "      <td>y/rsZ9DC7FwK5F2PK2D5mj+aOBUJAjuu3dZ14NgE0vM=</td>\n",
       "      <td>my library</td>\n",
       "      <td>Local playlist more</td>\n",
       "      <td>local-library</td>\n",
       "    </tr>\n",
       "    <tr>\n",
       "      <th>2</th>\n",
       "      <td>2</td>\n",
       "      <td>/uQAlrAkaczV+nWCd2sPF2ekvXPRipV7q0l+gbLuxjw=</td>\n",
       "      <td>8eZLFOdGVdXBSqoAv5nsLigeH2BvKXzTQYtUM53I0k4=</td>\n",
       "      <td>discover</td>\n",
       "      <td>NaN</td>\n",
       "      <td>song-based-playlist</td>\n",
       "    </tr>\n",
       "    <tr>\n",
       "      <th>3</th>\n",
       "      <td>3</td>\n",
       "      <td>1a6oo/iXKatxQx4eS9zTVD+KlSVaAFbTIqVvwLC1Y0k=</td>\n",
       "      <td>ztCf8thYsS4YN3GcIL/bvoxLm/T5mYBVKOO4C9NiVfQ=</td>\n",
       "      <td>radio</td>\n",
       "      <td>Radio</td>\n",
       "      <td>radio</td>\n",
       "    </tr>\n",
       "    <tr>\n",
       "      <th>4</th>\n",
       "      <td>4</td>\n",
       "      <td>1a6oo/iXKatxQx4eS9zTVD+KlSVaAFbTIqVvwLC1Y0k=</td>\n",
       "      <td>MKVMpslKcQhMaFEgcEQhEfi5+RZhMYlU3eRDpySrH8Y=</td>\n",
       "      <td>radio</td>\n",
       "      <td>Radio</td>\n",
       "      <td>radio</td>\n",
       "    </tr>\n",
       "  </tbody>\n",
       "</table>\n",
       "</div>"
      ],
      "text/plain": [
       "   id                                          msno  \\\n",
       "0   0  V8ruy7SGk7tDm3zA51DPpn6qutt+vmKMBKa21dp54uM=   \n",
       "1   1  V8ruy7SGk7tDm3zA51DPpn6qutt+vmKMBKa21dp54uM=   \n",
       "2   2  /uQAlrAkaczV+nWCd2sPF2ekvXPRipV7q0l+gbLuxjw=   \n",
       "3   3  1a6oo/iXKatxQx4eS9zTVD+KlSVaAFbTIqVvwLC1Y0k=   \n",
       "4   4  1a6oo/iXKatxQx4eS9zTVD+KlSVaAFbTIqVvwLC1Y0k=   \n",
       "\n",
       "                                        song_id source_system_tab  \\\n",
       "0  WmHKgKMlp1lQMecNdNvDMkvIycZYHnFwDT72I5sIssc=        my library   \n",
       "1  y/rsZ9DC7FwK5F2PK2D5mj+aOBUJAjuu3dZ14NgE0vM=        my library   \n",
       "2  8eZLFOdGVdXBSqoAv5nsLigeH2BvKXzTQYtUM53I0k4=          discover   \n",
       "3  ztCf8thYsS4YN3GcIL/bvoxLm/T5mYBVKOO4C9NiVfQ=             radio   \n",
       "4  MKVMpslKcQhMaFEgcEQhEfi5+RZhMYlU3eRDpySrH8Y=             radio   \n",
       "\n",
       "    source_screen_name          source_type  \n",
       "0  Local playlist more        local-library  \n",
       "1  Local playlist more        local-library  \n",
       "2                  NaN  song-based-playlist  \n",
       "3                Radio                radio  \n",
       "4                Radio                radio  "
      ]
     },
     "execution_count": 3,
     "metadata": {},
     "output_type": "execute_result"
    }
   ],
   "source": [
    "utils.preview('./data/test.csv')"
   ]
  },
  {
   "cell_type": "code",
   "execution_count": 4,
   "metadata": {},
   "outputs": [
    {
     "data": {
      "text/html": [
       "<div>\n",
       "<style scoped>\n",
       "    .dataframe tbody tr th:only-of-type {\n",
       "        vertical-align: middle;\n",
       "    }\n",
       "\n",
       "    .dataframe tbody tr th {\n",
       "        vertical-align: top;\n",
       "    }\n",
       "\n",
       "    .dataframe thead th {\n",
       "        text-align: right;\n",
       "    }\n",
       "</style>\n",
       "<table border=\"1\" class=\"dataframe\">\n",
       "  <thead>\n",
       "    <tr style=\"text-align: right;\">\n",
       "      <th></th>\n",
       "      <th>msno</th>\n",
       "      <th>city</th>\n",
       "      <th>bd</th>\n",
       "      <th>gender</th>\n",
       "      <th>registered_via</th>\n",
       "      <th>registration_init_time</th>\n",
       "      <th>expiration_date</th>\n",
       "    </tr>\n",
       "  </thead>\n",
       "  <tbody>\n",
       "    <tr>\n",
       "      <th>0</th>\n",
       "      <td>XQxgAYj3klVKjR3oxPPXYYFp4soD4TuBghkhMTD4oTw=</td>\n",
       "      <td>1</td>\n",
       "      <td>0</td>\n",
       "      <td>NaN</td>\n",
       "      <td>7</td>\n",
       "      <td>20110820</td>\n",
       "      <td>20170920</td>\n",
       "    </tr>\n",
       "    <tr>\n",
       "      <th>1</th>\n",
       "      <td>UizsfmJb9mV54qE9hCYyU07Va97c0lCRLEQX3ae+ztM=</td>\n",
       "      <td>1</td>\n",
       "      <td>0</td>\n",
       "      <td>NaN</td>\n",
       "      <td>7</td>\n",
       "      <td>20150628</td>\n",
       "      <td>20170622</td>\n",
       "    </tr>\n",
       "    <tr>\n",
       "      <th>2</th>\n",
       "      <td>D8nEhsIOBSoE6VthTaqDX8U6lqjJ7dLdr72mOyLya2A=</td>\n",
       "      <td>1</td>\n",
       "      <td>0</td>\n",
       "      <td>NaN</td>\n",
       "      <td>4</td>\n",
       "      <td>20160411</td>\n",
       "      <td>20170712</td>\n",
       "    </tr>\n",
       "    <tr>\n",
       "      <th>3</th>\n",
       "      <td>mCuD+tZ1hERA/o5GPqk38e041J8ZsBaLcu7nGoIIvhI=</td>\n",
       "      <td>1</td>\n",
       "      <td>0</td>\n",
       "      <td>NaN</td>\n",
       "      <td>9</td>\n",
       "      <td>20150906</td>\n",
       "      <td>20150907</td>\n",
       "    </tr>\n",
       "    <tr>\n",
       "      <th>4</th>\n",
       "      <td>q4HRBfVSssAFS9iRfxWrohxuk9kCYMKjHOEagUMV6rQ=</td>\n",
       "      <td>1</td>\n",
       "      <td>0</td>\n",
       "      <td>NaN</td>\n",
       "      <td>4</td>\n",
       "      <td>20170126</td>\n",
       "      <td>20170613</td>\n",
       "    </tr>\n",
       "  </tbody>\n",
       "</table>\n",
       "</div>"
      ],
      "text/plain": [
       "                                           msno  city  bd  gender  \\\n",
       "0  XQxgAYj3klVKjR3oxPPXYYFp4soD4TuBghkhMTD4oTw=     1   0     NaN   \n",
       "1  UizsfmJb9mV54qE9hCYyU07Va97c0lCRLEQX3ae+ztM=     1   0     NaN   \n",
       "2  D8nEhsIOBSoE6VthTaqDX8U6lqjJ7dLdr72mOyLya2A=     1   0     NaN   \n",
       "3  mCuD+tZ1hERA/o5GPqk38e041J8ZsBaLcu7nGoIIvhI=     1   0     NaN   \n",
       "4  q4HRBfVSssAFS9iRfxWrohxuk9kCYMKjHOEagUMV6rQ=     1   0     NaN   \n",
       "\n",
       "   registered_via  registration_init_time  expiration_date  \n",
       "0               7                20110820         20170920  \n",
       "1               7                20150628         20170622  \n",
       "2               4                20160411         20170712  \n",
       "3               9                20150906         20150907  \n",
       "4               4                20170126         20170613  "
      ]
     },
     "execution_count": 4,
     "metadata": {},
     "output_type": "execute_result"
    }
   ],
   "source": [
    "utils.preview('./data/members.csv')"
   ]
  },
  {
   "cell_type": "code",
   "execution_count": 5,
   "metadata": {},
   "outputs": [
    {
     "data": {
      "text/html": [
       "<div>\n",
       "<style scoped>\n",
       "    .dataframe tbody tr th:only-of-type {\n",
       "        vertical-align: middle;\n",
       "    }\n",
       "\n",
       "    .dataframe tbody tr th {\n",
       "        vertical-align: top;\n",
       "    }\n",
       "\n",
       "    .dataframe thead th {\n",
       "        text-align: right;\n",
       "    }\n",
       "</style>\n",
       "<table border=\"1\" class=\"dataframe\">\n",
       "  <thead>\n",
       "    <tr style=\"text-align: right;\">\n",
       "      <th></th>\n",
       "      <th>song_id</th>\n",
       "      <th>song_length</th>\n",
       "      <th>genre_ids</th>\n",
       "      <th>artist_name</th>\n",
       "      <th>composer</th>\n",
       "      <th>lyricist</th>\n",
       "      <th>language</th>\n",
       "    </tr>\n",
       "  </thead>\n",
       "  <tbody>\n",
       "    <tr>\n",
       "      <th>0</th>\n",
       "      <td>CXoTN1eb7AI+DntdU1vbcwGRV4SCIDxZu+YD8JP8r4E=</td>\n",
       "      <td>247640</td>\n",
       "      <td>465</td>\n",
       "      <td>張信哲 (Jeff Chang)</td>\n",
       "      <td>董貞</td>\n",
       "      <td>何啟弘</td>\n",
       "      <td>3.0</td>\n",
       "    </tr>\n",
       "    <tr>\n",
       "      <th>1</th>\n",
       "      <td>o0kFgae9QtnYgRkVPqLJwa05zIhRlUjfF7O1tDw0ZDU=</td>\n",
       "      <td>197328</td>\n",
       "      <td>444</td>\n",
       "      <td>BLACKPINK</td>\n",
       "      <td>TEDDY|  FUTURE BOUNCE|  Bekuh BOOM</td>\n",
       "      <td>TEDDY</td>\n",
       "      <td>31.0</td>\n",
       "    </tr>\n",
       "    <tr>\n",
       "      <th>2</th>\n",
       "      <td>DwVvVurfpuz+XPuFvucclVQEyPqcpUkHR0ne1RQzPs0=</td>\n",
       "      <td>231781</td>\n",
       "      <td>465</td>\n",
       "      <td>SUPER JUNIOR</td>\n",
       "      <td>NaN</td>\n",
       "      <td>NaN</td>\n",
       "      <td>31.0</td>\n",
       "    </tr>\n",
       "    <tr>\n",
       "      <th>3</th>\n",
       "      <td>dKMBWoZyScdxSkihKG+Vf47nc18N9q4m58+b4e7dSSE=</td>\n",
       "      <td>273554</td>\n",
       "      <td>465</td>\n",
       "      <td>S.H.E</td>\n",
       "      <td>湯小康</td>\n",
       "      <td>徐世珍</td>\n",
       "      <td>3.0</td>\n",
       "    </tr>\n",
       "    <tr>\n",
       "      <th>4</th>\n",
       "      <td>W3bqWd3T+VeHFzHAUfARgW9AvVRaF4N5Yzm4Mr6Eo/o=</td>\n",
       "      <td>140329</td>\n",
       "      <td>726</td>\n",
       "      <td>貴族精選</td>\n",
       "      <td>Traditional</td>\n",
       "      <td>Traditional</td>\n",
       "      <td>52.0</td>\n",
       "    </tr>\n",
       "  </tbody>\n",
       "</table>\n",
       "</div>"
      ],
      "text/plain": [
       "                                        song_id  song_length  genre_ids  \\\n",
       "0  CXoTN1eb7AI+DntdU1vbcwGRV4SCIDxZu+YD8JP8r4E=       247640        465   \n",
       "1  o0kFgae9QtnYgRkVPqLJwa05zIhRlUjfF7O1tDw0ZDU=       197328        444   \n",
       "2  DwVvVurfpuz+XPuFvucclVQEyPqcpUkHR0ne1RQzPs0=       231781        465   \n",
       "3  dKMBWoZyScdxSkihKG+Vf47nc18N9q4m58+b4e7dSSE=       273554        465   \n",
       "4  W3bqWd3T+VeHFzHAUfARgW9AvVRaF4N5Yzm4Mr6Eo/o=       140329        726   \n",
       "\n",
       "        artist_name                            composer     lyricist  language  \n",
       "0  張信哲 (Jeff Chang)                                  董貞          何啟弘       3.0  \n",
       "1         BLACKPINK  TEDDY|  FUTURE BOUNCE|  Bekuh BOOM        TEDDY      31.0  \n",
       "2      SUPER JUNIOR                                 NaN          NaN      31.0  \n",
       "3             S.H.E                                 湯小康          徐世珍       3.0  \n",
       "4              貴族精選                         Traditional  Traditional      52.0  "
      ]
     },
     "execution_count": 5,
     "metadata": {},
     "output_type": "execute_result"
    }
   ],
   "source": [
    "utils.preview('./data/songs.csv')"
   ]
  },
  {
   "cell_type": "code",
   "execution_count": 6,
   "metadata": {},
   "outputs": [
    {
     "data": {
      "text/html": [
       "<div>\n",
       "<style scoped>\n",
       "    .dataframe tbody tr th:only-of-type {\n",
       "        vertical-align: middle;\n",
       "    }\n",
       "\n",
       "    .dataframe tbody tr th {\n",
       "        vertical-align: top;\n",
       "    }\n",
       "\n",
       "    .dataframe thead th {\n",
       "        text-align: right;\n",
       "    }\n",
       "</style>\n",
       "<table border=\"1\" class=\"dataframe\">\n",
       "  <thead>\n",
       "    <tr style=\"text-align: right;\">\n",
       "      <th></th>\n",
       "      <th>song_id</th>\n",
       "      <th>name</th>\n",
       "      <th>isrc</th>\n",
       "    </tr>\n",
       "  </thead>\n",
       "  <tbody>\n",
       "    <tr>\n",
       "      <th>0</th>\n",
       "      <td>LP7pLJoJFBvyuUwvu+oLzjT+bI+UeBPURCecJsX1jjs=</td>\n",
       "      <td>我們</td>\n",
       "      <td>TWUM71200043</td>\n",
       "    </tr>\n",
       "    <tr>\n",
       "      <th>1</th>\n",
       "      <td>ClazTFnk6r0Bnuie44bocdNMM3rdlrq0bCGAsGUWcHE=</td>\n",
       "      <td>Let Me Love You</td>\n",
       "      <td>QMZSY1600015</td>\n",
       "    </tr>\n",
       "    <tr>\n",
       "      <th>2</th>\n",
       "      <td>u2ja/bZE3zhCGxvbbOB3zOoUjx27u40cf5g09UXMoKQ=</td>\n",
       "      <td>原諒我</td>\n",
       "      <td>TWA530887303</td>\n",
       "    </tr>\n",
       "    <tr>\n",
       "      <th>3</th>\n",
       "      <td>92Fqsy0+p6+RHe2EoLKjHahORHR1Kq1TBJoClW9v+Ts=</td>\n",
       "      <td>Classic</td>\n",
       "      <td>USSM11301446</td>\n",
       "    </tr>\n",
       "    <tr>\n",
       "      <th>4</th>\n",
       "      <td>0QFmz/+rJy1Q56C1DuYqT9hKKqi5TUqx0sN0IwvoHrw=</td>\n",
       "      <td>愛投羅網</td>\n",
       "      <td>TWA471306001</td>\n",
       "    </tr>\n",
       "  </tbody>\n",
       "</table>\n",
       "</div>"
      ],
      "text/plain": [
       "                                        song_id             name          isrc\n",
       "0  LP7pLJoJFBvyuUwvu+oLzjT+bI+UeBPURCecJsX1jjs=               我們  TWUM71200043\n",
       "1  ClazTFnk6r0Bnuie44bocdNMM3rdlrq0bCGAsGUWcHE=  Let Me Love You  QMZSY1600015\n",
       "2  u2ja/bZE3zhCGxvbbOB3zOoUjx27u40cf5g09UXMoKQ=              原諒我  TWA530887303\n",
       "3  92Fqsy0+p6+RHe2EoLKjHahORHR1Kq1TBJoClW9v+Ts=          Classic  USSM11301446\n",
       "4  0QFmz/+rJy1Q56C1DuYqT9hKKqi5TUqx0sN0IwvoHrw=             愛投羅網  TWA471306001"
      ]
     },
     "execution_count": 6,
     "metadata": {},
     "output_type": "execute_result"
    }
   ],
   "source": [
    "utils.preview('./data/song_extra_info.csv')"
   ]
  },
  {
   "cell_type": "markdown",
   "metadata": {},
   "source": [
    "<br/>\n",
    "<br/>\n",
    "<br/>\n",
    "## Data Clean"
   ]
  },
  {
   "cell_type": "markdown",
   "metadata": {},
   "source": [
    "1. Drop `name` in `song_extra_info`"
   ]
  },
  {
   "cell_type": "code",
   "execution_count": 10,
   "metadata": {
    "scrolled": true
   },
   "outputs": [
    {
     "name": "stdout",
     "output_type": "stream",
     "text": [
      "Wall time: 26 s\n"
     ]
    }
   ],
   "source": [
    "%%time\n",
    "tr = pd.read_csv('./data/train.csv')\n",
    "members = pd.read_csv('./data/members.csv')\n",
    "songs = pd.read_csv('./data/songs.csv')\\\n",
    "          .merge(pd.read_csv('./data/song_extra_info.csv'), how='left', on='song_id')\\\n",
    "          .drop('name', 1)"
   ]
  },
  {
   "cell_type": "markdown",
   "metadata": {},
   "source": [
    "### Interaction table"
   ]
  },
  {
   "cell_type": "code",
   "execution_count": 11,
   "metadata": {},
   "outputs": [],
   "source": [
    "%%time\n",
    "# source_system_tab\tsource_screen_name\tsource_type\n",
    "tr['source_system_tab'] = tr.source_system_tab.fillna('')\n",
    "tr['source_screen_name'] = tr.source_screen_name.fillna('')\n",
    "tr['source_type'] = tr.source_type.fillna('')"
   ]
  },
  {
   "cell_type": "markdown",
   "metadata": {},
   "source": [
    "### members"
   ]
  },
  {
   "cell_type": "code",
   "execution_count": 12,
   "metadata": {},
   "outputs": [
    {
     "name": "stdout",
     "output_type": "stream",
     "text": [
      "Wall time: 270 ms\n"
     ]
    }
   ],
   "source": [
    "%%time\n",
    "members['gender'] = members.gender.fillna('')\n",
    "\n",
    "date_fmt = '%Y%m%d'\n",
    "members['registration_init_time'] = pd.to_datetime(members.registration_init_time, format=date_fmt).map(lambda e: e.timestamp() / 86400)\n",
    "members['expiration_date'] = pd.to_datetime(members.expiration_date, format=date_fmt).map(lambda e: e.timestamp() / 86400)"
   ]
  },
  {
   "cell_type": "markdown",
   "metadata": {},
   "source": [
    "### songs"
   ]
  },
  {
   "cell_type": "code",
   "execution_count": 13,
   "metadata": {
    "scrolled": false
   },
   "outputs": [
    {
     "name": "stdout",
     "output_type": "stream",
     "text": [
      "Wall time: 49.4 s\n"
     ]
    }
   ],
   "source": [
    "%%time\n",
    "def str2tuple(series):\n",
    "    return series.fillna('')\\\n",
    "                 .map(html.unescape)\\\n",
    "                 .str.replace('[^.\\w\\|]+', ' ')\\\n",
    "                 .str.replace('^[\\s\\|]+|[\\s\\|]+$', '')\\\n",
    "                 .str.split('\\s*\\|+\\s*')\\\n",
    "                 .map(lambda ary: tuple(sorted(ary)))\n",
    "\n",
    "songs['genre_ids'] = str2tuple(songs['genre_ids'])\n",
    "songs['artist_name'] = str2tuple(songs['artist_name'])\n",
    "songs['composer'] = str2tuple(songs['composer'])\n",
    "songs['lyricist'] = str2tuple(songs['lyricist'])\n",
    "songs['language'] = songs.language.fillna(0.)"
   ]
  },
  {
   "cell_type": "markdown",
   "metadata": {},
   "source": [
    "### Split Train Valid"
   ]
  },
  {
   "cell_type": "code",
   "execution_count": 14,
   "metadata": {},
   "outputs": [
    {
     "name": "stdout",
     "output_type": "stream",
     "text": [
      "count    30755.000000\n",
      "mean       239.877028\n",
      "std        314.130788\n",
      "min          1.000000\n",
      "25%         27.000000\n",
      "50%        128.000000\n",
      "75%        340.000000\n",
      "max       5819.000000\n",
      "dtype: float64 \n",
      "\n",
      "count    27113.000000\n",
      "mean       137.006454\n",
      "std        176.338947\n",
      "min          1.000000\n",
      "25%         17.000000\n",
      "50%         76.000000\n",
      "75%        192.000000\n",
      "max       3288.000000\n",
      "dtype: float64\n"
     ]
    }
   ],
   "source": [
    "msno_count = tr.groupby('msno').size()\n",
    "pos_count = tr.query('target == 1').groupby('msno').size()\n",
    "print(msno_count.describe(), '\\n')\n",
    "print(pos_count.describe())"
   ]
  },
  {
   "cell_type": "code",
   "execution_count": 15,
   "metadata": {
    "scrolled": true
   },
   "outputs": [
    {
     "name": "stdout",
     "output_type": "stream",
     "text": [
      "Wall time: 22.3 s\n"
     ]
    }
   ],
   "source": [
    "%%time\n",
    "msno_describe = msno_count.describe()\n",
    "per25, per75 = int(msno_describe['25%']), int(msno_describe['75%'])\n",
    "\n",
    "valid_size = 0.2\n",
    "def filter_fn(pipe):\n",
    "    # At least amount of 25 percentile\n",
    "    if len(pipe) >= per25:\n",
    "        # At most amount of 75 percentile of latest data\n",
    "        pipe = pipe[-per75:]\n",
    "        len_ = len(pipe)\n",
    "        is_train = np.zeros(len_)\n",
    "        tr_size = int(len_ * (1 - valid_size))\n",
    "        is_train[:tr_size] = 1.\n",
    "        pipe['is_train'] = is_train\n",
    "        return pipe\n",
    "\n",
    "tr = tr.groupby('msno', as_index=False).apply(filter_fn)\n",
    "vl = tr.query('is_train == 0').drop('is_train', 1)\n",
    "tr = tr.query('is_train == 1').drop('is_train', 1)"
   ]
  },
  {
   "cell_type": "code",
   "execution_count": 16,
   "metadata": {
    "scrolled": true
   },
   "outputs": [
    {
     "name": "stdout",
     "output_type": "stream",
     "text": [
      "Wall time: 6.71 s\n"
     ]
    }
   ],
   "source": [
    "%%time\n",
    "# Because of performance of pandas.to_csv too slow, use this will be greate\n",
    "# import csv\n",
    "# def to_csv(path, df, header=True):\n",
    "#     with open(path, 'w', newline='') as fp:\n",
    "#         w = csv.writer(fp)\n",
    "#         if header:\n",
    "#             w.writerows(df.columns[None, :])\n",
    "#         w.writerows(df.values)\n",
    "    \n",
    "# Write to pickle for speed\n",
    "tr.to_hdf('./data/processed/cleaned/tr.h', key='df')\n",
    "vl.to_hdf('./data/processed/cleaned/vl.h', key='df')"
   ]
  },
  {
   "cell_type": "code",
   "execution_count": 17,
   "metadata": {},
   "outputs": [
    {
     "name": "stderr",
     "output_type": "stream",
     "text": [
      "d:\\python\\anaconda3\\envs\\py3_6\\lib\\site-packages\\pandas\\core\\generic.py:1471: PerformanceWarning: \n",
      "your performance may suffer as PyTables will pickle object types that it cannot\n",
      "map directly to c-types [inferred_type->mixed,key->block0_values] [items->['song_id', 'genre_ids', 'artist_name', 'composer', 'lyricist', 'isrc']]\n",
      "\n",
      "  return pytables.to_hdf(path_or_buf, key, self, **kwargs)\n"
     ]
    }
   ],
   "source": [
    "members.to_hdf('./data/processed/cleaned/member.h', key='df')\n",
    "songs.to_hdf('./data/processed/cleaned/songs.h', key='df')"
   ]
  },
  {
   "cell_type": "markdown",
   "metadata": {},
   "source": [
    "<br/>\n",
    "<br/>\n",
    "<br/>\n",
    "## Phase 1: Prepare,  Add Columns, Feature Engineering"
   ]
  },
  {
   "cell_type": "code",
   "execution_count": 125,
   "metadata": {},
   "outputs": [
    {
     "name": "stdout",
     "output_type": "stream",
     "text": [
      "Wall time: 15.2 s\n"
     ]
    }
   ],
   "source": [
    "%%time\n",
    "members = pd.read_hdf('./data/processed/cleaned/member.h', key='df')\n",
    "songs = pd.read_hdf('./data/processed/cleaned/songs.h', key='df')\n",
    "tr = pd.read_hdf('./data/processed/cleaned/tr.h', key='df')\n",
    "data = tr.merge(members, how='left', on='msno')\\\n",
    "         .merge(songs, how='left', on='song_id')"
   ]
  },
  {
   "cell_type": "markdown",
   "metadata": {},
   "source": [
    "### members extra columns"
   ]
  },
  {
   "cell_type": "code",
   "execution_count": 126,
   "metadata": {},
   "outputs": [
    {
     "name": "stdout",
     "output_type": "stream",
     "text": [
      "Wall time: 46.9 ms\n"
     ]
    }
   ],
   "source": [
    "%%time\n",
    "msno_extra_cols = ['msno_song_query', 'msno_song_query_weights', 'msno_age_catg', 'msno_age_num', 'msno_tenure',\n",
    "                   'msno_source_system_tab_hist', 'msno_source_system_tab_weights',\n",
    "                   'msno_source_screen_name_hist', 'msno_source_screen_name_weights',\n",
    "                   'msno_source_type_hist', 'msno_source_type_weights',\n",
    "                   'msno_genre_ids_hist', 'msno_genre_ids_weights', \n",
    "                   'msno_artist_name_hist', 'msno_artist_name_weights', \n",
    "                   'msno_composer_hist', 'msno_composer_weights',  \n",
    "                   'msno_lyricist_hist', 'msno_lyricist_weights']\n",
    "\n",
    "bd = members.bd.copy()\n",
    "bins = np.array([6, 10, 20, 30, 40, 60, 80])\n",
    "age_map = {0: '', 1: '6-10', 2: '10-20', 3: '20-30', 4: '30-40', 5: '40-60', 6: '60-80', 7: ''}\n",
    "members['msno_age_catg'] = pd.Series(np.digitize(bd, bins)).map(age_map)\n",
    "\n",
    "reasonable_range = (6 <= bd) & (bd <= 80)\n",
    "median = bd[reasonable_range].describe()['50%']\n",
    "bd[~reasonable_range] = median\n",
    "members['msno_age_num'] = bd\n",
    "members = members.drop('bd', 1)\n",
    "# Tenure: the customer life time\n",
    "members['msno_tenure'] = members.expiration_date - members.registration_init_time"
   ]
  },
  {
   "cell_type": "code",
   "execution_count": 92,
   "metadata": {},
   "outputs": [
    {
     "name": "stdout",
     "output_type": "stream",
     "text": [
      "Wall time: 7min 18s\n"
     ]
    }
   ],
   "source": [
    "%%time\n",
    "n_msno = data.msno.nunique()\n",
    "cache = {'progress': 0}\n",
    "def map_msno(pipe):\n",
    "    def set_cols(col, weights):\n",
    "        try: weights = weights.drop('')\n",
    "        except: pass\n",
    "        if len(weights) > 0:\n",
    "            ret[f'msno_{col}_hist'] = tuple(weights.index)\n",
    "            ret[f'msno_{col}_count'] = tuple(weights['count'].values.astype(float))\n",
    "            ret[f'msno_{col}_mean'] = tuple(weights['mean'].values.astype(float))\n",
    "        else:\n",
    "            ret[f'msno_{col}_count'] = ('',)\n",
    "            ret[f'msno_{col}_mean'] = (0.,)\n",
    "            ret[f'msno_{col}_mean'] = (0.,)\n",
    "        \n",
    "    cache['progress'] += 1\n",
    "    if cache['progress'] % 100 == 0:\n",
    "        print(f'\\r {cache[\"progress\"]}/{n_msno} processed.', end='')\n",
    "        \n",
    "    ret = pd.Series()\n",
    "    # pos_pipe = pipe.query('target == 1')\n",
    "    len_ = len(pipe)\n",
    "    for col in ('source_system_tab', 'source_screen_name', 'source_type', 'language'):\n",
    "        weights = pipe.groupby(col).target.agg(['count', 'mean'])\n",
    "        # label_ary, weight_ary = [], []\n",
    "        # pd.Series(list(zip(pipe.msno, pipe[col], pipe.target))).map(leave_one_out)\n",
    "        set_cols(col, weights)\n",
    "    \n",
    "    for col in ('genre_ids', 'artist_name', 'composer', 'lyricist'):\n",
    "        flated, target = utils_nb.flat(pipe, col)\n",
    "        weights = pd.DataFrame({col: flated, 'target': target})\\\n",
    "                    .groupby(col).target.agg(['count', 'mean'])\n",
    "        # label_ary, weight_ary = [], []\n",
    "        # pd.Series(list(zip(pipe.msno, pipe[col], pipe.target))).map(leave_one_out)\n",
    "        set_cols(col, weights)\n",
    "\n",
    "    ret['msno_song_query'] = tuple(pos_pipe.song_id.unique()) if len(pos_pipe) else ('',)\n",
    "    ret['msno_song_query_weights'] = (1.,) * len(ret['msno_song_query'])\n",
    "    return ret\n",
    "\n",
    "msno_extra = {}\n",
    "base_msno = data.groupby('msno').size().index.values\n",
    "def msno_statis(data, col, cal_mean=False):        \n",
    "    if cal_mean:\n",
    "        x = data.groupby(['msno', col]).target.agg(['count', 'mean']).reset_index()\n",
    "        xx = x.groupby('msno').apply(lambda e: {col: tuple(e[col]),\n",
    "                                                'count': tuple(e['count']),\n",
    "                                                'mean': tuple(e['mean'])})\n",
    "    else:\n",
    "        x = data.groupby(['msno', col]).target.agg(['count']).reset_index()\n",
    "        xx = x.groupby('msno').apply(lambda e: {col: tuple(e[col]), 'count': tuple(e['count'])})\n",
    "    xx = xx.reindex(base_msno)\n",
    "    na_conds = xx.isna()\n",
    "    xx[na_conds] = ([{col: ('',), 'count': (1.,), 'mean': (1.,)}] if cal_mean else\\\n",
    "                    [{col: ('',), 'count': (1.,)}]) * len(na_conds)\n",
    "    return extract_col(xx, cal_mean)\n",
    "\n",
    "def extract_col(series, cal_mean=False):\n",
    "    ret = {}\n",
    "    labels_ary, count_ary, mean_ary = [], [], []\n",
    "    def map_fn(e):\n",
    "        labels_ary.append(e[col])\n",
    "        count_ary.append(e['count'])\n",
    "        if cal_mean:\n",
    "            mean_ary.append(e['mean'])\n",
    "    series.map(map_fn)\n",
    "    ret = {f'song_{col}_hist': labels_ary, 'song_{col}_count': count_ary}\n",
    "    if cal_mean:\n",
    "        ret[f'song_{col}_mean']\n",
    "    return ret\n",
    "\n",
    "msno_extra.update(msno_statis('source_system_tab', False))\n",
    "msno_query = data.groupby(['msno', 'song_id']).target.map\n",
    "pd.DataFrame(data=msno_extra, index=base_msno)\n",
    "# msno_extra = data.head(10000).groupby('msno').apply(map_msno)\n",
    "# members.merge(msno_extra, left_on='msno', right_index=True)"
   ]
  },
  {
   "cell_type": "code",
   "execution_count": 135,
   "metadata": {},
   "outputs": [],
   "source": [
    "base_msno = data.groupby('msno').size().index.values\n",
    "query = data.query(\"target == 1\")\\\n",
    "            .groupby('msno')[['song_id', 'target']]\\\n",
    "            .apply(lambda e: {'msno_song_id_hist': tuple(e.song_id), 'msno_song_id_mean': tuple(e.target)})\\\n",
    "            .reindex(base_msno)\n"
   ]
  },
  {
   "cell_type": "code",
   "execution_count": 136,
   "metadata": {},
   "outputs": [
    {
     "data": {
      "text/plain": [
       "msno\n",
       "++5wYjoMgQHoRuD3GbbvmphZbBBwymzv5Q4l8sywtuU=    {'msno_song_id_hist': ('T66MQOMmTS2o5GNUhA/zvm...\n",
       "++AH7m/EQ4iKe6wSlfO/xXAJx50p+fCeTyF90GoE9Pg=    {'msno_song_id_hist': ('WsVr4mozaIQq9Tp8Ks0Iir...\n",
       "++e+jsxuQ8UEnmW40od9Rq3rW7+wAum4wooXyZTKJpk=    {'msno_song_id_hist': ('CwlXSTHwtLnsbz0qidblCj...\n",
       "+/SKX44s4ryWQzYzuV7ZKMXqIKQMN1cPz3M8CJ8CFKU=    {'msno_song_id_hist': ('SiEK8IZqD9pbPgaG2GZWVO...\n",
       "+/UwoUi5+rNj/F6RO6gMrMhOy0oTzs90MWKVNZs4+Wg=    {'msno_song_id_hist': ('bZyAKQIfwBGMQfqC3LbgZm...\n",
       "+/vppV5BoMKMNAk7Bej5rjhKeE6VqrRjUv8EYXoAjyM=    {'msno_song_id_hist': ('qZZF3wSn/K3+GIFSNNdDQ2...\n",
       "+0+XaewkS3za58vHwKCVGwRYRvjig4lTtKDV/tOkzbU=    {'msno_song_id_hist': ('W62TZ0d8Qxy2D0hPu+ZttM...\n",
       "+06pc1V8QfywrGOTNln/7X7Md8dA8fVOIU37n2M5mv8=    {'msno_song_id_hist': ('7zFV1bMlN//PbeZut5RL6S...\n",
       "+0B4aHABar5ltaWDG4M6KCzNxpD6wnsvZpvh+o9KgtE=    {'msno_song_id_hist': ('8Ckw1wek5d6oEsNUoM4P5i...\n",
       "+0CxUZKWtmqPKlW+2VF+hY2rfq+Dh9JM/AqoZJnCr4E=    {'msno_song_id_hist': ('BITuBuNyXQydJcjDL2BUnC...\n",
       "+0U8n45rrg6b5WCy3wpqOUYCwZyLqecr3lux9K6ahMk=    {'msno_song_id_hist': ('JYVuwxqjcGS/asYASPF3WX...\n",
       "+0e12C+p9dzDbOvKjt8eElKH9yZPshAstxjm60XFgSM=    {'msno_song_id_hist': ('X96NEF2NcG6gyKVF0+U3H9...\n",
       "+0fIn7dpNl78+g/0mdltKgWRW9sjv4HjTgrB+RJy1EM=    {'msno_song_id_hist': ('TWQ75oEwSYdWzpRBQCQ3NM...\n",
       "+0fsyPeueRG/vv7UWK0vvhaRK8nRU0P2yK6UrWUvk8o=    {'msno_song_id_hist': ('YN4T/yvvXtYrBVN8KTniei...\n",
       "+0qp8s9V3eIIPGNZpQzmFNOetFXHApbV7WGgVXcisCY=    {'msno_song_id_hist': ('X0SHWXghuuudsZlFtUUETX...\n",
       "+1S8kSyg/yHej4r0ljM3/SiemWL11TWAzKtCNtCBk5Q=    {'msno_song_id_hist': ('MwZaD94L4Wl4APdJSVQF5J...\n",
       "+1a0wTElsAMdYysWZk1uBxeLnjxIc4vB2EznisNlpVw=    {'msno_song_id_hist': ('E+J/N9I1yz4Q4S/qsqLc5a...\n",
       "+1oEQNa1cLpYIqM4+yDwc78kv8dCJWDjkixPPbNRPSk=    {'msno_song_id_hist': ('EbZ2hGt0OO3/D6UM9qZZPm...\n",
       "+1yc8TkVhgxT0sW7QRrPXUmX4Bx3KfKKsiVyWrlHnF0=    {'msno_song_id_hist': ('hZ+sxtLGIE08cptBRzqNO7...\n",
       "+22Q6EpFwjgJhiiGWz7GQUiq5yu0adEEZWH8j/fj19w=    {'msno_song_id_hist': ('DLBDZhOoW7zd7GBV99bi92...\n",
       "+2XBp2p9atTpyVPWac3SEEW41i8Xrnl7Utl/h8T4iOo=    {'msno_song_id_hist': ('gu/lHDjq6qqpU7r3CQkvRp...\n",
       "+2dukLzY+E4IVHMJPFcjBu21pcSArwiZyWG2w5rGUoI=    {'msno_song_id_hist': ('boKg2scbRISlblZtklLv1q...\n",
       "+3+6UDIIlqrd+JwTUBUX/6eQxl4bvbF3O3rsqt/gszs=    {'msno_song_id_hist': ('gA0FODjrvHgrmcy1Umd1x6...\n",
       "+3RfkckBHS0oQrrjJj7p69bdwJak+qzKq0fhFaeXUxA=    {'msno_song_id_hist': ('LHeAHlUuHGJReb9BagImdP...\n",
       "+3TmD1r1LdFDR8jzo4xb+Ra2xio/GLHt3JE1b1sYPAU=    {'msno_song_id_hist': ('W4gOC3iBXV97C05qyVDGIK...\n",
       "+3ZfWe/LGkLA8mmHNP6eKQdwLrREb4E62en8GaCb19E=    {'msno_song_id_hist': ('U9kojfZSKaiWOW94PKh1Ri...\n",
       "+45CbJ0FesVNGJOY36mrrXFm1tkHwNyebp6qAXEc/Go=    {'msno_song_id_hist': ('af9ZdAE4NsSrwyw6Xk6FNT...\n",
       "+46pWXPf+T7o/txKF412S8ThB4D8YdbL6jmWWOcJEx8=    {'msno_song_id_hist': ('WWAmoIR+FWEY6jrA1TVpRf...\n",
       "+47I9cb7nrGOTd//sIc9prH7SEXA3ujNaL+1R5e1Hyo=    {'msno_song_id_hist': ('YOazPkCHgysjxfbOBEntiY...\n",
       "+4X/LV1GF60GfVJRS5941H60DDLfK+7g9PAy6cKpzso=    {'msno_song_id_hist': ('TKX7eBq0pz1oNFlNwFTmqC...\n",
       "                                                                      ...                        \n",
       "zutEEoNXWK8OW6smAgjFb/tAG793V3QAVtTQzkjZzyw=    {'msno_song_id_hist': ('T86YHdD4C9JSc274b1IlMk...\n",
       "zuvAMYvvz3NE0p6BBkB3CgY3culF0QhOyS+llq4R/z8=    {'msno_song_id_hist': ('nt+hY8boPKCRNeo7Oha7ro...\n",
       "zuy5gJb3Cr9d6GOUZF/s5OhM/MGqCveCMz3UItulwq8=    {'msno_song_id_hist': ('BgqjNqzsyCpEGvxyUmktvH...\n",
       "zv8muL1wLbpORXnnEOiUZ6+GYJY3xR5iEDez+W3H5CQ=    {'msno_song_id_hist': ('/gutUqo9qbO25biy4YIYtj...\n",
       "zvwn/kCosrjvzwm0EjP0fkgeQh+SXLlOqypTUwTlLic=    {'msno_song_id_hist': ('a5Wv/LopG8+O7WDd1WJCYk...\n",
       "zw30zrUQUtiWnOYVEj4aMnLb13ENvOYtnnWq3bS9Yl0=    {'msno_song_id_hist': ('cXoHzcT490RnE02IPsARzR...\n",
       "zw82FysqQouUkYU8/7hcrRkQ2ufoU0dPtSIrsF4F+yE=    {'msno_song_id_hist': ('KhvN3eYZFeeyY+zbYKROx3...\n",
       "zwlhmGn0ESVwIt2JVa6GLBqzbFIugFgwLZDVBRWHJrc=    {'msno_song_id_hist': ('CwlXSTHwtLnsbz0qidblCj...\n",
       "zwmC9X0MdW+2o14b0IGpo+dJ+6O9PnextNfmWjEJjqA=    {'msno_song_id_hist': ('YHKtoyNP/xiWIIw1fyIke+...\n",
       "zwnnOtHeooUKwmZC2XN5B/1aTi97HN8iMGpzX5Iq16o=    {'msno_song_id_hist': ('KFs2YCePbthfJd9uOmM7Wf...\n",
       "zwrhOLzmWFgPcd8DyeKAlQ4wYv7QFAem9JDDPzNlQYw=    {'msno_song_id_hist': ('1DZA2QWw4Z57gmKMEVnJaD...\n",
       "zwv9PrDsEvmWWRj+FOWuF5wYcpcAdhC+qUzDj7RG5WQ=    {'msno_song_id_hist': ('xjNTDLPsPmtrVKhaYz5kD7...\n",
       "zx1csbW27owkvdvBRmWIWlLvRXLrsvoWjWWn9v/7Xbs=    {'msno_song_id_hist': ('TXHzj+mjbfRb2KQkB+YD7r...\n",
       "zx51OvMA6lJ+iNxD6lZnUppO8ZKHhuKBIAgGXAObgqQ=    {'msno_song_id_hist': ('eaPPRglyCbzn8dXgLdk/j2...\n",
       "zxHTZQZQ9wUdnNDSCB5O9B4ePgIThkEucEF9s8DumTs=    {'msno_song_id_hist': ('BgqjNqzsyCpEGvxyUmktvH...\n",
       "zxKir3gvnkDncSSrX0zBk7OJJ2zZ9EWS7TEUYDEg+F0=    {'msno_song_id_hist': ('yVSAzLM7D6lisHNUJqpiIV...\n",
       "zxMVg3l0frfflcndzaKZwb9qhEXqzpouqIdwOwiPRuA=    {'msno_song_id_hist': ('xFKrnGnUFPLRJaCh3SKf15...\n",
       "zxP+bamCyM7YEJLAmgcHtIfCtVW0jroJLZX8PAUmL7E=    {'msno_song_id_hist': ('NDtSbLpLMkWyBAhfRimU73...\n",
       "zxXgZXulKy2AI2nhyYU/DjdCxPKKzYnhEiqv7x7/g10=    {'msno_song_id_hist': ('pkKADcjPLFdP9kX40L8dlm...\n",
       "zxkOKlYxQAJefguoHUfGcAsM2zj4hoUH9fjutb/3+98=    {'msno_song_id_hist': ('6T5s7Vh9lfg/ZFql5pg26H...\n",
       "zxp9DaQYuxk471IbGC5mI+ZyhoU/lbfw4cm1cZgHyPE=    {'msno_song_id_hist': ('Hl6EBpUuCKh8k8Mzao5hml...\n",
       "zxyFUnD5Dxv8HMn9Ric1Qp6Q2WfvTpT270Ot6zj/7TI=    {'msno_song_id_hist': ('+SstqMwhQPBQFTPBhLKPT6...\n",
       "zy1OTzCnxegYltHBw1D1pZ8OH41xuwN+N6a+YMB0pwk=    {'msno_song_id_hist': ('T86YHdD4C9JSc274b1IlMk...\n",
       "zyC3oBxuljEDumDnxoCfDnoHnu4qq0bkhUwKRRPneDo=    {'msno_song_id_hist': ('LBnwicJLcepb/l8c68qpMR...\n",
       "zyCQN/h38OmzYOsR6ecE+b7GFkO2eCHoxT1tXoFdUjA=    {'msno_song_id_hist': ('+SstqMwhQPBQFTPBhLKPT6...\n",
       "zyUP22sI9X7z7L6eBsMtC7bK32n4fjE12pgms7NWL6U=    {'msno_song_id_hist': ('lx720SS4EzmbTgk+ZLbhOM...\n",
       "zzH8+kEnDu02NMWBPCjio6wOujBZUs7y9o7AWWcvIGo=    {'msno_song_id_hist': ('sYMCO+6g6PcbzZNnRSRAkw...\n",
       "zzZBJUYXrb168A4Ff4sA8L2iOH0x4ciKdD6WkV53XaE=    {'msno_song_id_hist': ('l0/YdsmFH+IrVjglO9Y+/Q...\n",
       "zzompfSaMamqvjyCMYvgUBwYrxh8fHE40z3f73CQoak=    {'msno_song_id_hist': ('OaEbZ6TJ1NePtNUeEgWsvF...\n",
       "zzqc2ja7z10FtSpagYVcAZXg/gPRq7wcDZuNFj+zJSU=    {'msno_song_id_hist': ('L6w2d0w84FjTvFr+BhMfgu...\n",
       "Length: 23183, dtype: object"
      ]
     },
     "execution_count": 136,
     "metadata": {},
     "output_type": "execute_result"
    }
   ],
   "source": [
    "query.map()"
   ]
  },
  {
   "cell_type": "code",
   "execution_count": null,
   "metadata": {},
   "outputs": [],
   "source": [
    "%%time\n",
    "members.to_hdf('./data/processed/prepared/member.h', key='df')"
   ]
  },
  {
   "cell_type": "markdown",
   "metadata": {},
   "source": [
    "### songs extra columns"
   ]
  },
  {
   "cell_type": "code",
   "execution_count": 3,
   "metadata": {},
   "outputs": [],
   "source": [
    "songs = pd.read_hdf('./data/processed/cleaned/songs.h')\n",
    "tr = pd.read_hdf('./data/processed/cleaned/tr.h')"
   ]
  },
  {
   "cell_type": "code",
   "execution_count": 4,
   "metadata": {},
   "outputs": [],
   "source": [
    "members = pd.read_hdf('./data/processed/prepared/member.h')\n",
    "data = tr.merge(members,  how='left', on='msno')"
   ]
  },
  {
   "cell_type": "code",
   "execution_count": 5,
   "metadata": {},
   "outputs": [
    {
     "name": "stdout",
     "output_type": "stream",
     "text": [
      "Wall time: 9.14 s\n"
     ]
    }
   ],
   "source": [
    "%%time\n",
    "song_extra_cols = [\n",
    "    'song_cc', 'song_xxx', 'song_yy', 'song_clicks', 'song_pplrty', \n",
    "    'song_artist_name_len', 'song_composer_len', 'song_lyricist_len', 'song_genre_ids_len',\n",
    "    'song_source_system_tab_hist', 'song_source_system_tab_weights',\n",
    "    'song_source_screen_name_hist', 'song_source_screen_name_weights',\n",
    "    'song_source_type_hist', 'song_source_type_weights',\n",
    "    'song_msno_age_catg_hist', 'song_msno_age_catg_weights',\n",
    "    'song_gender_hist', 'song_gender_weights',\n",
    "    'song_city_hist', 'song_city_weights'\n",
    "]\n",
    "\n",
    "# Decode isrc\n",
    "songs['song_cc'] = songs.isrc.str.slice(0, 2)\n",
    "songs['song_xxx'] = songs.isrc.str.slice(2, 5)\n",
    "\n",
    "songs['song_yy'] = songs.isrc.str.slice(5, 7).fillna(-1)\\\n",
    "                        .map(lambda e: 2000 + int(e) if e != -1 and int(e) < 18 else 1900 + int(e))\n",
    "songs.loc[songs.song_yy == -1, 'song_yy'] = songs.song_yy[songs.song_yy != -1].median()\n",
    "songs['song_yy'] = songs.song_yy - 1970\n",
    "\n",
    "songs['song_artist_name_len'] = songs.artist_name.map(len)\n",
    "songs['song_composer_len'] = songs.composer.map(len)\n",
    "songs['song_lyricist_len'] = songs.lyricist.map(len)\n",
    "songs['song_genre_ids_len'] = songs.genre_ids.map(len)\n",
    "# songs.drop('isrc', 1, inplace=True)"
   ]
  },
  {
   "cell_type": "code",
   "execution_count": null,
   "metadata": {},
   "outputs": [],
   "source": [
    "%%time\n",
    "def map_songs(pipe):\n",
    "    ret = pd.Series()\n",
    "    # Positive records\n",
    "    pos_pipe = pipe.query('target == 1')\n",
    "    len_ = len(pipe)\n",
    "    \n",
    "    def set_cols(col, weights):\n",
    "        # try: weights = weights.drop('')\n",
    "        # except: pass\n",
    "        if len(weights) > 0:\n",
    "            ret[f'song_{col}_hist'] = tuple(weights.index)\n",
    "            ret[f'song_{col}_weights'] = tuple(weights.values.astype(float))\n",
    "        else:\n",
    "            ret[f'song_{col}_hist'] = ('',)\n",
    "            ret[f'song_{col}_weights'] = (0.,)\n",
    "    \n",
    "    cache['progress'] += 1\n",
    "    if cache['progress'] % 100 == 0:\n",
    "        print(f'\\r {cache[\"progress\"]}/{n_songs} processed.', end='')\n",
    "        \n",
    "    # Count of source_system_tab, source_screen_name, source_type\n",
    "    for col in ('source_system_tab', 'source_screen_name', 'source_type'): \n",
    "        weights = pipe.groupby(col).size()\n",
    "        set_cols(col, weights)\n",
    "        \n",
    "    # Popular of songs by age(categorical), city\n",
    "    for col in ('msno_age_catg', 'city', 'gender'):\n",
    "        weights = pos_pipe.groupby(col).size()\n",
    "        set_cols(col, weights)\n",
    "    return ret\n",
    "\n",
    "basic_stats = data.groupby('song_id').target.agg(['count', 'mean'])\n",
    "basic_stats['song_pplrty'] = basic_stats['mean'] # * basic_stats['sum']\n",
    "basic_stats['song_clicks'] = basic_stats['count']\n",
    "basic_stats.drop(['count', 'mean'], 1, inplace=True)\n",
    "# basic_stats.columns = ['song_pplrty']\n",
    "n_songs = data.song_id.nunique()\n",
    "cache = {'progress': 0}\n",
    "songs_extra = data.groupby('song_id').apply(map_songs) \\\n",
    "                  .merge(basic_stats, how='left', left_index=True, right_index=True)\n",
    "songs = songs.merge(songs_extra, how='left', left_on='song_id', right_index=True)"
   ]
  },
  {
   "cell_type": "code",
   "execution_count": 78,
   "metadata": {},
   "outputs": [
    {
     "name": "stdout",
     "output_type": "stream",
     "text": [
      "Wall time: 1.67 s\n"
     ]
    }
   ],
   "source": [
    "%%time\n",
    "base_key = data.groupby('song_id').size().index.values\n",
    "extras = {}"
   ]
  },
  {
   "cell_type": "code",
   "execution_count": 119,
   "metadata": {},
   "outputs": [
    {
     "name": "stdout",
     "output_type": "stream",
     "text": [
      "Wall time: 22.5 s\n"
     ]
    }
   ],
   "source": [
    "%%time\n",
    "def statistic(col, typ='count'):\n",
    "    if typ == 'count':\n",
    "        x = data.groupby(['song_id', col]).size().reset_index(name='weights')\n",
    "    else:\n",
    "        x = data.groupby(['song_id', col]).target.mean().reset_index(name='weights')\n",
    "    xx = x.groupby('song_id').apply(lambda e: {col: tuple(e[col]), 'weights': tuple(e.weights)})\n",
    "    xx = xx.reindex(base_key)\n",
    "    na_conds = xx.isna()\n",
    "    xx[na_conds] = [{col: ('',), 'weights': (0.,)}] * len(na_conds)\n",
    "    \n",
    "    labels_ary, weights_ary = [], []\n",
    "    def map_fn(e):\n",
    "        labels_ary.append(e[col])\n",
    "        weights_ary.append(e['weights'])\n",
    "    xx.map(map_fn)\n",
    "    return {f'song_{col}_hist': labels_ary, 'song_{col}_weights': weights_ary}\n",
    "\n",
    "# for \n",
    "extras.update(statistic('msno_age_catg'))"
   ]
  },
  {
   "cell_type": "code",
   "execution_count": 120,
   "metadata": {
    "scrolled": true
   },
   "outputs": [
    {
     "data": {
      "text/html": [
       "<div>\n",
       "<style scoped>\n",
       "    .dataframe tbody tr th:only-of-type {\n",
       "        vertical-align: middle;\n",
       "    }\n",
       "\n",
       "    .dataframe tbody tr th {\n",
       "        vertical-align: top;\n",
       "    }\n",
       "\n",
       "    .dataframe thead th {\n",
       "        text-align: right;\n",
       "    }\n",
       "</style>\n",
       "<table border=\"1\" class=\"dataframe\">\n",
       "  <thead>\n",
       "    <tr style=\"text-align: right;\">\n",
       "      <th></th>\n",
       "      <th>song_msno_age_catg_hist</th>\n",
       "      <th>song_{col}_weights</th>\n",
       "    </tr>\n",
       "  </thead>\n",
       "  <tbody>\n",
       "    <tr>\n",
       "      <th>+++2AEoM0d8iZTdbnAjUm35bnGKGMXdZJSv4rrWK6JQ=</th>\n",
       "      <td>(,)</td>\n",
       "      <td>(0.0,)</td>\n",
       "    </tr>\n",
       "    <tr>\n",
       "      <th>++/ACCkEN/+VtgrJxEqeRgRmV4y8pcarDJ9T/yRAi1E=</th>\n",
       "      <td>(,)</td>\n",
       "      <td>(0.0,)</td>\n",
       "    </tr>\n",
       "    <tr>\n",
       "      <th>++/lJNswCU+za2pYB0cWIbGL5UzWIKtfweX20+GImZA=</th>\n",
       "      <td>(30-40,)</td>\n",
       "      <td>(1,)</td>\n",
       "    </tr>\n",
       "    <tr>\n",
       "      <th>++4/NK5qpbTZWln/6UmykB8cLfRTCCj8E36IKZVzBjM=</th>\n",
       "      <td>(,)</td>\n",
       "      <td>(0.0,)</td>\n",
       "    </tr>\n",
       "    <tr>\n",
       "      <th>++4Ihbdp0juQ9ldp9DysOL1WTLHIiawg7cnBTn55I/k=</th>\n",
       "      <td>(30-40,)</td>\n",
       "      <td>(1,)</td>\n",
       "    </tr>\n",
       "    <tr>\n",
       "      <th>++732ZgaVBo177j83D3Iht3ZeHUctfXg/y47RKvmc3k=</th>\n",
       "      <td>(30-40,)</td>\n",
       "      <td>(1,)</td>\n",
       "    </tr>\n",
       "    <tr>\n",
       "      <th>++7GdTgp8zbQLYOki7hVPEOHpu+KLZClsGrGiEuL2uI=</th>\n",
       "      <td>(10-20, 20-30, 30-40, 40-60)</td>\n",
       "      <td>(2, 9, 7, 1)</td>\n",
       "    </tr>\n",
       "    <tr>\n",
       "      <th>++9CllWTafshZc7T8X7cvNfUxgDe0WYrJ3TOen026j4=</th>\n",
       "      <td>(30-40,)</td>\n",
       "      <td>(1,)</td>\n",
       "    </tr>\n",
       "    <tr>\n",
       "      <th>++9STZwz5v1kTToOlmexz9ZsuoghLuwY5lCQpa//lRs=</th>\n",
       "      <td>(,)</td>\n",
       "      <td>(0.0,)</td>\n",
       "    </tr>\n",
       "    <tr>\n",
       "      <th>++A2uqzDg/vUWu0x/cBalbddrVIJXggKKgQCkEnXmkI=</th>\n",
       "      <td>(30-40, 40-60)</td>\n",
       "      <td>(1, 1)</td>\n",
       "    </tr>\n",
       "    <tr>\n",
       "      <th>++CfKs1t1wU1t0q0UxCdRqGoDpToqgMPmYytklaqo9o=</th>\n",
       "      <td>(20-30, 30-40)</td>\n",
       "      <td>(8, 1)</td>\n",
       "    </tr>\n",
       "    <tr>\n",
       "      <th>++EP5+TFokXDxXEhKSyUnGr04r4VYWYnuSJwvWXic/M=</th>\n",
       "      <td>(,)</td>\n",
       "      <td>(0.0,)</td>\n",
       "    </tr>\n",
       "    <tr>\n",
       "      <th>++FzY6zSfsFwM4DJFirHadkNwepv6qpBgji+6GcJ2/c=</th>\n",
       "      <td>(20-30,)</td>\n",
       "      <td>(1,)</td>\n",
       "    </tr>\n",
       "    <tr>\n",
       "      <th>++GbLWZvA7LtAQycHNI0/XvyUufZthW9oIf51oyML3k=</th>\n",
       "      <td>(,)</td>\n",
       "      <td>(0.0,)</td>\n",
       "    </tr>\n",
       "    <tr>\n",
       "      <th>++IrpeciSQ6NWOp78CLvSLjcJVwBecNHnYzvOrxFAPE=</th>\n",
       "      <td>(20-30, 40-60)</td>\n",
       "      <td>(1, 1)</td>\n",
       "    </tr>\n",
       "    <tr>\n",
       "      <th>++JIM2H/Tcwm7a4UfY7rETSUzvGp5NUacOz5HxxyNTA=</th>\n",
       "      <td>(10-20,)</td>\n",
       "      <td>(1,)</td>\n",
       "    </tr>\n",
       "    <tr>\n",
       "      <th>++JV6V/560LsknHy0vuqo5+4O30xpcOsiw0vLsiWeIE=</th>\n",
       "      <td>(30-40,)</td>\n",
       "      <td>(1,)</td>\n",
       "    </tr>\n",
       "    <tr>\n",
       "      <th>++JnoK4BpUEfSsdS3ocjjffJIVvPrzlRqDn1qqdj1ZA=</th>\n",
       "      <td>(,)</td>\n",
       "      <td>(0.0,)</td>\n",
       "    </tr>\n",
       "    <tr>\n",
       "      <th>++KAa2gmG/JGlaEb7lOuGxV5WX4BCQmOM9glon+fo3U=</th>\n",
       "      <td>(,)</td>\n",
       "      <td>(0.0,)</td>\n",
       "    </tr>\n",
       "    <tr>\n",
       "      <th>++KGqDWMqEmN67WVo03B8gCxy5KTjKuczNiOW7DZaPs=</th>\n",
       "      <td>(,)</td>\n",
       "      <td>(0.0,)</td>\n",
       "    </tr>\n",
       "    <tr>\n",
       "      <th>++Mhbq1oLyjy02nBnweVsFWfmIAqNO8SlMZEjdzjVWs=</th>\n",
       "      <td>(40-60,)</td>\n",
       "      <td>(1,)</td>\n",
       "    </tr>\n",
       "    <tr>\n",
       "      <th>++NP2gO99EW6w6sm4E1XP20nx8FhbBxsK9fOvbPHwd0=</th>\n",
       "      <td>(,)</td>\n",
       "      <td>(0.0,)</td>\n",
       "    </tr>\n",
       "    <tr>\n",
       "      <th>++NsLGg8A6+cdpx0ahdFMncYlyiulAyd1Foms9szsgM=</th>\n",
       "      <td>(,)</td>\n",
       "      <td>(0.0,)</td>\n",
       "    </tr>\n",
       "    <tr>\n",
       "      <th>++OAO4xg27nDnqoaaxDZJK1sCG2VsesZTz+uR19iiKg=</th>\n",
       "      <td>(60-80,)</td>\n",
       "      <td>(1,)</td>\n",
       "    </tr>\n",
       "    <tr>\n",
       "      <th>++OmXJbQTRn3pQdiViV+o1+Oio4M3mKGximW7DGhivo=</th>\n",
       "      <td>(20-30,)</td>\n",
       "      <td>(2,)</td>\n",
       "    </tr>\n",
       "    <tr>\n",
       "      <th>++QYBUGIUXrSsYfBPDW4PN5V6wnlJzLYCwP+FS9gMnY=</th>\n",
       "      <td>(40-60,)</td>\n",
       "      <td>(1,)</td>\n",
       "    </tr>\n",
       "    <tr>\n",
       "      <th>++QfzyM/LiFaCuvkDFK/wJe13ZEMgTgAaVCcolo7nnY=</th>\n",
       "      <td>(10-20, 20-30, 30-40, 40-60, 60-80)</td>\n",
       "      <td>(167, 532, 267, 117, 4)</td>\n",
       "    </tr>\n",
       "    <tr>\n",
       "      <th>++R6gkTXSRPJqjrI0mrl5GJJjcG/X5tEk0mNTz55Byg=</th>\n",
       "      <td>(,)</td>\n",
       "      <td>(0.0,)</td>\n",
       "    </tr>\n",
       "    <tr>\n",
       "      <th>++S4cGammI+dZSfCPiRgUEUvPlIvhirqYbLEi0Fxh1s=</th>\n",
       "      <td>(,)</td>\n",
       "      <td>(0.0,)</td>\n",
       "    </tr>\n",
       "    <tr>\n",
       "      <th>++SOjvuNdcJ2VPPDasiGaVDMhOVK+UK39C6/cMH0sDc=</th>\n",
       "      <td>(,)</td>\n",
       "      <td>(0.0,)</td>\n",
       "    </tr>\n",
       "    <tr>\n",
       "      <th>...</th>\n",
       "      <td>...</td>\n",
       "      <td>...</td>\n",
       "    </tr>\n",
       "    <tr>\n",
       "      <th>zzYz/zNGrnGDxtjSE3So+2fckVHjo4TuHm3GQ2WMoow=</th>\n",
       "      <td>(10-20, 20-30, 30-40, 40-60)</td>\n",
       "      <td>(2, 17, 4, 2)</td>\n",
       "    </tr>\n",
       "    <tr>\n",
       "      <th>zzaVMc6q0P7Mh5xtcLuVpdfhr2yyFmM5BD/z1ME/TKE=</th>\n",
       "      <td>(,)</td>\n",
       "      <td>(0.0,)</td>\n",
       "    </tr>\n",
       "    <tr>\n",
       "      <th>zzb/1Cbq02JEeNYseqSL4P8z38AOORVB7T+CQCZduuE=</th>\n",
       "      <td>(20-30,)</td>\n",
       "      <td>(1,)</td>\n",
       "    </tr>\n",
       "    <tr>\n",
       "      <th>zzbCo1jv8pvMwOb8RGlxHDN9CdQ3OVKaPEwhkbES9jY=</th>\n",
       "      <td>(20-30,)</td>\n",
       "      <td>(1,)</td>\n",
       "    </tr>\n",
       "    <tr>\n",
       "      <th>zzcg43/Hpizf8URgOF1TpRlr663N5mv8CaKKqhjDTXM=</th>\n",
       "      <td>(40-60,)</td>\n",
       "      <td>(1,)</td>\n",
       "    </tr>\n",
       "    <tr>\n",
       "      <th>zzczMi6KM2zWiFejIsJDDc9kYBfmSyDzIfwtUHPHvfg=</th>\n",
       "      <td>(20-30, 30-40, 40-60, 60-80)</td>\n",
       "      <td>(1, 1, 1, 1)</td>\n",
       "    </tr>\n",
       "    <tr>\n",
       "      <th>zzfOfT2K8/muudj+Ot23Ucq0Y+EeJp4Iv/qaToqE18E=</th>\n",
       "      <td>(30-40,)</td>\n",
       "      <td>(1,)</td>\n",
       "    </tr>\n",
       "    <tr>\n",
       "      <th>zzhKmqLpoOsaHH4fD0Un34qX6WRnkikEKy1p4Y5N5gc=</th>\n",
       "      <td>(,)</td>\n",
       "      <td>(0.0,)</td>\n",
       "    </tr>\n",
       "    <tr>\n",
       "      <th>zzjKexepP2u/nB7Fx+ghAb+iMqepTVeno2ULP2hudao=</th>\n",
       "      <td>(30-40,)</td>\n",
       "      <td>(1,)</td>\n",
       "    </tr>\n",
       "    <tr>\n",
       "      <th>zzjh+mx8IKGmcxhZUDb7z76ZcuUjo1dChr+SxAsM9X8=</th>\n",
       "      <td>(20-30,)</td>\n",
       "      <td>(1,)</td>\n",
       "    </tr>\n",
       "    <tr>\n",
       "      <th>zzk/81Umx1mxbI914cGrYIrUGwCOIfAFvYIEdqypjdU=</th>\n",
       "      <td>(20-30, 30-40)</td>\n",
       "      <td>(2, 1)</td>\n",
       "    </tr>\n",
       "    <tr>\n",
       "      <th>zzk/ahisto9RQgKAEBzzSkkpRYrMtUpH7fbePHyoAkY=</th>\n",
       "      <td>(40-60,)</td>\n",
       "      <td>(1,)</td>\n",
       "    </tr>\n",
       "    <tr>\n",
       "      <th>zzkUULnSf8GbnEsoW/P0dn+SARAN8O8O3auSEgu46Tw=</th>\n",
       "      <td>(30-40,)</td>\n",
       "      <td>(1,)</td>\n",
       "    </tr>\n",
       "    <tr>\n",
       "      <th>zzl4HMzSbgXfWJkj40A6yBOO5iUZAlbbhzP35nIF3e8=</th>\n",
       "      <td>(10-20, 20-30, 30-40, 40-60)</td>\n",
       "      <td>(2, 7, 1, 1)</td>\n",
       "    </tr>\n",
       "    <tr>\n",
       "      <th>zzmTK18lH3b2dZoc+8bkAHI5+VTQNwPeCxiN1MzOeDY=</th>\n",
       "      <td>(40-60,)</td>\n",
       "      <td>(1,)</td>\n",
       "    </tr>\n",
       "    <tr>\n",
       "      <th>zzmgweXAi6AbNucpiw7g2z/N8JD1feCclDVo976Nqm4=</th>\n",
       "      <td>(20-30,)</td>\n",
       "      <td>(1,)</td>\n",
       "    </tr>\n",
       "    <tr>\n",
       "      <th>zznm672i3DzAJ85w1Nk1gJv4QbB1OiXxnjr8ky+jI8M=</th>\n",
       "      <td>(20-30,)</td>\n",
       "      <td>(1,)</td>\n",
       "    </tr>\n",
       "    <tr>\n",
       "      <th>zznrbAaaf5GakiY11hxh5n+ofefNOsQ/TiQP91bBMtI=</th>\n",
       "      <td>(10-20,)</td>\n",
       "      <td>(1,)</td>\n",
       "    </tr>\n",
       "    <tr>\n",
       "      <th>zznuHa14iW1mMrCEQUMY2SgRxR9xiJ/gW2dKB+KeAsM=</th>\n",
       "      <td>(,)</td>\n",
       "      <td>(0.0,)</td>\n",
       "    </tr>\n",
       "    <tr>\n",
       "      <th>zznxMV0cjB7aGaS+fEiuh2sd/SekUGP/iSh4LxBwD4M=</th>\n",
       "      <td>(10-20, 20-30, 30-40)</td>\n",
       "      <td>(1, 5, 1)</td>\n",
       "    </tr>\n",
       "    <tr>\n",
       "      <th>zzoE7+U/Ss/ulhUz8anOZFeUwrWXFnyRzXnYbkaK58U=</th>\n",
       "      <td>(20-30, 40-60)</td>\n",
       "      <td>(1, 1)</td>\n",
       "    </tr>\n",
       "    <tr>\n",
       "      <th>zzp6TYFxcRbuX0CwcMJiqMl8OW9kmoJvIU8DAfz5xs8=</th>\n",
       "      <td>(,)</td>\n",
       "      <td>(0.0,)</td>\n",
       "    </tr>\n",
       "    <tr>\n",
       "      <th>zzqCJ/xvRiG6GBv5YGXp/mDN2h3K/68gt6t5byTjcpY=</th>\n",
       "      <td>(40-60,)</td>\n",
       "      <td>(1,)</td>\n",
       "    </tr>\n",
       "    <tr>\n",
       "      <th>zzqFu2/dTaFzWZ7YdB7SN0aILlpbVoonyeULaLBW4mE=</th>\n",
       "      <td>(20-30, 30-40, 40-60)</td>\n",
       "      <td>(3, 10, 4)</td>\n",
       "    </tr>\n",
       "    <tr>\n",
       "      <th>zztzrWbaiNpznnZFTyWfc56Xsyd1sXcRtih3kJ13OFs=</th>\n",
       "      <td>(30-40,)</td>\n",
       "      <td>(3,)</td>\n",
       "    </tr>\n",
       "    <tr>\n",
       "      <th>zzu3LS+/DuIiG2KkZCuU6goVDbT3dyy57R03yfJLjkU=</th>\n",
       "      <td>(,)</td>\n",
       "      <td>(0.0,)</td>\n",
       "    </tr>\n",
       "    <tr>\n",
       "      <th>zzuRe+6ax33MGabaCk1ThVqCfXtTtm1ASvd92F4VgQY=</th>\n",
       "      <td>(10-20, 30-40)</td>\n",
       "      <td>(1, 1)</td>\n",
       "    </tr>\n",
       "    <tr>\n",
       "      <th>zzvfk6Np17ieMkvG9CQNxdDYQENCVLXuYx5VWrNhCvg=</th>\n",
       "      <td>(10-20,)</td>\n",
       "      <td>(1,)</td>\n",
       "    </tr>\n",
       "    <tr>\n",
       "      <th>zzwCHrZc0TezilVRRTbsiWY6ORNpBq1Zv8GGtHT2xlk=</th>\n",
       "      <td>(,)</td>\n",
       "      <td>(0.0,)</td>\n",
       "    </tr>\n",
       "    <tr>\n",
       "      <th>zzzkIR9d2ggpCr5ofvGZu0JFdjScoIxMgcV3dR4yKh0=</th>\n",
       "      <td>(40-60,)</td>\n",
       "      <td>(1,)</td>\n",
       "    </tr>\n",
       "  </tbody>\n",
       "</table>\n",
       "<p>254537 rows × 2 columns</p>\n",
       "</div>"
      ],
      "text/plain": [
       "                                                          song_msno_age_catg_hist  \\\n",
       "+++2AEoM0d8iZTdbnAjUm35bnGKGMXdZJSv4rrWK6JQ=                                  (,)   \n",
       "++/ACCkEN/+VtgrJxEqeRgRmV4y8pcarDJ9T/yRAi1E=                                  (,)   \n",
       "++/lJNswCU+za2pYB0cWIbGL5UzWIKtfweX20+GImZA=                             (30-40,)   \n",
       "++4/NK5qpbTZWln/6UmykB8cLfRTCCj8E36IKZVzBjM=                                  (,)   \n",
       "++4Ihbdp0juQ9ldp9DysOL1WTLHIiawg7cnBTn55I/k=                             (30-40,)   \n",
       "++732ZgaVBo177j83D3Iht3ZeHUctfXg/y47RKvmc3k=                             (30-40,)   \n",
       "++7GdTgp8zbQLYOki7hVPEOHpu+KLZClsGrGiEuL2uI=         (10-20, 20-30, 30-40, 40-60)   \n",
       "++9CllWTafshZc7T8X7cvNfUxgDe0WYrJ3TOen026j4=                             (30-40,)   \n",
       "++9STZwz5v1kTToOlmexz9ZsuoghLuwY5lCQpa//lRs=                                  (,)   \n",
       "++A2uqzDg/vUWu0x/cBalbddrVIJXggKKgQCkEnXmkI=                       (30-40, 40-60)   \n",
       "++CfKs1t1wU1t0q0UxCdRqGoDpToqgMPmYytklaqo9o=                       (20-30, 30-40)   \n",
       "++EP5+TFokXDxXEhKSyUnGr04r4VYWYnuSJwvWXic/M=                                  (,)   \n",
       "++FzY6zSfsFwM4DJFirHadkNwepv6qpBgji+6GcJ2/c=                             (20-30,)   \n",
       "++GbLWZvA7LtAQycHNI0/XvyUufZthW9oIf51oyML3k=                                  (,)   \n",
       "++IrpeciSQ6NWOp78CLvSLjcJVwBecNHnYzvOrxFAPE=                       (20-30, 40-60)   \n",
       "++JIM2H/Tcwm7a4UfY7rETSUzvGp5NUacOz5HxxyNTA=                             (10-20,)   \n",
       "++JV6V/560LsknHy0vuqo5+4O30xpcOsiw0vLsiWeIE=                             (30-40,)   \n",
       "++JnoK4BpUEfSsdS3ocjjffJIVvPrzlRqDn1qqdj1ZA=                                  (,)   \n",
       "++KAa2gmG/JGlaEb7lOuGxV5WX4BCQmOM9glon+fo3U=                                  (,)   \n",
       "++KGqDWMqEmN67WVo03B8gCxy5KTjKuczNiOW7DZaPs=                                  (,)   \n",
       "++Mhbq1oLyjy02nBnweVsFWfmIAqNO8SlMZEjdzjVWs=                             (40-60,)   \n",
       "++NP2gO99EW6w6sm4E1XP20nx8FhbBxsK9fOvbPHwd0=                                  (,)   \n",
       "++NsLGg8A6+cdpx0ahdFMncYlyiulAyd1Foms9szsgM=                                  (,)   \n",
       "++OAO4xg27nDnqoaaxDZJK1sCG2VsesZTz+uR19iiKg=                             (60-80,)   \n",
       "++OmXJbQTRn3pQdiViV+o1+Oio4M3mKGximW7DGhivo=                             (20-30,)   \n",
       "++QYBUGIUXrSsYfBPDW4PN5V6wnlJzLYCwP+FS9gMnY=                             (40-60,)   \n",
       "++QfzyM/LiFaCuvkDFK/wJe13ZEMgTgAaVCcolo7nnY=  (10-20, 20-30, 30-40, 40-60, 60-80)   \n",
       "++R6gkTXSRPJqjrI0mrl5GJJjcG/X5tEk0mNTz55Byg=                                  (,)   \n",
       "++S4cGammI+dZSfCPiRgUEUvPlIvhirqYbLEi0Fxh1s=                                  (,)   \n",
       "++SOjvuNdcJ2VPPDasiGaVDMhOVK+UK39C6/cMH0sDc=                                  (,)   \n",
       "...                                                                           ...   \n",
       "zzYz/zNGrnGDxtjSE3So+2fckVHjo4TuHm3GQ2WMoow=         (10-20, 20-30, 30-40, 40-60)   \n",
       "zzaVMc6q0P7Mh5xtcLuVpdfhr2yyFmM5BD/z1ME/TKE=                                  (,)   \n",
       "zzb/1Cbq02JEeNYseqSL4P8z38AOORVB7T+CQCZduuE=                             (20-30,)   \n",
       "zzbCo1jv8pvMwOb8RGlxHDN9CdQ3OVKaPEwhkbES9jY=                             (20-30,)   \n",
       "zzcg43/Hpizf8URgOF1TpRlr663N5mv8CaKKqhjDTXM=                             (40-60,)   \n",
       "zzczMi6KM2zWiFejIsJDDc9kYBfmSyDzIfwtUHPHvfg=         (20-30, 30-40, 40-60, 60-80)   \n",
       "zzfOfT2K8/muudj+Ot23Ucq0Y+EeJp4Iv/qaToqE18E=                             (30-40,)   \n",
       "zzhKmqLpoOsaHH4fD0Un34qX6WRnkikEKy1p4Y5N5gc=                                  (,)   \n",
       "zzjKexepP2u/nB7Fx+ghAb+iMqepTVeno2ULP2hudao=                             (30-40,)   \n",
       "zzjh+mx8IKGmcxhZUDb7z76ZcuUjo1dChr+SxAsM9X8=                             (20-30,)   \n",
       "zzk/81Umx1mxbI914cGrYIrUGwCOIfAFvYIEdqypjdU=                       (20-30, 30-40)   \n",
       "zzk/ahisto9RQgKAEBzzSkkpRYrMtUpH7fbePHyoAkY=                             (40-60,)   \n",
       "zzkUULnSf8GbnEsoW/P0dn+SARAN8O8O3auSEgu46Tw=                             (30-40,)   \n",
       "zzl4HMzSbgXfWJkj40A6yBOO5iUZAlbbhzP35nIF3e8=         (10-20, 20-30, 30-40, 40-60)   \n",
       "zzmTK18lH3b2dZoc+8bkAHI5+VTQNwPeCxiN1MzOeDY=                             (40-60,)   \n",
       "zzmgweXAi6AbNucpiw7g2z/N8JD1feCclDVo976Nqm4=                             (20-30,)   \n",
       "zznm672i3DzAJ85w1Nk1gJv4QbB1OiXxnjr8ky+jI8M=                             (20-30,)   \n",
       "zznrbAaaf5GakiY11hxh5n+ofefNOsQ/TiQP91bBMtI=                             (10-20,)   \n",
       "zznuHa14iW1mMrCEQUMY2SgRxR9xiJ/gW2dKB+KeAsM=                                  (,)   \n",
       "zznxMV0cjB7aGaS+fEiuh2sd/SekUGP/iSh4LxBwD4M=                (10-20, 20-30, 30-40)   \n",
       "zzoE7+U/Ss/ulhUz8anOZFeUwrWXFnyRzXnYbkaK58U=                       (20-30, 40-60)   \n",
       "zzp6TYFxcRbuX0CwcMJiqMl8OW9kmoJvIU8DAfz5xs8=                                  (,)   \n",
       "zzqCJ/xvRiG6GBv5YGXp/mDN2h3K/68gt6t5byTjcpY=                             (40-60,)   \n",
       "zzqFu2/dTaFzWZ7YdB7SN0aILlpbVoonyeULaLBW4mE=                (20-30, 30-40, 40-60)   \n",
       "zztzrWbaiNpznnZFTyWfc56Xsyd1sXcRtih3kJ13OFs=                             (30-40,)   \n",
       "zzu3LS+/DuIiG2KkZCuU6goVDbT3dyy57R03yfJLjkU=                                  (,)   \n",
       "zzuRe+6ax33MGabaCk1ThVqCfXtTtm1ASvd92F4VgQY=                       (10-20, 30-40)   \n",
       "zzvfk6Np17ieMkvG9CQNxdDYQENCVLXuYx5VWrNhCvg=                             (10-20,)   \n",
       "zzwCHrZc0TezilVRRTbsiWY6ORNpBq1Zv8GGtHT2xlk=                                  (,)   \n",
       "zzzkIR9d2ggpCr5ofvGZu0JFdjScoIxMgcV3dR4yKh0=                             (40-60,)   \n",
       "\n",
       "                                                   song_{col}_weights  \n",
       "+++2AEoM0d8iZTdbnAjUm35bnGKGMXdZJSv4rrWK6JQ=                   (0.0,)  \n",
       "++/ACCkEN/+VtgrJxEqeRgRmV4y8pcarDJ9T/yRAi1E=                   (0.0,)  \n",
       "++/lJNswCU+za2pYB0cWIbGL5UzWIKtfweX20+GImZA=                     (1,)  \n",
       "++4/NK5qpbTZWln/6UmykB8cLfRTCCj8E36IKZVzBjM=                   (0.0,)  \n",
       "++4Ihbdp0juQ9ldp9DysOL1WTLHIiawg7cnBTn55I/k=                     (1,)  \n",
       "++732ZgaVBo177j83D3Iht3ZeHUctfXg/y47RKvmc3k=                     (1,)  \n",
       "++7GdTgp8zbQLYOki7hVPEOHpu+KLZClsGrGiEuL2uI=             (2, 9, 7, 1)  \n",
       "++9CllWTafshZc7T8X7cvNfUxgDe0WYrJ3TOen026j4=                     (1,)  \n",
       "++9STZwz5v1kTToOlmexz9ZsuoghLuwY5lCQpa//lRs=                   (0.0,)  \n",
       "++A2uqzDg/vUWu0x/cBalbddrVIJXggKKgQCkEnXmkI=                   (1, 1)  \n",
       "++CfKs1t1wU1t0q0UxCdRqGoDpToqgMPmYytklaqo9o=                   (8, 1)  \n",
       "++EP5+TFokXDxXEhKSyUnGr04r4VYWYnuSJwvWXic/M=                   (0.0,)  \n",
       "++FzY6zSfsFwM4DJFirHadkNwepv6qpBgji+6GcJ2/c=                     (1,)  \n",
       "++GbLWZvA7LtAQycHNI0/XvyUufZthW9oIf51oyML3k=                   (0.0,)  \n",
       "++IrpeciSQ6NWOp78CLvSLjcJVwBecNHnYzvOrxFAPE=                   (1, 1)  \n",
       "++JIM2H/Tcwm7a4UfY7rETSUzvGp5NUacOz5HxxyNTA=                     (1,)  \n",
       "++JV6V/560LsknHy0vuqo5+4O30xpcOsiw0vLsiWeIE=                     (1,)  \n",
       "++JnoK4BpUEfSsdS3ocjjffJIVvPrzlRqDn1qqdj1ZA=                   (0.0,)  \n",
       "++KAa2gmG/JGlaEb7lOuGxV5WX4BCQmOM9glon+fo3U=                   (0.0,)  \n",
       "++KGqDWMqEmN67WVo03B8gCxy5KTjKuczNiOW7DZaPs=                   (0.0,)  \n",
       "++Mhbq1oLyjy02nBnweVsFWfmIAqNO8SlMZEjdzjVWs=                     (1,)  \n",
       "++NP2gO99EW6w6sm4E1XP20nx8FhbBxsK9fOvbPHwd0=                   (0.0,)  \n",
       "++NsLGg8A6+cdpx0ahdFMncYlyiulAyd1Foms9szsgM=                   (0.0,)  \n",
       "++OAO4xg27nDnqoaaxDZJK1sCG2VsesZTz+uR19iiKg=                     (1,)  \n",
       "++OmXJbQTRn3pQdiViV+o1+Oio4M3mKGximW7DGhivo=                     (2,)  \n",
       "++QYBUGIUXrSsYfBPDW4PN5V6wnlJzLYCwP+FS9gMnY=                     (1,)  \n",
       "++QfzyM/LiFaCuvkDFK/wJe13ZEMgTgAaVCcolo7nnY=  (167, 532, 267, 117, 4)  \n",
       "++R6gkTXSRPJqjrI0mrl5GJJjcG/X5tEk0mNTz55Byg=                   (0.0,)  \n",
       "++S4cGammI+dZSfCPiRgUEUvPlIvhirqYbLEi0Fxh1s=                   (0.0,)  \n",
       "++SOjvuNdcJ2VPPDasiGaVDMhOVK+UK39C6/cMH0sDc=                   (0.0,)  \n",
       "...                                                               ...  \n",
       "zzYz/zNGrnGDxtjSE3So+2fckVHjo4TuHm3GQ2WMoow=            (2, 17, 4, 2)  \n",
       "zzaVMc6q0P7Mh5xtcLuVpdfhr2yyFmM5BD/z1ME/TKE=                   (0.0,)  \n",
       "zzb/1Cbq02JEeNYseqSL4P8z38AOORVB7T+CQCZduuE=                     (1,)  \n",
       "zzbCo1jv8pvMwOb8RGlxHDN9CdQ3OVKaPEwhkbES9jY=                     (1,)  \n",
       "zzcg43/Hpizf8URgOF1TpRlr663N5mv8CaKKqhjDTXM=                     (1,)  \n",
       "zzczMi6KM2zWiFejIsJDDc9kYBfmSyDzIfwtUHPHvfg=             (1, 1, 1, 1)  \n",
       "zzfOfT2K8/muudj+Ot23Ucq0Y+EeJp4Iv/qaToqE18E=                     (1,)  \n",
       "zzhKmqLpoOsaHH4fD0Un34qX6WRnkikEKy1p4Y5N5gc=                   (0.0,)  \n",
       "zzjKexepP2u/nB7Fx+ghAb+iMqepTVeno2ULP2hudao=                     (1,)  \n",
       "zzjh+mx8IKGmcxhZUDb7z76ZcuUjo1dChr+SxAsM9X8=                     (1,)  \n",
       "zzk/81Umx1mxbI914cGrYIrUGwCOIfAFvYIEdqypjdU=                   (2, 1)  \n",
       "zzk/ahisto9RQgKAEBzzSkkpRYrMtUpH7fbePHyoAkY=                     (1,)  \n",
       "zzkUULnSf8GbnEsoW/P0dn+SARAN8O8O3auSEgu46Tw=                     (1,)  \n",
       "zzl4HMzSbgXfWJkj40A6yBOO5iUZAlbbhzP35nIF3e8=             (2, 7, 1, 1)  \n",
       "zzmTK18lH3b2dZoc+8bkAHI5+VTQNwPeCxiN1MzOeDY=                     (1,)  \n",
       "zzmgweXAi6AbNucpiw7g2z/N8JD1feCclDVo976Nqm4=                     (1,)  \n",
       "zznm672i3DzAJ85w1Nk1gJv4QbB1OiXxnjr8ky+jI8M=                     (1,)  \n",
       "zznrbAaaf5GakiY11hxh5n+ofefNOsQ/TiQP91bBMtI=                     (1,)  \n",
       "zznuHa14iW1mMrCEQUMY2SgRxR9xiJ/gW2dKB+KeAsM=                   (0.0,)  \n",
       "zznxMV0cjB7aGaS+fEiuh2sd/SekUGP/iSh4LxBwD4M=                (1, 5, 1)  \n",
       "zzoE7+U/Ss/ulhUz8anOZFeUwrWXFnyRzXnYbkaK58U=                   (1, 1)  \n",
       "zzp6TYFxcRbuX0CwcMJiqMl8OW9kmoJvIU8DAfz5xs8=                   (0.0,)  \n",
       "zzqCJ/xvRiG6GBv5YGXp/mDN2h3K/68gt6t5byTjcpY=                     (1,)  \n",
       "zzqFu2/dTaFzWZ7YdB7SN0aILlpbVoonyeULaLBW4mE=               (3, 10, 4)  \n",
       "zztzrWbaiNpznnZFTyWfc56Xsyd1sXcRtih3kJ13OFs=                     (3,)  \n",
       "zzu3LS+/DuIiG2KkZCuU6goVDbT3dyy57R03yfJLjkU=                   (0.0,)  \n",
       "zzuRe+6ax33MGabaCk1ThVqCfXtTtm1ASvd92F4VgQY=                   (1, 1)  \n",
       "zzvfk6Np17ieMkvG9CQNxdDYQENCVLXuYx5VWrNhCvg=                     (1,)  \n",
       "zzwCHrZc0TezilVRRTbsiWY6ORNpBq1Zv8GGtHT2xlk=                   (0.0,)  \n",
       "zzzkIR9d2ggpCr5ofvGZu0JFdjScoIxMgcV3dR4yKh0=                     (1,)  \n",
       "\n",
       "[254537 rows x 2 columns]"
      ]
     },
     "execution_count": 120,
     "metadata": {},
     "output_type": "execute_result"
    }
   ],
   "source": [
    "pd.DataFrame(data=extras, index=base_key)"
   ]
  },
  {
   "cell_type": "code",
   "execution_count": 120,
   "metadata": {},
   "outputs": [
    {
     "name": "stderr",
     "output_type": "stream",
     "text": [
      "d:\\python\\anaconda3\\envs\\py3_6\\lib\\site-packages\\pandas\\core\\generic.py:1471: PerformanceWarning: \n",
      "your performance may suffer as PyTables will pickle object types that it cannot\n",
      "map directly to c-types [inferred_type->mixed,key->block2_values] [items->['song_id', 'genre_ids', 'artist_name', 'composer', 'lyricist', 'isrc', 'song_cc', 'song_xxx']]\n",
      "\n",
      "  return pytables.to_hdf(path_or_buf, key, self, **kwargs)\n"
     ]
    },
    {
     "name": "stdout",
     "output_type": "stream",
     "text": [
      "Wall time: 19.6 s\n"
     ]
    }
   ],
   "source": [
    "%%time\n",
    "songs.to_hdf('./data/processed/prepared/songs.h', key='df')"
   ]
  },
  {
   "cell_type": "code",
   "execution_count": null,
   "metadata": {},
   "outputs": [],
   "source": [
    "# Write to pickle for speed\n",
    "tr.to_hdf('./data/processed/cleaned/tr.h', key='df')\n",
    "vl.to_hdf('./data/processed/cleaned/vl.h', key='df')"
   ]
  },
  {
   "cell_type": "markdown",
   "metadata": {},
   "source": [
    "## Phase2: Fit"
   ]
  },
  {
   "cell_type": "markdown",
   "metadata": {},
   "source": [
    "### load latest persistent data"
   ]
  },
  {
   "cell_type": "code",
   "execution_count": 26,
   "metadata": {},
   "outputs": [
    {
     "data": {
      "text/plain": [
       "female    0.333333\n",
       "male      0.666667\n",
       "dtype: float64"
      ]
     },
     "execution_count": 26,
     "metadata": {},
     "output_type": "execute_result"
    }
   ],
   "source": [
    "# Update data status for add columns of songs\n",
    "memgers = pd.read_hdf('./data/processed/prepared/member.h')\n",
    "songs = pd.read_hdf('./data/processed/prepared/songs.h')\n",
    "tr = pd.read_hdf('./data/processed/prepared/tr.h')\n",
    "data = tr.merge(members, how='left', on='msno').merge(songs, how='left', on='song_id')"
   ]
  },
  {
   "cell_type": "code",
   "execution_count": 16,
   "metadata": {},
   "outputs": [
    {
     "name": "stdout",
     "output_type": "stream",
     "text": [
      "Wall time: 51.4 s\n"
     ]
    }
   ],
   "source": [
    "%%time\n",
    "sep_fn = lambda e: e\n",
    "enc_dict = {\n",
    "    'song_id': utils.CatgMapper(),\n",
    "    'age': utils.CatgMapper(),\n",
    "    'genre': utils.CatgMapper(is_multi=True, sep=sep_fn, outlier=''),\n",
    "    'artist': utils.CatgMapper(is_multi=True, sep=sep_fn, outlier=''),\n",
    "    'composer': utils.CatgMapper(is_multi=True, sep=sep_fn, outlier=''),\n",
    "    'lyricist': utils.CatgMapper(is_multi=True, sep=sep_fn, outlier=''),\n",
    "    'source_system_tab': utils.CatgMapper(),\n",
    "    'source_screen_name': utils.CatgMapper(),\n",
    "    'source_type': utils.CatgMapper(),\n",
    "    'language':  utils.CatgMapper(outlier=0),\n",
    "    'city': utils.CatgMapper(),\n",
    "    'cc': utils.CatgMapper(),\n",
    "    'xxx': utils.CatgMapper(),\n",
    "    'gender': utils.CatgMapper(),\n",
    "    'registered_via': utils.CatgMapper()\n",
    "}\n",
    "date_fmt = '%Y%m%d'\n",
    "columns = ['msno', 'song_id', 'source_system_tab', 'source_screen_name', 'source_type', 'city',\n",
    " 'gender', 'registered_via', 'registration_init_time', 'expiration_date', 'song_length', 'genre_ids',\n",
    " 'artist_name', 'composer', 'lyricist', 'language', 'isrc', 'cc', 'xxx', 'yy', 'target']\n",
    "# Binning numeric feature age into categorical feature, \n",
    "# and take [age <= 0 or 81 <= age] as outlier"
   ]
  },
  {
   "cell_type": "code",
   "execution_count": 92,
   "metadata": {
    "scrolled": true
   },
   "outputs": [
    {
     "name": "stdout",
     "output_type": "stream",
     "text": [
      "Wall time: 1min 45s\n"
     ]
    }
   ],
   "source": [
    "%%time\n",
    "# Univariate\n",
    "data['age'] = enc_dict['age'].fit_transform(data['age'])\n",
    "data['song_id'] = enc_dict['song_id'].fit_transform(data['song_id'])\n",
    "data['source_system_tab'] = enc_dict['source_system_tab'].fit_transform(data['source_system_tab'])\n",
    "data['source_screen_name'] = enc_dict['source_screen_name'].fit_transform(data['source_screen_name'])\n",
    "data['source_type'] = enc_dict['source_type'].fit_transform(data['source_type'])\n",
    "data['language'] = enc_dict['language'].fit_transform(data['language'])\n",
    "data['city'] = enc_dict['city'].fit_transform(data['city'])\n",
    "data['gender'] = enc_dict['gender'].fit_transform(data['gender'])\n",
    "data['registered_via'] = enc_dict['registered_via'].fit_transform(data['registered_via'])\n",
    "\n",
    "# Multivariate\n",
    "data['genre_ids'] = enc_dict['genre_ids'].fit_transform(data['genre_ids'])\n",
    "data['artist_name'] = enc_dict['artist_name'].fit_transform(data['artist_name'])\n",
    "data['composer'] = enc_dict['composer'].fit_transform(data['composer'])\n",
    "data['lyricist'] = enc_dict['lyricist'].fit_transform(data['lyricist'])"
   ]
  },
  {
   "cell_type": "code",
   "execution_count": null,
   "metadata": {},
   "outputs": [
    {
     "name": "stdout",
     "output_type": "stream",
     "text": [
      "init logger instance ...\n"
     ]
    }
   ],
   "source": [
    "enc = utils.CounterEncoder(is_multi=True, sep='|')\n",
    "a = enc.fit_transform(data.genre_ids[:1000])\n",
    "# data.genre_ids"
   ]
  },
  {
   "cell_type": "code",
   "execution_count": 67,
   "metadata": {
    "collapsed": true
   },
   "outputs": [
    {
     "ename": "TypeError",
     "evalue": "Failed to convert object of type <class 'list'> to Tensor. Contents: ['359', '1259', '1259', '1019', '1011', '1259', '465', '1011', '2022', '465', '465', '465', '465', '458', '465|458', '465', '465', '458', '465', '465', '458', '465', '465', '2022', '2022', '2022', '465', '465', '465', nan]. Consider casting elements to a supported type.",
     "output_type": "error",
     "traceback": [
      "\u001b[1;31m---------------------------------------------------------------------------\u001b[0m",
      "\u001b[1;31mTypeError\u001b[0m                                 Traceback (most recent call last)",
      "\u001b[1;32md:\\python\\anaconda3\\envs\\py3_6\\lib\\site-packages\\tensorflow\\python\\framework\\tensor_util.py\u001b[0m in \u001b[0;36mmake_tensor_proto\u001b[1;34m(values, dtype, shape, verify_shape)\u001b[0m\n\u001b[0;32m    516\u001b[0m     \u001b[1;32mtry\u001b[0m\u001b[1;33m:\u001b[0m\u001b[1;33m\u001b[0m\u001b[0m\n\u001b[1;32m--> 517\u001b[1;33m       \u001b[0mstr_values\u001b[0m \u001b[1;33m=\u001b[0m \u001b[1;33m[\u001b[0m\u001b[0mcompat\u001b[0m\u001b[1;33m.\u001b[0m\u001b[0mas_bytes\u001b[0m\u001b[1;33m(\u001b[0m\u001b[0mx\u001b[0m\u001b[1;33m)\u001b[0m \u001b[1;32mfor\u001b[0m \u001b[0mx\u001b[0m \u001b[1;32min\u001b[0m \u001b[0mproto_values\u001b[0m\u001b[1;33m]\u001b[0m\u001b[1;33m\u001b[0m\u001b[0m\n\u001b[0m\u001b[0;32m    518\u001b[0m     \u001b[1;32mexcept\u001b[0m \u001b[0mTypeError\u001b[0m\u001b[1;33m:\u001b[0m\u001b[1;33m\u001b[0m\u001b[0m\n",
      "\u001b[1;32md:\\python\\anaconda3\\envs\\py3_6\\lib\\site-packages\\tensorflow\\python\\framework\\tensor_util.py\u001b[0m in \u001b[0;36m<listcomp>\u001b[1;34m(.0)\u001b[0m\n\u001b[0;32m    516\u001b[0m     \u001b[1;32mtry\u001b[0m\u001b[1;33m:\u001b[0m\u001b[1;33m\u001b[0m\u001b[0m\n\u001b[1;32m--> 517\u001b[1;33m       \u001b[0mstr_values\u001b[0m \u001b[1;33m=\u001b[0m \u001b[1;33m[\u001b[0m\u001b[0mcompat\u001b[0m\u001b[1;33m.\u001b[0m\u001b[0mas_bytes\u001b[0m\u001b[1;33m(\u001b[0m\u001b[0mx\u001b[0m\u001b[1;33m)\u001b[0m \u001b[1;32mfor\u001b[0m \u001b[0mx\u001b[0m \u001b[1;32min\u001b[0m \u001b[0mproto_values\u001b[0m\u001b[1;33m]\u001b[0m\u001b[1;33m\u001b[0m\u001b[0m\n\u001b[0m\u001b[0;32m    518\u001b[0m     \u001b[1;32mexcept\u001b[0m \u001b[0mTypeError\u001b[0m\u001b[1;33m:\u001b[0m\u001b[1;33m\u001b[0m\u001b[0m\n",
      "\u001b[1;32md:\\python\\anaconda3\\envs\\py3_6\\lib\\site-packages\\tensorflow\\python\\util\\compat.py\u001b[0m in \u001b[0;36mas_bytes\u001b[1;34m(bytes_or_text, encoding)\u001b[0m\n\u001b[0;32m     66\u001b[0m     raise TypeError('Expected binary or unicode string, got %r' %\n\u001b[1;32m---> 67\u001b[1;33m                     (bytes_or_text,))\n\u001b[0m\u001b[0;32m     68\u001b[0m \u001b[1;33m\u001b[0m\u001b[0m\n",
      "\u001b[1;31mTypeError\u001b[0m: Expected binary or unicode string, got nan",
      "\nDuring handling of the above exception, another exception occurred:\n",
      "\u001b[1;31mTypeError\u001b[0m                                 Traceback (most recent call last)",
      "\u001b[1;32m<ipython-input-67-61cd28dd9578>\u001b[0m in \u001b[0;36m<module>\u001b[1;34m()\u001b[0m\n\u001b[0;32m      5\u001b[0m \u001b[1;32mwith\u001b[0m \u001b[0mtf\u001b[0m\u001b[1;33m.\u001b[0m\u001b[0mGraph\u001b[0m\u001b[1;33m(\u001b[0m\u001b[1;33m)\u001b[0m\u001b[1;33m.\u001b[0m\u001b[0mas_default\u001b[0m\u001b[1;33m(\u001b[0m\u001b[1;33m)\u001b[0m\u001b[1;33m:\u001b[0m\u001b[1;33m\u001b[0m\u001b[0m\n\u001b[0;32m      6\u001b[0m     \u001b[1;31m# ds = tf.data.Dataset.from_tensor_slices({'col1': [1, 2, 3], 'col2': [(1, 2), (0, 0), (0, 0)]})\u001b[0m\u001b[1;33m\u001b[0m\u001b[1;33m\u001b[0m\u001b[0m\n\u001b[1;32m----> 7\u001b[1;33m     \u001b[0mds\u001b[0m \u001b[1;33m=\u001b[0m \u001b[0mtf\u001b[0m\u001b[1;33m.\u001b[0m\u001b[0mdata\u001b[0m\u001b[1;33m.\u001b[0m\u001b[0mDataset\u001b[0m\u001b[1;33m.\u001b[0m\u001b[0mfrom_tensor_slices\u001b[0m\u001b[1;33m(\u001b[0m\u001b[0ma\u001b[0m\u001b[1;33m.\u001b[0m\u001b[0mhead\u001b[0m\u001b[1;33m(\u001b[0m\u001b[1;36m30\u001b[0m\u001b[1;33m)\u001b[0m\u001b[1;33m[\u001b[0m\u001b[1;33m[\u001b[0m\u001b[1;34m'genre_ids'\u001b[0m\u001b[1;33m,\u001b[0m \u001b[1;34m'target'\u001b[0m\u001b[1;33m]\u001b[0m\u001b[1;33m]\u001b[0m\u001b[1;33m.\u001b[0m\u001b[0mto_dict\u001b[0m\u001b[1;33m(\u001b[0m\u001b[1;34m'list'\u001b[0m\u001b[1;33m)\u001b[0m\u001b[1;33m)\u001b[0m\u001b[1;33m\u001b[0m\u001b[0m\n\u001b[0m\u001b[0;32m      8\u001b[0m     \u001b[0mds\u001b[0m \u001b[1;33m=\u001b[0m \u001b[0mds\u001b[0m\u001b[1;33m.\u001b[0m\u001b[0mmap\u001b[0m\u001b[1;33m(\u001b[0m\u001b[0mmap_fn\u001b[0m\u001b[1;33m)\u001b[0m\u001b[1;33m\u001b[0m\u001b[0m\n\u001b[0;32m      9\u001b[0m     \u001b[0mds\u001b[0m \u001b[1;33m=\u001b[0m \u001b[0mds\u001b[0m\u001b[1;33m.\u001b[0m\u001b[0mmake_one_shot_iterator\u001b[0m\u001b[1;33m(\u001b[0m\u001b[1;33m)\u001b[0m\u001b[1;33m.\u001b[0m\u001b[0mget_next\u001b[0m\u001b[1;33m(\u001b[0m\u001b[1;33m)\u001b[0m\u001b[1;33m\u001b[0m\u001b[0m\n",
      "\u001b[1;32md:\\python\\anaconda3\\envs\\py3_6\\lib\\site-packages\\tensorflow\\python\\data\\ops\\dataset_ops.py\u001b[0m in \u001b[0;36mfrom_tensor_slices\u001b[1;34m(tensors)\u001b[0m\n\u001b[0;32m    233\u001b[0m       \u001b[0mDataset\u001b[0m\u001b[1;33m:\u001b[0m \u001b[0mA\u001b[0m\u001b[0;31m \u001b[0m\u001b[0;31m`\u001b[0m\u001b[0mDataset\u001b[0m\u001b[0;31m`\u001b[0m\u001b[1;33m.\u001b[0m\u001b[1;33m\u001b[0m\u001b[0m\n\u001b[0;32m    234\u001b[0m     \"\"\"\n\u001b[1;32m--> 235\u001b[1;33m     \u001b[1;32mreturn\u001b[0m \u001b[0mTensorSliceDataset\u001b[0m\u001b[1;33m(\u001b[0m\u001b[0mtensors\u001b[0m\u001b[1;33m)\u001b[0m\u001b[1;33m\u001b[0m\u001b[0m\n\u001b[0m\u001b[0;32m    236\u001b[0m \u001b[1;33m\u001b[0m\u001b[0m\n\u001b[0;32m    237\u001b[0m   \u001b[1;33m@\u001b[0m\u001b[0mstaticmethod\u001b[0m\u001b[1;33m\u001b[0m\u001b[0m\n",
      "\u001b[1;32md:\\python\\anaconda3\\envs\\py3_6\\lib\\site-packages\\tensorflow\\python\\data\\ops\\dataset_ops.py\u001b[0m in \u001b[0;36m__init__\u001b[1;34m(self, tensors)\u001b[0m\n\u001b[0;32m   1028\u001b[0m           if sparse_tensor_lib.is_sparse(t) else ops.convert_to_tensor(\n\u001b[0;32m   1029\u001b[0m               t, name=\"component_%d\" % i)\n\u001b[1;32m-> 1030\u001b[1;33m           \u001b[1;32mfor\u001b[0m \u001b[0mi\u001b[0m\u001b[1;33m,\u001b[0m \u001b[0mt\u001b[0m \u001b[1;32min\u001b[0m \u001b[0menumerate\u001b[0m\u001b[1;33m(\u001b[0m\u001b[0mnest\u001b[0m\u001b[1;33m.\u001b[0m\u001b[0mflatten\u001b[0m\u001b[1;33m(\u001b[0m\u001b[0mtensors\u001b[0m\u001b[1;33m)\u001b[0m\u001b[1;33m)\u001b[0m\u001b[1;33m\u001b[0m\u001b[0m\n\u001b[0m\u001b[0;32m   1031\u001b[0m       ])\n\u001b[0;32m   1032\u001b[0m       \u001b[0mflat_tensors\u001b[0m \u001b[1;33m=\u001b[0m \u001b[0mnest\u001b[0m\u001b[1;33m.\u001b[0m\u001b[0mflatten\u001b[0m\u001b[1;33m(\u001b[0m\u001b[0mtensors\u001b[0m\u001b[1;33m)\u001b[0m\u001b[1;33m\u001b[0m\u001b[0m\n",
      "\u001b[1;32md:\\python\\anaconda3\\envs\\py3_6\\lib\\site-packages\\tensorflow\\python\\data\\ops\\dataset_ops.py\u001b[0m in \u001b[0;36m<listcomp>\u001b[1;34m(.0)\u001b[0m\n\u001b[0;32m   1028\u001b[0m           if sparse_tensor_lib.is_sparse(t) else ops.convert_to_tensor(\n\u001b[0;32m   1029\u001b[0m               t, name=\"component_%d\" % i)\n\u001b[1;32m-> 1030\u001b[1;33m           \u001b[1;32mfor\u001b[0m \u001b[0mi\u001b[0m\u001b[1;33m,\u001b[0m \u001b[0mt\u001b[0m \u001b[1;32min\u001b[0m \u001b[0menumerate\u001b[0m\u001b[1;33m(\u001b[0m\u001b[0mnest\u001b[0m\u001b[1;33m.\u001b[0m\u001b[0mflatten\u001b[0m\u001b[1;33m(\u001b[0m\u001b[0mtensors\u001b[0m\u001b[1;33m)\u001b[0m\u001b[1;33m)\u001b[0m\u001b[1;33m\u001b[0m\u001b[0m\n\u001b[0m\u001b[0;32m   1031\u001b[0m       ])\n\u001b[0;32m   1032\u001b[0m       \u001b[0mflat_tensors\u001b[0m \u001b[1;33m=\u001b[0m \u001b[0mnest\u001b[0m\u001b[1;33m.\u001b[0m\u001b[0mflatten\u001b[0m\u001b[1;33m(\u001b[0m\u001b[0mtensors\u001b[0m\u001b[1;33m)\u001b[0m\u001b[1;33m\u001b[0m\u001b[0m\n",
      "\u001b[1;32md:\\python\\anaconda3\\envs\\py3_6\\lib\\site-packages\\tensorflow\\python\\framework\\ops.py\u001b[0m in \u001b[0;36mconvert_to_tensor\u001b[1;34m(value, dtype, name, preferred_dtype)\u001b[0m\n\u001b[0;32m   1012\u001b[0m       \u001b[0mname\u001b[0m\u001b[1;33m=\u001b[0m\u001b[0mname\u001b[0m\u001b[1;33m,\u001b[0m\u001b[1;33m\u001b[0m\u001b[0m\n\u001b[0;32m   1013\u001b[0m       \u001b[0mpreferred_dtype\u001b[0m\u001b[1;33m=\u001b[0m\u001b[0mpreferred_dtype\u001b[0m\u001b[1;33m,\u001b[0m\u001b[1;33m\u001b[0m\u001b[0m\n\u001b[1;32m-> 1014\u001b[1;33m       as_ref=False)\n\u001b[0m\u001b[0;32m   1015\u001b[0m \u001b[1;33m\u001b[0m\u001b[0m\n\u001b[0;32m   1016\u001b[0m \u001b[1;33m\u001b[0m\u001b[0m\n",
      "\u001b[1;32md:\\python\\anaconda3\\envs\\py3_6\\lib\\site-packages\\tensorflow\\python\\framework\\ops.py\u001b[0m in \u001b[0;36minternal_convert_to_tensor\u001b[1;34m(value, dtype, name, as_ref, preferred_dtype, ctx)\u001b[0m\n\u001b[0;32m   1102\u001b[0m \u001b[1;33m\u001b[0m\u001b[0m\n\u001b[0;32m   1103\u001b[0m     \u001b[1;32mif\u001b[0m \u001b[0mret\u001b[0m \u001b[1;32mis\u001b[0m \u001b[1;32mNone\u001b[0m\u001b[1;33m:\u001b[0m\u001b[1;33m\u001b[0m\u001b[0m\n\u001b[1;32m-> 1104\u001b[1;33m       \u001b[0mret\u001b[0m \u001b[1;33m=\u001b[0m \u001b[0mconversion_func\u001b[0m\u001b[1;33m(\u001b[0m\u001b[0mvalue\u001b[0m\u001b[1;33m,\u001b[0m \u001b[0mdtype\u001b[0m\u001b[1;33m=\u001b[0m\u001b[0mdtype\u001b[0m\u001b[1;33m,\u001b[0m \u001b[0mname\u001b[0m\u001b[1;33m=\u001b[0m\u001b[0mname\u001b[0m\u001b[1;33m,\u001b[0m \u001b[0mas_ref\u001b[0m\u001b[1;33m=\u001b[0m\u001b[0mas_ref\u001b[0m\u001b[1;33m)\u001b[0m\u001b[1;33m\u001b[0m\u001b[0m\n\u001b[0m\u001b[0;32m   1105\u001b[0m \u001b[1;33m\u001b[0m\u001b[0m\n\u001b[0;32m   1106\u001b[0m     \u001b[1;32mif\u001b[0m \u001b[0mret\u001b[0m \u001b[1;32mis\u001b[0m \u001b[0mNotImplemented\u001b[0m\u001b[1;33m:\u001b[0m\u001b[1;33m\u001b[0m\u001b[0m\n",
      "\u001b[1;32md:\\python\\anaconda3\\envs\\py3_6\\lib\\site-packages\\tensorflow\\python\\framework\\constant_op.py\u001b[0m in \u001b[0;36m_constant_tensor_conversion_function\u001b[1;34m(v, dtype, name, as_ref)\u001b[0m\n\u001b[0;32m    233\u001b[0m                                          as_ref=False):\n\u001b[0;32m    234\u001b[0m   \u001b[0m_\u001b[0m \u001b[1;33m=\u001b[0m \u001b[0mas_ref\u001b[0m\u001b[1;33m\u001b[0m\u001b[0m\n\u001b[1;32m--> 235\u001b[1;33m   \u001b[1;32mreturn\u001b[0m \u001b[0mconstant\u001b[0m\u001b[1;33m(\u001b[0m\u001b[0mv\u001b[0m\u001b[1;33m,\u001b[0m \u001b[0mdtype\u001b[0m\u001b[1;33m=\u001b[0m\u001b[0mdtype\u001b[0m\u001b[1;33m,\u001b[0m \u001b[0mname\u001b[0m\u001b[1;33m=\u001b[0m\u001b[0mname\u001b[0m\u001b[1;33m)\u001b[0m\u001b[1;33m\u001b[0m\u001b[0m\n\u001b[0m\u001b[0;32m    236\u001b[0m \u001b[1;33m\u001b[0m\u001b[0m\n\u001b[0;32m    237\u001b[0m \u001b[1;33m\u001b[0m\u001b[0m\n",
      "\u001b[1;32md:\\python\\anaconda3\\envs\\py3_6\\lib\\site-packages\\tensorflow\\python\\framework\\constant_op.py\u001b[0m in \u001b[0;36mconstant\u001b[1;34m(value, dtype, shape, name, verify_shape)\u001b[0m\n\u001b[0;32m    212\u001b[0m   tensor_value.tensor.CopyFrom(\n\u001b[0;32m    213\u001b[0m       tensor_util.make_tensor_proto(\n\u001b[1;32m--> 214\u001b[1;33m           value, dtype=dtype, shape=shape, verify_shape=verify_shape))\n\u001b[0m\u001b[0;32m    215\u001b[0m   \u001b[0mdtype_value\u001b[0m \u001b[1;33m=\u001b[0m \u001b[0mattr_value_pb2\u001b[0m\u001b[1;33m.\u001b[0m\u001b[0mAttrValue\u001b[0m\u001b[1;33m(\u001b[0m\u001b[0mtype\u001b[0m\u001b[1;33m=\u001b[0m\u001b[0mtensor_value\u001b[0m\u001b[1;33m.\u001b[0m\u001b[0mtensor\u001b[0m\u001b[1;33m.\u001b[0m\u001b[0mdtype\u001b[0m\u001b[1;33m)\u001b[0m\u001b[1;33m\u001b[0m\u001b[0m\n\u001b[0;32m    216\u001b[0m   const_tensor = g.create_op(\n",
      "\u001b[1;32md:\\python\\anaconda3\\envs\\py3_6\\lib\\site-packages\\tensorflow\\python\\framework\\tensor_util.py\u001b[0m in \u001b[0;36mmake_tensor_proto\u001b[1;34m(values, dtype, shape, verify_shape)\u001b[0m\n\u001b[0;32m    519\u001b[0m       raise TypeError(\"Failed to convert object of type %s to Tensor. \"\n\u001b[0;32m    520\u001b[0m                       \u001b[1;34m\"Contents: %s. Consider casting elements to a \"\u001b[0m\u001b[1;33m\u001b[0m\u001b[0m\n\u001b[1;32m--> 521\u001b[1;33m                       \"supported type.\" % (type(values), values))\n\u001b[0m\u001b[0;32m    522\u001b[0m     \u001b[0mtensor_proto\u001b[0m\u001b[1;33m.\u001b[0m\u001b[0mstring_val\u001b[0m\u001b[1;33m.\u001b[0m\u001b[0mextend\u001b[0m\u001b[1;33m(\u001b[0m\u001b[0mstr_values\u001b[0m\u001b[1;33m)\u001b[0m\u001b[1;33m\u001b[0m\u001b[0m\n\u001b[0;32m    523\u001b[0m     \u001b[1;32mreturn\u001b[0m \u001b[0mtensor_proto\u001b[0m\u001b[1;33m\u001b[0m\u001b[0m\n",
      "\u001b[1;31mTypeError\u001b[0m: Failed to convert object of type <class 'list'> to Tensor. Contents: ['359', '1259', '1259', '1019', '1011', '1259', '465', '1011', '2022', '465', '465', '465', '465', '458', '465|458', '465', '465', '458', '465', '465', '458', '465', '465', '2022', '2022', '2022', '465', '465', '465', nan]. Consider casting elements to a supported type."
     ]
    }
   ],
   "source": [
    "def map_fn(pipe):\n",
    "    pipe['genre_ids'] = tf.string_split([pipe['genre_ids']], delimiter='|').values\n",
    "    return pipe\n",
    "\n",
    "with tf.Graph().as_default():\n",
    "    # ds = tf.data.Dataset.from_tensor_slices({'col1': [1, 2, 3], 'col2': [(1, 2), (0, 0), (0, 0)]})\n",
    "    ds = tf.data.Dataset.from_tensor_slices(a.head(30)[['genre_ids', 'target']].to_dict('list'))\n",
    "    ds = ds.map(map_fn)\n",
    "    ds = ds.make_one_shot_iterator().get_next()\n",
    "    # ds = tf.data.Dataset.from_generator(\n",
    "    #     gen_fn, (tf.int32, tf.int32), (tf.TensorShape([None]), tf.TensorShape([]))\n",
    "    # )\n",
    "    with tf.Session() as sess:\n",
    "        print( sess.run(ds) )\n",
    "        pass"
   ]
  },
  {
   "cell_type": "code",
   "execution_count": 40,
   "metadata": {
    "scrolled": true
   },
   "outputs": [
    {
     "name": "stdout",
     "output_type": "stream",
     "text": [
      "                               composer_list  len\n",
      "0                     (Dan Smith, Mark Crew)    2\n",
      "1    (N. Jones、W. Adams、J. Lordan、D. Ingle,)    1\n",
      "2                           (Kwadwo Donkoh,)    1\n",
      "3  (Brett Young, Justin Ebach, Kelly Archer)    3\n",
      "4                 (Adnan Khan, Sidney Selby)    2\n"
     ]
    },
    {
     "data": {
      "text/plain": [
       "('1011,Kenny Rogers,Roger Bowling',\n",
       " '139,G.E.M.鄧紫棋,Kaci Brown',\n",
       " '139,Oldies 101,William Mickey Stevenson',\n",
       " '947,Music-Themes,,,-1\\nXPGjUo/wPuYRoFYVB25kQ9TX5zP6Izcllmez7PPXB4I=,241673,465,Janet Jackson,Janet Jackson',\n",
       " 'Aaron Gillespie',\n",
       " 'Brian Carroll,,52\\n0KjXAae7rj9kfrIGhAoYBWJoQBqjtzTQMKMprbnStrs=,229506,,Monday Kiz,,,31\\nvoMgKcLbhYr1GIsEuMvT+Rjkib1qvY4WPSmw/mc8j1c=,402703,940,Guy Sweens,,,-1\\nPy+ROjXqGeJtSyQu1GWUEdvOkbEoKmBowX9lCq+E1Ow=,203593,1259,Pigeon John,,,52\\n8jxho4ldBqaadnEiNjhgF8keOFBc4z6Gy6zTMKvw7Tg=,245856,465,Bertie Higgins,Bertie Higgins/Sonny Limbo,Bertie Higgins/Sonny Limbo,52\\nImz3KL8KDLWIvNu/ytrFODhUvNCfziDLNdQP3OBIH/c=,347834,726,Hillsong Kids Junior,,,-1\\nmRh2QjHNk3tcjKszLXpnCWUgREMRk6H4RDOdCn48T8w=,249568,465,Melanie C,Rick Nowels',\n",
       " 'Charles Twong',\n",
       " 'Chauncey Hollis,,52\\n9sYIx+29PAF7BOk4loE2xYPSdeg7zmpGwbbInOyVhVo=,172849,921,Randy Newman,Axwell',\n",
       " 'Christopher Dudley,,52\\nOi7rlCO6VbZZ5UqcSyg8vDVvFjMQYeV+iYAbxB6LSd0=,169227,2122,Sarah Vaughan,R. Turk',\n",
       " 'DJ Hi-Tek,,-1\\nn0Ar4B4BrTYOJrJowAp5EtN97Cy/wMwoyjTURwlUME4=,273531,1138,Willie Colon,,,52\\n3+OBQRyVxirbtD79O0oyj/kVwcq7A8ghJCRs+LoA0ow=,248592,139,Donell Jones,Donell Jones',\n",
       " 'David Gamson,,3\\nwKi9MBH2TDdgx58A4PJYV06KdIC2tgQxM/vgn/Fx+Zc=,204986,2022,Underoath,Spencer Chamberlain',\n",
       " 'F. Ahlert,,-1\\nI+XRnXrWeNfqyL5HzYMX+zOfY5zCiPKNj1mPm0I1SpE=,390420,947,清淨身心靈,,,-1\\nEWiFM7uHc/BbjQ1Iabe8umdy2auYBT9dmiweJfT8TsA=,307575,880,Kirk Franklin,Kirk Franklin,Kirk Franklin,-1\\n5johB6MHMHJ3BAF6i7Fi2F1cGhRitfJ3FdexnRTyhvM=,353639,465,李克勤 (Hacken Lee),Unknown,,24\\na0S959XXxdHq02RRyJIYYysamjxwJNmoCnkadrWVrjA=,246317,465,Phil Collins,,,52\\nJX0XnRezKAvD0iIwbOQs7QMJP1jn4bRMKgnH6Tu6MBo=,212601,437,sumire sumomo (sumire sumomo),sumire sumomo,sumire sumomo,17\\no6G9PiWV55Shat8JNnNUp5IsK4U+dKQEg05PgSt4GZc=,241812,465,林一峰 (Chet Lam),,,24\\nq56DHVHETlI2i23Uol52mIH04w1Vk7M9ObL8BBa80pk=,66873,873,Top 48 Kids Songs,,,-1\\nbo+kTVU6S1dC0ksT88FZLBUf8ax+jBWL6oOFU4rScEo=,306085,2122,Gonzalo Rubalcaba,Gonzalo Rubalcaba,,-1\\n8dxHCuB+GHbt8uNwIRB2hv6yyeaDt3SHoeD6Vac5244=,189568,1152',\n",
       " 'Grant Brandell',\n",
       " 'Harriet Wheeler,,52\\nuikoKkrpGjT7nI7NfPSYCil3+czMjV++wsMC3yw1Tes=,234382,873,蒲公英合唱團,林穎茜,星雲大師,-1\\n5mLj4ohciexr7zZJ2lT9uQy7bNvgFpUoxhaehUxN9Dg=,143151,,Webb Pierce,,,52\\nOe23hwBJDzXY9zWip1HV8CS68Va29Jp+8mYkdEweN7I=,50712,921,Various Artists,Michelle Lewis',\n",
       " 'Ivy Jo Hunter,,52\\nwZQoXpIt+2n5+I1MRr+707OAWi1llYoPaLF6mVBLPpI=,313364,,董事長樂團 (The Chairman),,,10\\npDnpsHW/koNBO1aQuyynqYIYST9kBQm1WTalTk8vWE8=,116427,2122,CÉCILE McLORIN SALVANT,Cecile McLorin Salvant,,52\\nm7Ia7XWdHyAvBap14HZyW/c0zfEJL9snISGb719vDyQ=,199784,1259,YG,Keenon Jackson',\n",
       " 'J. Choung',\n",
       " 'J. Reeves',\n",
       " 'J. Roh',\n",
       " 'James Harris III',\n",
       " 'James Smith',\n",
       " 'Jong Hyun (12.5%) Harvey Mason',\n",
       " 'Joni Mitchell',\n",
       " \"Jr. / Steven,,31\\nw1zMqFE+5ynBzZil7EKEh2HvNHDLNvnlQ+al7cRBqjw=,281913,465,Madonna,,,52\\nRcGEZpOfi+Y9D7JIIcUtyGP2MddfnhVzhfKKhEAJAtM=,210372,2022,Guns N' Roses,Caram Costanzo\",\n",
       " 'Junnnnn Sato,17\\nGQK/aYFW8elL+4o7Qo1zNSQmjYDKJfacYT2+QKWQ71U=,137044,786,鋼琴饗宴,,,-1\\nU8cqqcX++Gf8YL/qrrbq/SknEgHlpwYZ5TPxMgwakio=,160031,465',\n",
       " 'K. Nishimura',\n",
       " 'Kamaal Ibn Fareed',\n",
       " 'Kay Hanley,,52\\n6LW3BZ1jm7spunKba4mWqkiNjspNPyhPRzhZ/eTo7wI=,121858,465,Carl Perkins,Carl Perkins,,52\\ntCFykwJO0+lwn26rRMXml4RQk6uT9GQ+kWahKLfznZQ=,217583,465,Westlife,Andreas Quiz\" Romdhane',\n",
       " 'Korean Lyrics by Kim',\n",
       " 'Lucio Quarantotto,,52\\n7E08nITOZ8J3jReI8/cn2lUQm8vcv52gTRhce+V8pFU=,192261,465,Andrew Oldham Orchestra,Andrew Loog Oldham,,52\\nOD/dXjvHoGh/RZH2v+zm92JhFJptTt902DPGq0oxpnM=,301923,2022,SCANDAL,Hajimetal,Hajimetal',\n",
       " 'Marc Nelkin',\n",
       " 'Marvin Gaye',\n",
       " 'Melanie Chisholm,,52\\ntoozU/3UBRkzsNtZ8V4GXYHcb3zTNWVszGXKSP1x4qc=,212601,451,譚詠麟 (Alan Tam),Teddy Robin,,24\\nSHpvIVpYFo+X19ccnFsuIQzNnidHdMHeg9sYzcP88LQ=,358400,2122,Marcus Miller,,,52\\nM7SSF0XHF9kbCQV6g3Du2XWD5pl0F4v6LVeLPkloAPs=,197834,1609,PRXZM,,,52\\nK2XSof258aFDY0w7x4HUhcdOCI1fcAnFVmd0AGq6aSw=,316023,958,Ludovico Einaudi,,,-1\\nod8r5XB+/CMny67UOFp+4pL9idnShsRtmmSaSLQILVg=,241859,465,Hudson Thames,Hudson Thames',\n",
       " 'Miliyah,17\\n1rQwAm2OQOWZIpJNQzElg7Xf5Gg4K5V1pCvJHiLV1mI=,212787,1011,HEARTLAND,,,52\\nbFWaWWksxSBSsiC0tZVJGpZ42juERWnMQPi8h5/1ARs=,259599,1609,Die Antwoord,Ninja',\n",
       " 'Miliyah,Shota Shimizu',\n",
       " 'N. Walker,,52\\n898dTVIsSDDautzUt7IK1DggQ21FkyhLqif4qLXn+CU=,197067,1609,Yasuo,Yasuo,Yasuo,17\\nYG3KANNMppf81UIZnasiJJ/2gqHMwckcy3IIz+v+zsA=,258670,465',\n",
       " 'Parrish Warrington,,52\\nNbq4EH8j6MPik4oXXsDZNkdP/bZz/7XayxWVBMzd308=,243565,465,Porno Graffitti (ポルノグラフィティ),Haruichi Shindo,Haruichi Shindo,17\\nSmnm1EYriYhGq9aru8xOk+015bo88lbR911eetjZ8hc=,171790,465,陳小春 (Jordan Chan),Farhad &quot;Ferari&quot; Zand',\n",
       " 'R. McCullough',\n",
       " 'R. Romulus',\n",
       " 'Rene Elizondo Jr.,,52\\nNzKHUdizUFikWIZbLIPik+ApyGxJknliRzZNzODIMUo=,225802,921,Ramin Djawadi,Ramin Djawadi,,52\\nLw4+I4zpBBSnuf5tsRsnU0ImYF4AlEPqsevLrZ0TeaE=,485041,1609,証聲音樂圖書館 ECHO MUSIC,Sebastian Kretzschmar,Sebastian Kretzschmar,52\\n2ERR0eBNGK0tAVKorpSrR4XDYnOqQDfNid/nPJzGd38=,221936,2022,LM.C,,,17\\n/C/wiubl/fCiUmjJwQ1yDv3seKLBaPvMEXRJOl93/e4=,235624,1955,Miss May I,,,52\\nhKXpJ+Y8Hesa/9KjL8wUj52XCs6UI4di2u6QKiSBS0k=,131343,786,廣告配樂精選,Cotton Club,Cotton Club,-1\\n6uYPDXZJGYhq6WDg35xDLMB0Z46Rw3Y0XTLik5F/w9c=,213321,1609,Far East Movement,J. Yip',\n",
       " 'Sarah Hart,,52\\n44K/wNQkmk0pAFX7/IWnaZy4wzUIOBc/u5lQw40CR/w=,310683,465,Shota Shimizu (清水翔太),Shota Shimizu',\n",
       " 'Savan Kotecha',\n",
       " 'Sebastian Ingrosso,,52\\nWKCEUOm70//9O7IQ3VE2ohtiJaDGUH7cChanz4plSdA=,306886,465,曹格 (Gary Chaw),曹格 ,姚若龍 等人,3\\nSOicQ4b0ieAafeGqjdGVU5MPAgtYlCfGi6P49/le65I=,409600,139,Slave,,,52\\ncuSwXYNpWOTM1drx/mJW3qM0P5b5TY44xtrIP8DoGzQ=,287093,465,J,,,17\\nI4p6lOJx+ZlqcVWD5AncdwaLGfhLJ7eqm/38rSTGLjc=,239281,458,于小冉,Qxygen（F1ST）,基械貓,3\\nSxekcRFJ/l4MWpWZhkTsEfD0bLRpqAGZ1Y2Ed1tJ3DY=,206836,465,李治廷 (Aarif Rahman),李治廷,張楚翹 @Solid Sound / 陳考威(SpingWo),3\\nDh1uPET9CjT916QXnHI1oUhnwB306jFJ/xemOyU+LYs=,392510,2022,Megadeth,Dave Mustaine,,52\\nuQpEdgHWBjo1R8/AXlzxvzWn0Jj0jJLlpBfxi+TZK00=,56982,958,Peter Serkin,Johann Sebastian Bach,,-1\\nQGch6e8vfa5uh7d9FvwiMpvL2SeGE0njRWnfVrUcL/k=,260937,465,劉錫明 (Canti Lau),Chow Yim Bing,Zhong Qing Hong,3\\nK6uq5x70nj0uasA8lKfYcD3Z4XIx+rDsBhld8L47q/0=,164884,2022,Perfume Genius,,,52\\neju9sOw1efXi0uGdYpeoznEaFIGnVW5JRRf8ET4oF8w=,283377,,fox capture plan feat. Keishi Tanaka,田中啓史,田中啓史,17\\nqXzFPPPO4HTgFayE4uzxWO5sll8xCHLmCursGTJYZ1Y=,244826,873,Audrey Assad,Audrey Assad',\n",
       " 'Sheldon Goode,52\\nZFXeT687A9YcBHkiWxZwK+SzZANHZpxYLUkrBB6OJtM=,178329,139,Ray Charles,Blackburn',\n",
       " 'Sheldon Goode,Donell Jones',\n",
       " 'Sofia Lindfos,林志年,3\\nPGP/3XYJlIJGYPBhs3aA0BE3vXvkydwsFuJOmaZQiKo=,257985,2072,Axxuell,,,52\\nYO+WsLNdbm7ujlys/RbCJO+LCehLu0HDGbDGKiW4Ouk=,199471,465,巨星系列,,,52\\nt2J4QCTd/Kasa3psLjwKC6rZnQZwpYndozQkV83LiI4=,232942,958,Sarah Àlainn,Francesco Sartori',\n",
       " 'Suessdorf,,52\\nzYi9bJipmSdl0d+g/MtrbM8kRFnTJxQJ+7/ALhaGfxE=,309661,2022,Steve Saluto,,,52\\nWZLJWeDhmtki6w61xyIvvq1VlUFyYjX7YUqMLy4EZC0=,242207,465,French Kiss (フレンチ・キス),黒須克彦,秋元康,17\\nKEnXQfwFdjdxbLbPGFy6yVDIDINocarPf5eRGXEwLYQ=,153984,1609,AWOLNATION,,,52\\n8Hx4/ciiQebsR1eV9tEWKwMjkgLLOdMcjEAVkiOQCng=,241240,109',\n",
       " 'Terry Lewis',\n",
       " 'Timothy McTague',\n",
       " 'V. Coquia',\n",
       " 'W. Axl Rose',\n",
       " 'Yo-landi Vi$$er')"
      ]
     },
     "execution_count": 40,
     "metadata": {},
     "output_type": "execute_result"
    }
   ],
   "source": [
    "df = pd.DataFrame({'composer_list': data.composer_list.dropna().values, \n",
    "                   'len': data.composer_list.dropna().map(len).values})\n",
    "print(df.head())\n",
    "df.loc[df.len.idxmax()].composer_list"
   ]
  },
  {
   "cell_type": "code",
   "execution_count": 13,
   "metadata": {},
   "outputs": [
    {
     "data": {
      "image/png": "[encoded data removed]",
      "text/plain": [
       "<Figure size 1440x360 with 6 Axes>"
      ]
     },
     "metadata": {},
     "output_type": "display_data"
    }
   ],
   "source": [
    "utils_nb.heatmap(data, 'language', 'city', annot=False)"
   ]
  },
  {
   "cell_type": "markdown",
   "metadata": {},
   "source": [
    "## Age and Genres"
   ]
  },
  {
   "cell_type": "code",
   "execution_count": null,
   "metadata": {},
   "outputs": [],
   "source": [
    "%%time\n",
    "multi_catg_heatmap('genre_list', 'age')"
   ]
  },
  {
   "cell_type": "markdown",
   "metadata": {},
   "source": [
    "## Popular Artist\n",
    "-  We evaluate the popularity of the artist by calculate `mean * sum` by target label, value of target belong to [0, 1], so `sum` can represent the popularity but, maybe there are many 0 in the votes, so multiple the `mean` to get more fair result\n",
    "-  According the boxplot, the popularity distribution is very skew, most of them close to zero, this is expected result, for this situation, we will add some features like the interaction between `[target + artist], [target + language]`..., etc."
   ]
  },
  {
   "cell_type": "code",
   "execution_count": null,
   "metadata": {
    "scrolled": true
   },
   "outputs": [],
   "source": [
    "artist_list, target = flat('artist_list')\n",
    "univ_boxplot(pd.DataFrame({'artist_list': artist_list, 'target': target}), 'artist_list')"
   ]
  },
  {
   "cell_type": "code",
   "execution_count": null,
   "metadata": {},
   "outputs": [],
   "source": [
    "artist_list, target = flat('artist_list')\n",
    "univ_boxplot(pd.DataFrame({'artist_list': artist_list, 'target': target}), 'artist_list')"
   ]
  },
  {
   "cell_type": "markdown",
   "metadata": {},
   "source": [
    "<br/>\n",
    "<br/>\n",
    "<br/>\n",
    "## Filter some rows\n",
    "\n",
    "1. First we filter out the majority and the minority => [100 <= msno.group.size <= 1000], we don't want some majority to dominate the model\n",
    "2. Insure that records of target = 1 greater than 35, we want 30% in valid data records of target = 1 greater than 10\n",
    "    ```\n",
    "    35 * 0.3 = 10.5\n",
    "    ```"
   ]
  },
  {
   "cell_type": "code",
   "execution_count": null,
   "metadata": {},
   "outputs": [],
   "source": [
    "\"\"\" Use DataFrameGroupBy.filter will be greate !!!\"\"\"\n",
    "# msno_grp = data.groupby('msno')\n",
    "# msno_grp.size().describe()\n",
    "\n",
    "# df = pd.DataFrame({'size': msno_grp.size(), 'sum': msno_grp.target.sum()})\n",
    "\n",
    "# data = data[data.msno.isin(df.query('sum >= 35 and 100 <= size and size <= 1000').index)]\n",
    "# print(data.shape)\n",
    "# print(data.target.value_counts())"
   ]
  },
  {
   "cell_type": "code",
   "execution_count": null,
   "metadata": {
    "scrolled": true
   },
   "outputs": [],
   "source": [
    "enc = utils.CounterEncoder()\n",
    "enc.partial_fit( train.source_system_tab )"
   ]
  },
  {
   "cell_type": "code",
   "execution_count": null,
   "metadata": {},
   "outputs": [],
   "source": [
    "np.linalg.norm([1, 2, 3] / np.linalg.norm([1, 2, 3]))\n"
   ]
  },
  {
   "cell_type": "code",
   "execution_count": null,
   "metadata": {},
   "outputs": [],
   "source": [
    "feat = 'source_system_tab'\n",
    "feat_dummies = pd.get_dummies(data[feat])\n",
    "feat_dummies.columns = ['msno_%s_'%feat + '%s'%col for col in feat_dummies.columns]\n",
    "feat_dummies.head()\n",
    "feat_dummies['msno'] = data['msno'].values\n",
    "feat_dummies = feat_dummies.groupby('msno').mean()\n",
    "feat_dummies['msno'] = feat_dummies.index\n",
    "a = members.merge(feat_dummies, on='msno', how='left')\n",
    "a.head()"
   ]
  },
  {
   "cell_type": "markdown",
   "metadata": {},
   "source": [
    "<br/>\n",
    "<br/>\n",
    "<br/>\n",
    "<br/>\n",
    "<br/>\n",
    "<br/>"
   ]
  },
  {
   "cell_type": "markdown",
   "metadata": {},
   "source": [
    "<br/>\n",
    "<br/>\n",
    "<br/>\n",
    "<br/>\n",
    "<br/>\n",
    "<br/>\n",
    "## Appendix"
   ]
  },
  {
   "cell_type": "markdown",
   "metadata": {},
   "source": [
    "+ Use `tf.saved_model.loader.load`, only for `json_serving_input_fn `"
   ]
  },
  {
   "cell_type": "code",
   "execution_count": null,
   "metadata": {
    "scrolled": true
   },
   "outputs": [],
   "source": [
    "%%time\n",
    "from trainer import app_conf, metadata, input, service\n",
    "from trainer.ctrl import Ctrl\n",
    "\n",
    "ctrl = Ctrl.instance\n",
    "test_df = ctrl.transform(pd.Series({'fpath': './data/test.csv'}))\n",
    "params = pd.Series({\n",
    "    'datasource': test_df,\n",
    "    'is_src_file': False\n",
    "})\n",
    "pred = ctrl.local_predict_alt(params)\n",
    "print(pred)"
   ]
  },
  {
   "cell_type": "markdown",
   "metadata": {},
   "source": [
    "## Tensor data inspection"
   ]
  },
  {
   "cell_type": "code",
   "execution_count": null,
   "metadata": {},
   "outputs": [],
   "source": [
    "%%time\n",
    "from trainer import app_conf, metadata, input, service\n",
    "from trainer.ctrl import Ctrl\n",
    "\n",
    "encoded, origin, feat_data, target_, all_ = Ctrl.instance.inspect('promo2')"
   ]
  },
  {
   "cell_type": "markdown",
   "metadata": {},
   "source": [
    "## Test"
   ]
  },
  {
   "cell_type": "code",
   "execution_count": 56,
   "metadata": {},
   "outputs": [
    {
     "name": "stdout",
     "output_type": "stream",
     "text": [
      "3.7416575\n"
     ]
    }
   ],
   "source": [
    "from trainer import app_conf, metadata, input, service\n",
    "from trainer.ctrl import Ctrl\n",
    "\n",
    "with tf.Graph().as_default():\n",
    "    norm = tf.norm(tf.constant([1., 2., 3.]), ord='euclidean')\n",
    "    with tf.Session() as sess:\n",
    "        tf.global_variables_initializer().run()\n",
    "        print( sess.run(norm) )"
   ]
  }
 ],
 "metadata": {
  "anaconda-cloud": {},
  "kernelspec": {
   "display_name": "Python 3",
   "language": "python",
   "name": "python3"
  },
  "language_info": {
   "codemirror_mode": {
    "name": "ipython",
    "version": 3
   },
   "file_extension": ".py",
   "mimetype": "text/x-python",
   "name": "python",
   "nbconvert_exporter": "python",
   "pygments_lexer": "ipython3",
   "version": "3.6.0"
  }
 },
 "nbformat": 4,
 "nbformat_minor": 1
}
