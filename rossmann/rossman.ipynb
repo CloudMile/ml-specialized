{
 "cells": [
  {
   "cell_type": "markdown",
   "metadata": {},
   "source": [
    "![Rossmann](rossmann_mark.jpg)\n",
    "\n",
    "Rossmann operates over 3,000 drug stores in 7 European countries. Currently, Rossmann store managers are tasked with predicting their daily sales for up to six weeks in advance. Store sales are influenced by many factors, including promotions, competition, school and state holidays, seasonality, and locality. With thousands of individual managers predicting sales based on their unique circumstances, the accuracy of results can be quite varied.\n",
    "\n",
    "Rossmann is challenging you to predict 6 weeks of daily sales for 1,115 stores located across Germany. Reliable sales forecasts enable store managers to create effective staff schedules that increase productivity and motivation.    \n",
    "\n",
    "\n",
    "## Metadata description\n",
    "---\n",
    "Columns       | Descriptions \n",
    "--------------|-------\n",
    "Id|An Id that represents a (Store, Date) duple within the test set\n",
    "Store|A unique Id for each store\n",
    "Sales|The turnover on a given day (our target variable)\n",
    "Customers|The number of customers on a given day\n",
    "Open|open: 0 = the store is closed , 1 = the store is open\n",
    "StateHoliday|Indicates a state holiday. a = public holiday, b = Easter holiday, c = Christmas, 0 = None\n",
    "SchoolHoliday|Store on this Date was affected or not by the closure of public schools\n",
    "StoreType|4 different stores:a,b,c,d\n",
    "Assortment|Assortment level: a = basic, b = extra, c = extended\n",
    "CompetitionDistance|Distance in meters to the nearest competitor store\n",
    "CompetitionOpenSince[Month/Year]|gives the approximate year and month of the time the nearest competitor was opened\n",
    "Promo|Promo or not on that day\n",
    "Promo2|Promo2 is a continuing and consecutive promotion for some stores: 0 = store is not participating, 1 = store is participating\n",
    "Promo2Since[Year/Week]|describes the year and calendar week when the store started participating in Promo2\n",
    "PromoInterval|describes the consecutive intervals Promo2 is started, naming the months the promotion is started anew. E.g. \"Feb,May,Aug,Nov\" means each round starts in February, May, August, November of any given year for that store\n",
    "\n",
    "\n",
    "## What kind of problem to solve?\n",
    "\n",
    "Regression or time series problem, here we propose regression method with embedding features tech to catch the data information"
   ]
  },
  {
   "cell_type": "code",
   "execution_count": 2,
   "metadata": {
    "scrolled": true
   },
   "outputs": [],
   "source": [
    "%reload_ext autoreload\n",
    "%autoreload 2\n",
    "\n",
    "import os, sys, numpy as np, pandas as pd, tensorflow as tf, re, codecs, json, time\n",
    "import pickle, collections, random, math, numbers, scipy.sparse as sp, itertools, shutil\n",
    "import requests, seaborn as sns\n",
    "\n",
    "from datetime import datetime\n",
    "from pprint import pprint\n",
    "from matplotlib import pyplot as plt\n",
    "# plt.style.use('ggplot')\n",
    "plt.style.use('seaborn-whitegrid') # \n",
    "\n",
    "ctx = os.path.abspath(os.path.dirname('.'))\n",
    "if ctx not in sys.path:\n",
    "    sys.path.insert(0, ctx)\n",
    "\n",
    "from trainer import utils\n",
    "from trainer import app_conf, metadata, input as inp, service\n",
    "from trainer.ctrl import Ctrl\n",
    "\n",
    "np.set_printoptions(precision=4, suppress=True, linewidth=100)\n",
    "np.random.seed(42)"
   ]
  },
  {
   "cell_type": "code",
   "execution_count": 3,
   "metadata": {},
   "outputs": [
    {
     "data": {
      "text/html": [
       "<div>\n",
       "<style scoped>\n",
       "    .dataframe tbody tr th:only-of-type {\n",
       "        vertical-align: middle;\n",
       "    }\n",
       "\n",
       "    .dataframe tbody tr th {\n",
       "        vertical-align: top;\n",
       "    }\n",
       "\n",
       "    .dataframe thead th {\n",
       "        text-align: right;\n",
       "    }\n",
       "</style>\n",
       "<table border=\"1\" class=\"dataframe\">\n",
       "  <thead>\n",
       "    <tr style=\"text-align: right;\">\n",
       "      <th></th>\n",
       "      <th>msno</th>\n",
       "      <th>city</th>\n",
       "      <th>gender</th>\n",
       "      <th>registered_via</th>\n",
       "      <th>registration_init_time</th>\n",
       "      <th>expiration_date</th>\n",
       "      <th>msno_age_catg</th>\n",
       "      <th>msno_age_num</th>\n",
       "      <th>msno_tenure</th>\n",
       "      <th>msno_artist_name_count</th>\n",
       "      <th>...</th>\n",
       "      <th>msno_neg_query_count</th>\n",
       "      <th>msno_neg_query_hist</th>\n",
       "      <th>msno_pos_query_count</th>\n",
       "      <th>msno_pos_query_hist</th>\n",
       "      <th>msno_source_screen_name_count</th>\n",
       "      <th>msno_source_screen_name_hist</th>\n",
       "      <th>msno_source_system_tab_count</th>\n",
       "      <th>msno_source_system_tab_hist</th>\n",
       "      <th>msno_source_type_count</th>\n",
       "      <th>msno_source_type_hist</th>\n",
       "    </tr>\n",
       "  </thead>\n",
       "  <tbody>\n",
       "    <tr>\n",
       "      <th>0</th>\n",
       "      <td>XQxgAYj3klVKjR3oxPPXYYFp4soD4TuBghkhMTD4oTw=</td>\n",
       "      <td>1</td>\n",
       "      <td></td>\n",
       "      <td>7</td>\n",
       "      <td>15206.0</td>\n",
       "      <td>17429.0</td>\n",
       "      <td></td>\n",
       "      <td>27</td>\n",
       "      <td>2223.0</td>\n",
       "      <td>(1, 1, 1, 1, 1, 1, 1, 1, 1, 1, 1, 1, 1, 1, 1, ...</td>\n",
       "      <td>...</td>\n",
       "      <td>(1.0, 1.0, 1.0, 1.0, 1.0, 1.0, 1.0, 1.0, 1.0, ...</td>\n",
       "      <td>(hQgC5XOWamX7Fida4igkVBcn63cJ1e4jVlhs59clyfY=,...</td>\n",
       "      <td>(1.0, 1.0, 1.0, 1.0, 1.0, 1.0, 1.0, 1.0, 1.0, ...</td>\n",
       "      <td>(wPkYWpD+lTNuuny1ecpvNM1K3e6m+UNGftMtM93sRWA=,...</td>\n",
       "      <td>(2, 3, 6, 8, 27, 226)</td>\n",
       "      <td>(Album more, Local playlist more, My library, ...</td>\n",
       "      <td>(8, 8, 27, 229)</td>\n",
       "      <td>(discover, listen with, my library, search)</td>\n",
       "      <td>(2, 6, 8, 27, 229)</td>\n",
       "      <td>(album, listen-with, local-library, online-pla...</td>\n",
       "    </tr>\n",
       "    <tr>\n",
       "      <th>1</th>\n",
       "      <td>UizsfmJb9mV54qE9hCYyU07Va97c0lCRLEQX3ae+ztM=</td>\n",
       "      <td>1</td>\n",
       "      <td></td>\n",
       "      <td>7</td>\n",
       "      <td>16614.0</td>\n",
       "      <td>17339.0</td>\n",
       "      <td></td>\n",
       "      <td>27</td>\n",
       "      <td>725.0</td>\n",
       "      <td>NaN</td>\n",
       "      <td>...</td>\n",
       "      <td>NaN</td>\n",
       "      <td>NaN</td>\n",
       "      <td>NaN</td>\n",
       "      <td>NaN</td>\n",
       "      <td>NaN</td>\n",
       "      <td>NaN</td>\n",
       "      <td>NaN</td>\n",
       "      <td>NaN</td>\n",
       "      <td>NaN</td>\n",
       "      <td>NaN</td>\n",
       "    </tr>\n",
       "    <tr>\n",
       "      <th>2</th>\n",
       "      <td>D8nEhsIOBSoE6VthTaqDX8U6lqjJ7dLdr72mOyLya2A=</td>\n",
       "      <td>1</td>\n",
       "      <td></td>\n",
       "      <td>4</td>\n",
       "      <td>16902.0</td>\n",
       "      <td>17359.0</td>\n",
       "      <td></td>\n",
       "      <td>27</td>\n",
       "      <td>457.0</td>\n",
       "      <td>NaN</td>\n",
       "      <td>...</td>\n",
       "      <td>NaN</td>\n",
       "      <td>NaN</td>\n",
       "      <td>NaN</td>\n",
       "      <td>NaN</td>\n",
       "      <td>NaN</td>\n",
       "      <td>NaN</td>\n",
       "      <td>NaN</td>\n",
       "      <td>NaN</td>\n",
       "      <td>NaN</td>\n",
       "      <td>NaN</td>\n",
       "    </tr>\n",
       "    <tr>\n",
       "      <th>3</th>\n",
       "      <td>mCuD+tZ1hERA/o5GPqk38e041J8ZsBaLcu7nGoIIvhI=</td>\n",
       "      <td>1</td>\n",
       "      <td></td>\n",
       "      <td>9</td>\n",
       "      <td>16684.0</td>\n",
       "      <td>16685.0</td>\n",
       "      <td></td>\n",
       "      <td>27</td>\n",
       "      <td>1.0</td>\n",
       "      <td>NaN</td>\n",
       "      <td>...</td>\n",
       "      <td>NaN</td>\n",
       "      <td>NaN</td>\n",
       "      <td>NaN</td>\n",
       "      <td>NaN</td>\n",
       "      <td>NaN</td>\n",
       "      <td>NaN</td>\n",
       "      <td>NaN</td>\n",
       "      <td>NaN</td>\n",
       "      <td>NaN</td>\n",
       "      <td>NaN</td>\n",
       "    </tr>\n",
       "    <tr>\n",
       "      <th>4</th>\n",
       "      <td>q4HRBfVSssAFS9iRfxWrohxuk9kCYMKjHOEagUMV6rQ=</td>\n",
       "      <td>1</td>\n",
       "      <td></td>\n",
       "      <td>4</td>\n",
       "      <td>17192.0</td>\n",
       "      <td>17330.0</td>\n",
       "      <td></td>\n",
       "      <td>27</td>\n",
       "      <td>138.0</td>\n",
       "      <td>NaN</td>\n",
       "      <td>...</td>\n",
       "      <td>NaN</td>\n",
       "      <td>NaN</td>\n",
       "      <td>NaN</td>\n",
       "      <td>NaN</td>\n",
       "      <td>NaN</td>\n",
       "      <td>NaN</td>\n",
       "      <td>NaN</td>\n",
       "      <td>NaN</td>\n",
       "      <td>NaN</td>\n",
       "      <td>NaN</td>\n",
       "    </tr>\n",
       "  </tbody>\n",
       "</table>\n",
       "<p>5 rows × 34 columns</p>\n",
       "</div>"
      ],
      "text/plain": [
       "                                           msno city gender registered_via  \\\n",
       "0  XQxgAYj3klVKjR3oxPPXYYFp4soD4TuBghkhMTD4oTw=    1                     7   \n",
       "1  UizsfmJb9mV54qE9hCYyU07Va97c0lCRLEQX3ae+ztM=    1                     7   \n",
       "2  D8nEhsIOBSoE6VthTaqDX8U6lqjJ7dLdr72mOyLya2A=    1                     4   \n",
       "3  mCuD+tZ1hERA/o5GPqk38e041J8ZsBaLcu7nGoIIvhI=    1                     9   \n",
       "4  q4HRBfVSssAFS9iRfxWrohxuk9kCYMKjHOEagUMV6rQ=    1                     4   \n",
       "\n",
       "   registration_init_time  expiration_date msno_age_catg  msno_age_num  \\\n",
       "0                 15206.0          17429.0                          27   \n",
       "1                 16614.0          17339.0                          27   \n",
       "2                 16902.0          17359.0                          27   \n",
       "3                 16684.0          16685.0                          27   \n",
       "4                 17192.0          17330.0                          27   \n",
       "\n",
       "   msno_tenure                             msno_artist_name_count  \\\n",
       "0       2223.0  (1, 1, 1, 1, 1, 1, 1, 1, 1, 1, 1, 1, 1, 1, 1, ...   \n",
       "1        725.0                                                NaN   \n",
       "2        457.0                                                NaN   \n",
       "3          1.0                                                NaN   \n",
       "4        138.0                                                NaN   \n",
       "\n",
       "                         ...                          \\\n",
       "0                        ...                           \n",
       "1                        ...                           \n",
       "2                        ...                           \n",
       "3                        ...                           \n",
       "4                        ...                           \n",
       "\n",
       "                                msno_neg_query_count  \\\n",
       "0  (1.0, 1.0, 1.0, 1.0, 1.0, 1.0, 1.0, 1.0, 1.0, ...   \n",
       "1                                                NaN   \n",
       "2                                                NaN   \n",
       "3                                                NaN   \n",
       "4                                                NaN   \n",
       "\n",
       "                                 msno_neg_query_hist  \\\n",
       "0  (hQgC5XOWamX7Fida4igkVBcn63cJ1e4jVlhs59clyfY=,...   \n",
       "1                                                NaN   \n",
       "2                                                NaN   \n",
       "3                                                NaN   \n",
       "4                                                NaN   \n",
       "\n",
       "                                msno_pos_query_count  \\\n",
       "0  (1.0, 1.0, 1.0, 1.0, 1.0, 1.0, 1.0, 1.0, 1.0, ...   \n",
       "1                                                NaN   \n",
       "2                                                NaN   \n",
       "3                                                NaN   \n",
       "4                                                NaN   \n",
       "\n",
       "                                 msno_pos_query_hist  \\\n",
       "0  (wPkYWpD+lTNuuny1ecpvNM1K3e6m+UNGftMtM93sRWA=,...   \n",
       "1                                                NaN   \n",
       "2                                                NaN   \n",
       "3                                                NaN   \n",
       "4                                                NaN   \n",
       "\n",
       "  msno_source_screen_name_count  \\\n",
       "0         (2, 3, 6, 8, 27, 226)   \n",
       "1                           NaN   \n",
       "2                           NaN   \n",
       "3                           NaN   \n",
       "4                           NaN   \n",
       "\n",
       "                        msno_source_screen_name_hist  \\\n",
       "0  (Album more, Local playlist more, My library, ...   \n",
       "1                                                NaN   \n",
       "2                                                NaN   \n",
       "3                                                NaN   \n",
       "4                                                NaN   \n",
       "\n",
       "  msno_source_system_tab_count                  msno_source_system_tab_hist  \\\n",
       "0              (8, 8, 27, 229)  (discover, listen with, my library, search)   \n",
       "1                          NaN                                          NaN   \n",
       "2                          NaN                                          NaN   \n",
       "3                          NaN                                          NaN   \n",
       "4                          NaN                                          NaN   \n",
       "\n",
       "  msno_source_type_count                              msno_source_type_hist  \n",
       "0     (2, 6, 8, 27, 229)  (album, listen-with, local-library, online-pla...  \n",
       "1                    NaN                                                NaN  \n",
       "2                    NaN                                                NaN  \n",
       "3                    NaN                                                NaN  \n",
       "4                    NaN                                                NaN  \n",
       "\n",
       "[5 rows x 34 columns]"
      ]
     },
     "execution_count": 3,
     "metadata": {},
     "output_type": "execute_result"
    }
   ],
   "source": [
    "a = pd.read_hdf('D:/Python/notebook/ml_specialized/kkbox/data/processed/prepared/member.h', key='df')\n",
    "a.head()"
   ]
  },
  {
   "cell_type": "code",
   "execution_count": 6,
   "metadata": {},
   "outputs": [
    {
     "data": {
      "text/plain": [
       "0                    (-1, 10, 24, 3, 52)\n",
       "1                                    NaN\n",
       "2                                    NaN\n",
       "3                                    NaN\n",
       "4                                    NaN\n",
       "5                                    NaN\n",
       "6                                    NaN\n",
       "7                (-1, 10, 17, 3, 31, 52)\n",
       "8                    (-1, 17, 3, 31, 52)\n",
       "9                            (10, 3, 31)\n",
       "10                               (3, 31)\n",
       "11                      (-1, 17, 31, 52)\n",
       "12                                   NaN\n",
       "13                   (-1, 17, 3, 31, 52)\n",
       "14                       (10, 3, 31, 52)\n",
       "15                   (-1, 17, 24, 3, 52)\n",
       "16                                   NaN\n",
       "17                       (10, 24, 3, 52)\n",
       "18                                   NaN\n",
       "19               (10, 17, 24, 3, 31, 52)\n",
       "20                                   NaN\n",
       "21                                   NaN\n",
       "22                               (3, 52)\n",
       "23                       (24, 3, 31, 52)\n",
       "24                           (3, 31, 52)\n",
       "25                           (3, 31, 52)\n",
       "26                                   NaN\n",
       "27               (-1, 17, 24, 3, 31, 52)\n",
       "28                           (10, 3, 52)\n",
       "29                                   NaN\n",
       "                      ...               \n",
       "34373            (-1, 10, 24, 3, 31, 52)\n",
       "34374            (-1, 10, 17, 3, 31, 52)\n",
       "34375                                NaN\n",
       "34376                        (17, 3, 52)\n",
       "34377                               (3,)\n",
       "34378                (17, 24, 3, 31, 52)\n",
       "34379                    (17, 3, 31, 52)\n",
       "34380                        (-1, 3, 52)\n",
       "34381            (-1, 10, 24, 3, 31, 52)\n",
       "34382                        (10, 3, 52)\n",
       "34383        (-1, 10, 17, 24, 3, 31, 52)\n",
       "34384                              (52,)\n",
       "34385                    (-1, 3, 31, 52)\n",
       "34386            (-1, 10, 24, 3, 31, 52)\n",
       "34387                (10, 17, 24, 3, 52)\n",
       "34388                                NaN\n",
       "34389                (-1, 10, 3, 31, 52)\n",
       "34390                        (-1, 3, 52)\n",
       "34391                                NaN\n",
       "34392        (10, 17, 24, 3, 31, 45, 52)\n",
       "34393                    (24, 3, 31, 52)\n",
       "34394            (-1, 10, 17, 3, 31, 52)\n",
       "34395                (-1, 10, 3, 31, 52)\n",
       "34396                                NaN\n",
       "34397    (-1, 10, 17, 24, 3, 31, 45, 52)\n",
       "34398                (-1, 10, 3, 31, 52)\n",
       "34399                        (-1, 3, 52)\n",
       "34400                                NaN\n",
       "34401                            (3, 52)\n",
       "34402                                NaN\n",
       "Name: msno_language_hist, Length: 34403, dtype: object"
      ]
     },
     "execution_count": 6,
     "metadata": {},
     "output_type": "execute_result"
    }
   ],
   "source": [
    "a.msno_language_hist"
   ]
  },
  {
   "cell_type": "markdown",
   "metadata": {},
   "source": [
    "## Preview"
   ]
  },
  {
   "cell_type": "code",
   "execution_count": 16,
   "metadata": {},
   "outputs": [
    {
     "name": "stderr",
     "output_type": "stream",
     "text": [
      "d:\\python\\anaconda3\\envs\\py3_6\\lib\\site-packages\\IPython\\core\\interactiveshell.py:2785: DtypeWarning: Columns (7) have mixed types. Specify dtype option on import or set low_memory=False.\n",
      "  interactivity=interactivity, compiler=compiler, result=result)\n"
     ]
    }
   ],
   "source": [
    "tr = pd.read_csv('./data/train.csv')\n",
    "store = pd.read_csv('./data/store.csv')\n",
    "store_states = pd.read_csv('./data/store_states.csv')"
   ]
  },
  {
   "cell_type": "code",
   "execution_count": 61,
   "metadata": {},
   "outputs": [
    {
     "data": {
      "text/html": [
       "<div>\n",
       "<style scoped>\n",
       "    .dataframe tbody tr th:only-of-type {\n",
       "        vertical-align: middle;\n",
       "    }\n",
       "\n",
       "    .dataframe tbody tr th {\n",
       "        vertical-align: top;\n",
       "    }\n",
       "\n",
       "    .dataframe thead th {\n",
       "        text-align: right;\n",
       "    }\n",
       "</style>\n",
       "<table border=\"1\" class=\"dataframe\">\n",
       "  <thead>\n",
       "    <tr style=\"text-align: right;\">\n",
       "      <th></th>\n",
       "      <th>Store</th>\n",
       "      <th>DayOfWeek</th>\n",
       "      <th>Date</th>\n",
       "      <th>Sales</th>\n",
       "      <th>Customers</th>\n",
       "      <th>Open</th>\n",
       "      <th>Promo</th>\n",
       "      <th>StateHoliday</th>\n",
       "      <th>SchoolHoliday</th>\n",
       "    </tr>\n",
       "  </thead>\n",
       "  <tbody>\n",
       "    <tr>\n",
       "      <th>0</th>\n",
       "      <td>1</td>\n",
       "      <td>5</td>\n",
       "      <td>2015-07-31</td>\n",
       "      <td>5263</td>\n",
       "      <td>555</td>\n",
       "      <td>1</td>\n",
       "      <td>1</td>\n",
       "      <td>0</td>\n",
       "      <td>1</td>\n",
       "    </tr>\n",
       "    <tr>\n",
       "      <th>1</th>\n",
       "      <td>2</td>\n",
       "      <td>5</td>\n",
       "      <td>2015-07-31</td>\n",
       "      <td>6064</td>\n",
       "      <td>625</td>\n",
       "      <td>1</td>\n",
       "      <td>1</td>\n",
       "      <td>0</td>\n",
       "      <td>1</td>\n",
       "    </tr>\n",
       "    <tr>\n",
       "      <th>2</th>\n",
       "      <td>3</td>\n",
       "      <td>5</td>\n",
       "      <td>2015-07-31</td>\n",
       "      <td>8314</td>\n",
       "      <td>821</td>\n",
       "      <td>1</td>\n",
       "      <td>1</td>\n",
       "      <td>0</td>\n",
       "      <td>1</td>\n",
       "    </tr>\n",
       "    <tr>\n",
       "      <th>3</th>\n",
       "      <td>4</td>\n",
       "      <td>5</td>\n",
       "      <td>2015-07-31</td>\n",
       "      <td>13995</td>\n",
       "      <td>1498</td>\n",
       "      <td>1</td>\n",
       "      <td>1</td>\n",
       "      <td>0</td>\n",
       "      <td>1</td>\n",
       "    </tr>\n",
       "    <tr>\n",
       "      <th>4</th>\n",
       "      <td>5</td>\n",
       "      <td>5</td>\n",
       "      <td>2015-07-31</td>\n",
       "      <td>4822</td>\n",
       "      <td>559</td>\n",
       "      <td>1</td>\n",
       "      <td>1</td>\n",
       "      <td>0</td>\n",
       "      <td>1</td>\n",
       "    </tr>\n",
       "  </tbody>\n",
       "</table>\n",
       "</div>"
      ],
      "text/plain": [
       "   Store  DayOfWeek        Date  Sales  Customers  Open  Promo StateHoliday  \\\n",
       "0      1          5  2015-07-31   5263        555     1      1            0   \n",
       "1      2          5  2015-07-31   6064        625     1      1            0   \n",
       "2      3          5  2015-07-31   8314        821     1      1            0   \n",
       "3      4          5  2015-07-31  13995       1498     1      1            0   \n",
       "4      5          5  2015-07-31   4822        559     1      1            0   \n",
       "\n",
       "   SchoolHoliday  \n",
       "0              1  \n",
       "1              1  \n",
       "2              1  \n",
       "3              1  \n",
       "4              1  "
      ]
     },
     "execution_count": 61,
     "metadata": {},
     "output_type": "execute_result"
    }
   ],
   "source": [
    "tr.head()"
   ]
  },
  {
   "cell_type": "code",
   "execution_count": 62,
   "metadata": {},
   "outputs": [
    {
     "data": {
      "text/html": [
       "<div>\n",
       "<style scoped>\n",
       "    .dataframe tbody tr th:only-of-type {\n",
       "        vertical-align: middle;\n",
       "    }\n",
       "\n",
       "    .dataframe tbody tr th {\n",
       "        vertical-align: top;\n",
       "    }\n",
       "\n",
       "    .dataframe thead th {\n",
       "        text-align: right;\n",
       "    }\n",
       "</style>\n",
       "<table border=\"1\" class=\"dataframe\">\n",
       "  <thead>\n",
       "    <tr style=\"text-align: right;\">\n",
       "      <th></th>\n",
       "      <th>Store</th>\n",
       "      <th>StoreType</th>\n",
       "      <th>Assortment</th>\n",
       "      <th>CompetitionDistance</th>\n",
       "      <th>CompetitionOpenSinceMonth</th>\n",
       "      <th>CompetitionOpenSinceYear</th>\n",
       "      <th>Promo2</th>\n",
       "      <th>Promo2SinceWeek</th>\n",
       "      <th>Promo2SinceYear</th>\n",
       "      <th>PromoInterval</th>\n",
       "    </tr>\n",
       "  </thead>\n",
       "  <tbody>\n",
       "    <tr>\n",
       "      <th>0</th>\n",
       "      <td>1</td>\n",
       "      <td>c</td>\n",
       "      <td>a</td>\n",
       "      <td>1270.0</td>\n",
       "      <td>9.0</td>\n",
       "      <td>2008.0</td>\n",
       "      <td>0</td>\n",
       "      <td>NaN</td>\n",
       "      <td>NaN</td>\n",
       "      <td>NaN</td>\n",
       "    </tr>\n",
       "    <tr>\n",
       "      <th>1</th>\n",
       "      <td>2</td>\n",
       "      <td>a</td>\n",
       "      <td>a</td>\n",
       "      <td>570.0</td>\n",
       "      <td>11.0</td>\n",
       "      <td>2007.0</td>\n",
       "      <td>1</td>\n",
       "      <td>13.0</td>\n",
       "      <td>2010.0</td>\n",
       "      <td>Jan,Apr,Jul,Oct</td>\n",
       "    </tr>\n",
       "    <tr>\n",
       "      <th>2</th>\n",
       "      <td>3</td>\n",
       "      <td>a</td>\n",
       "      <td>a</td>\n",
       "      <td>14130.0</td>\n",
       "      <td>12.0</td>\n",
       "      <td>2006.0</td>\n",
       "      <td>1</td>\n",
       "      <td>14.0</td>\n",
       "      <td>2011.0</td>\n",
       "      <td>Jan,Apr,Jul,Oct</td>\n",
       "    </tr>\n",
       "    <tr>\n",
       "      <th>3</th>\n",
       "      <td>4</td>\n",
       "      <td>c</td>\n",
       "      <td>c</td>\n",
       "      <td>620.0</td>\n",
       "      <td>9.0</td>\n",
       "      <td>2009.0</td>\n",
       "      <td>0</td>\n",
       "      <td>NaN</td>\n",
       "      <td>NaN</td>\n",
       "      <td>NaN</td>\n",
       "    </tr>\n",
       "    <tr>\n",
       "      <th>4</th>\n",
       "      <td>5</td>\n",
       "      <td>a</td>\n",
       "      <td>a</td>\n",
       "      <td>29910.0</td>\n",
       "      <td>4.0</td>\n",
       "      <td>2015.0</td>\n",
       "      <td>0</td>\n",
       "      <td>NaN</td>\n",
       "      <td>NaN</td>\n",
       "      <td>NaN</td>\n",
       "    </tr>\n",
       "  </tbody>\n",
       "</table>\n",
       "</div>"
      ],
      "text/plain": [
       "   Store StoreType Assortment  CompetitionDistance  CompetitionOpenSinceMonth  \\\n",
       "0      1         c          a               1270.0                        9.0   \n",
       "1      2         a          a                570.0                       11.0   \n",
       "2      3         a          a              14130.0                       12.0   \n",
       "3      4         c          c                620.0                        9.0   \n",
       "4      5         a          a              29910.0                        4.0   \n",
       "\n",
       "   CompetitionOpenSinceYear  Promo2  Promo2SinceWeek  Promo2SinceYear  \\\n",
       "0                    2008.0       0              NaN              NaN   \n",
       "1                    2007.0       1             13.0           2010.0   \n",
       "2                    2006.0       1             14.0           2011.0   \n",
       "3                    2009.0       0              NaN              NaN   \n",
       "4                    2015.0       0              NaN              NaN   \n",
       "\n",
       "     PromoInterval  \n",
       "0              NaN  \n",
       "1  Jan,Apr,Jul,Oct  \n",
       "2  Jan,Apr,Jul,Oct  \n",
       "3              NaN  \n",
       "4              NaN  "
      ]
     },
     "execution_count": 62,
     "metadata": {},
     "output_type": "execute_result"
    }
   ],
   "source": [
    "store.head()"
   ]
  },
  {
   "cell_type": "code",
   "execution_count": 63,
   "metadata": {},
   "outputs": [
    {
     "data": {
      "text/html": [
       "<div>\n",
       "<style scoped>\n",
       "    .dataframe tbody tr th:only-of-type {\n",
       "        vertical-align: middle;\n",
       "    }\n",
       "\n",
       "    .dataframe tbody tr th {\n",
       "        vertical-align: top;\n",
       "    }\n",
       "\n",
       "    .dataframe thead th {\n",
       "        text-align: right;\n",
       "    }\n",
       "</style>\n",
       "<table border=\"1\" class=\"dataframe\">\n",
       "  <thead>\n",
       "    <tr style=\"text-align: right;\">\n",
       "      <th></th>\n",
       "      <th>Store</th>\n",
       "      <th>State</th>\n",
       "    </tr>\n",
       "  </thead>\n",
       "  <tbody>\n",
       "    <tr>\n",
       "      <th>0</th>\n",
       "      <td>1</td>\n",
       "      <td>HE</td>\n",
       "    </tr>\n",
       "    <tr>\n",
       "      <th>1</th>\n",
       "      <td>2</td>\n",
       "      <td>TH</td>\n",
       "    </tr>\n",
       "    <tr>\n",
       "      <th>2</th>\n",
       "      <td>3</td>\n",
       "      <td>NW</td>\n",
       "    </tr>\n",
       "    <tr>\n",
       "      <th>3</th>\n",
       "      <td>4</td>\n",
       "      <td>BE</td>\n",
       "    </tr>\n",
       "    <tr>\n",
       "      <th>4</th>\n",
       "      <td>5</td>\n",
       "      <td>SN</td>\n",
       "    </tr>\n",
       "  </tbody>\n",
       "</table>\n",
       "</div>"
      ],
      "text/plain": [
       "   Store State\n",
       "0      1    HE\n",
       "1      2    TH\n",
       "2      3    NW\n",
       "3      4    BE\n",
       "4      5    SN"
      ]
     },
     "execution_count": 63,
     "metadata": {},
     "output_type": "execute_result"
    }
   ],
   "source": [
    "store_states.head()"
   ]
  },
  {
   "cell_type": "markdown",
   "metadata": {},
   "source": [
    "## Data Exploration\n",
    "- First we add some columns `year, month, day, promo2, sales_mean, customers_mean`\n",
    "    - We treat `year, month, day` as categorical variables, we expect there are maybe some peak hour or off peak time on specific date, continuous variables couldn't handle this well.\n",
    "    - `Promo2` is a continuing and consecutive promotion campaign, which have periodicity per year, it can calculate according to store.Promo2 and store.PromoInterval columns.\n",
    "    - Both `sales_mean` and `customers_mean` columns are average of sales and customers per store, they can well catch the quantity respectively\n",
    "  "
   ]
  },
  {
   "cell_type": "code",
   "execution_count": 19,
   "metadata": {},
   "outputs": [
    {
     "data": {
      "text/html": [
       "<div>\n",
       "<style scoped>\n",
       "    .dataframe tbody tr th:only-of-type {\n",
       "        vertical-align: middle;\n",
       "    }\n",
       "\n",
       "    .dataframe tbody tr th {\n",
       "        vertical-align: top;\n",
       "    }\n",
       "\n",
       "    .dataframe thead th {\n",
       "        text-align: right;\n",
       "    }\n",
       "</style>\n",
       "<table border=\"1\" class=\"dataframe\">\n",
       "  <thead>\n",
       "    <tr style=\"text-align: right;\">\n",
       "      <th></th>\n",
       "      <th>Store</th>\n",
       "      <th>DayOfWeek</th>\n",
       "      <th>Date</th>\n",
       "      <th>Sales</th>\n",
       "      <th>Customers</th>\n",
       "      <th>Open</th>\n",
       "      <th>Promo</th>\n",
       "      <th>StateHoliday</th>\n",
       "      <th>SchoolHoliday</th>\n",
       "      <th>StoreType</th>\n",
       "      <th>...</th>\n",
       "      <th>Promo2SinceWeek</th>\n",
       "      <th>Promo2SinceYear</th>\n",
       "      <th>PromoInterval</th>\n",
       "      <th>State</th>\n",
       "      <th>year</th>\n",
       "      <th>month</th>\n",
       "      <th>day</th>\n",
       "      <th>promo2</th>\n",
       "      <th>sales_mean</th>\n",
       "      <th>customers_mean</th>\n",
       "    </tr>\n",
       "  </thead>\n",
       "  <tbody>\n",
       "    <tr>\n",
       "      <th>0</th>\n",
       "      <td>1</td>\n",
       "      <td>5</td>\n",
       "      <td>2015-07-31</td>\n",
       "      <td>5263</td>\n",
       "      <td>555</td>\n",
       "      <td>1</td>\n",
       "      <td>1</td>\n",
       "      <td>0</td>\n",
       "      <td>1</td>\n",
       "      <td>c</td>\n",
       "      <td>...</td>\n",
       "      <td>NaN</td>\n",
       "      <td>NaN</td>\n",
       "      <td>NaN</td>\n",
       "      <td>HE</td>\n",
       "      <td>2015</td>\n",
       "      <td>7</td>\n",
       "      <td>31</td>\n",
       "      <td>0</td>\n",
       "      <td>3945.704883</td>\n",
       "      <td>467.646497</td>\n",
       "    </tr>\n",
       "    <tr>\n",
       "      <th>1</th>\n",
       "      <td>2</td>\n",
       "      <td>5</td>\n",
       "      <td>2015-07-31</td>\n",
       "      <td>6064</td>\n",
       "      <td>625</td>\n",
       "      <td>1</td>\n",
       "      <td>1</td>\n",
       "      <td>0</td>\n",
       "      <td>1</td>\n",
       "      <td>a</td>\n",
       "      <td>...</td>\n",
       "      <td>13.0</td>\n",
       "      <td>2010.0</td>\n",
       "      <td>Jan,Apr,Jul,Oct</td>\n",
       "      <td>TH</td>\n",
       "      <td>2015</td>\n",
       "      <td>7</td>\n",
       "      <td>31</td>\n",
       "      <td>1</td>\n",
       "      <td>4122.991507</td>\n",
       "      <td>486.045648</td>\n",
       "    </tr>\n",
       "    <tr>\n",
       "      <th>2</th>\n",
       "      <td>3</td>\n",
       "      <td>5</td>\n",
       "      <td>2015-07-31</td>\n",
       "      <td>8314</td>\n",
       "      <td>821</td>\n",
       "      <td>1</td>\n",
       "      <td>1</td>\n",
       "      <td>0</td>\n",
       "      <td>1</td>\n",
       "      <td>a</td>\n",
       "      <td>...</td>\n",
       "      <td>14.0</td>\n",
       "      <td>2011.0</td>\n",
       "      <td>Jan,Apr,Jul,Oct</td>\n",
       "      <td>NW</td>\n",
       "      <td>2015</td>\n",
       "      <td>7</td>\n",
       "      <td>31</td>\n",
       "      <td>1</td>\n",
       "      <td>5741.253715</td>\n",
       "      <td>620.286624</td>\n",
       "    </tr>\n",
       "    <tr>\n",
       "      <th>3</th>\n",
       "      <td>4</td>\n",
       "      <td>5</td>\n",
       "      <td>2015-07-31</td>\n",
       "      <td>13995</td>\n",
       "      <td>1498</td>\n",
       "      <td>1</td>\n",
       "      <td>1</td>\n",
       "      <td>0</td>\n",
       "      <td>1</td>\n",
       "      <td>c</td>\n",
       "      <td>...</td>\n",
       "      <td>NaN</td>\n",
       "      <td>NaN</td>\n",
       "      <td>NaN</td>\n",
       "      <td>BE</td>\n",
       "      <td>2015</td>\n",
       "      <td>7</td>\n",
       "      <td>31</td>\n",
       "      <td>0</td>\n",
       "      <td>8021.769639</td>\n",
       "      <td>1100.057325</td>\n",
       "    </tr>\n",
       "    <tr>\n",
       "      <th>4</th>\n",
       "      <td>5</td>\n",
       "      <td>5</td>\n",
       "      <td>2015-07-31</td>\n",
       "      <td>4822</td>\n",
       "      <td>559</td>\n",
       "      <td>1</td>\n",
       "      <td>1</td>\n",
       "      <td>0</td>\n",
       "      <td>1</td>\n",
       "      <td>a</td>\n",
       "      <td>...</td>\n",
       "      <td>NaN</td>\n",
       "      <td>NaN</td>\n",
       "      <td>NaN</td>\n",
       "      <td>SN</td>\n",
       "      <td>2015</td>\n",
       "      <td>7</td>\n",
       "      <td>31</td>\n",
       "      <td>0</td>\n",
       "      <td>3867.110403</td>\n",
       "      <td>444.360934</td>\n",
       "    </tr>\n",
       "  </tbody>\n",
       "</table>\n",
       "<p>5 rows × 25 columns</p>\n",
       "</div>"
      ],
      "text/plain": [
       "   Store  DayOfWeek        Date  Sales  Customers  Open  Promo StateHoliday  \\\n",
       "0      1          5  2015-07-31   5263        555     1      1            0   \n",
       "1      2          5  2015-07-31   6064        625     1      1            0   \n",
       "2      3          5  2015-07-31   8314        821     1      1            0   \n",
       "3      4          5  2015-07-31  13995       1498     1      1            0   \n",
       "4      5          5  2015-07-31   4822        559     1      1            0   \n",
       "\n",
       "   SchoolHoliday StoreType       ...       Promo2SinceWeek  Promo2SinceYear  \\\n",
       "0              1         c       ...                   NaN              NaN   \n",
       "1              1         a       ...                  13.0           2010.0   \n",
       "2              1         a       ...                  14.0           2011.0   \n",
       "3              1         c       ...                   NaN              NaN   \n",
       "4              1         a       ...                   NaN              NaN   \n",
       "\n",
       "     PromoInterval  State  year  month  day promo2   sales_mean  \\\n",
       "0              NaN     HE  2015      7   31      0  3945.704883   \n",
       "1  Jan,Apr,Jul,Oct     TH  2015      7   31      1  4122.991507   \n",
       "2  Jan,Apr,Jul,Oct     NW  2015      7   31      1  5741.253715   \n",
       "3              NaN     BE  2015      7   31      0  8021.769639   \n",
       "4              NaN     SN  2015      7   31      0  3867.110403   \n",
       "\n",
       "   customers_mean  \n",
       "0      467.646497  \n",
       "1      486.045648  \n",
       "2      620.286624  \n",
       "3     1100.057325  \n",
       "4      444.360934  \n",
       "\n",
       "[5 rows x 25 columns]"
      ]
     },
     "execution_count": 19,
     "metadata": {},
     "output_type": "execute_result"
    }
   ],
   "source": [
    "tr_merge = tr.merge(store, how='left', on='Store').merge(store_states, how='left', on='Store')\n",
    "tr_merge['StateHoliday'] = tr_merge.StateHoliday.map(str)\n",
    "# tr_merge['PerCustomerSales'] = tr_merge.Sales / tr_merge.Customers\n",
    "\n",
    "# Construct year, month, day columns, maybe on sepicific day or period will has some trends.\n",
    "dt = pd.to_datetime(tr_merge.Date)\n",
    "year, month, day = [], [], []\n",
    "dt.map(lambda e: [year.append(e.year), month.append(e.month), day.append(e.day)]).head()\n",
    "tr_merge['year'] = year\n",
    "tr_merge['month'] = month\n",
    "tr_merge['day'] = day\n",
    "del year, month, day\n",
    "\n",
    "# Promo2 is a continuing and consecutive promotion campaign, which have periodicity per year\n",
    "# it can calculate according to store.Promo2 and store.PromoInterval columns\n",
    "tr_merge['promo2'] = Ctrl.instance.input.cal_promo2(tr_merge)\n",
    "\n",
    "# Construct customers mean and sales mean columns, at least we know whether this store is popular\n",
    "tr_merge['sales_mean'] = tr_merge.groupby('Store').Sales.mean().reindex(tr_merge.Store).values\n",
    "tr_merge['customers_mean'] = tr_merge.groupby('Store').Customers.mean().reindex(tr_merge.Store).values\n",
    "tr_merge.head()"
   ]
  },
  {
   "cell_type": "markdown",
   "metadata": {},
   "source": [
    "## Filter some rows\n",
    "We found that on store close day of course sales equals to 0, so drop the `open = 0`"
   ]
  },
  {
   "cell_type": "code",
   "execution_count": 65,
   "metadata": {
    "scrolled": false
   },
   "outputs": [
    {
     "name": "stdout",
     "output_type": "stream",
     "text": [
      "Promo\n",
      "0    2771974337\n",
      "1    3101206286\n",
      "Name: Sales, dtype: int64\n"
     ]
    },
    {
     "data": {
      "image/png": "[encoded data removed]",
      "text/plain": [
       "<Figure size 584x288 with 4 Axes>"
      ]
     },
     "metadata": {},
     "output_type": "display_data"
    }
   ],
   "source": [
    "print(tr_merge.groupby('Promo').Sales.sum())\n",
    "g = sns.FacetGrid(tr_merge, row='Open', col='Promo', size=2, aspect=2)\n",
    "g = g.map(plt.hist, \"Sales\").add_legend()"
   ]
  },
  {
   "cell_type": "code",
   "execution_count": 66,
   "metadata": {},
   "outputs": [],
   "source": [
    "# Remove Open != 1, because Sales = 0\n",
    "tr_merge = tr_merge.query('Open == 1')\n",
    "\n",
    "# a = tr_merge.groupby(['Store', 'Promo', 'StateHoliday', 'SchoolHoliday']).agg({\n",
    "#     'Sales': sum, 'Customers': sum, 'Open': sum,\n",
    "#     # 'StoreType': max, 'Assortment': max, 'State': max\n",
    "# }).reset_index()\n",
    "# a.head(20)"
   ]
  },
  {
   "cell_type": "markdown",
   "metadata": {},
   "source": [
    "<br/>\n",
    "<br/>\n",
    "<br/>\n",
    "<br/>\n",
    "<br/>\n",
    "<br/>"
   ]
  },
  {
   "cell_type": "markdown",
   "metadata": {},
   "source": [
    "## Pearson Correlation\n",
    "- Observe whether there are continuous columns have linear relation with target column `sales`\n",
    "    - `Customers, sales_mean` have siginificant positive correlation"
   ]
  },
  {
   "cell_type": "code",
   "execution_count": 67,
   "metadata": {
    "scrolled": false
   },
   "outputs": [
    {
     "data": {
      "image/png": "[encoded data removed]",
      "text/plain": [
       "<Figure size 432x288 with 2 Axes>"
      ]
     },
     "metadata": {},
     "output_type": "display_data"
    }
   ],
   "source": [
    "plt.figure(figsize=(6, 4))\n",
    "sns.heatmap(tr_merge[['sales_mean', 'customers_mean', 'Customers', 'Sales']].corr(), annot=True)\n",
    "plt.show()"
   ]
  },
  {
   "cell_type": "markdown",
   "metadata": {},
   "source": [
    "<br/>\n",
    "<br/>\n",
    "<br/>\n",
    "<br/>\n",
    "<br/>\n",
    "<br/>\n",
    "## Univariate Analysis\n",
    "- Observe some categorical variables, see if there is some sigificant relation\n",
    "- In this section:\n",
    "    - Significant:\n",
    "        - `Promo`: the sales raise in promo perieod.\n",
    "        - `DayOfWeek`: When DayOfWeek = 7, it obviously people count less than average\n",
    "        - `StoreType`: StoreType = 'b' has the lowest counts and the highest average\n",
    "    - Not significant:\n",
    "        - `Promo2`: Nothing found!"
   ]
  },
  {
   "cell_type": "markdown",
   "metadata": {},
   "source": [
    "## Target Column: Sales\n",
    "1. Observe the the describe table and boxplot of target, the mean is about 5773, so we need to take logrithm in order to reduce scale"
   ]
  },
  {
   "cell_type": "code",
   "execution_count": 38,
   "metadata": {
    "scrolled": false
   },
   "outputs": [
    {
     "name": "stdout",
     "output_type": "stream",
     "text": [
      "count    1.017209e+06\n",
      "mean     5.773819e+03\n",
      "std      3.849926e+03\n",
      "min      0.000000e+00\n",
      "25%      3.727000e+03\n",
      "50%      5.744000e+03\n",
      "75%      7.856000e+03\n",
      "max      4.155100e+04\n",
      "Name: Sales, dtype: float64\n",
      "\n",
      "count    1.017209e+06\n",
      "mean     7.269391e+00\n",
      "std      3.312016e+00\n",
      "min      0.000000e+00\n",
      "25%      8.223627e+00\n",
      "50%      8.656085e+00\n",
      "75%      8.969160e+00\n",
      "max      1.063470e+01\n",
      "Name: Sales, dtype: float64\n"
     ]
    },
    {
     "data": {
      "image/png": "[encoded data removed]",
      "text/plain": [
       "<Figure size 576x288 with 1 Axes>"
      ]
     },
     "metadata": {},
     "output_type": "display_data"
    }
   ],
   "source": [
    "df = pd.DataFrame({'Sales': tr_merge.Sales.tolist() + np.log1p(tr_merge.Sales).tolist(), \n",
    "                   'clazz': ['Origin'] * len(tr_merge) + ['After np.log1p'] * len(tr_merge)})\n",
    "print(df.query(\"clazz == 'Origin'\").Sales.describe())\n",
    "print()\n",
    "print(df.query(\"clazz == 'After np.log1p'\").Sales.describe())\n",
    "sns.factorplot(x='clazz', y='Sales', data=df, kind=\"box\", size=4, aspect=2, sharey=False)\n",
    "plt.show()"
   ]
  },
  {
   "cell_type": "markdown",
   "metadata": {},
   "source": [
    "## Promo"
   ]
  },
  {
   "cell_type": "code",
   "execution_count": 26,
   "metadata": {},
   "outputs": [
    {
     "name": "stdout",
     "output_type": "stream",
     "text": [
      "Promo\n",
      "0    2771974337\n",
      "1    3101206286\n",
      "Name: Sales, dtype: int64\n"
     ]
    },
    {
     "data": {
      "text/plain": [
       "<seaborn.axisgrid.FacetGrid at 0x20c01d4b390>"
      ]
     },
     "execution_count": 26,
     "metadata": {},
     "output_type": "execute_result"
    },
    {
     "data": {
      "image/png": "[encoded data removed]",
      "text/plain": [
       "<Figure size 584x144 with 2 Axes>"
      ]
     },
     "metadata": {},
     "output_type": "display_data"
    },
    {
     "data": {
      "image/png": "[encoded data removed]",
      "text/plain": [
       "<Figure size 576x288 with 1 Axes>"
      ]
     },
     "metadata": {},
     "output_type": "display_data"
    }
   ],
   "source": [
    "# plt.figure(figsize=(12, 6))\n",
    "print(tr_merge.groupby('Promo').Sales.sum())\n",
    "g = sns.FacetGrid(tr_merge, row='Open', col='Promo', size=2, aspect=2)\n",
    "g = g.map(plt.hist, \"Sales\").add_legend()\n",
    "\n",
    "sns.factorplot(x=\"Promo\", y=\"Sales\", data=tr_merge, kind=\"box\", size=4, aspect=2)"
   ]
  },
  {
   "cell_type": "code",
   "execution_count": 27,
   "metadata": {},
   "outputs": [
    {
     "data": {
      "text/html": [
       "<div>\n",
       "<style scoped>\n",
       "    .dataframe tbody tr th:only-of-type {\n",
       "        vertical-align: middle;\n",
       "    }\n",
       "\n",
       "    .dataframe tbody tr th {\n",
       "        vertical-align: top;\n",
       "    }\n",
       "\n",
       "    .dataframe thead th {\n",
       "        text-align: right;\n",
       "    }\n",
       "</style>\n",
       "<table border=\"1\" class=\"dataframe\">\n",
       "  <thead>\n",
       "    <tr style=\"text-align: right;\">\n",
       "      <th></th>\n",
       "      <th>count</th>\n",
       "      <th>mean</th>\n",
       "      <th>std</th>\n",
       "      <th>min</th>\n",
       "      <th>25%</th>\n",
       "      <th>50%</th>\n",
       "      <th>75%</th>\n",
       "      <th>max</th>\n",
       "      <th>sum</th>\n",
       "    </tr>\n",
       "    <tr>\n",
       "      <th>Promo</th>\n",
       "      <th></th>\n",
       "      <th></th>\n",
       "      <th></th>\n",
       "      <th></th>\n",
       "      <th></th>\n",
       "      <th></th>\n",
       "      <th></th>\n",
       "      <th></th>\n",
       "      <th></th>\n",
       "    </tr>\n",
       "  </thead>\n",
       "  <tbody>\n",
       "    <tr>\n",
       "      <th>0</th>\n",
       "      <td>467496.0</td>\n",
       "      <td>5929.407603</td>\n",
       "      <td>2629.648385</td>\n",
       "      <td>0.0</td>\n",
       "      <td>4242.0</td>\n",
       "      <td>5459.0</td>\n",
       "      <td>7004.0</td>\n",
       "      <td>41551.0</td>\n",
       "      <td>2.771974e+09</td>\n",
       "    </tr>\n",
       "    <tr>\n",
       "      <th>1</th>\n",
       "      <td>376896.0</td>\n",
       "      <td>8228.281239</td>\n",
       "      <td>3175.759157</td>\n",
       "      <td>0.0</td>\n",
       "      <td>6069.0</td>\n",
       "      <td>7649.0</td>\n",
       "      <td>9686.0</td>\n",
       "      <td>38722.0</td>\n",
       "      <td>3.101206e+09</td>\n",
       "    </tr>\n",
       "  </tbody>\n",
       "</table>\n",
       "</div>"
      ],
      "text/plain": [
       "          count         mean          std  min     25%     50%     75%  \\\n",
       "Promo                                                                    \n",
       "0      467496.0  5929.407603  2629.648385  0.0  4242.0  5459.0  7004.0   \n",
       "1      376896.0  8228.281239  3175.759157  0.0  6069.0  7649.0  9686.0   \n",
       "\n",
       "           max           sum  \n",
       "Promo                         \n",
       "0      41551.0  2.771974e+09  \n",
       "1      38722.0  3.101206e+09  "
      ]
     },
     "execution_count": 27,
     "metadata": {},
     "output_type": "execute_result"
    }
   ],
   "source": [
    "agg = tr_merge.groupby(['Promo']).Sales.describe()\n",
    "agg['sum'] = agg['count'] * agg['mean']\n",
    "agg"
   ]
  },
  {
   "cell_type": "markdown",
   "metadata": {},
   "source": [
    "## Promo2"
   ]
  },
  {
   "cell_type": "code",
   "execution_count": 24,
   "metadata": {},
   "outputs": [
    {
     "name": "stdout",
     "output_type": "stream",
     "text": [
      "promo2\n",
      "0    4930376023\n",
      "1     942804600\n",
      "Name: Sales, dtype: int64\n"
     ]
    },
    {
     "data": {
      "text/plain": [
       "<seaborn.axisgrid.FacetGrid at 0x20c17cb9b70>"
      ]
     },
     "execution_count": 24,
     "metadata": {},
     "output_type": "execute_result"
    },
    {
     "data": {
      "image/png": "[encoded data removed]",
      "text/plain": [
       "<Figure size 584x144 with 2 Axes>"
      ]
     },
     "metadata": {},
     "output_type": "display_data"
    },
    {
     "data": {
      "image/png": "[encoded data removed]",
      "text/plain": [
       "<Figure size 576x288 with 1 Axes>"
      ]
     },
     "metadata": {},
     "output_type": "display_data"
    }
   ],
   "source": [
    "# plt.figure(figsize=(12, 6))\n",
    "print(tr_merge.groupby('promo2').Sales.sum())\n",
    "g = sns.FacetGrid(tr_merge, row='Open', col='promo2', size=2, aspect=2)\n",
    "g = g.map(plt.hist, \"Sales\").add_legend()\n",
    "\n",
    "sns.factorplot(x=\"promo2\", y=\"Sales\", data=tr_merge, kind=\"box\", size=4, aspect=2)"
   ]
  },
  {
   "cell_type": "code",
   "execution_count": 25,
   "metadata": {},
   "outputs": [
    {
     "data": {
      "text/html": [
       "<div>\n",
       "<style scoped>\n",
       "    .dataframe tbody tr th:only-of-type {\n",
       "        vertical-align: middle;\n",
       "    }\n",
       "\n",
       "    .dataframe tbody tr th {\n",
       "        vertical-align: top;\n",
       "    }\n",
       "\n",
       "    .dataframe thead th {\n",
       "        text-align: right;\n",
       "    }\n",
       "</style>\n",
       "<table border=\"1\" class=\"dataframe\">\n",
       "  <thead>\n",
       "    <tr style=\"text-align: right;\">\n",
       "      <th></th>\n",
       "      <th>count</th>\n",
       "      <th>mean</th>\n",
       "      <th>std</th>\n",
       "      <th>min</th>\n",
       "      <th>25%</th>\n",
       "      <th>50%</th>\n",
       "      <th>75%</th>\n",
       "      <th>max</th>\n",
       "      <th>sum</th>\n",
       "    </tr>\n",
       "    <tr>\n",
       "      <th>promo2</th>\n",
       "      <th></th>\n",
       "      <th></th>\n",
       "      <th></th>\n",
       "      <th></th>\n",
       "      <th></th>\n",
       "      <th></th>\n",
       "      <th></th>\n",
       "      <th></th>\n",
       "      <th></th>\n",
       "    </tr>\n",
       "  </thead>\n",
       "  <tbody>\n",
       "    <tr>\n",
       "      <th>0</th>\n",
       "      <td>699164.0</td>\n",
       "      <td>7051.816202</td>\n",
       "      <td>3185.964977</td>\n",
       "      <td>0.0</td>\n",
       "      <td>4908.0</td>\n",
       "      <td>6440.0</td>\n",
       "      <td>8476.0</td>\n",
       "      <td>41551.0</td>\n",
       "      <td>4.930376e+09</td>\n",
       "    </tr>\n",
       "    <tr>\n",
       "      <th>1</th>\n",
       "      <td>145228.0</td>\n",
       "      <td>6491.892748</td>\n",
       "      <td>2626.976161</td>\n",
       "      <td>0.0</td>\n",
       "      <td>4650.0</td>\n",
       "      <td>6044.0</td>\n",
       "      <td>7837.0</td>\n",
       "      <td>31523.0</td>\n",
       "      <td>9.428046e+08</td>\n",
       "    </tr>\n",
       "  </tbody>\n",
       "</table>\n",
       "</div>"
      ],
      "text/plain": [
       "           count         mean          std  min     25%     50%     75%  \\\n",
       "promo2                                                                    \n",
       "0       699164.0  7051.816202  3185.964977  0.0  4908.0  6440.0  8476.0   \n",
       "1       145228.0  6491.892748  2626.976161  0.0  4650.0  6044.0  7837.0   \n",
       "\n",
       "            max           sum  \n",
       "promo2                         \n",
       "0       41551.0  4.930376e+09  \n",
       "1       31523.0  9.428046e+08  "
      ]
     },
     "execution_count": 25,
     "metadata": {},
     "output_type": "execute_result"
    }
   ],
   "source": [
    "agg = tr_merge.groupby(['promo2']).Sales.describe()\n",
    "agg['sum'] = agg['count'] * agg['mean']\n",
    "agg"
   ]
  },
  {
   "cell_type": "markdown",
   "metadata": {},
   "source": [
    "### DayOfWeek"
   ]
  },
  {
   "cell_type": "code",
   "execution_count": 28,
   "metadata": {
    "scrolled": false
   },
   "outputs": [
    {
     "data": {
      "text/plain": [
       "<seaborn.axisgrid.FacetGrid at 0x20c01e58748>"
      ]
     },
     "execution_count": 28,
     "metadata": {},
     "output_type": "execute_result"
    },
    {
     "data": {
      "image/png": "[encoded data removed]",
      "text/plain": [
       "<Figure size 1512x216 with 7 Axes>"
      ]
     },
     "metadata": {},
     "output_type": "display_data"
    },
    {
     "data": {
      "image/png": "[encoded data removed]",
      "text/plain": [
       "<Figure size 864x288 with 1 Axes>"
      ]
     },
     "metadata": {},
     "output_type": "display_data"
    }
   ],
   "source": [
    "# plt.figure(figsize=(12, 6))\n",
    "g = sns.FacetGrid(tr_merge, col='DayOfWeek', sharey=True, size=3, aspect=1)\n",
    "g = g.map(plt.hist, \"Sales\")\n",
    "\n",
    "sns.factorplot(x=\"DayOfWeek\", y=\"Sales\", data=tr_merge, kind=\"box\", size=4, aspect=3)"
   ]
  },
  {
   "cell_type": "code",
   "execution_count": 29,
   "metadata": {},
   "outputs": [
    {
     "data": {
      "text/html": [
       "<div>\n",
       "<style scoped>\n",
       "    .dataframe tbody tr th:only-of-type {\n",
       "        vertical-align: middle;\n",
       "    }\n",
       "\n",
       "    .dataframe tbody tr th {\n",
       "        vertical-align: top;\n",
       "    }\n",
       "\n",
       "    .dataframe thead th {\n",
       "        text-align: right;\n",
       "    }\n",
       "</style>\n",
       "<table border=\"1\" class=\"dataframe\">\n",
       "  <thead>\n",
       "    <tr style=\"text-align: right;\">\n",
       "      <th></th>\n",
       "      <th>count</th>\n",
       "      <th>mean</th>\n",
       "      <th>std</th>\n",
       "      <th>min</th>\n",
       "      <th>25%</th>\n",
       "      <th>50%</th>\n",
       "      <th>75%</th>\n",
       "      <th>max</th>\n",
       "      <th>sum</th>\n",
       "    </tr>\n",
       "    <tr>\n",
       "      <th>DayOfWeek</th>\n",
       "      <th></th>\n",
       "      <th></th>\n",
       "      <th></th>\n",
       "      <th></th>\n",
       "      <th></th>\n",
       "      <th></th>\n",
       "      <th></th>\n",
       "      <th></th>\n",
       "      <th></th>\n",
       "    </tr>\n",
       "  </thead>\n",
       "  <tbody>\n",
       "    <tr>\n",
       "      <th>1</th>\n",
       "      <td>137560.0</td>\n",
       "      <td>8216.073074</td>\n",
       "      <td>3691.768876</td>\n",
       "      <td>0.0</td>\n",
       "      <td>5538.0</td>\n",
       "      <td>7539.0</td>\n",
       "      <td>10133.0</td>\n",
       "      <td>41551.0</td>\n",
       "      <td>1.130203e+09</td>\n",
       "    </tr>\n",
       "    <tr>\n",
       "      <th>2</th>\n",
       "      <td>143961.0</td>\n",
       "      <td>7088.113656</td>\n",
       "      <td>3066.237110</td>\n",
       "      <td>0.0</td>\n",
       "      <td>4960.0</td>\n",
       "      <td>6502.0</td>\n",
       "      <td>8521.0</td>\n",
       "      <td>34692.0</td>\n",
       "      <td>1.020412e+09</td>\n",
       "    </tr>\n",
       "    <tr>\n",
       "      <th>3</th>\n",
       "      <td>141936.0</td>\n",
       "      <td>6728.122978</td>\n",
       "      <td>2781.775174</td>\n",
       "      <td>0.0</td>\n",
       "      <td>4829.0</td>\n",
       "      <td>6210.0</td>\n",
       "      <td>7987.0</td>\n",
       "      <td>33151.0</td>\n",
       "      <td>9.549629e+08</td>\n",
       "    </tr>\n",
       "    <tr>\n",
       "      <th>4</th>\n",
       "      <td>134644.0</td>\n",
       "      <td>6767.310159</td>\n",
       "      <td>2764.548119</td>\n",
       "      <td>0.0</td>\n",
       "      <td>4900.0</td>\n",
       "      <td>6246.0</td>\n",
       "      <td>7987.0</td>\n",
       "      <td>38367.0</td>\n",
       "      <td>9.111777e+08</td>\n",
       "    </tr>\n",
       "    <tr>\n",
       "      <th>5</th>\n",
       "      <td>138640.0</td>\n",
       "      <td>7072.677012</td>\n",
       "      <td>2764.915744</td>\n",
       "      <td>0.0</td>\n",
       "      <td>5205.0</td>\n",
       "      <td>6580.0</td>\n",
       "      <td>8324.0</td>\n",
       "      <td>38722.0</td>\n",
       "      <td>9.805559e+08</td>\n",
       "    </tr>\n",
       "    <tr>\n",
       "      <th>6</th>\n",
       "      <td>144058.0</td>\n",
       "      <td>5874.840238</td>\n",
       "      <td>2852.730426</td>\n",
       "      <td>0.0</td>\n",
       "      <td>3925.0</td>\n",
       "      <td>5425.0</td>\n",
       "      <td>7232.0</td>\n",
       "      <td>31683.0</td>\n",
       "      <td>8.463177e+08</td>\n",
       "    </tr>\n",
       "    <tr>\n",
       "      <th>7</th>\n",
       "      <td>3593.0</td>\n",
       "      <td>8224.723908</td>\n",
       "      <td>6235.152960</td>\n",
       "      <td>286.0</td>\n",
       "      <td>3314.0</td>\n",
       "      <td>6876.0</td>\n",
       "      <td>11418.0</td>\n",
       "      <td>37376.0</td>\n",
       "      <td>2.955143e+07</td>\n",
       "    </tr>\n",
       "  </tbody>\n",
       "</table>\n",
       "</div>"
      ],
      "text/plain": [
       "              count         mean          std    min     25%     50%      75%  \\\n",
       "DayOfWeek                                                                       \n",
       "1          137560.0  8216.073074  3691.768876    0.0  5538.0  7539.0  10133.0   \n",
       "2          143961.0  7088.113656  3066.237110    0.0  4960.0  6502.0   8521.0   \n",
       "3          141936.0  6728.122978  2781.775174    0.0  4829.0  6210.0   7987.0   \n",
       "4          134644.0  6767.310159  2764.548119    0.0  4900.0  6246.0   7987.0   \n",
       "5          138640.0  7072.677012  2764.915744    0.0  5205.0  6580.0   8324.0   \n",
       "6          144058.0  5874.840238  2852.730426    0.0  3925.0  5425.0   7232.0   \n",
       "7            3593.0  8224.723908  6235.152960  286.0  3314.0  6876.0  11418.0   \n",
       "\n",
       "               max           sum  \n",
       "DayOfWeek                         \n",
       "1          41551.0  1.130203e+09  \n",
       "2          34692.0  1.020412e+09  \n",
       "3          33151.0  9.549629e+08  \n",
       "4          38367.0  9.111777e+08  \n",
       "5          38722.0  9.805559e+08  \n",
       "6          31683.0  8.463177e+08  \n",
       "7          37376.0  2.955143e+07  "
      ]
     },
     "execution_count": 29,
     "metadata": {},
     "output_type": "execute_result"
    }
   ],
   "source": [
    "agg = tr_merge.groupby('DayOfWeek').Sales.describe()\n",
    "agg['sum'] = agg['count'] * agg['mean']\n",
    "agg"
   ]
  },
  {
   "cell_type": "markdown",
   "metadata": {},
   "source": [
    "## StoreType"
   ]
  },
  {
   "cell_type": "code",
   "execution_count": 72,
   "metadata": {},
   "outputs": [
    {
     "data": {
      "text/plain": [
       "<seaborn.axisgrid.FacetGrid at 0x1f7a3d94a90>"
      ]
     },
     "execution_count": 72,
     "metadata": {},
     "output_type": "execute_result"
    },
    {
     "data": {
      "image/png": "[encoded data removed]",
      "text/plain": [
       "<Figure size 864x216 with 4 Axes>"
      ]
     },
     "metadata": {},
     "output_type": "display_data"
    },
    {
     "data": {
      "image/png": "[encoded data removed]",
      "text/plain": [
       "<Figure size 864x288 with 1 Axes>"
      ]
     },
     "metadata": {},
     "output_type": "display_data"
    }
   ],
   "source": [
    "g = sns.FacetGrid(tr_merge, col='StoreType', sharey=True, size=3, aspect=1)\n",
    "g = g.map(plt.hist, \"Sales\")\n",
    "\n",
    "sns.factorplot(x=\"StoreType\", y=\"Sales\", data=tr_merge, kind=\"box\", size=4, aspect=3)"
   ]
  },
  {
   "cell_type": "code",
   "execution_count": 73,
   "metadata": {},
   "outputs": [
    {
     "data": {
      "text/html": [
       "<div>\n",
       "<style scoped>\n",
       "    .dataframe tbody tr th:only-of-type {\n",
       "        vertical-align: middle;\n",
       "    }\n",
       "\n",
       "    .dataframe tbody tr th {\n",
       "        vertical-align: top;\n",
       "    }\n",
       "\n",
       "    .dataframe thead th {\n",
       "        text-align: right;\n",
       "    }\n",
       "</style>\n",
       "<table border=\"1\" class=\"dataframe\">\n",
       "  <thead>\n",
       "    <tr style=\"text-align: right;\">\n",
       "      <th></th>\n",
       "      <th>count</th>\n",
       "      <th>mean</th>\n",
       "      <th>std</th>\n",
       "      <th>min</th>\n",
       "      <th>25%</th>\n",
       "      <th>50%</th>\n",
       "      <th>75%</th>\n",
       "      <th>max</th>\n",
       "      <th>sum</th>\n",
       "    </tr>\n",
       "    <tr>\n",
       "      <th>StoreType</th>\n",
       "      <th></th>\n",
       "      <th></th>\n",
       "      <th></th>\n",
       "      <th></th>\n",
       "      <th></th>\n",
       "      <th></th>\n",
       "      <th></th>\n",
       "      <th></th>\n",
       "      <th></th>\n",
       "    </tr>\n",
       "  </thead>\n",
       "  <tbody>\n",
       "    <tr>\n",
       "      <th>a</th>\n",
       "      <td>457077.0</td>\n",
       "      <td>6925.167661</td>\n",
       "      <td>3277.786381</td>\n",
       "      <td>0.0</td>\n",
       "      <td>4695.0</td>\n",
       "      <td>6285.0</td>\n",
       "      <td>8406.0</td>\n",
       "      <td>41551.0</td>\n",
       "      <td>3.165335e+09</td>\n",
       "    </tr>\n",
       "    <tr>\n",
       "      <th>b</th>\n",
       "      <td>15563.0</td>\n",
       "      <td>10231.407505</td>\n",
       "      <td>5157.190155</td>\n",
       "      <td>0.0</td>\n",
       "      <td>6344.0</td>\n",
       "      <td>9130.0</td>\n",
       "      <td>13183.5</td>\n",
       "      <td>38722.0</td>\n",
       "      <td>1.592314e+08</td>\n",
       "    </tr>\n",
       "    <tr>\n",
       "      <th>c</th>\n",
       "      <td>112978.0</td>\n",
       "      <td>6932.512755</td>\n",
       "      <td>2897.564578</td>\n",
       "      <td>0.0</td>\n",
       "      <td>4915.0</td>\n",
       "      <td>6407.0</td>\n",
       "      <td>8349.0</td>\n",
       "      <td>31448.0</td>\n",
       "      <td>7.832214e+08</td>\n",
       "    </tr>\n",
       "    <tr>\n",
       "      <th>d</th>\n",
       "      <td>258774.0</td>\n",
       "      <td>6822.141881</td>\n",
       "      <td>2556.582881</td>\n",
       "      <td>0.0</td>\n",
       "      <td>5050.0</td>\n",
       "      <td>6395.0</td>\n",
       "      <td>8123.0</td>\n",
       "      <td>38037.0</td>\n",
       "      <td>1.765393e+09</td>\n",
       "    </tr>\n",
       "  </tbody>\n",
       "</table>\n",
       "</div>"
      ],
      "text/plain": [
       "              count          mean          std  min     25%     50%      75%  \\\n",
       "StoreType                                                                      \n",
       "a          457077.0   6925.167661  3277.786381  0.0  4695.0  6285.0   8406.0   \n",
       "b           15563.0  10231.407505  5157.190155  0.0  6344.0  9130.0  13183.5   \n",
       "c          112978.0   6932.512755  2897.564578  0.0  4915.0  6407.0   8349.0   \n",
       "d          258774.0   6822.141881  2556.582881  0.0  5050.0  6395.0   8123.0   \n",
       "\n",
       "               max           sum  \n",
       "StoreType                         \n",
       "a          41551.0  3.165335e+09  \n",
       "b          38722.0  1.592314e+08  \n",
       "c          31448.0  7.832214e+08  \n",
       "d          38037.0  1.765393e+09  "
      ]
     },
     "execution_count": 73,
     "metadata": {},
     "output_type": "execute_result"
    }
   ],
   "source": [
    "agg = tr_merge.groupby('StoreType').Sales.describe()\n",
    "agg['sum'] = agg['count'] * agg['mean']\n",
    "agg"
   ]
  },
  {
   "cell_type": "markdown",
   "metadata": {},
   "source": [
    "<br/>\n",
    "<br/>\n",
    "<br/>\n",
    "<br/>\n",
    "<br/>\n",
    "## Bivariate Analysis\n",
    "- In this section:\n",
    "    - Significant:\n",
    "        - `Promo + StateHoliday`: In mean heatmap figure, there is a peak on StateHoliday = 'b'\n",
    "        - `State + StoreType`: When StoreType = 'b', the average of sales are unstable, and many States don't have StoreType 'b'\n",
    "        \n",
    "    - Not significant:\n",
    "        - `Promo + SchoolHoliday`: Just found sum of the records with SchoolHoliday = 1 are less\n",
    "        - `month + day`: In count heatmap, obviously records count(customers count) before july are upper than average, but we founds many store loss records in late date of timeline, that's why\n",
    "        - `year + month`: Some peak in mean heatmap in December, corresponding to mean heatmap of [month + day], not really significant"
   ]
  },
  {
   "cell_type": "code",
   "execution_count": 68,
   "metadata": {},
   "outputs": [],
   "source": [
    "def heatmap(*cols, annot=True):\n",
    "    # cols = ['Promo', 'SchoolHoliday']\n",
    "    pivot_params = list(cols) + ['Sales']\n",
    "    g = tr_merge.groupby(cols).Sales\n",
    "    mean_ = g.mean().reset_index().pivot(*pivot_params)\n",
    "    count_ = g.size().reset_index().pivot(*pivot_params)\n",
    "    sum_ = g.sum().reset_index().pivot(*pivot_params)\n",
    "\n",
    "    f, axs = plt.subplots(1, 3, figsize=(16, 4))\n",
    "    sns.heatmap(mean_, annot=annot, ax=axs[0])\n",
    "    sns.heatmap(count_, annot=annot, ax=axs[1])\n",
    "    sns.heatmap(sum_, annot=annot, ax=axs[2])\n",
    "    axs[0].set_title(f'mean')\n",
    "    axs[1].set_title(f'count')\n",
    "    axs[2].set_title(f'sum')\n",
    "    plt.show()"
   ]
  },
  {
   "cell_type": "markdown",
   "metadata": {},
   "source": [
    "### Promo, SchoolHoliday "
   ]
  },
  {
   "cell_type": "code",
   "execution_count": 69,
   "metadata": {},
   "outputs": [
    {
     "data": {
      "image/png": "[encoded data removed]",
      "text/plain": [
       "<Figure size 584x288 with 4 Axes>"
      ]
     },
     "metadata": {},
     "output_type": "display_data"
    },
    {
     "data": {
      "image/png": "[encoded data removed]",
      "text/plain": [
       "<Figure size 864x216 with 2 Axes>"
      ]
     },
     "metadata": {},
     "output_type": "display_data"
    },
    {
     "data": {
      "image/png": "[encoded data removed]",
      "text/plain": [
       "<Figure size 1152x288 with 6 Axes>"
      ]
     },
     "metadata": {},
     "output_type": "display_data"
    }
   ],
   "source": [
    "# print(tr_merge.groupby(['Store', 'SchoolHoliday', 'Promo']).Sales.sum())\n",
    "g = sns.FacetGrid(tr_merge, row='SchoolHoliday', col='Promo', size=2, aspect=2)\n",
    "g = g.map(plt.hist, \"Sales\").add_legend()\n",
    "\n",
    "sns.factorplot(x=\"Promo\", y=\"Sales\", col='SchoolHoliday', data=tr_merge, kind=\"box\", size=3, aspect=2)\n",
    "\n",
    "heatmap('Promo', 'SchoolHoliday')"
   ]
  },
  {
   "cell_type": "markdown",
   "metadata": {},
   "source": [
    "### Promo, StateHoliday "
   ]
  },
  {
   "cell_type": "code",
   "execution_count": 33,
   "metadata": {
    "scrolled": false
   },
   "outputs": [
    {
     "data": {
      "image/png": "[encoded data removed]",
      "text/plain": [
       "<Figure size 1728x216 with 4 Axes>"
      ]
     },
     "metadata": {},
     "output_type": "display_data"
    },
    {
     "data": {
      "image/png": "[encoded data removed]",
      "text/plain": [
       "<Figure size 1152x288 with 6 Axes>"
      ]
     },
     "metadata": {},
     "output_type": "display_data"
    }
   ],
   "source": [
    "# g = sns.FacetGrid(tr_merge, row='StateHoliday', col='Promo', size=2, aspect=2)\n",
    "# g = g.map(plt.hist, \"Sales\").add_legend()\n",
    "\n",
    "sns.factorplot(x=\"Promo\", y=\"Sales\", col='StateHoliday', data=tr_merge, kind=\"box\", size=3, aspect=2)\n",
    "\n",
    "heatmap('Promo', 'StateHoliday')"
   ]
  },
  {
   "cell_type": "markdown",
   "metadata": {},
   "source": [
    "### State, StoreType"
   ]
  },
  {
   "cell_type": "code",
   "execution_count": 74,
   "metadata": {
    "scrolled": false
   },
   "outputs": [
    {
     "data": {
      "image/png": "[encoded data removed]",
      "text/plain": [
       "<Figure size 864x1152 with 4 Axes>"
      ]
     },
     "metadata": {},
     "output_type": "display_data"
    },
    {
     "data": {
      "image/png": "[encoded data removed]",
      "text/plain": [
       "<Figure size 1152x288 with 6 Axes>"
      ]
     },
     "metadata": {},
     "output_type": "display_data"
    }
   ],
   "source": [
    "# g = sns.FacetGrid(tr_merge, col='State', row='StoreType', sharey=True, size=4, aspect=.5)\n",
    "# g = g.map(plt.hist, \"Sales\")\n",
    "\n",
    "sns.factorplot(x=\"State\", y=\"Sales\", row='StoreType', data=tr_merge, kind=\"box\", size=4, aspect=3)\n",
    "\n",
    "heatmap('State', 'StoreType', annot=False)"
   ]
  },
  {
   "cell_type": "code",
   "execution_count": 36,
   "metadata": {
    "scrolled": false
   },
   "outputs": [
    {
     "data": {
      "image/png": "[encoded data removed]",
      "text/plain": [
       "<Figure size 1152x288 with 6 Axes>"
      ]
     },
     "metadata": {},
     "output_type": "display_data"
    }
   ],
   "source": [
    "# sns.factorplot(x=\"day\", y=\"Sales\", row='month', data=tr_merge, kind=\"box\", size=4, aspect=3)\n",
    "heatmap('month', 'day', annot=False)"
   ]
  },
  {
   "cell_type": "markdown",
   "metadata": {},
   "source": [
    "<br/>\n",
    "<br/>\n",
    "<br/>\n",
    "## Recall The Exploration\n",
    "There are many combination of columns we didn't see, to view all the combination is not efficient, that's why we use embedding to encode the categorical variables, in Tensorflow, `tf.feature_columns.crossed_column` can help us to make machine learn the information hidden in data, or handle all the combination by yourself, but imagine that we couldn't expect all the crossed combination happend in training data, if some outlier happened in serving time, the performance usually bad as expected.\n",
    "<br/><br/>\n",
    "Fortunately, without using crossed features we still got good performance, and we drop `year` columns as the same reason we mentioned, future year not show in training data result in the bad performance happended (Remember we treat year as categorical variable), month and day features  show periodically"
   ]
  },
  {
   "cell_type": "markdown",
   "metadata": {},
   "source": [
    "## Module structure\n",
    "    ```\n",
    "    └─trainer\n",
    "        │  app_conf.py\n",
    "        │  ctrl.py\n",
    "        │  input.py\n",
    "        │  logging.yaml\n",
    "        │  metadata.py\n",
    "        │  model.py\n",
    "        │  service.py\n",
    "        └─ utils.py        \n",
    "    ```\n",
    "    Directory trainer contains all modules: \n",
    "    \n",
    "|File Name| Purpose| Do You Need to Change?\n",
    "|:---|:---|:---\n",
    "|[app_conf.py](trainer/app_conf.py) | Applicaiton configures, tell where are the training data, the model checkpoint directory, and hyperparameter | **Yes**, any params you don't want to pass in ctrl.py, you can put them here, but still, like the path to train directory, it's suggested to put app_conf.py instead of pass on the fly to controller.\n",
    "|[ctrl.py](trainer/ctrl.py) |The entrance of the program, accept any parameters, protable for local terminal or restful style environment. | **Maybe**, althought the processing is constructed, some of detail you might wont to modify.\n",
    "|[service.py](trainer/service.py) |The business logic module behind the controller(ctrl.py) | **Yes**, usually you still have your own programe process\n",
    "|[utils.py](trainer/service.py) | Utility module, some common function to put here, like logging function. | **Yes**, maybe you will have some special utils function to implement.\n",
    "|[metadata.py](trainer/metadata.py)|Defines: 1) task type, 2) input data header, 3) numeric and categorical feature names, 4) target feature name (and labels, for a classification task), and 5) unused feature names. | **Yes**, as you will need to specify the metadata of your dataset. **This might be the only module to change!**\n",
    "|[input.py](trainer/input.py)| Includes: 1) data input functions to read data from csv and tfrecords files, 2) parsing functions to convert csv and tf.example to tensors, 3) function to implement your features custom  processing and creation functionality, and 4) prediction functions (for serving the model) that accepts CSV, JSON, and tf.example instances. | **Maybe**, if you want to implement any custom pre-processing and feature creation during reading data.\n",
    "|[model.py](trainer/model.py)|Includes: 1) function to create DNNRegressor, 2) function to implement for a custom estimator model_fn. 3) include **Feature class** to assign the feature spec, the feature spec usually bind for specific model, so we put them together. | **Yes**, in **Model.get_estimator** Usually, at least you want to modify the hidden_units params."
   ]
  },
  {
   "cell_type": "markdown",
   "metadata": {},
   "source": [
    "<br/>\n",
    "<br/>\n",
    "<br/>\n",
    "## Data preprocessing\n",
    "1. Data offered like this\n",
    "    ```\n",
    "    │  store.csv\n",
    "    │  store_states.csv\n",
    "    │  test.csv\n",
    "    └─ train.csv\n",
    "    ```\n",
    "2. Data pipeline on training period we propose 4 steps: **prepare -> fit -> transform -> split**\n",
    "    - Prepare: \n",
    "        - Join store and store_states to make the **Fat table**\n",
    "        - Add features we mentioned in data exploration, drop also.\n",
    "        - Filter some records not appropriate, like open = 0\n",
    "        - Maybe persistent some files\n",
    "    - Fit: \n",
    "        - Persistent the statistical information of numeric features\n",
    "        - Persistent the unique count value of categorical features\n",
    "    - Transform:\n",
    "        - Normalization, logarithm ... etc.\n",
    "        - Make all categorical variable to int, one hot encoding ... etc.\n",
    "        - Take logarithm of the target column\n",
    "    - Split:\n",
    "        - Do split logic, in this case we order by date, and take 0.3 as valid data size, train data is first 0.7 part, and rest is valid data\n",
    "        \n",
    "3. Data pipeline on serving period just 2 steps: **prepare -> transform**\n",
    "    - Prepare: As prepare step in training period, just some detail different, like not filter open = 0 here\n",
    "    - Transform: Same as transform step in training period, usually delete the target column\n",
    "    \n",
    "4. There is something weird is feature `Customers` is not in the test.csv, at heatmap of pearson corr we know that this feature got linear relation with the target column, but pity is we have to drop the column."
   ]
  },
  {
   "cell_type": "code",
   "execution_count": null,
   "metadata": {
    "scrolled": true
   },
   "outputs": [],
   "source": [
    "%%time\n",
    "from trainer import app_conf, input, metadata\n",
    "from trainer.ctrl import Ctrl\n",
    "\n",
    "Ctrl.instance.prepare(app_conf.instance)"
   ]
  },
  {
   "cell_type": "markdown",
   "metadata": {},
   "source": [
    "<br/>\n",
    "<br/>\n",
    "<br/>\n",
    "## Model Structure\n",
    "\n",
    "The model mainly use tf.esimator.DNNRegressor\n",
    "- Loss function: mean squre error, default fixed by `tf.estimator.DNNRegressor` \n",
    "- DNN Structure: `81 -> 1000 -> 500 -> 1`, 81 is the dimension of concatenate all features, the last output dimension must set to 1 because of the prediction target is float.\n",
    "- No dropout: check the train section, we use best checkpoint picker to avoid overfitting.\n",
    "- ReLU activation function at each layer\n",
    "<br/><br/>\n",
    "\n",
    "## Train\n",
    "- Training for 3 epochs, use `tf.estimator.DNNRegressor`\n",
    "- Use `tf.train.GradientDescent` Optimizer with learning rate `0.0001`\n",
    "- Batch size = 256\n",
    "- Best exporter: we do evaluation on every train epoch end, the export condition is better than last evaluation(lower loss or higher accuracy),\n",
    "we don't export the worse result.\n",
    "- When validation time, we observe the `MAE(Mean Absolute Error)` and `RMSE(Root Mean Square Error)` error metrics"
   ]
  },
  {
   "cell_type": "code",
   "execution_count": 28,
   "metadata": {
    "scrolled": true
   },
   "outputs": [
    {
     "name": "stdout",
     "output_type": "stream",
     "text": [
      "2018-07-17 18:03:06,098 - trainer.service - INFO [line:25] - Deleted job_dir D:\\Python\\notebook\\ml_specialized\\rossmann/models/dnn_regressor to avoid re-use\n",
      "2018-07-17 18:03:06,117 - trainer.service - INFO [line:39] - Model Directory: D:\\Python\\notebook\\ml_specialized\\rossmann/models/dnn_regressor\n",
      "2018-07-17 18:03:06,118 - BestScoreExporter - INFO [line:95] - BestScoreExporter init\n",
      "INFO:Feature stats were successfully loaded from local file...\n",
      "INFO:tensorflow:Using config: {'_model_dir': 'D:\\\\Python\\\\notebook\\\\ml_specialized\\\\rossmann/models/dnn_regressor', '_tf_random_seed': 878787, '_save_summary_steps': 100, '_save_checkpoints_steps': None, '_save_checkpoints_secs': 600, '_session_config': None, '_keep_checkpoint_max': 3, '_keep_checkpoint_every_n_hours': 10000, '_log_step_count_steps': 500, '_train_distribute': None, '_service': None, '_cluster_spec': <tensorflow.python.training.server_lib.ClusterSpec object at 0x000001B247267B38>, '_task_type': 'worker', '_task_id': 0, '_global_id_in_cluster': 0, '_master': '', '_evaluation_master': '', '_is_chief': True, '_num_ps_replicas': 0, '_num_worker_replicas': 1}\n",
      "2018-07-17 18:03:06,127 - tensorflow - INFO [line:116] - Using config: {'_model_dir': 'D:\\\\Python\\\\notebook\\\\ml_specialized\\\\rossmann/models/dnn_regressor', '_tf_random_seed': 878787, '_save_summary_steps': 100, '_save_checkpoints_steps': None, '_save_checkpoints_secs': 600, '_session_config': None, '_keep_checkpoint_max': 3, '_keep_checkpoint_every_n_hours': 10000, '_log_step_count_steps': 500, '_train_distribute': None, '_service': None, '_cluster_spec': <tensorflow.python.training.server_lib.ClusterSpec object at 0x000001B247267B38>, '_task_type': 'worker', '_task_id': 0, '_global_id_in_cluster': 0, '_master': '', '_evaluation_master': '', '_is_chief': True, '_num_ps_replicas': 0, '_num_worker_replicas': 1}\n",
      "INFO:tensorflow:Using config: {'_model_dir': 'D:\\\\Python\\\\notebook\\\\ml_specialized\\\\rossmann/models/dnn_regressor', '_tf_random_seed': 878787, '_save_summary_steps': 100, '_save_checkpoints_steps': None, '_save_checkpoints_secs': 600, '_session_config': None, '_keep_checkpoint_max': 3, '_keep_checkpoint_every_n_hours': 10000, '_log_step_count_steps': 500, '_train_distribute': None, '_service': None, '_cluster_spec': <tensorflow.python.training.server_lib.ClusterSpec object at 0x000001B247A25EB8>, '_task_type': 'worker', '_task_id': 0, '_global_id_in_cluster': 0, '_master': '', '_evaluation_master': '', '_is_chief': True, '_num_ps_replicas': 0, '_num_worker_replicas': 1}\n",
      "2018-07-17 18:03:06,133 - tensorflow - INFO [line:116] - Using config: {'_model_dir': 'D:\\\\Python\\\\notebook\\\\ml_specialized\\\\rossmann/models/dnn_regressor', '_tf_random_seed': 878787, '_save_summary_steps': 100, '_save_checkpoints_steps': None, '_save_checkpoints_secs': 600, '_session_config': None, '_keep_checkpoint_max': 3, '_keep_checkpoint_every_n_hours': 10000, '_log_step_count_steps': 500, '_train_distribute': None, '_service': None, '_cluster_spec': <tensorflow.python.training.server_lib.ClusterSpec object at 0x000001B247A25EB8>, '_task_type': 'worker', '_task_id': 0, '_global_id_in_cluster': 0, '_master': '', '_evaluation_master': '', '_is_chief': True, '_num_ps_replicas': 0, '_num_worker_replicas': 1}\n",
      "creating a regression model: <tensorflow.python.estimator.estimator.Estimator object at 0x000001B247A25E80>\n",
      "INFO:tensorflow:Running training and evaluation locally (non-distributed).\n",
      "2018-07-17 18:03:06,136 - tensorflow - INFO [line:116] - Running training and evaluation locally (non-distributed).\n",
      "INFO:tensorflow:Start train and evaluate loop. The evaluate will happen after 600 secs (eval_spec.throttle_secs) or training is finished.\n",
      "2018-07-17 18:03:06,138 - tensorflow - INFO [line:116] - Start train and evaluate loop. The evaluate will happen after 600 secs (eval_spec.throttle_secs) or training is finished.\n",
      "2018-07-17 18:03:06,171 - trainer.input - INFO [line:356] - \n",
      "2018-07-17 18:03:06,173 - trainer.input - INFO [line:357] - * data input_fn:\n",
      "2018-07-17 18:03:06,174 - trainer.input - INFO [line:358] - ================\n",
      "2018-07-17 18:03:06,175 - trainer.input - INFO [line:359] - Mode: train\n",
      "2018-07-17 18:03:06,176 - trainer.input - INFO [line:360] - Input file(s): D:\\Python\\notebook\\ml_specialized\\rossmann/data/processed/train_pr.csv\n",
      "2018-07-17 18:03:06,176 - trainer.input - INFO [line:361] - Files encoding: csv\n",
      "2018-07-17 18:03:06,177 - trainer.input - INFO [line:362] - Batch size: 256\n",
      "2018-07-17 18:03:06,178 - trainer.input - INFO [line:363] - Epoch count: 1\n",
      "2018-07-17 18:03:06,179 - trainer.input - INFO [line:364] - Thread count: 8\n",
      "2018-07-17 18:03:06,179 - trainer.input - INFO [line:365] - Shuffle: True\n",
      "2018-07-17 18:03:06,180 - trainer.input - INFO [line:366] - ================\n",
      "2018-07-17 18:03:06,181 - trainer.input - INFO [line:367] - \n",
      "2018-07-17 18:03:06,193 - trainer.input - INFO [line:307] - is_serving: False\n",
      "columns: [<tf.Tensor 'DecodeCSV:0' shape=(1,) dtype=int32>, <tf.Tensor 'DecodeCSV:1' shape=(1,) dtype=int32>, <tf.Tensor 'DecodeCSV:2' shape=(1,) dtype=int32>, <tf.Tensor 'DecodeCSV:3' shape=(1,) dtype=int32>, <tf.Tensor 'DecodeCSV:4' shape=(1,) dtype=int32>, <tf.Tensor 'DecodeCSV:5' shape=(1,) dtype=string>, <tf.Tensor 'DecodeCSV:6' shape=(1,) dtype=int32>, <tf.Tensor 'DecodeCSV:7' shape=(1,) dtype=string>, <tf.Tensor 'DecodeCSV:8' shape=(1,) dtype=string>, <tf.Tensor 'DecodeCSV:9' shape=(1,) dtype=string>, <tf.Tensor 'DecodeCSV:10' shape=(1,) dtype=int32>, <tf.Tensor 'DecodeCSV:11' shape=(1,) dtype=int32>, <tf.Tensor 'DecodeCSV:12' shape=(1,) dtype=float32>, <tf.Tensor 'DecodeCSV:13' shape=(1,) dtype=float32>]\n",
      "INFO:tensorflow:Calling model_fn.\n",
      "2018-07-17 18:03:06,278 - tensorflow - INFO [line:116] - Calling model_fn.\n",
      "INFO:tensorflow:Calling model_fn.\n",
      "2018-07-17 18:03:06,280 - tensorflow - INFO [line:116] - Calling model_fn.\n",
      "INFO:tensorflow:Done calling model_fn.\n",
      "2018-07-17 18:03:07,840 - tensorflow - INFO [line:116] - Done calling model_fn.\n",
      "INFO:tensorflow:Done calling model_fn.\n",
      "2018-07-17 18:03:07,842 - tensorflow - INFO [line:116] - Done calling model_fn.\n",
      "INFO:tensorflow:Create CheckpointSaverHook.\n",
      "2018-07-17 18:03:07,843 - tensorflow - INFO [line:116] - Create CheckpointSaverHook.\n",
      "INFO:tensorflow:Graph was finalized.\n",
      "2018-07-17 18:03:07,941 - tensorflow - INFO [line:116] - Graph was finalized.\n",
      "INFO:tensorflow:Running local_init_op.\n",
      "2018-07-17 18:03:08,081 - tensorflow - INFO [line:116] - Running local_init_op.\n",
      "INFO:tensorflow:Done running local_init_op.\n",
      "2018-07-17 18:03:08,110 - tensorflow - INFO [line:116] - Done running local_init_op.\n",
      "INFO:tensorflow:Saving checkpoints for 1 into D:\\Python\\notebook\\ml_specialized\\rossmann/models/dnn_regressor\\model.ckpt.\n",
      "2018-07-17 18:03:09,465 - tensorflow - INFO [line:116] - Saving checkpoints for 1 into D:\\Python\\notebook\\ml_specialized\\rossmann/models/dnn_regressor\\model.ckpt.\n",
      "INFO:tensorflow:loss = 17944.408, step = 0\n",
      "2018-07-17 18:03:09,674 - tensorflow - INFO [line:116] - loss = 17944.408, step = 0\n",
      "INFO:tensorflow:global_step/sec: 40.4973\n",
      "2018-07-17 18:03:22,021 - tensorflow - INFO [line:116] - global_step/sec: 40.4973\n",
      "INFO:tensorflow:loss = 9.106794, step = 500 (12.351 sec)\n",
      "2018-07-17 18:03:22,026 - tensorflow - INFO [line:116] - loss = 9.106794, step = 500 (12.351 sec)\n",
      "INFO:tensorflow:global_step/sec: 41.9434\n",
      "2018-07-17 18:03:33,942 - tensorflow - INFO [line:116] - global_step/sec: 41.9434\n",
      "INFO:tensorflow:loss = 28.142458, step = 1000 (11.920 sec)\n",
      "2018-07-17 18:03:33,946 - tensorflow - INFO [line:116] - loss = 28.142458, step = 1000 (11.920 sec)\n",
      "INFO:tensorflow:global_step/sec: 42.9883\n",
      "2018-07-17 18:03:45,573 - tensorflow - INFO [line:116] - global_step/sec: 42.9883\n",
      "INFO:tensorflow:loss = 9.887515, step = 1500 (11.632 sec)\n",
      "2018-07-17 18:03:45,578 - tensorflow - INFO [line:116] - loss = 9.887515, step = 1500 (11.632 sec)\n",
      "INFO:tensorflow:global_step/sec: 43.059\n",
      "2018-07-17 18:03:57,185 - tensorflow - INFO [line:116] - global_step/sec: 43.059\n",
      "INFO:tensorflow:loss = 9.448976, step = 2000 (11.611 sec)\n",
      "2018-07-17 18:03:57,189 - tensorflow - INFO [line:116] - loss = 9.448976, step = 2000 (11.611 sec)\n",
      "INFO:tensorflow:Saving checkpoints for 2311 into D:\\Python\\notebook\\ml_specialized\\rossmann/models/dnn_regressor\\model.ckpt.\n"
     ]
    },
    {
     "name": "stdout",
     "output_type": "stream",
     "text": [
      "2018-07-17 18:04:04,493 - tensorflow - INFO [line:116] - Saving checkpoints for 2311 into D:\\Python\\notebook\\ml_specialized\\rossmann/models/dnn_regressor\\model.ckpt.\n",
      "INFO:tensorflow:Loss for final step: 5.4741173.\n",
      "2018-07-17 18:04:04,674 - tensorflow - INFO [line:116] - Loss for final step: 5.4741173.\n",
      "2018-07-17 18:04:04,687 - trainer.input - INFO [line:356] - \n",
      "2018-07-17 18:04:04,688 - trainer.input - INFO [line:357] - * data input_fn:\n",
      "2018-07-17 18:04:04,689 - trainer.input - INFO [line:358] - ================\n",
      "2018-07-17 18:04:04,689 - trainer.input - INFO [line:359] - Mode: eval\n",
      "2018-07-17 18:04:04,690 - trainer.input - INFO [line:360] - Input file(s): D:\\Python\\notebook\\ml_specialized\\rossmann/data/processed/valid_pr.csv\n",
      "2018-07-17 18:04:04,691 - trainer.input - INFO [line:361] - Files encoding: csv\n",
      "2018-07-17 18:04:04,692 - trainer.input - INFO [line:362] - Batch size: 256\n",
      "2018-07-17 18:04:04,693 - trainer.input - INFO [line:363] - Epoch count: 1\n",
      "2018-07-17 18:04:04,694 - trainer.input - INFO [line:364] - Thread count: 8\n",
      "2018-07-17 18:04:04,695 - trainer.input - INFO [line:365] - Shuffle: False\n",
      "2018-07-17 18:04:04,695 - trainer.input - INFO [line:366] - ================\n",
      "2018-07-17 18:04:04,696 - trainer.input - INFO [line:367] - \n",
      "2018-07-17 18:04:04,708 - trainer.input - INFO [line:307] - is_serving: False\n",
      "columns: [<tf.Tensor 'DecodeCSV:0' shape=(1,) dtype=int32>, <tf.Tensor 'DecodeCSV:1' shape=(1,) dtype=int32>, <tf.Tensor 'DecodeCSV:2' shape=(1,) dtype=int32>, <tf.Tensor 'DecodeCSV:3' shape=(1,) dtype=int32>, <tf.Tensor 'DecodeCSV:4' shape=(1,) dtype=int32>, <tf.Tensor 'DecodeCSV:5' shape=(1,) dtype=string>, <tf.Tensor 'DecodeCSV:6' shape=(1,) dtype=int32>, <tf.Tensor 'DecodeCSV:7' shape=(1,) dtype=string>, <tf.Tensor 'DecodeCSV:8' shape=(1,) dtype=string>, <tf.Tensor 'DecodeCSV:9' shape=(1,) dtype=string>, <tf.Tensor 'DecodeCSV:10' shape=(1,) dtype=int32>, <tf.Tensor 'DecodeCSV:11' shape=(1,) dtype=int32>, <tf.Tensor 'DecodeCSV:12' shape=(1,) dtype=float32>, <tf.Tensor 'DecodeCSV:13' shape=(1,) dtype=float32>]\n",
      "INFO:tensorflow:Calling model_fn.\n",
      "2018-07-17 18:04:04,786 - tensorflow - INFO [line:116] - Calling model_fn.\n",
      "INFO:tensorflow:Calling model_fn.\n",
      "2018-07-17 18:04:04,787 - tensorflow - INFO [line:116] - Calling model_fn.\n",
      "INFO:tensorflow:Done calling model_fn.\n",
      "2018-07-17 18:04:05,821 - tensorflow - INFO [line:116] - Done calling model_fn.\n",
      "INFO:tensorflow:Done calling model_fn.\n",
      "2018-07-17 18:04:05,877 - tensorflow - INFO [line:116] - Done calling model_fn.\n",
      "INFO:tensorflow:Starting evaluation at 2018-07-17-10:04:05\n",
      "2018-07-17 18:04:05,900 - tensorflow - INFO [line:116] - Starting evaluation at 2018-07-17-10:04:05\n",
      "INFO:tensorflow:Graph was finalized.\n",
      "2018-07-17 18:04:06,005 - tensorflow - INFO [line:116] - Graph was finalized.\n",
      "INFO:tensorflow:Restoring parameters from D:\\Python\\notebook\\ml_specialized\\rossmann/models/dnn_regressor\\model.ckpt-2311\n",
      "2018-07-17 18:04:06,022 - tensorflow - INFO [line:116] - Restoring parameters from D:\\Python\\notebook\\ml_specialized\\rossmann/models/dnn_regressor\\model.ckpt-2311\n",
      "INFO:tensorflow:Running local_init_op.\n",
      "2018-07-17 18:04:06,181 - tensorflow - INFO [line:116] - Running local_init_op.\n",
      "INFO:tensorflow:Done running local_init_op.\n",
      "2018-07-17 18:04:06,229 - tensorflow - INFO [line:116] - Done running local_init_op.\n",
      "INFO:tensorflow:Evaluation [98/989]\n",
      "2018-07-17 18:04:09,473 - tensorflow - INFO [line:116] - Evaluation [98/989]\n",
      "INFO:tensorflow:Evaluation [196/989]\n",
      "2018-07-17 18:04:12,194 - tensorflow - INFO [line:116] - Evaluation [196/989]\n",
      "INFO:tensorflow:Evaluation [294/989]\n",
      "2018-07-17 18:04:14,960 - tensorflow - INFO [line:116] - Evaluation [294/989]\n",
      "INFO:tensorflow:Evaluation [392/989]\n",
      "2018-07-17 18:04:18,022 - tensorflow - INFO [line:116] - Evaluation [392/989]\n",
      "INFO:tensorflow:Evaluation [490/989]\n",
      "2018-07-17 18:04:20,980 - tensorflow - INFO [line:116] - Evaluation [490/989]\n",
      "INFO:tensorflow:Evaluation [588/989]\n",
      "2018-07-17 18:04:23,960 - tensorflow - INFO [line:116] - Evaluation [588/989]\n",
      "INFO:tensorflow:Evaluation [686/989]\n",
      "2018-07-17 18:04:27,028 - tensorflow - INFO [line:116] - Evaluation [686/989]\n",
      "INFO:tensorflow:Evaluation [784/989]\n",
      "2018-07-17 18:04:30,088 - tensorflow - INFO [line:116] - Evaluation [784/989]\n",
      "INFO:tensorflow:Evaluation [882/989]\n",
      "2018-07-17 18:04:33,034 - tensorflow - INFO [line:116] - Evaluation [882/989]\n",
      "INFO:tensorflow:Evaluation [980/989]\n",
      "2018-07-17 18:04:36,118 - tensorflow - INFO [line:116] - Evaluation [980/989]\n",
      "INFO:tensorflow:Finished evaluation at 2018-07-17-10:04:36\n",
      "2018-07-17 18:04:36,417 - tensorflow - INFO [line:116] - Finished evaluation at 2018-07-17-10:04:36\n",
      "INFO:tensorflow:Saving dict for global step 2311: average_loss = 0.039019387, global_step = 2311, loss = 9.985132, mae = 0.1457501, rmse = 0.19753325, rmspe = 0.30475056\n",
      "2018-07-17 18:04:36,419 - tensorflow - INFO [line:116] - Saving dict for global step 2311: average_loss = 0.039019387, global_step = 2311, loss = 9.985132, mae = 0.1457501, rmse = 0.19753325, rmspe = 0.30475056\n",
      "2018-07-17 18:04:36,709 - BestScoreExporter - INFO [line:104] - eval_result: {'average_loss': 0.039019387, 'loss': 9.985132, 'mae': 0.1457501, 'rmse': 0.19753325, 'rmspe': 0.30475056, 'global_step': 2311}\n",
      "2018-07-17 18:04:36,710 - BestScoreExporter - INFO [line:108] - clean export_path: D:\\Python\\notebook\\ml_specialized\\rossmann/models/dnn_regressor\\export\\estimator\n",
      "2018-07-17 18:04:36,713 - BestScoreExporter - INFO [line:117] - nice eval loss: 9.985132217407227, export to pb\n",
      "2018-07-17 18:04:36,720 - trainer.input - INFO [line:200] - use json_serving_input_fn !\n",
      "INFO:Feature stats were successfully loaded from local file...\n",
      "INFO:tensorflow:Calling model_fn.\n",
      "2018-07-17 18:04:36,743 - tensorflow - INFO [line:116] - Calling model_fn.\n",
      "INFO:tensorflow:Calling model_fn.\n",
      "2018-07-17 18:04:36,744 - tensorflow - INFO [line:116] - Calling model_fn.\n",
      "INFO:tensorflow:Done calling model_fn.\n",
      "2018-07-17 18:04:37,629 - tensorflow - INFO [line:116] - Done calling model_fn.\n",
      "INFO:tensorflow:Done calling model_fn.\n",
      "2018-07-17 18:04:37,631 - tensorflow - INFO [line:116] - Done calling model_fn.\n",
      "INFO:tensorflow:Signatures INCLUDED in export for Classify: None\n",
      "2018-07-17 18:04:37,634 - tensorflow - INFO [line:116] - Signatures INCLUDED in export for Classify: None\n",
      "INFO:tensorflow:Signatures INCLUDED in export for Regress: None\n",
      "2018-07-17 18:04:37,636 - tensorflow - INFO [line:116] - Signatures INCLUDED in export for Regress: None\n",
      "INFO:tensorflow:Signatures INCLUDED in export for Predict: ['predict']\n",
      "2018-07-17 18:04:37,638 - tensorflow - INFO [line:116] - Signatures INCLUDED in export for Predict: ['predict']\n",
      "INFO:tensorflow:Signatures EXCLUDED from export because they cannot be be served via TensorFlow Serving APIs:\n",
      "2018-07-17 18:04:37,639 - tensorflow - INFO [line:116] - Signatures EXCLUDED from export because they cannot be be served via TensorFlow Serving APIs:\n",
      "INFO:tensorflow:'serving_default' : Regression input must be a single string Tensor; got {'sales_mean': <tf.Tensor 'sales_mean:0' shape=(?,) dtype=float32>, 'open': <tf.Tensor 'open:0' shape=(?,) dtype=int32>, 'promo': <tf.Tensor 'promo:0' shape=(?,) dtype=int32>, 'promo2': <tf.Tensor 'promo2:0' shape=(?,) dtype=int32>, 'school_holiday': <tf.Tensor 'school_holiday:0' shape=(?,) dtype=int32>, 'day': <tf.Tensor 'day:0' shape=(?,) dtype=int32>, 'month': <tf.Tensor 'month:0' shape=(?,) dtype=int32>, 'day_of_week': <tf.Tensor 'day_of_week:0' shape=(?,) dtype=int32>, 'state': <tf.Tensor 'state:0' shape=(?,) dtype=string>, 'state_holiday': <tf.Tensor 'state_holiday:0' shape=(?,) dtype=string>, 'assortment': <tf.Tensor 'assortment:0' shape=(?,) dtype=string>, 'store_type': <tf.Tensor 'store_type:0' shape=(?,) dtype=string>, 'store': <tf.Tensor 'store:0' shape=(?,) dtype=int32>}\n",
      "2018-07-17 18:04:37,641 - tensorflow - INFO [line:116] - 'serving_default' : Regression input must be a single string Tensor; got {'sales_mean': <tf.Tensor 'sales_mean:0' shape=(?,) dtype=float32>, 'open': <tf.Tensor 'open:0' shape=(?,) dtype=int32>, 'promo': <tf.Tensor 'promo:0' shape=(?,) dtype=int32>, 'promo2': <tf.Tensor 'promo2:0' shape=(?,) dtype=int32>, 'school_holiday': <tf.Tensor 'school_holiday:0' shape=(?,) dtype=int32>, 'day': <tf.Tensor 'day:0' shape=(?,) dtype=int32>, 'month': <tf.Tensor 'month:0' shape=(?,) dtype=int32>, 'day_of_week': <tf.Tensor 'day_of_week:0' shape=(?,) dtype=int32>, 'state': <tf.Tensor 'state:0' shape=(?,) dtype=string>, 'state_holiday': <tf.Tensor 'state_holiday:0' shape=(?,) dtype=string>, 'assortment': <tf.Tensor 'assortment:0' shape=(?,) dtype=string>, 'store_type': <tf.Tensor 'store_type:0' shape=(?,) dtype=string>, 'store': <tf.Tensor 'store:0' shape=(?,) dtype=int32>}\n"
     ]
    },
    {
     "name": "stdout",
     "output_type": "stream",
     "text": [
      "INFO:tensorflow:'regression' : Regression input must be a single string Tensor; got {'sales_mean': <tf.Tensor 'sales_mean:0' shape=(?,) dtype=float32>, 'open': <tf.Tensor 'open:0' shape=(?,) dtype=int32>, 'promo': <tf.Tensor 'promo:0' shape=(?,) dtype=int32>, 'promo2': <tf.Tensor 'promo2:0' shape=(?,) dtype=int32>, 'school_holiday': <tf.Tensor 'school_holiday:0' shape=(?,) dtype=int32>, 'day': <tf.Tensor 'day:0' shape=(?,) dtype=int32>, 'month': <tf.Tensor 'month:0' shape=(?,) dtype=int32>, 'day_of_week': <tf.Tensor 'day_of_week:0' shape=(?,) dtype=int32>, 'state': <tf.Tensor 'state:0' shape=(?,) dtype=string>, 'state_holiday': <tf.Tensor 'state_holiday:0' shape=(?,) dtype=string>, 'assortment': <tf.Tensor 'assortment:0' shape=(?,) dtype=string>, 'store_type': <tf.Tensor 'store_type:0' shape=(?,) dtype=string>, 'store': <tf.Tensor 'store:0' shape=(?,) dtype=int32>}\n",
      "2018-07-17 18:04:37,642 - tensorflow - INFO [line:116] - 'regression' : Regression input must be a single string Tensor; got {'sales_mean': <tf.Tensor 'sales_mean:0' shape=(?,) dtype=float32>, 'open': <tf.Tensor 'open:0' shape=(?,) dtype=int32>, 'promo': <tf.Tensor 'promo:0' shape=(?,) dtype=int32>, 'promo2': <tf.Tensor 'promo2:0' shape=(?,) dtype=int32>, 'school_holiday': <tf.Tensor 'school_holiday:0' shape=(?,) dtype=int32>, 'day': <tf.Tensor 'day:0' shape=(?,) dtype=int32>, 'month': <tf.Tensor 'month:0' shape=(?,) dtype=int32>, 'day_of_week': <tf.Tensor 'day_of_week:0' shape=(?,) dtype=int32>, 'state': <tf.Tensor 'state:0' shape=(?,) dtype=string>, 'state_holiday': <tf.Tensor 'state_holiday:0' shape=(?,) dtype=string>, 'assortment': <tf.Tensor 'assortment:0' shape=(?,) dtype=string>, 'store_type': <tf.Tensor 'store_type:0' shape=(?,) dtype=string>, 'store': <tf.Tensor 'store:0' shape=(?,) dtype=int32>}\n",
      "WARNING:tensorflow:Export includes no default signature!\n",
      "2018-07-17 18:04:37,644 - tensorflow - WARNING [line:121] - Export includes no default signature!\n",
      "INFO:tensorflow:Restoring parameters from D:\\Python\\notebook\\ml_specialized\\rossmann/models/dnn_regressor\\model.ckpt-2311\n",
      "2018-07-17 18:04:37,678 - tensorflow - INFO [line:116] - Restoring parameters from D:\\Python\\notebook\\ml_specialized\\rossmann/models/dnn_regressor\\model.ckpt-2311\n",
      "INFO:tensorflow:Assets added to graph.\n",
      "2018-07-17 18:04:37,722 - tensorflow - INFO [line:116] - Assets added to graph.\n",
      "INFO:tensorflow:No assets to write.\n",
      "2018-07-17 18:04:37,723 - tensorflow - INFO [line:116] - No assets to write.\n",
      "INFO:tensorflow:SavedModel written to: b\"D:\\\\Python\\\\notebook\\\\ml_specialized\\\\rossmann/models/dnn_regressor\\\\export\\\\estimator\\\\temp-b'1531821877'\\\\saved_model.pb\"\n",
      "2018-07-17 18:04:37,988 - tensorflow - INFO [line:116] - SavedModel written to: b\"D:\\\\Python\\\\notebook\\\\ml_specialized\\\\rossmann/models/dnn_regressor\\\\export\\\\estimator\\\\temp-b'1531821877'\\\\saved_model.pb\"\n",
      "2018-07-17 18:04:38,052 - trainer.input - INFO [line:356] - \n",
      "2018-07-17 18:04:38,053 - trainer.input - INFO [line:357] - * data input_fn:\n",
      "2018-07-17 18:04:38,054 - trainer.input - INFO [line:358] - ================\n",
      "2018-07-17 18:04:38,054 - trainer.input - INFO [line:359] - Mode: train\n",
      "2018-07-17 18:04:38,055 - trainer.input - INFO [line:360] - Input file(s): D:\\Python\\notebook\\ml_specialized\\rossmann/data/processed/train_pr.csv\n",
      "2018-07-17 18:04:38,056 - trainer.input - INFO [line:361] - Files encoding: csv\n",
      "2018-07-17 18:04:38,057 - trainer.input - INFO [line:362] - Batch size: 256\n",
      "2018-07-17 18:04:38,058 - trainer.input - INFO [line:363] - Epoch count: 1\n",
      "2018-07-17 18:04:38,059 - trainer.input - INFO [line:364] - Thread count: 8\n",
      "2018-07-17 18:04:38,059 - trainer.input - INFO [line:365] - Shuffle: True\n",
      "2018-07-17 18:04:38,060 - trainer.input - INFO [line:366] - ================\n",
      "2018-07-17 18:04:38,061 - trainer.input - INFO [line:367] - \n",
      "2018-07-17 18:04:38,067 - trainer.input - INFO [line:307] - is_serving: False\n",
      "columns: [<tf.Tensor 'DecodeCSV:0' shape=(1,) dtype=int32>, <tf.Tensor 'DecodeCSV:1' shape=(1,) dtype=int32>, <tf.Tensor 'DecodeCSV:2' shape=(1,) dtype=int32>, <tf.Tensor 'DecodeCSV:3' shape=(1,) dtype=int32>, <tf.Tensor 'DecodeCSV:4' shape=(1,) dtype=int32>, <tf.Tensor 'DecodeCSV:5' shape=(1,) dtype=string>, <tf.Tensor 'DecodeCSV:6' shape=(1,) dtype=int32>, <tf.Tensor 'DecodeCSV:7' shape=(1,) dtype=string>, <tf.Tensor 'DecodeCSV:8' shape=(1,) dtype=string>, <tf.Tensor 'DecodeCSV:9' shape=(1,) dtype=string>, <tf.Tensor 'DecodeCSV:10' shape=(1,) dtype=int32>, <tf.Tensor 'DecodeCSV:11' shape=(1,) dtype=int32>, <tf.Tensor 'DecodeCSV:12' shape=(1,) dtype=float32>, <tf.Tensor 'DecodeCSV:13' shape=(1,) dtype=float32>]\n",
      "INFO:tensorflow:Calling model_fn.\n",
      "2018-07-17 18:04:38,133 - tensorflow - INFO [line:116] - Calling model_fn.\n",
      "INFO:tensorflow:Calling model_fn.\n",
      "2018-07-17 18:04:38,134 - tensorflow - INFO [line:116] - Calling model_fn.\n",
      "INFO:tensorflow:Done calling model_fn.\n",
      "2018-07-17 18:04:39,180 - tensorflow - INFO [line:116] - Done calling model_fn.\n",
      "INFO:tensorflow:Done calling model_fn.\n",
      "2018-07-17 18:04:39,183 - tensorflow - INFO [line:116] - Done calling model_fn.\n",
      "INFO:tensorflow:Create CheckpointSaverHook.\n",
      "2018-07-17 18:04:39,186 - tensorflow - INFO [line:116] - Create CheckpointSaverHook.\n",
      "INFO:tensorflow:Graph was finalized.\n",
      "2018-07-17 18:04:39,388 - tensorflow - INFO [line:116] - Graph was finalized.\n",
      "INFO:tensorflow:Restoring parameters from D:\\Python\\notebook\\ml_specialized\\rossmann/models/dnn_regressor\\model.ckpt-2311\n",
      "2018-07-17 18:04:39,407 - tensorflow - INFO [line:116] - Restoring parameters from D:\\Python\\notebook\\ml_specialized\\rossmann/models/dnn_regressor\\model.ckpt-2311\n",
      "INFO:tensorflow:Running local_init_op.\n",
      "2018-07-17 18:04:39,496 - tensorflow - INFO [line:116] - Running local_init_op.\n",
      "INFO:tensorflow:Done running local_init_op.\n",
      "2018-07-17 18:04:39,528 - tensorflow - INFO [line:116] - Done running local_init_op.\n",
      "INFO:tensorflow:Saving checkpoints for 2312 into D:\\Python\\notebook\\ml_specialized\\rossmann/models/dnn_regressor\\model.ckpt.\n",
      "2018-07-17 18:04:40,833 - tensorflow - INFO [line:116] - Saving checkpoints for 2312 into D:\\Python\\notebook\\ml_specialized\\rossmann/models/dnn_regressor\\model.ckpt.\n",
      "INFO:tensorflow:loss = 8.123061, step = 2311\n",
      "2018-07-17 18:04:41,079 - tensorflow - INFO [line:116] - loss = 8.123061, step = 2311\n",
      "INFO:tensorflow:global_step/sec: 42.7629\n",
      "2018-07-17 18:04:52,771 - tensorflow - INFO [line:116] - global_step/sec: 42.7629\n",
      "INFO:tensorflow:loss = 6.0123005, step = 2811 (11.694 sec)\n",
      "2018-07-17 18:04:52,774 - tensorflow - INFO [line:116] - loss = 6.0123005, step = 2811 (11.694 sec)\n",
      "INFO:tensorflow:global_step/sec: 41.6025\n",
      "2018-07-17 18:05:04,789 - tensorflow - INFO [line:116] - global_step/sec: 41.6025\n",
      "INFO:tensorflow:loss = 22.51407, step = 3311 (12.020 sec)\n",
      "2018-07-17 18:05:04,794 - tensorflow - INFO [line:116] - loss = 22.51407, step = 3311 (12.020 sec)\n",
      "INFO:tensorflow:global_step/sec: 40.7155\n",
      "2018-07-17 18:05:17,071 - tensorflow - INFO [line:116] - global_step/sec: 40.7155\n",
      "INFO:tensorflow:loss = 8.528258, step = 3811 (12.279 sec)\n",
      "2018-07-17 18:05:17,074 - tensorflow - INFO [line:116] - loss = 8.528258, step = 3811 (12.279 sec)\n",
      "INFO:tensorflow:global_step/sec: 41.2245\n",
      "2018-07-17 18:05:29,199 - tensorflow - INFO [line:116] - global_step/sec: 41.2245\n",
      "INFO:tensorflow:loss = 9.28884, step = 4311 (12.131 sec)\n",
      "2018-07-17 18:05:29,204 - tensorflow - INFO [line:116] - loss = 9.28884, step = 4311 (12.131 sec)\n",
      "INFO:tensorflow:Saving checkpoints for 4622 into D:\\Python\\notebook\\ml_specialized\\rossmann/models/dnn_regressor\\model.ckpt.\n",
      "2018-07-17 18:05:36,648 - tensorflow - INFO [line:116] - Saving checkpoints for 4622 into D:\\Python\\notebook\\ml_specialized\\rossmann/models/dnn_regressor\\model.ckpt.\n",
      "INFO:tensorflow:Loss for final step: 4.418227.\n",
      "2018-07-17 18:05:36,898 - tensorflow - INFO [line:116] - Loss for final step: 4.418227.\n",
      "2018-07-17 18:05:36,913 - trainer.input - INFO [line:356] - \n",
      "2018-07-17 18:05:36,914 - trainer.input - INFO [line:357] - * data input_fn:\n",
      "2018-07-17 18:05:36,914 - trainer.input - INFO [line:358] - ================\n",
      "2018-07-17 18:05:36,915 - trainer.input - INFO [line:359] - Mode: eval\n",
      "2018-07-17 18:05:36,916 - trainer.input - INFO [line:360] - Input file(s): D:\\Python\\notebook\\ml_specialized\\rossmann/data/processed/valid_pr.csv\n"
     ]
    },
    {
     "name": "stdout",
     "output_type": "stream",
     "text": [
      "2018-07-17 18:05:36,917 - trainer.input - INFO [line:361] - Files encoding: csv\n",
      "2018-07-17 18:05:36,918 - trainer.input - INFO [line:362] - Batch size: 256\n",
      "2018-07-17 18:05:36,918 - trainer.input - INFO [line:363] - Epoch count: 1\n",
      "2018-07-17 18:05:36,919 - trainer.input - INFO [line:364] - Thread count: 8\n",
      "2018-07-17 18:05:36,920 - trainer.input - INFO [line:365] - Shuffle: False\n",
      "2018-07-17 18:05:36,920 - trainer.input - INFO [line:366] - ================\n",
      "2018-07-17 18:05:36,921 - trainer.input - INFO [line:367] - \n",
      "2018-07-17 18:05:36,927 - trainer.input - INFO [line:307] - is_serving: False\n",
      "columns: [<tf.Tensor 'DecodeCSV:0' shape=(1,) dtype=int32>, <tf.Tensor 'DecodeCSV:1' shape=(1,) dtype=int32>, <tf.Tensor 'DecodeCSV:2' shape=(1,) dtype=int32>, <tf.Tensor 'DecodeCSV:3' shape=(1,) dtype=int32>, <tf.Tensor 'DecodeCSV:4' shape=(1,) dtype=int32>, <tf.Tensor 'DecodeCSV:5' shape=(1,) dtype=string>, <tf.Tensor 'DecodeCSV:6' shape=(1,) dtype=int32>, <tf.Tensor 'DecodeCSV:7' shape=(1,) dtype=string>, <tf.Tensor 'DecodeCSV:8' shape=(1,) dtype=string>, <tf.Tensor 'DecodeCSV:9' shape=(1,) dtype=string>, <tf.Tensor 'DecodeCSV:10' shape=(1,) dtype=int32>, <tf.Tensor 'DecodeCSV:11' shape=(1,) dtype=int32>, <tf.Tensor 'DecodeCSV:12' shape=(1,) dtype=float32>, <tf.Tensor 'DecodeCSV:13' shape=(1,) dtype=float32>]\n",
      "INFO:tensorflow:Calling model_fn.\n",
      "2018-07-17 18:05:37,011 - tensorflow - INFO [line:116] - Calling model_fn.\n",
      "INFO:tensorflow:Calling model_fn.\n",
      "2018-07-17 18:05:37,013 - tensorflow - INFO [line:116] - Calling model_fn.\n",
      "INFO:tensorflow:Done calling model_fn.\n",
      "2018-07-17 18:05:37,994 - tensorflow - INFO [line:116] - Done calling model_fn.\n",
      "INFO:tensorflow:Done calling model_fn.\n",
      "2018-07-17 18:05:38,045 - tensorflow - INFO [line:116] - Done calling model_fn.\n",
      "INFO:tensorflow:Starting evaluation at 2018-07-17-10:05:38\n",
      "2018-07-17 18:05:38,067 - tensorflow - INFO [line:116] - Starting evaluation at 2018-07-17-10:05:38\n",
      "INFO:tensorflow:Graph was finalized.\n",
      "2018-07-17 18:05:38,157 - tensorflow - INFO [line:116] - Graph was finalized.\n",
      "INFO:tensorflow:Restoring parameters from D:\\Python\\notebook\\ml_specialized\\rossmann/models/dnn_regressor\\model.ckpt-4622\n",
      "2018-07-17 18:05:38,174 - tensorflow - INFO [line:116] - Restoring parameters from D:\\Python\\notebook\\ml_specialized\\rossmann/models/dnn_regressor\\model.ckpt-4622\n",
      "INFO:tensorflow:Running local_init_op.\n",
      "2018-07-17 18:05:38,253 - tensorflow - INFO [line:116] - Running local_init_op.\n",
      "INFO:tensorflow:Done running local_init_op.\n",
      "2018-07-17 18:05:38,291 - tensorflow - INFO [line:116] - Done running local_init_op.\n",
      "INFO:tensorflow:Evaluation [98/989]\n",
      "2018-07-17 18:05:41,474 - tensorflow - INFO [line:116] - Evaluation [98/989]\n",
      "INFO:tensorflow:Evaluation [196/989]\n",
      "2018-07-17 18:05:44,304 - tensorflow - INFO [line:116] - Evaluation [196/989]\n",
      "INFO:tensorflow:Evaluation [294/989]\n",
      "2018-07-17 18:05:47,325 - tensorflow - INFO [line:116] - Evaluation [294/989]\n",
      "INFO:tensorflow:Evaluation [392/989]\n",
      "2018-07-17 18:05:50,241 - tensorflow - INFO [line:116] - Evaluation [392/989]\n",
      "INFO:tensorflow:Evaluation [490/989]\n",
      "2018-07-17 18:05:53,092 - tensorflow - INFO [line:116] - Evaluation [490/989]\n",
      "INFO:tensorflow:Evaluation [588/989]\n",
      "2018-07-17 18:05:55,880 - tensorflow - INFO [line:116] - Evaluation [588/989]\n",
      "INFO:tensorflow:Evaluation [686/989]\n",
      "2018-07-17 18:05:58,734 - tensorflow - INFO [line:116] - Evaluation [686/989]\n",
      "INFO:tensorflow:Evaluation [784/989]\n",
      "2018-07-17 18:06:01,523 - tensorflow - INFO [line:116] - Evaluation [784/989]\n",
      "INFO:tensorflow:Evaluation [882/989]\n",
      "2018-07-17 18:06:04,453 - tensorflow - INFO [line:116] - Evaluation [882/989]\n",
      "INFO:tensorflow:Evaluation [980/989]\n",
      "2018-07-17 18:06:07,288 - tensorflow - INFO [line:116] - Evaluation [980/989]\n",
      "INFO:tensorflow:Finished evaluation at 2018-07-17-10:06:07\n",
      "2018-07-17 18:06:07,589 - tensorflow - INFO [line:116] - Finished evaluation at 2018-07-17-10:06:07\n",
      "INFO:tensorflow:Saving dict for global step 4622: average_loss = 0.03631095, global_step = 4622, loss = 9.292038, mae = 0.1408136, rmse = 0.19055432, rmspe = 0.28802013\n",
      "2018-07-17 18:06:07,591 - tensorflow - INFO [line:116] - Saving dict for global step 4622: average_loss = 0.03631095, global_step = 4622, loss = 9.292038, mae = 0.1408136, rmse = 0.19055432, rmspe = 0.28802013\n",
      "2018-07-17 18:06:07,595 - BestScoreExporter - INFO [line:104] - eval_result: {'average_loss': 0.03631095, 'loss': 9.292038, 'mae': 0.1408136, 'rmse': 0.19055432, 'rmspe': 0.28802013, 'global_step': 4622}\n",
      "2018-07-17 18:06:07,596 - BestScoreExporter - INFO [line:108] - clean export_path: D:\\Python\\notebook\\ml_specialized\\rossmann/models/dnn_regressor\\export\\estimator\n",
      "2018-07-17 18:06:07,604 - BestScoreExporter - INFO [line:117] - nice eval loss: 9.292037963867188, export to pb\n",
      "2018-07-17 18:06:07,633 - trainer.input - INFO [line:200] - use json_serving_input_fn !\n",
      "INFO:Feature stats were successfully loaded from local file...\n",
      "INFO:tensorflow:Calling model_fn.\n",
      "2018-07-17 18:06:07,655 - tensorflow - INFO [line:116] - Calling model_fn.\n",
      "INFO:tensorflow:Calling model_fn.\n",
      "2018-07-17 18:06:07,657 - tensorflow - INFO [line:116] - Calling model_fn.\n",
      "INFO:tensorflow:Done calling model_fn.\n",
      "2018-07-17 18:06:08,589 - tensorflow - INFO [line:116] - Done calling model_fn.\n",
      "INFO:tensorflow:Done calling model_fn.\n",
      "2018-07-17 18:06:08,590 - tensorflow - INFO [line:116] - Done calling model_fn.\n",
      "INFO:tensorflow:Signatures INCLUDED in export for Classify: None\n",
      "2018-07-17 18:06:08,592 - tensorflow - INFO [line:116] - Signatures INCLUDED in export for Classify: None\n",
      "INFO:tensorflow:Signatures INCLUDED in export for Regress: None\n",
      "2018-07-17 18:06:08,594 - tensorflow - INFO [line:116] - Signatures INCLUDED in export for Regress: None\n",
      "INFO:tensorflow:Signatures INCLUDED in export for Predict: ['predict']\n",
      "2018-07-17 18:06:08,595 - tensorflow - INFO [line:116] - Signatures INCLUDED in export for Predict: ['predict']\n",
      "INFO:tensorflow:Signatures EXCLUDED from export because they cannot be be served via TensorFlow Serving APIs:\n",
      "2018-07-17 18:06:08,597 - tensorflow - INFO [line:116] - Signatures EXCLUDED from export because they cannot be be served via TensorFlow Serving APIs:\n",
      "INFO:tensorflow:'serving_default' : Regression input must be a single string Tensor; got {'sales_mean': <tf.Tensor 'sales_mean:0' shape=(?,) dtype=float32>, 'open': <tf.Tensor 'open:0' shape=(?,) dtype=int32>, 'promo': <tf.Tensor 'promo:0' shape=(?,) dtype=int32>, 'promo2': <tf.Tensor 'promo2:0' shape=(?,) dtype=int32>, 'school_holiday': <tf.Tensor 'school_holiday:0' shape=(?,) dtype=int32>, 'day': <tf.Tensor 'day:0' shape=(?,) dtype=int32>, 'month': <tf.Tensor 'month:0' shape=(?,) dtype=int32>, 'day_of_week': <tf.Tensor 'day_of_week:0' shape=(?,) dtype=int32>, 'state': <tf.Tensor 'state:0' shape=(?,) dtype=string>, 'state_holiday': <tf.Tensor 'state_holiday:0' shape=(?,) dtype=string>, 'assortment': <tf.Tensor 'assortment:0' shape=(?,) dtype=string>, 'store_type': <tf.Tensor 'store_type:0' shape=(?,) dtype=string>, 'store': <tf.Tensor 'store:0' shape=(?,) dtype=int32>}\n",
      "2018-07-17 18:06:08,598 - tensorflow - INFO [line:116] - 'serving_default' : Regression input must be a single string Tensor; got {'sales_mean': <tf.Tensor 'sales_mean:0' shape=(?,) dtype=float32>, 'open': <tf.Tensor 'open:0' shape=(?,) dtype=int32>, 'promo': <tf.Tensor 'promo:0' shape=(?,) dtype=int32>, 'promo2': <tf.Tensor 'promo2:0' shape=(?,) dtype=int32>, 'school_holiday': <tf.Tensor 'school_holiday:0' shape=(?,) dtype=int32>, 'day': <tf.Tensor 'day:0' shape=(?,) dtype=int32>, 'month': <tf.Tensor 'month:0' shape=(?,) dtype=int32>, 'day_of_week': <tf.Tensor 'day_of_week:0' shape=(?,) dtype=int32>, 'state': <tf.Tensor 'state:0' shape=(?,) dtype=string>, 'state_holiday': <tf.Tensor 'state_holiday:0' shape=(?,) dtype=string>, 'assortment': <tf.Tensor 'assortment:0' shape=(?,) dtype=string>, 'store_type': <tf.Tensor 'store_type:0' shape=(?,) dtype=string>, 'store': <tf.Tensor 'store:0' shape=(?,) dtype=int32>}\n",
      "INFO:tensorflow:'regression' : Regression input must be a single string Tensor; got {'sales_mean': <tf.Tensor 'sales_mean:0' shape=(?,) dtype=float32>, 'open': <tf.Tensor 'open:0' shape=(?,) dtype=int32>, 'promo': <tf.Tensor 'promo:0' shape=(?,) dtype=int32>, 'promo2': <tf.Tensor 'promo2:0' shape=(?,) dtype=int32>, 'school_holiday': <tf.Tensor 'school_holiday:0' shape=(?,) dtype=int32>, 'day': <tf.Tensor 'day:0' shape=(?,) dtype=int32>, 'month': <tf.Tensor 'month:0' shape=(?,) dtype=int32>, 'day_of_week': <tf.Tensor 'day_of_week:0' shape=(?,) dtype=int32>, 'state': <tf.Tensor 'state:0' shape=(?,) dtype=string>, 'state_holiday': <tf.Tensor 'state_holiday:0' shape=(?,) dtype=string>, 'assortment': <tf.Tensor 'assortment:0' shape=(?,) dtype=string>, 'store_type': <tf.Tensor 'store_type:0' shape=(?,) dtype=string>, 'store': <tf.Tensor 'store:0' shape=(?,) dtype=int32>}\n"
     ]
    },
    {
     "name": "stdout",
     "output_type": "stream",
     "text": [
      "2018-07-17 18:06:08,600 - tensorflow - INFO [line:116] - 'regression' : Regression input must be a single string Tensor; got {'sales_mean': <tf.Tensor 'sales_mean:0' shape=(?,) dtype=float32>, 'open': <tf.Tensor 'open:0' shape=(?,) dtype=int32>, 'promo': <tf.Tensor 'promo:0' shape=(?,) dtype=int32>, 'promo2': <tf.Tensor 'promo2:0' shape=(?,) dtype=int32>, 'school_holiday': <tf.Tensor 'school_holiday:0' shape=(?,) dtype=int32>, 'day': <tf.Tensor 'day:0' shape=(?,) dtype=int32>, 'month': <tf.Tensor 'month:0' shape=(?,) dtype=int32>, 'day_of_week': <tf.Tensor 'day_of_week:0' shape=(?,) dtype=int32>, 'state': <tf.Tensor 'state:0' shape=(?,) dtype=string>, 'state_holiday': <tf.Tensor 'state_holiday:0' shape=(?,) dtype=string>, 'assortment': <tf.Tensor 'assortment:0' shape=(?,) dtype=string>, 'store_type': <tf.Tensor 'store_type:0' shape=(?,) dtype=string>, 'store': <tf.Tensor 'store:0' shape=(?,) dtype=int32>}\n",
      "WARNING:tensorflow:Export includes no default signature!\n",
      "2018-07-17 18:06:08,601 - tensorflow - WARNING [line:121] - Export includes no default signature!\n",
      "INFO:tensorflow:Restoring parameters from D:\\Python\\notebook\\ml_specialized\\rossmann/models/dnn_regressor\\model.ckpt-4622\n",
      "2018-07-17 18:06:08,636 - tensorflow - INFO [line:116] - Restoring parameters from D:\\Python\\notebook\\ml_specialized\\rossmann/models/dnn_regressor\\model.ckpt-4622\n",
      "INFO:tensorflow:Assets added to graph.\n",
      "2018-07-17 18:06:08,679 - tensorflow - INFO [line:116] - Assets added to graph.\n",
      "INFO:tensorflow:No assets to write.\n",
      "2018-07-17 18:06:08,680 - tensorflow - INFO [line:116] - No assets to write.\n",
      "INFO:tensorflow:SavedModel written to: b\"D:\\\\Python\\\\notebook\\\\ml_specialized\\\\rossmann/models/dnn_regressor\\\\export\\\\estimator\\\\temp-b'1531821968'\\\\saved_model.pb\"\n",
      "2018-07-17 18:06:08,938 - tensorflow - INFO [line:116] - SavedModel written to: b\"D:\\\\Python\\\\notebook\\\\ml_specialized\\\\rossmann/models/dnn_regressor\\\\export\\\\estimator\\\\temp-b'1531821968'\\\\saved_model.pb\"\n",
      "2018-07-17 18:06:08,970 - trainer.input - INFO [line:356] - \n",
      "2018-07-17 18:06:08,971 - trainer.input - INFO [line:357] - * data input_fn:\n",
      "2018-07-17 18:06:08,971 - trainer.input - INFO [line:358] - ================\n",
      "2018-07-17 18:06:08,972 - trainer.input - INFO [line:359] - Mode: train\n",
      "2018-07-17 18:06:08,973 - trainer.input - INFO [line:360] - Input file(s): D:\\Python\\notebook\\ml_specialized\\rossmann/data/processed/train_pr.csv\n",
      "2018-07-17 18:06:08,974 - trainer.input - INFO [line:361] - Files encoding: csv\n",
      "2018-07-17 18:06:08,974 - trainer.input - INFO [line:362] - Batch size: 256\n",
      "2018-07-17 18:06:08,975 - trainer.input - INFO [line:363] - Epoch count: 1\n",
      "2018-07-17 18:06:08,976 - trainer.input - INFO [line:364] - Thread count: 8\n",
      "2018-07-17 18:06:08,977 - trainer.input - INFO [line:365] - Shuffle: True\n",
      "2018-07-17 18:06:08,978 - trainer.input - INFO [line:366] - ================\n",
      "2018-07-17 18:06:08,978 - trainer.input - INFO [line:367] - \n",
      "2018-07-17 18:06:08,987 - trainer.input - INFO [line:307] - is_serving: False\n",
      "columns: [<tf.Tensor 'DecodeCSV:0' shape=(1,) dtype=int32>, <tf.Tensor 'DecodeCSV:1' shape=(1,) dtype=int32>, <tf.Tensor 'DecodeCSV:2' shape=(1,) dtype=int32>, <tf.Tensor 'DecodeCSV:3' shape=(1,) dtype=int32>, <tf.Tensor 'DecodeCSV:4' shape=(1,) dtype=int32>, <tf.Tensor 'DecodeCSV:5' shape=(1,) dtype=string>, <tf.Tensor 'DecodeCSV:6' shape=(1,) dtype=int32>, <tf.Tensor 'DecodeCSV:7' shape=(1,) dtype=string>, <tf.Tensor 'DecodeCSV:8' shape=(1,) dtype=string>, <tf.Tensor 'DecodeCSV:9' shape=(1,) dtype=string>, <tf.Tensor 'DecodeCSV:10' shape=(1,) dtype=int32>, <tf.Tensor 'DecodeCSV:11' shape=(1,) dtype=int32>, <tf.Tensor 'DecodeCSV:12' shape=(1,) dtype=float32>, <tf.Tensor 'DecodeCSV:13' shape=(1,) dtype=float32>]\n",
      "INFO:tensorflow:Calling model_fn.\n",
      "2018-07-17 18:06:09,051 - tensorflow - INFO [line:116] - Calling model_fn.\n",
      "INFO:tensorflow:Calling model_fn.\n",
      "2018-07-17 18:06:09,053 - tensorflow - INFO [line:116] - Calling model_fn.\n",
      "INFO:tensorflow:Done calling model_fn.\n",
      "2018-07-17 18:06:10,083 - tensorflow - INFO [line:116] - Done calling model_fn.\n",
      "INFO:tensorflow:Done calling model_fn.\n",
      "2018-07-17 18:06:10,085 - tensorflow - INFO [line:116] - Done calling model_fn.\n",
      "INFO:tensorflow:Create CheckpointSaverHook.\n",
      "2018-07-17 18:06:10,086 - tensorflow - INFO [line:116] - Create CheckpointSaverHook.\n",
      "INFO:tensorflow:Graph was finalized.\n",
      "2018-07-17 18:06:10,176 - tensorflow - INFO [line:116] - Graph was finalized.\n",
      "INFO:tensorflow:Restoring parameters from D:\\Python\\notebook\\ml_specialized\\rossmann/models/dnn_regressor\\model.ckpt-4622\n",
      "2018-07-17 18:06:10,196 - tensorflow - INFO [line:116] - Restoring parameters from D:\\Python\\notebook\\ml_specialized\\rossmann/models/dnn_regressor\\model.ckpt-4622\n",
      "INFO:tensorflow:Running local_init_op.\n",
      "2018-07-17 18:06:10,290 - tensorflow - INFO [line:116] - Running local_init_op.\n",
      "INFO:tensorflow:Done running local_init_op.\n",
      "2018-07-17 18:06:10,319 - tensorflow - INFO [line:116] - Done running local_init_op.\n",
      "INFO:tensorflow:Saving checkpoints for 4623 into D:\\Python\\notebook\\ml_specialized\\rossmann/models/dnn_regressor\\model.ckpt.\n",
      "2018-07-17 18:06:11,653 - tensorflow - INFO [line:116] - Saving checkpoints for 4623 into D:\\Python\\notebook\\ml_specialized\\rossmann/models/dnn_regressor\\model.ckpt.\n",
      "INFO:tensorflow:loss = 6.7795362, step = 4622\n",
      "2018-07-17 18:06:11,872 - tensorflow - INFO [line:116] - loss = 6.7795362, step = 4622\n",
      "INFO:tensorflow:global_step/sec: 41.6568\n",
      "2018-07-17 18:06:23,875 - tensorflow - INFO [line:116] - global_step/sec: 41.6568\n",
      "INFO:tensorflow:loss = 5.3399334, step = 5122 (12.007 sec)\n",
      "2018-07-17 18:06:23,879 - tensorflow - INFO [line:116] - loss = 5.3399334, step = 5122 (12.007 sec)\n",
      "INFO:tensorflow:global_step/sec: 41.3733\n",
      "2018-07-17 18:06:35,960 - tensorflow - INFO [line:116] - global_step/sec: 41.3733\n",
      "INFO:tensorflow:loss = 18.234966, step = 5622 (12.086 sec)\n",
      "2018-07-17 18:06:35,965 - tensorflow - INFO [line:116] - loss = 18.234966, step = 5622 (12.086 sec)\n",
      "INFO:tensorflow:global_step/sec: 40.7318\n",
      "2018-07-17 18:06:48,235 - tensorflow - INFO [line:116] - global_step/sec: 40.7318\n",
      "INFO:tensorflow:loss = 7.3093214, step = 6122 (12.273 sec)\n",
      "2018-07-17 18:06:48,239 - tensorflow - INFO [line:116] - loss = 7.3093214, step = 6122 (12.273 sec)\n",
      "INFO:tensorflow:global_step/sec: 40.3554\n",
      "2018-07-17 18:07:00,624 - tensorflow - INFO [line:116] - global_step/sec: 40.3554\n",
      "INFO:tensorflow:loss = 8.942512, step = 6622 (12.391 sec)\n",
      "2018-07-17 18:07:00,629 - tensorflow - INFO [line:116] - loss = 8.942512, step = 6622 (12.391 sec)\n",
      "INFO:tensorflow:Saving checkpoints for 6924 into D:\\Python\\notebook\\ml_specialized\\rossmann/models/dnn_regressor\\model.ckpt.\n",
      "2018-07-17 18:07:09,567 - tensorflow - INFO [line:116] - Saving checkpoints for 6924 into D:\\Python\\notebook\\ml_specialized\\rossmann/models/dnn_regressor\\model.ckpt.\n",
      "INFO:tensorflow:Loss for final step: 6.282647.\n",
      "2018-07-17 18:07:09,849 - tensorflow - INFO [line:116] - Loss for final step: 6.282647.\n",
      "2018-07-17 18:07:09,861 - trainer.input - INFO [line:356] - \n",
      "2018-07-17 18:07:09,862 - trainer.input - INFO [line:357] - * data input_fn:\n",
      "2018-07-17 18:07:09,863 - trainer.input - INFO [line:358] - ================\n",
      "2018-07-17 18:07:09,864 - trainer.input - INFO [line:359] - Mode: eval\n",
      "2018-07-17 18:07:09,864 - trainer.input - INFO [line:360] - Input file(s): D:\\Python\\notebook\\ml_specialized\\rossmann/data/processed/valid_pr.csv\n",
      "2018-07-17 18:07:09,865 - trainer.input - INFO [line:361] - Files encoding: csv\n",
      "2018-07-17 18:07:09,866 - trainer.input - INFO [line:362] - Batch size: 256\n",
      "2018-07-17 18:07:09,866 - trainer.input - INFO [line:363] - Epoch count: 1\n",
      "2018-07-17 18:07:09,867 - trainer.input - INFO [line:364] - Thread count: 8\n",
      "2018-07-17 18:07:09,867 - trainer.input - INFO [line:365] - Shuffle: False\n",
      "2018-07-17 18:07:09,868 - trainer.input - INFO [line:366] - ================\n",
      "2018-07-17 18:07:09,869 - trainer.input - INFO [line:367] - \n",
      "2018-07-17 18:07:09,876 - trainer.input - INFO [line:307] - is_serving: False\n",
      "columns: [<tf.Tensor 'DecodeCSV:0' shape=(1,) dtype=int32>, <tf.Tensor 'DecodeCSV:1' shape=(1,) dtype=int32>, <tf.Tensor 'DecodeCSV:2' shape=(1,) dtype=int32>, <tf.Tensor 'DecodeCSV:3' shape=(1,) dtype=int32>, <tf.Tensor 'DecodeCSV:4' shape=(1,) dtype=int32>, <tf.Tensor 'DecodeCSV:5' shape=(1,) dtype=string>, <tf.Tensor 'DecodeCSV:6' shape=(1,) dtype=int32>, <tf.Tensor 'DecodeCSV:7' shape=(1,) dtype=string>, <tf.Tensor 'DecodeCSV:8' shape=(1,) dtype=string>, <tf.Tensor 'DecodeCSV:9' shape=(1,) dtype=string>, <tf.Tensor 'DecodeCSV:10' shape=(1,) dtype=int32>, <tf.Tensor 'DecodeCSV:11' shape=(1,) dtype=int32>, <tf.Tensor 'DecodeCSV:12' shape=(1,) dtype=float32>, <tf.Tensor 'DecodeCSV:13' shape=(1,) dtype=float32>]\n",
      "INFO:tensorflow:Calling model_fn.\n"
     ]
    },
    {
     "name": "stdout",
     "output_type": "stream",
     "text": [
      "2018-07-17 18:07:09,957 - tensorflow - INFO [line:116] - Calling model_fn.\n",
      "INFO:tensorflow:Calling model_fn.\n",
      "2018-07-17 18:07:09,959 - tensorflow - INFO [line:116] - Calling model_fn.\n",
      "INFO:tensorflow:Done calling model_fn.\n",
      "2018-07-17 18:07:10,921 - tensorflow - INFO [line:116] - Done calling model_fn.\n",
      "INFO:tensorflow:Done calling model_fn.\n",
      "2018-07-17 18:07:10,970 - tensorflow - INFO [line:116] - Done calling model_fn.\n",
      "INFO:tensorflow:Starting evaluation at 2018-07-17-10:07:10\n",
      "2018-07-17 18:07:10,992 - tensorflow - INFO [line:116] - Starting evaluation at 2018-07-17-10:07:10\n",
      "INFO:tensorflow:Graph was finalized.\n",
      "2018-07-17 18:07:11,082 - tensorflow - INFO [line:116] - Graph was finalized.\n",
      "INFO:tensorflow:Restoring parameters from D:\\Python\\notebook\\ml_specialized\\rossmann/models/dnn_regressor\\model.ckpt-6924\n",
      "2018-07-17 18:07:11,097 - tensorflow - INFO [line:116] - Restoring parameters from D:\\Python\\notebook\\ml_specialized\\rossmann/models/dnn_regressor\\model.ckpt-6924\n",
      "INFO:tensorflow:Running local_init_op.\n",
      "2018-07-17 18:07:11,177 - tensorflow - INFO [line:116] - Running local_init_op.\n",
      "INFO:tensorflow:Done running local_init_op.\n",
      "2018-07-17 18:07:11,217 - tensorflow - INFO [line:116] - Done running local_init_op.\n",
      "INFO:tensorflow:Evaluation [98/989]\n",
      "2018-07-17 18:07:14,626 - tensorflow - INFO [line:116] - Evaluation [98/989]\n",
      "INFO:tensorflow:Evaluation [196/989]\n",
      "2018-07-17 18:07:17,835 - tensorflow - INFO [line:116] - Evaluation [196/989]\n",
      "INFO:tensorflow:Evaluation [294/989]\n",
      "2018-07-17 18:07:21,494 - tensorflow - INFO [line:116] - Evaluation [294/989]\n",
      "INFO:tensorflow:Evaluation [392/989]\n",
      "2018-07-17 18:07:24,530 - tensorflow - INFO [line:116] - Evaluation [392/989]\n",
      "INFO:tensorflow:Evaluation [490/989]\n",
      "2018-07-17 18:07:27,291 - tensorflow - INFO [line:116] - Evaluation [490/989]\n",
      "INFO:tensorflow:Evaluation [588/989]\n",
      "2018-07-17 18:07:30,241 - tensorflow - INFO [line:116] - Evaluation [588/989]\n",
      "INFO:tensorflow:Evaluation [686/989]\n",
      "2018-07-17 18:07:33,063 - tensorflow - INFO [line:116] - Evaluation [686/989]\n",
      "INFO:tensorflow:Evaluation [784/989]\n",
      "2018-07-17 18:07:36,114 - tensorflow - INFO [line:116] - Evaluation [784/989]\n",
      "INFO:tensorflow:Evaluation [882/989]\n",
      "2018-07-17 18:07:39,293 - tensorflow - INFO [line:116] - Evaluation [882/989]\n",
      "INFO:tensorflow:Evaluation [980/989]\n",
      "2018-07-17 18:07:42,070 - tensorflow - INFO [line:116] - Evaluation [980/989]\n",
      "INFO:tensorflow:Finished evaluation at 2018-07-17-10:07:42\n",
      "2018-07-17 18:07:42,365 - tensorflow - INFO [line:116] - Finished evaluation at 2018-07-17-10:07:42\n",
      "INFO:tensorflow:Saving dict for global step 6924: average_loss = 0.036617436, global_step = 6924, loss = 9.370468, mae = 0.14306577, rmse = 0.19135682, rmspe = 0.27891192\n",
      "2018-07-17 18:07:42,367 - tensorflow - INFO [line:116] - Saving dict for global step 6924: average_loss = 0.036617436, global_step = 6924, loss = 9.370468, mae = 0.14306577, rmse = 0.19135682, rmspe = 0.27891192\n",
      "2018-07-17 18:07:42,372 - BestScoreExporter - INFO [line:104] - eval_result: {'average_loss': 0.036617436, 'loss': 9.370468, 'mae': 0.14306577, 'rmse': 0.19135682, 'rmspe': 0.27891192, 'global_step': 6924}\n",
      "2018-07-17 18:07:42,373 - BestScoreExporter - INFO [line:125] - bad eval loss: 9.370468139648438\n",
      "Wall time: 4min 36s\n"
     ]
    }
   ],
   "source": [
    "%%time\n",
    "from trainer import app_conf, metadata, input as inp, service\n",
    "from trainer.ctrl import Ctrl\n",
    "\n",
    "ctrl = Ctrl.instance\n",
    "ctrl.train(None)"
   ]
  },
  {
   "cell_type": "markdown",
   "metadata": {},
   "source": [
    "### Model Performance(TensorBoard Screen Shot): RMSE on Valid Data: 0.19\n",
    "![Pic from tensrorboard](model_metric.jpg)"
   ]
  },
  {
   "cell_type": "markdown",
   "metadata": {},
   "source": [
    "<br/>\n",
    "<br/>\n",
    "<br/>\n",
    "<br/>\n",
    "<br/>\n",
    "<br/>"
   ]
  },
  {
   "cell_type": "markdown",
   "metadata": {},
   "source": [
    "## Protocol buffer file inspection\n",
    "- Use saved_model_cli to inspect the protocol buff schema"
   ]
  },
  {
   "cell_type": "code",
   "execution_count": 48,
   "metadata": {},
   "outputs": [
    {
     "name": "stdout",
     "output_type": "stream",
     "text": [
      "d:\\python\\anaconda3\\envs\\py3_6\\lib\\site-packages\\h5py\\__init__.py:36: FutureWarning: Conversion of the second argument of issubdtype from `float` to `np.floating` is deprecated. In future, it will be treated as `np.float64 == np.dtype(float).type`.\r\n",
      "  from ._conv import register_converters as _register_converters\r\n",
      "The given SavedModel contains the following tag-sets:\r\n",
      "serve\r\n",
      "\n"
     ]
    }
   ],
   "source": [
    "export_dir = utils.find_latest_expdir(app_conf.instance)\n",
    "print( utils.cmd(f'saved_model_cli show --dir {export_dir}') )"
   ]
  },
  {
   "cell_type": "code",
   "execution_count": 49,
   "metadata": {
    "scrolled": true
   },
   "outputs": [
    {
     "name": "stdout",
     "output_type": "stream",
     "text": [
      "d:\\python\\anaconda3\\envs\\py3_6\\lib\\site-packages\\h5py\\__init__.py:36: FutureWarning: Conversion of the second argument of issubdtype from `float` to `np.floating` is deprecated. In future, it will be treated as `np.float64 == np.dtype(float).type`.\r\n",
      "  from ._conv import register_converters as _register_converters\r\n",
      "The given SavedModel MetaGraphDef contains SignatureDefs with the following keys:\r\n",
      "SignatureDef key: \"predict\"\r\n",
      "\n"
     ]
    }
   ],
   "source": [
    "export_dir = utils.find_latest_expdir(app_conf.instance)\n",
    "print( utils.cmd(f'saved_model_cli show --dir {export_dir} --tag_set serve') )"
   ]
  },
  {
   "cell_type": "code",
   "execution_count": 50,
   "metadata": {
    "scrolled": true
   },
   "outputs": [
    {
     "name": "stdout",
     "output_type": "stream",
     "text": [
      "d:\\python\\anaconda3\\envs\\py3_6\\lib\\site-packages\\h5py\\__init__.py:36: FutureWarning: Conversion of the second argument of issubdtype from `float` to `np.floating` is deprecated. In future, it will be treated as `np.float64 == np.dtype(float).type`.\r\n",
      "  from ._conv import register_converters as _register_converters\r\n",
      "The given SavedModel SignatureDef contains the following input(s):\r\n",
      "  inputs['assortment'] tensor_info:\r\n",
      "      dtype: DT_STRING\r\n",
      "      shape: (-1)\r\n",
      "      name: assortment:0\r\n",
      "  inputs['day'] tensor_info:\r\n",
      "      dtype: DT_INT32\r\n",
      "      shape: (-1)\r\n",
      "      name: day:0\r\n",
      "  inputs['day_of_week'] tensor_info:\r\n",
      "      dtype: DT_INT32\r\n",
      "      shape: (-1)\r\n",
      "      name: day_of_week:0\r\n",
      "  inputs['month'] tensor_info:\r\n",
      "      dtype: DT_INT32\r\n",
      "      shape: (-1)\r\n",
      "      name: month:0\r\n",
      "  inputs['open'] tensor_info:\r\n",
      "      dtype: DT_INT32\r\n",
      "      shape: (-1)\r\n",
      "      name: open:0\r\n",
      "  inputs['promo'] tensor_info:\r\n",
      "      dtype: DT_INT32\r\n",
      "      shape: (-1)\r\n",
      "      name: promo:0\r\n",
      "  inputs['promo2'] tensor_info:\r\n",
      "      dtype: DT_INT32\r\n",
      "      shape: (-1)\r\n",
      "      name: promo2:0\r\n",
      "  inputs['sales_mean'] tensor_info:\r\n",
      "      dtype: DT_FLOAT\r\n",
      "      shape: (-1)\r\n",
      "      name: sales_mean:0\r\n",
      "  inputs['school_holiday'] tensor_info:\r\n",
      "      dtype: DT_INT32\r\n",
      "      shape: (-1)\r\n",
      "      name: school_holiday:0\r\n",
      "  inputs['state'] tensor_info:\r\n",
      "      dtype: DT_STRING\r\n",
      "      shape: (-1)\r\n",
      "      name: state:0\r\n",
      "  inputs['state_holiday'] tensor_info:\r\n",
      "      dtype: DT_STRING\r\n",
      "      shape: (-1)\r\n",
      "      name: state_holiday:0\r\n",
      "  inputs['store'] tensor_info:\r\n",
      "      dtype: DT_INT32\r\n",
      "      shape: (-1)\r\n",
      "      name: store:0\r\n",
      "  inputs['store_type'] tensor_info:\r\n",
      "      dtype: DT_STRING\r\n",
      "      shape: (-1)\r\n",
      "      name: store_type:0\r\n",
      "The given SavedModel SignatureDef contains the following output(s):\r\n",
      "  outputs['predictions'] tensor_info:\r\n",
      "      dtype: DT_FLOAT\r\n",
      "      shape: (-1, 1)\r\n",
      "      name: dnn/logits/BiasAdd:0\r\n",
      "Method name is: tensorflow/serving/predict\r\n",
      "\n"
     ]
    }
   ],
   "source": [
    "export_dir = utils.find_latest_expdir(app_conf.instance)\n",
    "command = f'saved_model_cli show --dir {export_dir} --tag_set serve --signature_def predict'\n",
    "print( utils.cmd(command) )"
   ]
  },
  {
   "cell_type": "markdown",
   "metadata": {},
   "source": [
    "## Local prediction\n",
    "1. Transform raw input data for prediction\n",
    "2. Local prediction\n",
    "    - call ctrl.local_predict: simply use `tensorflow.contrib.predictor`\n",
    "        ```python\n",
    "        from tensorflow.contrib import predictor\n",
    "        predict_fn = predictor.from_saved_model(export_dir, signature_def_key='predict')\n",
    "        pred = predict_fn( ... )\n",
    "        ```\n",
    "3. Online prediciton\n",
    "    - deploy model to ml-engine\n",
    "        1. Create model reository(resource)\n",
    "        2. Add version in model container, in this example we clean the reository first (delete all old version)\n",
    "        3. Determine the **default version**, default is the latest version\n",
    "    - call ctrl.online_predict\n",
    "    \n",
    "4. In this case, we need to take np.expm1 to the predict result"
   ]
  },
  {
   "cell_type": "code",
   "execution_count": 38,
   "metadata": {
    "scrolled": true
   },
   "outputs": [
    {
     "name": "stdout",
     "output_type": "stream",
     "text": [
      "INFO:tensorflow:Restoring parameters from b'D:\\\\Python\\\\notebook\\\\ml_specialized\\\\rossmann/models/dnn_regressor/export/estimator/1530166382\\\\variables\\\\variables'\n",
      "2018-06-28 14:15:18,937 - tensorflow - INFO [line:116] - Restoring parameters from b'D:\\\\Python\\\\notebook\\\\ml_specialized\\\\rossmann/models/dnn_regressor/export/estimator/1530166382\\\\variables\\\\variables'\n",
      "[ 6067.  9745. 11913. ...  5987. 26266.  6778.]\n",
      "Wall time: 2.48 s\n"
     ]
    }
   ],
   "source": [
    "%%time\n",
    "from trainer import app_conf, metadata, input, service\n",
    "from trainer.ctrl import Ctrl\n",
    "\n",
    "ctrl = Ctrl.instance\n",
    "test_df = ctrl.transform(pd.Series({'fpath': './data/test.csv'}))\n",
    "params = pd.Series({\n",
    "    'datasource': test_df,\n",
    "    'is_src_file': False\n",
    "})\n",
    "pred = Ctrl.instance.local_predict(params)\n",
    "print(pred)"
   ]
  },
  {
   "cell_type": "markdown",
   "metadata": {},
   "source": [
    "## Deply to ml-engine"
   ]
  },
  {
   "cell_type": "markdown",
   "metadata": {},
   "source": [
    "- Set environ variable to read the api key json file: \n",
    "    - In trainer/app_conf.py, `Config.api_key_path` set the API key json path to acquire the access to any GCP service"
   ]
  },
  {
   "cell_type": "code",
   "execution_count": 3,
   "metadata": {},
   "outputs": [
    {
     "name": "stdout",
     "output_type": "stream",
     "text": [
      "Wall time: 0 ns\n"
     ]
    }
   ],
   "source": [
    "%%time\n",
    "from oauth2client.client import GoogleCredentials\n",
    "from trainer import app_conf, metadata, input, service\n",
    "from trainer.ctrl import Ctrl\n",
    "ctrl = Ctrl.instance\n",
    "\n",
    "ctrl.set_client_secret()"
   ]
  },
  {
   "cell_type": "markdown",
   "metadata": {},
   "source": [
    "- Upload saved pb file to GCS"
   ]
  },
  {
   "cell_type": "code",
   "execution_count": 4,
   "metadata": {
    "scrolled": true
   },
   "outputs": [
    {
     "name": "stdout",
     "output_type": "stream",
     "text": [
      "2018-07-02 11:30:31,405 - trainer.ctrl - INFO [line:66] - delete ml-specialized/models/rossmann/saved_model.pb\n",
      "2018-07-02 11:30:31,481 - trainer.ctrl - INFO [line:66] - delete ml-specialized/models/rossmann/variables/variables.data-00000-of-00001\n",
      "2018-07-02 11:30:31,556 - trainer.ctrl - INFO [line:66] - delete ml-specialized/models/rossmann/variables/variables.index\n",
      "2018-07-02 11:30:31,622 - trainer.ctrl - INFO [line:70] - copy D:\\Python\\notebook\\ml_specialized\\rossmann\\models\\dnn_regressor\\export\\estimator\\1530501642/saved_model.pb to models/rossmann/saved_model.pb\n",
      "2018-07-02 11:30:32,968 - trainer.ctrl - INFO [line:70] - copy D:\\Python\\notebook\\ml_specialized\\rossmann\\models\\dnn_regressor\\export\\estimator\\1530501642\\variables/variables.data-00000-of-00001 to models/rossmann/variables/variables.data-00000-of-00001\n",
      "2018-07-02 11:30:34,862 - trainer.ctrl - INFO [line:70] - copy D:\\Python\\notebook\\ml_specialized\\rossmann\\models\\dnn_regressor\\export\\estimator\\1530501642\\variables/variables.index to models/rossmann/variables/variables.index\n",
      "Wall time: 5.33 s\n"
     ]
    }
   ],
   "source": [
    "%%time\n",
    "ctrl = Ctrl.instance\n",
    "p = pd.Series({\n",
    "    'bucket_name': 'ml-specialized',\n",
    "    'model_path': utils.find_latest_expdir(app_conf.instance),\n",
    "    'prefix': 'models/rossmann'\n",
    "})\n",
    "ctrl.upload_model(p)"
   ]
  },
  {
   "cell_type": "markdown",
   "metadata": {},
   "source": [
    "#### Deploy\n",
    "- Create model resource and version\n",
    "- Call deploy api"
   ]
  },
  {
   "cell_type": "code",
   "execution_count": 5,
   "metadata": {},
   "outputs": [
    {
     "name": "stdout",
     "output_type": "stream",
     "text": [
      "2018-07-02 11:30:37,604 - googleapiclient.discovery - INFO [line:274] - URL being requested: GET https://www.googleapis.com/discovery/v1/apis/ml/v1/rest\n",
      "2018-07-02 11:30:39,765 - googleapiclient.discovery - INFO [line:868] - URL being requested: POST https://ml.googleapis.com/v1/projects/ml-team-cloudmile/models?alt=json\n",
      "2018-07-02 11:30:39,765 - oauth2client.transport - INFO [line:151] - Attempting refresh to obtain initial access_token\n",
      "2018-07-02 11:30:39,768 - oauth2client.client - INFO [line:795] - Refreshing access_token\n",
      "2018-07-02 11:30:41,348 - trainer.service - WARNING [line:114] - <HttpError 409 when requesting https://ml.googleapis.com/v1/projects/ml-team-cloudmile/models?alt=json returned \"Field: model.name Error: A model with the same name already exists.\">\n",
      "2018-07-02 11:30:41,352 - googleapiclient.discovery - INFO [line:868] - URL being requested: GET https://ml.googleapis.com/v1/projects/ml-team-cloudmile/models/ml_specilized_rossmann/versions?alt=json\n",
      "2018-07-02 11:30:41,704 - trainer.service - INFO [line:128] - delete model version [projects/ml-team-cloudmile/models/ml_specilized_rossmann/versions/v2018_06_28__14_20_16]\n",
      "2018-07-02 11:30:41,708 - googleapiclient.discovery - INFO [line:868] - URL being requested: DELETE https://ml.googleapis.com/v1/projects/ml-team-cloudmile/models/ml_specilized_rossmann/versions/v2018_06_28__14_20_16?alt=json\n",
      "2018-07-02 11:30:42,917 - trainer.service - INFO [line:156] - create model ml_specilized_rossmann from gs://ml-specialized/models/rossmann\n",
      "2018-07-02 11:30:42,923 - googleapiclient.discovery - INFO [line:868] - URL being requested: POST https://ml.googleapis.com/v1/projects/ml-team-cloudmile/models/ml_specilized_rossmann/versions?alt=json\n"
     ]
    },
    {
     "data": {
      "text/plain": [
       "<trainer.ctrl.Ctrl at 0x26ea3a631d0>"
      ]
     },
     "execution_count": 5,
     "metadata": {},
     "output_type": "execute_result"
    }
   ],
   "source": [
    "ctrl = Ctrl.instance\n",
    "p = pd.Series({\n",
    "    'model_name': 'ml_specilized_rossmann',\n",
    "    'deployment_uri': 'gs://ml-specialized/models/rossmann'\n",
    "})\n",
    "ctrl.deploy(p)"
   ]
  },
  {
   "cell_type": "markdown",
   "metadata": {},
   "source": [
    "- Call deployed model\n",
    "\n",
    "Because of the traffic volume limitation, just show first 100 rows online prediction"
   ]
  },
  {
   "cell_type": "code",
   "execution_count": 55,
   "metadata": {},
   "outputs": [
    {
     "name": "stdout",
     "output_type": "stream",
     "text": [
      "2018-06-28 14:22:29,311 - googleapiclient.discovery - INFO [line:868] - URL being requested: POST https://ml.googleapis.com/v1/projects/ml-team-cloudmile/models/ml_specilized_rossmann:predict?alt=json\n",
      "2018-06-28 14:22:29,313 - oauth2client.transport - INFO [line:151] - Attempting refresh to obtain initial access_token\n",
      "2018-06-28 14:22:29,316 - oauth2client.client - INFO [line:795] - Refreshing access_token\n"
     ]
    },
    {
     "data": {
      "text/plain": [
       "array([ 6067.,  9745., 11913.,  7889.,  8293.,  7452., 10294.,  9888.,  6636.,  7696.,  8406.,\n",
       "        9192.,  8226.,  9833.,  6712.,  6217.,  7268., 11901., 13569., 12362.,  9250.,  7581.,\n",
       "        7284.,  5611., 10509., 12393., 12248.,  8046.,  6364.,  6424.,  6912., 12898.,  8382.,\n",
       "        6989.,  6894.,  9083.,  5491.,  8897.,  5661.,  8352.,  9534.,  7040.,  9186.,  8583.,\n",
       "        6138.,  8705.,  9041., 12404.,  7888.,  9667.,  9443., 11213.,  8557., 11640.,  5942.,\n",
       "        6315.,  8335.,  7802., 11044.,  9943.,  7218.,  9788.,  9773., 11264.,  5190., 16683.,\n",
       "        6351.,  8072., 10477.,  7306.,  7799.,  8238.,  8996.,  6259.,  6450., 10309.,  9309.,\n",
       "        9573.,  5781.,  9918., 13744.,  8218.,  5858.,  8455.,  8262.,  9285.,  9043.,  5084.,\n",
       "       10061.,  8038.,  8471.,  8580.,  5951.,  8369.,  7291.,  9068., 12310.,  6594.,  6764.,\n",
       "        8054.])"
      ]
     },
     "execution_count": 55,
     "metadata": {},
     "output_type": "execute_result"
    }
   ],
   "source": [
    "test_df = Ctrl.instance.transform(pd.Series({'fpath': './data/test.csv'}))\n",
    "p = pd.Series({\n",
    "    'model_name': 'ml_specilized_rossmann',\n",
    "    'datasource': test_df[:100].to_dict('records')\n",
    "})\n",
    "result = Ctrl.instance.online_predict(p)\n",
    "result"
   ]
  },
  {
   "cell_type": "markdown",
   "metadata": {},
   "source": [
    "<br/>\n",
    "<br/>\n",
    "<br/>\n",
    "<br/>\n",
    "<br/>\n",
    "## Check predictions\n",
    "---\n",
    "Plot timeline in each store sales, prev 70% are training data and post 30% are validation data, predict valid data and compare to the ground truth"
   ]
  },
  {
   "cell_type": "code",
   "execution_count": 6,
   "metadata": {},
   "outputs": [
    {
     "name": "stderr",
     "output_type": "stream",
     "text": [
      "d:\\python\\anaconda3\\envs\\py3_6\\lib\\site-packages\\IPython\\core\\interactiveshell.py:2785: DtypeWarning: Columns (5) have mixed types. Specify dtype option on import or set low_memory=False.\n",
      "  interactivity=interactivity, compiler=compiler, result=result)\n"
     ]
    },
    {
     "name": "stdout",
     "output_type": "stream",
     "text": [
      "INFO:tensorflow:Restoring parameters from b'D:\\\\Python\\\\notebook\\\\ml_specialized\\\\rossmann/models/dnn_regressor/export/estimator/1530501642\\\\variables\\\\variables'\n",
      "2018-07-05 10:52:34,757 - tensorflow - INFO [line:116] - Restoring parameters from b'D:\\\\Python\\\\notebook\\\\ml_specialized\\\\rossmann/models/dnn_regressor/export/estimator/1530501642\\\\variables\\\\variables'\n"
     ]
    },
    {
     "data": {
      "text/html": [
       "<div>\n",
       "<style scoped>\n",
       "    .dataframe tbody tr th:only-of-type {\n",
       "        vertical-align: middle;\n",
       "    }\n",
       "\n",
       "    .dataframe tbody tr th {\n",
       "        vertical-align: top;\n",
       "    }\n",
       "\n",
       "    .dataframe thead th {\n",
       "        text-align: right;\n",
       "    }\n",
       "</style>\n",
       "<table border=\"1\" class=\"dataframe\">\n",
       "  <thead>\n",
       "    <tr style=\"text-align: right;\">\n",
       "      <th></th>\n",
       "      <th>store</th>\n",
       "      <th>day_of_week</th>\n",
       "      <th>open</th>\n",
       "      <th>promo2</th>\n",
       "      <th>promo</th>\n",
       "      <th>state_holiday</th>\n",
       "      <th>school_holiday</th>\n",
       "      <th>store_type</th>\n",
       "      <th>assortment</th>\n",
       "      <th>state</th>\n",
       "      <th>month</th>\n",
       "      <th>day</th>\n",
       "      <th>sales_mean</th>\n",
       "      <th>sales</th>\n",
       "      <th>date</th>\n",
       "      <th>predict</th>\n",
       "    </tr>\n",
       "  </thead>\n",
       "  <tbody>\n",
       "    <tr>\n",
       "      <th>0</th>\n",
       "      <td>1</td>\n",
       "      <td>3</td>\n",
       "      <td>1</td>\n",
       "      <td>0</td>\n",
       "      <td>0</td>\n",
       "      <td>0</td>\n",
       "      <td>1</td>\n",
       "      <td>c</td>\n",
       "      <td>a</td>\n",
       "      <td>HE</td>\n",
       "      <td>1</td>\n",
       "      <td>2</td>\n",
       "      <td>3945.704883</td>\n",
       "      <td>5530.0</td>\n",
       "      <td>2013-01-16</td>\n",
       "      <td>NaN</td>\n",
       "    </tr>\n",
       "    <tr>\n",
       "      <th>1</th>\n",
       "      <td>1</td>\n",
       "      <td>4</td>\n",
       "      <td>1</td>\n",
       "      <td>0</td>\n",
       "      <td>0</td>\n",
       "      <td>0</td>\n",
       "      <td>1</td>\n",
       "      <td>c</td>\n",
       "      <td>a</td>\n",
       "      <td>HE</td>\n",
       "      <td>1</td>\n",
       "      <td>3</td>\n",
       "      <td>3945.704883</td>\n",
       "      <td>4327.0</td>\n",
       "      <td>2013-01-16</td>\n",
       "      <td>NaN</td>\n",
       "    </tr>\n",
       "    <tr>\n",
       "      <th>2</th>\n",
       "      <td>1</td>\n",
       "      <td>5</td>\n",
       "      <td>1</td>\n",
       "      <td>0</td>\n",
       "      <td>0</td>\n",
       "      <td>0</td>\n",
       "      <td>1</td>\n",
       "      <td>c</td>\n",
       "      <td>a</td>\n",
       "      <td>HE</td>\n",
       "      <td>1</td>\n",
       "      <td>4</td>\n",
       "      <td>3945.704883</td>\n",
       "      <td>4486.0</td>\n",
       "      <td>2013-01-16</td>\n",
       "      <td>NaN</td>\n",
       "    </tr>\n",
       "    <tr>\n",
       "      <th>3</th>\n",
       "      <td>1</td>\n",
       "      <td>6</td>\n",
       "      <td>1</td>\n",
       "      <td>0</td>\n",
       "      <td>0</td>\n",
       "      <td>0</td>\n",
       "      <td>1</td>\n",
       "      <td>c</td>\n",
       "      <td>a</td>\n",
       "      <td>HE</td>\n",
       "      <td>1</td>\n",
       "      <td>5</td>\n",
       "      <td>3945.704883</td>\n",
       "      <td>4997.0</td>\n",
       "      <td>2013-01-16</td>\n",
       "      <td>NaN</td>\n",
       "    </tr>\n",
       "    <tr>\n",
       "      <th>4</th>\n",
       "      <td>1</td>\n",
       "      <td>1</td>\n",
       "      <td>1</td>\n",
       "      <td>0</td>\n",
       "      <td>1</td>\n",
       "      <td>0</td>\n",
       "      <td>1</td>\n",
       "      <td>c</td>\n",
       "      <td>a</td>\n",
       "      <td>HE</td>\n",
       "      <td>1</td>\n",
       "      <td>7</td>\n",
       "      <td>3945.704883</td>\n",
       "      <td>7176.0</td>\n",
       "      <td>2013-01-16</td>\n",
       "      <td>NaN</td>\n",
       "    </tr>\n",
       "  </tbody>\n",
       "</table>\n",
       "</div>"
      ],
      "text/plain": [
       "   store  day_of_week  open  promo2  promo state_holiday  school_holiday  \\\n",
       "0      1            3     1       0      0             0               1   \n",
       "1      1            4     1       0      0             0               1   \n",
       "2      1            5     1       0      0             0               1   \n",
       "3      1            6     1       0      0             0               1   \n",
       "4      1            1     1       0      1             0               1   \n",
       "\n",
       "  store_type assortment state  month  day   sales_mean   sales       date  \\\n",
       "0          c          a    HE      1    2  3945.704883  5530.0 2013-01-16   \n",
       "1          c          a    HE      1    3  3945.704883  4327.0 2013-01-16   \n",
       "2          c          a    HE      1    4  3945.704883  4486.0 2013-01-16   \n",
       "3          c          a    HE      1    5  3945.704883  4997.0 2013-01-16   \n",
       "4          c          a    HE      1    7  3945.704883  7176.0 2013-01-16   \n",
       "\n",
       "   predict  \n",
       "0      NaN  \n",
       "1      NaN  \n",
       "2      NaN  \n",
       "3      NaN  \n",
       "4      NaN  "
      ]
     },
     "execution_count": 6,
     "metadata": {},
     "output_type": "execute_result"
    }
   ],
   "source": [
    "tr = pd.read_csv('./data/processed/train_pr.csv').query('open == 1')\n",
    "vl = pd.read_csv('./data/processed/valid_pr.csv').query('open == 1')\n",
    "# Add date column for time series inspection\n",
    "tr['date'] = pd.read_json(app_conf.instance.tr_dt_file, typ='series').values\n",
    "vl['date'] = pd.read_json(app_conf.instance.vl_dt_file, typ='series').values\n",
    "\n",
    "tr['predict'] = np.nan\n",
    "params = pd.Series({\n",
    "    'datasource': vl.drop(['sales', 'date'], 1),\n",
    "    'is_src_file': False\n",
    "})\n",
    "vl['predict'] = Ctrl.instance.local_predict(params)\n",
    "\n",
    "merge = pd.concat([tr, vl], 0)\n",
    "merge['sales'] = np.expm1(merge.sales)\n",
    "merge.head()"
   ]
  },
  {
   "cell_type": "markdown",
   "metadata": {},
   "source": [
    "- Modify the `pos` variable to controll the start position, the following plot will show 3 figures a time"
   ]
  },
  {
   "cell_type": "code",
   "execution_count": 7,
   "metadata": {},
   "outputs": [],
   "source": [
    "pos = 100"
   ]
  },
  {
   "cell_type": "code",
   "execution_count": 10,
   "metadata": {
    "scrolled": false
   },
   "outputs": [
    {
     "data": {
      "image/png": "[encoded data removed]",
      "text/plain": [
       "<Figure size 1440x576 with 3 Axes>"
      ]
     },
     "metadata": {},
     "output_type": "display_data"
    }
   ],
   "source": [
    "n_rows, n_cols = 3, 1\n",
    "f, ax = plt.subplots(n_rows, n_cols, figsize=(20, 8), sharex=True, sharey=True)\n",
    "\n",
    "for r, idx in enumerate(np.arange(pos, pos + n_rows)):\n",
    "    samples = merge.query(f'store == {idx}').sort_values('date')\n",
    "    hist = samples.query('predict.isnull()')\n",
    "    predict = samples.query('predict.notnull()')\n",
    "    ax[r].plot(np.arange(len(hist)), hist.sales.values, c='gray', label='history')\n",
    "    ax[r].plot(np.arange(len(hist), len(hist) + len(predict)), predict.sales.values, label='actual')\n",
    "    ax[r].plot(np.arange(len(hist), len(hist) + len(predict)), predict.predict.values, label='predict')\n",
    "    ax[r].set_title(f'{idx}', size=18)\n",
    "    ax[r].set_ylabel('sales')\n",
    "    ax[r].set_ylabel('sales')\n",
    "    ax[r].grid(True)\n",
    "    ax[r].legend(loc='best', prop={'size': 16})\n",
    "pos += n_rows\n",
    "plt.show()"
   ]
  },
  {
   "cell_type": "code",
   "execution_count": null,
   "metadata": {},
   "outputs": [],
   "source": []
  },
  {
   "cell_type": "code",
   "execution_count": null,
   "metadata": {},
   "outputs": [],
   "source": []
  },
  {
   "cell_type": "code",
   "execution_count": null,
   "metadata": {},
   "outputs": [],
   "source": []
  },
  {
   "cell_type": "code",
   "execution_count": null,
   "metadata": {},
   "outputs": [],
   "source": []
  },
  {
   "cell_type": "code",
   "execution_count": null,
   "metadata": {},
   "outputs": [],
   "source": []
  },
  {
   "cell_type": "markdown",
   "metadata": {},
   "source": [
    "<br/>\n",
    "<br/>\n",
    "<br/>\n",
    "<br/>\n",
    "<br/>\n",
    "<br/>\n",
    "## Appendix"
   ]
  },
  {
   "cell_type": "markdown",
   "metadata": {},
   "source": [
    "+ Use `tf.saved_model.loader.load`, only for `json_serving_input_fn `"
   ]
  },
  {
   "cell_type": "code",
   "execution_count": null,
   "metadata": {
    "scrolled": true
   },
   "outputs": [],
   "source": [
    "%%time\n",
    "from trainer import app_conf, metadata, input, service\n",
    "from trainer.ctrl import Ctrl\n",
    "\n",
    "ctrl = Ctrl.instance\n",
    "test_df = ctrl.transform(pd.Series({'fpath': './data/test.csv'}))\n",
    "params = pd.Series({\n",
    "    'datasource': test_df,\n",
    "    'is_src_file': False\n",
    "})\n",
    "pred = ctrl.local_predict_alt(params)\n",
    "print(pred)"
   ]
  },
  {
   "cell_type": "markdown",
   "metadata": {},
   "source": [
    "## Tensor data inspection"
   ]
  },
  {
   "cell_type": "code",
   "execution_count": 5,
   "metadata": {},
   "outputs": [
    {
     "name": "stdout",
     "output_type": "stream",
     "text": [
      "2018-07-17 10:19:39,525 - trainer.input - INFO [line:355] - \n",
      "2018-07-17 10:19:39,527 - trainer.input - INFO [line:356] - * data input_fn:\n",
      "2018-07-17 10:19:39,528 - trainer.input - INFO [line:357] - ================\n",
      "2018-07-17 10:19:39,529 - trainer.input - INFO [line:358] - Mode: train\n",
      "2018-07-17 10:19:39,529 - trainer.input - INFO [line:359] - Input file(s): D:\\Python\\notebook\\ml_specialized\\rossmann/data/processed/train_pr.csv\n",
      "2018-07-17 10:19:39,530 - trainer.input - INFO [line:360] - Files encoding: csv\n",
      "2018-07-17 10:19:39,531 - trainer.input - INFO [line:361] - Batch size: 5000\n",
      "2018-07-17 10:19:39,532 - trainer.input - INFO [line:362] - Epoch count: 10\n",
      "2018-07-17 10:19:39,533 - trainer.input - INFO [line:363] - Thread count: 8\n",
      "2018-07-17 10:19:39,534 - trainer.input - INFO [line:364] - Shuffle: False\n",
      "2018-07-17 10:19:39,535 - trainer.input - INFO [line:365] - ================\n",
      "2018-07-17 10:19:39,535 - trainer.input - INFO [line:366] - \n",
      "2018-07-17 10:19:39,546 - trainer.input - INFO [line:307] - is_serving: False\n",
      "INFO:Feature stats were successfully loaded from local file...\n",
      "Wall time: 2.17 s\n"
     ]
    }
   ],
   "source": [
    "%%time\n",
    "from trainer import app_conf, metadata, input, service\n",
    "from trainer.ctrl import Ctrl\n",
    "\n",
    "encoded, origin, feat_data, target_, all_ = Ctrl.instance.inspect('promo2')"
   ]
  },
  {
   "cell_type": "code",
   "execution_count": 7,
   "metadata": {},
   "outputs": [
    {
     "data": {
      "text/plain": [
       "count    5000.000000\n",
       "mean        8.663852\n",
       "std         0.395387\n",
       "min         7.261225\n",
       "25%         8.414052\n",
       "50%         8.659213\n",
       "75%         8.949040\n",
       "max         9.820867\n",
       "dtype: float64"
      ]
     },
     "execution_count": 7,
     "metadata": {},
     "output_type": "execute_result"
    }
   ],
   "source": [
    "pd.Series(target_.ravel()).describe()"
   ]
  },
  {
   "cell_type": "markdown",
   "metadata": {},
   "source": [
    "## Test"
   ]
  },
  {
   "cell_type": "code",
   "execution_count": 27,
   "metadata": {
    "scrolled": true
   },
   "outputs": [
    {
     "name": "stdout",
     "output_type": "stream",
     "text": [
      "2018-07-17 16:15:23,485 - trainer.input - INFO [line:356] - \n",
      "2018-07-17 16:15:23,487 - trainer.input - INFO [line:357] - * data input_fn:\n",
      "2018-07-17 16:15:23,488 - trainer.input - INFO [line:358] - ================\n",
      "2018-07-17 16:15:23,489 - trainer.input - INFO [line:359] - Mode: eval\n",
      "2018-07-17 16:15:23,490 - trainer.input - INFO [line:360] - Input file(s): D:\\Python\\notebook\\ml_specialized\\rossmann/data/processed/valid_pr.csv\n",
      "2018-07-17 16:15:23,491 - trainer.input - INFO [line:361] - Files encoding: csv\n",
      "2018-07-17 16:15:23,492 - trainer.input - INFO [line:362] - Batch size: 200\n",
      "2018-07-17 16:15:23,492 - trainer.input - INFO [line:363] - Epoch count: 1\n",
      "2018-07-17 16:15:23,494 - trainer.input - INFO [line:364] - Thread count: 8\n",
      "2018-07-17 16:15:23,494 - trainer.input - INFO [line:365] - Shuffle: False\n",
      "2018-07-17 16:15:23,495 - trainer.input - INFO [line:366] - ================\n",
      "2018-07-17 16:15:23,496 - trainer.input - INFO [line:367] - \n",
      "2018-07-17 16:15:23,505 - trainer.input - INFO [line:307] - is_serving: False\n",
      "columns: [<tf.Tensor 'DecodeCSV:0' shape=(1,) dtype=int32>, <tf.Tensor 'DecodeCSV:1' shape=(1,) dtype=int32>, <tf.Tensor 'DecodeCSV:2' shape=(1,) dtype=int32>, <tf.Tensor 'DecodeCSV:3' shape=(1,) dtype=int32>, <tf.Tensor 'DecodeCSV:4' shape=(1,) dtype=int32>, <tf.Tensor 'DecodeCSV:5' shape=(1,) dtype=string>, <tf.Tensor 'DecodeCSV:6' shape=(1,) dtype=int32>, <tf.Tensor 'DecodeCSV:7' shape=(1,) dtype=string>, <tf.Tensor 'DecodeCSV:8' shape=(1,) dtype=string>, <tf.Tensor 'DecodeCSV:9' shape=(1,) dtype=string>, <tf.Tensor 'DecodeCSV:10' shape=(1,) dtype=int32>, <tf.Tensor 'DecodeCSV:11' shape=(1,) dtype=int32>, <tf.Tensor 'DecodeCSV:12' shape=(1,) dtype=float32>, <tf.Tensor 'DecodeCSV:13' shape=(1,) dtype=float32>]\n",
      "Wall time: 110 ms\n"
     ]
    }
   ],
   "source": [
    "%%time\n",
    "from trainer import app_conf, metadata, input, service\n",
    "from trainer.ctrl import Ctrl\n",
    "\n",
    "ctrl = Ctrl.instance\n",
    "ctrl.test()\n",
    "\n",
    "# with tf.Graph().as_default():\n",
    "#     ds = tf.data.Dataset.zip((tf.data.Dataset.range(10), tf.data.Dataset.range(10)))\n",
    "#     def func(l, r):\n",
    "#         print(v)\n",
    "#     ds = ds.map(func)\n",
    "#     with tf.Session() as sess:\n",
    "#         pass\n",
    "\n",
    "# pprint(serv_inp.receiver_tensors)\n",
    "# print()\n",
    "# pprint(serv_inp.features)"
   ]
  },
  {
   "cell_type": "code",
   "execution_count": 10,
   "metadata": {
    "scrolled": true
   },
   "outputs": [
    {
     "name": "stdout",
     "output_type": "stream",
     "text": [
      "[0.2673 0.5345 0.8018]\n"
     ]
    }
   ],
   "source": [
    "# data = pd.DataFrame({'a': [1, 2, 3], 'b': [(1, 2), (3, 4, 5), (5, 6)]})\n",
    "# [0.2673 0.5345 0.8018 0.     0.    ]\n",
    "with tf.Graph().as_default():\n",
    "    with tf.Session() as sess:\n",
    "        print( sess.run(tf.nn.l2_normalize([1., 2., 3.])) )"
   ]
  }
 ],
 "metadata": {
  "anaconda-cloud": {},
  "kernelspec": {
   "display_name": "Python 3",
   "language": "python",
   "name": "python3"
  },
  "language_info": {
   "codemirror_mode": {
    "name": "ipython",
    "version": 3
   },
   "file_extension": ".py",
   "mimetype": "text/x-python",
   "name": "python",
   "nbconvert_exporter": "python",
   "pygments_lexer": "ipython3",
   "version": "3.6.0"
  }
 },
 "nbformat": 4,
 "nbformat_minor": 1
}
