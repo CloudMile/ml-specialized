{
 "cells": [
  {
   "cell_type": "markdown",
   "metadata": {},
   "source": [
    "![Rossmann](rossmann_mark.jpg)\n",
    "\n",
    "Rossmann operates over 3,000 drug stores in 7 European countries. Currently, Rossmann store managers are tasked with predicting their daily sales for up to six weeks in advance. Store sales are influenced by many factors, including promotions, competition, school and state holidays, seasonality, and locality. With thousands of individual managers predicting sales based on their unique circumstances, the accuracy of results can be quite varied.\n",
    "\n",
    "Rossmann is challenging you to predict 6 weeks of daily sales for 1,115 stores located across Germany. Reliable sales forecasts enable store managers to create effective staff schedules that increase productivity and motivation.    \n",
    "\n",
    "\n",
    "\n",
    "\n",
    "---\n",
    "## Flow\n",
    "\n",
    "Here we present EDA (Explotary Data Analysis), followed by description of model and training. We then conclude with comparison of model performance.\n",
    "\n",
    "---\n",
    "## What kind of problem to solve?\n",
    "This task can be seen as regression or time series problem. Here we propose regression method with embedding features method to mine the data information."
   ]
  },
  {
   "cell_type": "code",
   "execution_count": 5,
   "metadata": {
    "scrolled": true
   },
   "outputs": [
    {
     "name": "stdout",
     "output_type": "stream",
     "text": [
      "init logger instance ...\n"
     ]
    }
   ],
   "source": [
    "%reload_ext autoreload\n",
    "%autoreload 2\n",
    "\n",
    "import os, sys, numpy as np, pandas as pd, tensorflow as tf\n",
    "import seaborn as sns\n",
    "import warnings\n",
    "warnings.filterwarnings('ignore')\n",
    "\n",
    "from datetime import datetime, timedelta\n",
    "from matplotlib import pyplot as plt\n",
    "# plt.style.use('ggplot')\n",
    "plt.style.use('seaborn-whitegrid') # \n",
    "\n",
    "ctx = os.path.abspath(os.path.dirname('.'))\n",
    "if ctx not in sys.path:\n",
    "    sys.path.insert(0, ctx)\n",
    "\n",
    "from trainer import app_conf, metadata, utils\n",
    "from trainer.ctrl import Ctrl, arrange_instances\n",
    "\n",
    "conf = app_conf.get_config()\n",
    "ctrl, svc, inp, feature = arrange_instances()\n",
    "\n",
    "np.set_printoptions(precision=4, suppress=True, linewidth=100)\n",
    "np.warnings.filterwarnings('ignore')"
   ]
  },
  {
   "cell_type": "markdown",
   "metadata": {},
   "source": [
    "## Preview\n",
    "\n",
    "## Metadata description\n",
    "---\n",
    "Columns       | Descriptions \n",
    "--------------|-------\n",
    "Id|An Id that represents a (Store, Date) duple within the test set\n",
    "Store|A unique Id for each store\n",
    "Sales|The turnover on a given day (our target variable)\n",
    "Customers|The number of customers on a given day\n",
    "Open|open: 0 = the store is closed , 1 = the store is open\n",
    "StateHoliday|Indicates a state holiday. a = public holiday, b = Easter holiday, c = Christmas, 0 = None\n",
    "SchoolHoliday|Store on this Date was affected or not by the closure of public schools\n",
    "StoreType|4 different stores:a,b,c,d\n",
    "Assortment|Assortment level: a = basic, b = extra, c = extended\n",
    "CompetitionDistance|Distance in meters to the nearest competitor store\n",
    "CompetitionOpenSince[Month/Year]|gives the approximate year and month of the time the nearest competitor was opened\n",
    "Promo|Promo or not on that day\n",
    "Promo2|Promo2 is a continuing and consecutive promotion for some stores: 0 = store is not participating, 1 = store is participating\n",
    "Promo2Since[Year/Week]|describes the year and calendar week when the store started participating in Promo2\n",
    "PromoInterval|describes the consecutive intervals Promo2 is started, naming the months the promotion is started anew. E.g. \"Feb,May,Aug,Nov\" means each round starts in February, May, August, November of any given year for that store"
   ]
  },
  {
   "cell_type": "code",
   "execution_count": 24,
   "metadata": {},
   "outputs": [
    {
     "data": {
      "text/html": [
       "<div>\n",
       "<style scoped>\n",
       "    .dataframe tbody tr th:only-of-type {\n",
       "        vertical-align: middle;\n",
       "    }\n",
       "\n",
       "    .dataframe tbody tr th {\n",
       "        vertical-align: top;\n",
       "    }\n",
       "\n",
       "    .dataframe thead th {\n",
       "        text-align: right;\n",
       "    }\n",
       "</style>\n",
       "<table border=\"1\" class=\"dataframe\">\n",
       "  <thead>\n",
       "    <tr style=\"text-align: right;\">\n",
       "      <th></th>\n",
       "      <th>Store</th>\n",
       "      <th>DayOfWeek</th>\n",
       "      <th>Date</th>\n",
       "      <th>Sales</th>\n",
       "      <th>Customers</th>\n",
       "      <th>Open</th>\n",
       "      <th>Promo</th>\n",
       "      <th>StateHoliday</th>\n",
       "      <th>SchoolHoliday</th>\n",
       "    </tr>\n",
       "  </thead>\n",
       "  <tbody>\n",
       "    <tr>\n",
       "      <th>0</th>\n",
       "      <td>1</td>\n",
       "      <td>5</td>\n",
       "      <td>2015-07-31</td>\n",
       "      <td>5263</td>\n",
       "      <td>555</td>\n",
       "      <td>1</td>\n",
       "      <td>1</td>\n",
       "      <td>0</td>\n",
       "      <td>1</td>\n",
       "    </tr>\n",
       "    <tr>\n",
       "      <th>1</th>\n",
       "      <td>2</td>\n",
       "      <td>5</td>\n",
       "      <td>2015-07-31</td>\n",
       "      <td>6064</td>\n",
       "      <td>625</td>\n",
       "      <td>1</td>\n",
       "      <td>1</td>\n",
       "      <td>0</td>\n",
       "      <td>1</td>\n",
       "    </tr>\n",
       "    <tr>\n",
       "      <th>2</th>\n",
       "      <td>3</td>\n",
       "      <td>5</td>\n",
       "      <td>2015-07-31</td>\n",
       "      <td>8314</td>\n",
       "      <td>821</td>\n",
       "      <td>1</td>\n",
       "      <td>1</td>\n",
       "      <td>0</td>\n",
       "      <td>1</td>\n",
       "    </tr>\n",
       "    <tr>\n",
       "      <th>3</th>\n",
       "      <td>4</td>\n",
       "      <td>5</td>\n",
       "      <td>2015-07-31</td>\n",
       "      <td>13995</td>\n",
       "      <td>1498</td>\n",
       "      <td>1</td>\n",
       "      <td>1</td>\n",
       "      <td>0</td>\n",
       "      <td>1</td>\n",
       "    </tr>\n",
       "    <tr>\n",
       "      <th>4</th>\n",
       "      <td>5</td>\n",
       "      <td>5</td>\n",
       "      <td>2015-07-31</td>\n",
       "      <td>4822</td>\n",
       "      <td>559</td>\n",
       "      <td>1</td>\n",
       "      <td>1</td>\n",
       "      <td>0</td>\n",
       "      <td>1</td>\n",
       "    </tr>\n",
       "  </tbody>\n",
       "</table>\n",
       "</div>"
      ],
      "text/plain": [
       "  Store DayOfWeek        Date  Sales  Customers  Open  Promo StateHoliday  \\\n",
       "0     1         5  2015-07-31   5263        555     1      1            0   \n",
       "1     2         5  2015-07-31   6064        625     1      1            0   \n",
       "2     3         5  2015-07-31   8314        821     1      1            0   \n",
       "3     4         5  2015-07-31  13995       1498     1      1            0   \n",
       "4     5         5  2015-07-31   4822        559     1      1            0   \n",
       "\n",
       "  SchoolHoliday  \n",
       "0             1  \n",
       "1             1  \n",
       "2             1  \n",
       "3             1  \n",
       "4             1  "
      ]
     },
     "execution_count": 24,
     "metadata": {},
     "output_type": "execute_result"
    }
   ],
   "source": [
    "utils.preview('./data/train.csv')"
   ]
  },
  {
   "cell_type": "code",
   "execution_count": 25,
   "metadata": {},
   "outputs": [
    {
     "data": {
      "text/html": [
       "<div>\n",
       "<style scoped>\n",
       "    .dataframe tbody tr th:only-of-type {\n",
       "        vertical-align: middle;\n",
       "    }\n",
       "\n",
       "    .dataframe tbody tr th {\n",
       "        vertical-align: top;\n",
       "    }\n",
       "\n",
       "    .dataframe thead th {\n",
       "        text-align: right;\n",
       "    }\n",
       "</style>\n",
       "<table border=\"1\" class=\"dataframe\">\n",
       "  <thead>\n",
       "    <tr style=\"text-align: right;\">\n",
       "      <th></th>\n",
       "      <th>Store</th>\n",
       "      <th>StoreType</th>\n",
       "      <th>Assortment</th>\n",
       "      <th>CompetitionDistance</th>\n",
       "      <th>CompetitionOpenSinceMonth</th>\n",
       "      <th>CompetitionOpenSinceYear</th>\n",
       "      <th>Promo2</th>\n",
       "      <th>Promo2SinceWeek</th>\n",
       "      <th>Promo2SinceYear</th>\n",
       "      <th>PromoInterval</th>\n",
       "    </tr>\n",
       "  </thead>\n",
       "  <tbody>\n",
       "    <tr>\n",
       "      <th>0</th>\n",
       "      <td>1</td>\n",
       "      <td>c</td>\n",
       "      <td>a</td>\n",
       "      <td>1270.0</td>\n",
       "      <td>9</td>\n",
       "      <td>2008</td>\n",
       "      <td>0</td>\n",
       "      <td>NaN</td>\n",
       "      <td>NaN</td>\n",
       "      <td>NaN</td>\n",
       "    </tr>\n",
       "    <tr>\n",
       "      <th>1</th>\n",
       "      <td>2</td>\n",
       "      <td>a</td>\n",
       "      <td>a</td>\n",
       "      <td>570.0</td>\n",
       "      <td>11</td>\n",
       "      <td>2007</td>\n",
       "      <td>1</td>\n",
       "      <td>13</td>\n",
       "      <td>2010</td>\n",
       "      <td>Jan,Apr,Jul,Oct</td>\n",
       "    </tr>\n",
       "    <tr>\n",
       "      <th>2</th>\n",
       "      <td>3</td>\n",
       "      <td>a</td>\n",
       "      <td>a</td>\n",
       "      <td>14130.0</td>\n",
       "      <td>12</td>\n",
       "      <td>2006</td>\n",
       "      <td>1</td>\n",
       "      <td>14</td>\n",
       "      <td>2011</td>\n",
       "      <td>Jan,Apr,Jul,Oct</td>\n",
       "    </tr>\n",
       "    <tr>\n",
       "      <th>3</th>\n",
       "      <td>4</td>\n",
       "      <td>c</td>\n",
       "      <td>c</td>\n",
       "      <td>620.0</td>\n",
       "      <td>9</td>\n",
       "      <td>2009</td>\n",
       "      <td>0</td>\n",
       "      <td>NaN</td>\n",
       "      <td>NaN</td>\n",
       "      <td>NaN</td>\n",
       "    </tr>\n",
       "    <tr>\n",
       "      <th>4</th>\n",
       "      <td>5</td>\n",
       "      <td>a</td>\n",
       "      <td>a</td>\n",
       "      <td>29910.0</td>\n",
       "      <td>4</td>\n",
       "      <td>2015</td>\n",
       "      <td>0</td>\n",
       "      <td>NaN</td>\n",
       "      <td>NaN</td>\n",
       "      <td>NaN</td>\n",
       "    </tr>\n",
       "  </tbody>\n",
       "</table>\n",
       "</div>"
      ],
      "text/plain": [
       "  Store StoreType Assortment  CompetitionDistance CompetitionOpenSinceMonth  \\\n",
       "0     1         c          a               1270.0                         9   \n",
       "1     2         a          a                570.0                        11   \n",
       "2     3         a          a              14130.0                        12   \n",
       "3     4         c          c                620.0                         9   \n",
       "4     5         a          a              29910.0                         4   \n",
       "\n",
       "  CompetitionOpenSinceYear  Promo2 Promo2SinceWeek Promo2SinceYear  \\\n",
       "0                     2008       0             NaN             NaN   \n",
       "1                     2007       1              13            2010   \n",
       "2                     2006       1              14            2011   \n",
       "3                     2009       0             NaN             NaN   \n",
       "4                     2015       0             NaN             NaN   \n",
       "\n",
       "     PromoInterval  \n",
       "0              NaN  \n",
       "1  Jan,Apr,Jul,Oct  \n",
       "2  Jan,Apr,Jul,Oct  \n",
       "3              NaN  \n",
       "4              NaN  "
      ]
     },
     "execution_count": 25,
     "metadata": {},
     "output_type": "execute_result"
    }
   ],
   "source": [
    "utils.preview('./data/store.csv')"
   ]
  },
  {
   "cell_type": "code",
   "execution_count": 2,
   "metadata": {},
   "outputs": [
    {
     "data": {
      "text/html": [
       "<div>\n",
       "<style scoped>\n",
       "    .dataframe tbody tr th:only-of-type {\n",
       "        vertical-align: middle;\n",
       "    }\n",
       "\n",
       "    .dataframe tbody tr th {\n",
       "        vertical-align: top;\n",
       "    }\n",
       "\n",
       "    .dataframe thead th {\n",
       "        text-align: right;\n",
       "    }\n",
       "</style>\n",
       "<table border=\"1\" class=\"dataframe\">\n",
       "  <thead>\n",
       "    <tr style=\"text-align: right;\">\n",
       "      <th></th>\n",
       "      <th>Store</th>\n",
       "      <th>State</th>\n",
       "    </tr>\n",
       "  </thead>\n",
       "  <tbody>\n",
       "    <tr>\n",
       "      <th>0</th>\n",
       "      <td>1</td>\n",
       "      <td>HE</td>\n",
       "    </tr>\n",
       "    <tr>\n",
       "      <th>1</th>\n",
       "      <td>2</td>\n",
       "      <td>TH</td>\n",
       "    </tr>\n",
       "    <tr>\n",
       "      <th>2</th>\n",
       "      <td>3</td>\n",
       "      <td>NW</td>\n",
       "    </tr>\n",
       "    <tr>\n",
       "      <th>3</th>\n",
       "      <td>4</td>\n",
       "      <td>BE</td>\n",
       "    </tr>\n",
       "    <tr>\n",
       "      <th>4</th>\n",
       "      <td>5</td>\n",
       "      <td>SN</td>\n",
       "    </tr>\n",
       "  </tbody>\n",
       "</table>\n",
       "</div>"
      ],
      "text/plain": [
       "   Store State\n",
       "0      1    HE\n",
       "1      2    TH\n",
       "2      3    NW\n",
       "3      4    BE\n",
       "4      5    SN"
      ]
     },
     "execution_count": 2,
     "metadata": {},
     "output_type": "execute_result"
    }
   ],
   "source": [
    "utils.preview('./data/store_states.csv')"
   ]
  },
  {
   "cell_type": "markdown",
   "metadata": {},
   "source": [
    "## Data Exploration\n",
    "First, we add columns `year, month, day, promo2, sales_mean, customers_mean, competition_open_since, promo2since`\n",
    "- We treat `year, month, day` as categorical variables. We expect there to be perhaps some peak hour or off-peak time on specific day; continuous variables cannot handle this well.\n",
    "- `promo2` is a continuing and consecutive promotion campaign, which is periodical per year. It can be obtained with `store.Promo2` and `store.PromoInterval` columns.\n",
    "- Both `sales_mean` and `customers_mean` columns are average of sales and customers per store. These attributes can decently secure the quantities.\n",
    "- `competition_open_since` is the time of appearance of nearby competition, represented as number of days after 1970/01/01.\n",
    "- `promo2since` is the earliest time of periodical promotion, also represented as number of days after 1970/01/01"
   ]
  },
  {
   "cell_type": "markdown",
   "metadata": {},
   "source": [
    "### Clean Data and Add Feature\n",
    "- We change the header of feature columns to underline separation, e.g: `CompetitionDistance` ==> `competition_distance`"
   ]
  },
  {
   "cell_type": "code",
   "execution_count": 3,
   "metadata": {},
   "outputs": [
    {
     "name": "stdout",
     "output_type": "stream",
     "text": [
      "2018-09-12 19:24:51,651 - trainer.input - INFO [line:42] - Clean start, is_serving: False\n",
      "2018-09-12 19:24:56,946 - trainer.input - INFO [line:71] - Clean take time 0:00:05.292303\n",
      "Wall time: 17.9 s\n"
     ]
    }
   ],
   "source": [
    "%%time\n",
    "_ = inp.clean(conf, './data/train.csv')\n",
    "\n",
    "dtype = inp.get_processed_dtype()\n",
    "tr = pd.read_csv('./data/processed/cleaned/tr.csv', dtype=dtype)\n",
    "store = pd.read_csv('./data/processed/cleaned/store.csv', dtype=dtype)\n",
    "store_states = pd.read_csv('./data/processed/cleaned/store_states.csv', dtype=dtype)\n",
    "\n",
    "store['competition_distance'] = store.competition_distance.fillna(store.competition_distance.median())\n",
    "\n",
    "# Add columns `CompetitionOpenSince`, according to date `CompetitionOpenSinceYear` + `CompetitionOpenSinceMonth`,\n",
    "# to calcucate scaler from 1970/01/01 to which\n",
    "def map_fn(e):\n",
    "    y, m = e\n",
    "    if pd.isna(y) or pd.isna(m): return np.nan\n",
    "    # y, m = int(float(y)), int(float(m))\n",
    "    return f'{y}-{m}-1'\n",
    "since_dt = pd.Series(list(zip(store.competition_open_since_year, store.competition_open_since_month)))\\\n",
    "             .map(map_fn, na_action='ignore')\n",
    "store['competition_open_since'] = (pd.to_datetime(since_dt) - datetime(1970, 1, 1)).dt.days\n",
    "store['competition_open_since'].fillna(store['competition_open_since'].median(), inplace=True)\n",
    "# Add columns `Promo2Since`, according to date `Promo2SinceYear` + `Promo2SinceWeek`,\n",
    "# to calcucate scaler from 1970/01/01 to which\n",
    "def promo2_fn(e):\n",
    "    y, week = e\n",
    "    if pd.isna(y) or pd.isna(week): \n",
    "        return np.nan\n",
    "    return (datetime.strptime(f'{y}', '%Y') + timedelta(weeks=int(week)) - datetime(1970, 1, 1)).days\n",
    "store['promo2since'] = pd.Series(list(zip(store.promo2since_year, store.promo2since_week))).map(promo2_fn)\n",
    "store['promo2since'].fillna(store['promo2since'].median(), inplace=True)\n",
    "\n",
    "tr_merge = tr.merge(store, how='left', on='store').merge(store_states, how='left', on='store')\n",
    "tr_merge['state_holiday'] = tr_merge.state_holiday.map(str)\n",
    "\n",
    "# Alter datatype and fill NaN value to 0\n",
    "for col in ('competition_open_since_month', 'competition_open_since_year', 'promo2since_week', 'promo2since_year'):\n",
    "    tr_merge[col] = tr_merge[col].map(int, na_action='ignore').fillna(0)\n",
    "\n",
    "# Construct year, month, day columns, maybe on sepicific day or period will has some trends.\n",
    "dt = pd.to_datetime(tr_merge.date)\n",
    "tr_merge['year'] = dt.dt.year.map(str)\n",
    "tr_merge['month'] = dt.dt.month.map(str)\n",
    "tr_merge['day'] = dt.dt.day.map(str)\n",
    "\n",
    "# Promo2 is a continuing and consecutive promotion campaign, which have periodicity per year\n",
    "# it can calculate according to store.Promo2 and store.PromoInterval columns\n",
    "tr_merge['promo2'] = ctrl.input.cal_promo2(tr_merge)\n",
    "\n",
    "# Construct customers mean and sales mean columns, at least we know whether this store is popular\n",
    "tr_merge['sales_mean'] = tr_merge.groupby('store').sales.mean().reindex(tr_merge.store).values\n",
    "tr_merge['customers_mean'] = tr_merge.groupby('store').customers.mean().reindex(tr_merge.store).values"
   ]
  },
  {
   "cell_type": "code",
   "execution_count": 4,
   "metadata": {},
   "outputs": [
    {
     "data": {
      "text/html": [
       "<div>\n",
       "<style scoped>\n",
       "    .dataframe tbody tr th:only-of-type {\n",
       "        vertical-align: middle;\n",
       "    }\n",
       "\n",
       "    .dataframe tbody tr th {\n",
       "        vertical-align: top;\n",
       "    }\n",
       "\n",
       "    .dataframe thead th {\n",
       "        text-align: right;\n",
       "    }\n",
       "</style>\n",
       "<table border=\"1\" class=\"dataframe\">\n",
       "  <thead>\n",
       "    <tr style=\"text-align: right;\">\n",
       "      <th></th>\n",
       "      <th>store</th>\n",
       "      <th>day_of_week</th>\n",
       "      <th>date</th>\n",
       "      <th>sales</th>\n",
       "      <th>customers</th>\n",
       "      <th>open</th>\n",
       "      <th>promo</th>\n",
       "      <th>state_holiday</th>\n",
       "      <th>school_holiday</th>\n",
       "      <th>store_type</th>\n",
       "      <th>...</th>\n",
       "      <th>promo2since_year</th>\n",
       "      <th>promo_interval</th>\n",
       "      <th>competition_open_since</th>\n",
       "      <th>promo2since</th>\n",
       "      <th>state</th>\n",
       "      <th>year</th>\n",
       "      <th>month</th>\n",
       "      <th>day</th>\n",
       "      <th>sales_mean</th>\n",
       "      <th>customers_mean</th>\n",
       "    </tr>\n",
       "  </thead>\n",
       "  <tbody>\n",
       "    <tr>\n",
       "      <th>0</th>\n",
       "      <td>1</td>\n",
       "      <td>5</td>\n",
       "      <td>2015-07-31</td>\n",
       "      <td>5263.0</td>\n",
       "      <td>555.0</td>\n",
       "      <td>1</td>\n",
       "      <td>1</td>\n",
       "      <td>0</td>\n",
       "      <td>1</td>\n",
       "      <td>c</td>\n",
       "      <td>...</td>\n",
       "      <td>0.0</td>\n",
       "      <td>NaN</td>\n",
       "      <td>14123.0</td>\n",
       "      <td>15438.0</td>\n",
       "      <td>HE</td>\n",
       "      <td>2015</td>\n",
       "      <td>7</td>\n",
       "      <td>31</td>\n",
       "      <td>3945.704883</td>\n",
       "      <td>467.646497</td>\n",
       "    </tr>\n",
       "    <tr>\n",
       "      <th>1</th>\n",
       "      <td>2</td>\n",
       "      <td>5</td>\n",
       "      <td>2015-07-31</td>\n",
       "      <td>6064.0</td>\n",
       "      <td>625.0</td>\n",
       "      <td>1</td>\n",
       "      <td>1</td>\n",
       "      <td>0</td>\n",
       "      <td>1</td>\n",
       "      <td>a</td>\n",
       "      <td>...</td>\n",
       "      <td>2010.0</td>\n",
       "      <td>Jan,Apr,Jul,Oct</td>\n",
       "      <td>13818.0</td>\n",
       "      <td>14701.0</td>\n",
       "      <td>TH</td>\n",
       "      <td>2015</td>\n",
       "      <td>7</td>\n",
       "      <td>31</td>\n",
       "      <td>4122.991507</td>\n",
       "      <td>486.045648</td>\n",
       "    </tr>\n",
       "    <tr>\n",
       "      <th>2</th>\n",
       "      <td>3</td>\n",
       "      <td>5</td>\n",
       "      <td>2015-07-31</td>\n",
       "      <td>8314.0</td>\n",
       "      <td>821.0</td>\n",
       "      <td>1</td>\n",
       "      <td>1</td>\n",
       "      <td>0</td>\n",
       "      <td>1</td>\n",
       "      <td>a</td>\n",
       "      <td>...</td>\n",
       "      <td>2011.0</td>\n",
       "      <td>Jan,Apr,Jul,Oct</td>\n",
       "      <td>13483.0</td>\n",
       "      <td>15073.0</td>\n",
       "      <td>NW</td>\n",
       "      <td>2015</td>\n",
       "      <td>7</td>\n",
       "      <td>31</td>\n",
       "      <td>5741.253715</td>\n",
       "      <td>620.286624</td>\n",
       "    </tr>\n",
       "    <tr>\n",
       "      <th>3</th>\n",
       "      <td>4</td>\n",
       "      <td>5</td>\n",
       "      <td>2015-07-31</td>\n",
       "      <td>13995.0</td>\n",
       "      <td>1498.0</td>\n",
       "      <td>1</td>\n",
       "      <td>1</td>\n",
       "      <td>0</td>\n",
       "      <td>1</td>\n",
       "      <td>c</td>\n",
       "      <td>...</td>\n",
       "      <td>0.0</td>\n",
       "      <td>NaN</td>\n",
       "      <td>14488.0</td>\n",
       "      <td>15438.0</td>\n",
       "      <td>BE</td>\n",
       "      <td>2015</td>\n",
       "      <td>7</td>\n",
       "      <td>31</td>\n",
       "      <td>8021.769639</td>\n",
       "      <td>1100.057325</td>\n",
       "    </tr>\n",
       "    <tr>\n",
       "      <th>4</th>\n",
       "      <td>5</td>\n",
       "      <td>5</td>\n",
       "      <td>2015-07-31</td>\n",
       "      <td>4822.0</td>\n",
       "      <td>559.0</td>\n",
       "      <td>1</td>\n",
       "      <td>1</td>\n",
       "      <td>0</td>\n",
       "      <td>1</td>\n",
       "      <td>a</td>\n",
       "      <td>...</td>\n",
       "      <td>0.0</td>\n",
       "      <td>NaN</td>\n",
       "      <td>16526.0</td>\n",
       "      <td>15438.0</td>\n",
       "      <td>SN</td>\n",
       "      <td>2015</td>\n",
       "      <td>7</td>\n",
       "      <td>31</td>\n",
       "      <td>3867.110403</td>\n",
       "      <td>444.360934</td>\n",
       "    </tr>\n",
       "  </tbody>\n",
       "</table>\n",
       "<p>5 rows × 26 columns</p>\n",
       "</div>"
      ],
      "text/plain": [
       "   store day_of_week        date    sales  customers open promo state_holiday  \\\n",
       "0      1           5  2015-07-31   5263.0      555.0    1     1             0   \n",
       "1      2           5  2015-07-31   6064.0      625.0    1     1             0   \n",
       "2      3           5  2015-07-31   8314.0      821.0    1     1             0   \n",
       "3      4           5  2015-07-31  13995.0     1498.0    1     1             0   \n",
       "4      5           5  2015-07-31   4822.0      559.0    1     1             0   \n",
       "\n",
       "  school_holiday store_type       ...       promo2since_year   promo_interval  \\\n",
       "0              1          c       ...                    0.0              NaN   \n",
       "1              1          a       ...                 2010.0  Jan,Apr,Jul,Oct   \n",
       "2              1          a       ...                 2011.0  Jan,Apr,Jul,Oct   \n",
       "3              1          c       ...                    0.0              NaN   \n",
       "4              1          a       ...                    0.0              NaN   \n",
       "\n",
       "   competition_open_since  promo2since state  year  month day   sales_mean  \\\n",
       "0                 14123.0      15438.0    HE  2015      7  31  3945.704883   \n",
       "1                 13818.0      14701.0    TH  2015      7  31  4122.991507   \n",
       "2                 13483.0      15073.0    NW  2015      7  31  5741.253715   \n",
       "3                 14488.0      15438.0    BE  2015      7  31  8021.769639   \n",
       "4                 16526.0      15438.0    SN  2015      7  31  3867.110403   \n",
       "\n",
       "   customers_mean  \n",
       "0      467.646497  \n",
       "1      486.045648  \n",
       "2      620.286624  \n",
       "3     1100.057325  \n",
       "4      444.360934  \n",
       "\n",
       "[5 rows x 26 columns]"
      ]
     },
     "execution_count": 4,
     "metadata": {},
     "output_type": "execute_result"
    }
   ],
   "source": [
    "tr_merge.head()"
   ]
  },
  {
   "cell_type": "markdown",
   "metadata": {},
   "source": [
    "### Filter some rows\n",
    "We found that on store closing day, sales equals 0 (for sure). So we drop `open = 0`."
   ]
  },
  {
   "cell_type": "code",
   "execution_count": 4,
   "metadata": {
    "scrolled": false
   },
   "outputs": [
    {
     "name": "stdout",
     "output_type": "stream",
     "text": [
      "promo\n",
      "0    2.771974e+09\n",
      "1    3.101206e+09\n",
      "Name: sales, dtype: float64\n"
     ]
    },
    {
     "data": {
      "image/png": "[encoded data removed]",
      "text/plain": [
       "<Figure size 584x288 with 4 Axes>"
      ]
     },
     "metadata": {},
     "output_type": "display_data"
    }
   ],
   "source": [
    "print(tr_merge.groupby('promo').sales.sum())\n",
    "g = sns.FacetGrid(tr_merge, row='open', col='promo', size=2, aspect=2)\n",
    "g = g.map(plt.hist, \"sales\").add_legend()"
   ]
  },
  {
   "cell_type": "code",
   "execution_count": 6,
   "metadata": {},
   "outputs": [],
   "source": [
    "# Remove open != 1, because sales = 0\n",
    "tr_merge = tr_merge.query('open == \"1\"')\n"
   ]
  },
  {
   "cell_type": "markdown",
   "metadata": {},
   "source": [
    "<br/>\n",
    "<br/>\n",
    "<br/>\n",
    "<br/>\n",
    "<br/>\n",
    "<br/>"
   ]
  },
  {
   "cell_type": "markdown",
   "metadata": {},
   "source": [
    "## Pearson Correlation\n",
    "- Observe whether there are continuous columns having linear relation with target column `sales`"
   ]
  },
  {
   "cell_type": "code",
   "execution_count": 7,
   "metadata": {
    "scrolled": false
   },
   "outputs": [
    {
     "data": {
      "image/png": "[encoded data removed]",
      "text/plain": [
       "<Figure size 792x648 with 2 Axes>"
      ]
     },
     "metadata": {},
     "output_type": "display_data"
    }
   ],
   "source": [
    "\n",
    "copy = tr_merge.copy()\n",
    "copy['promo'] = copy.promo.map(int)\n",
    "copy['promo2'] = copy.promo2.map(int)\n",
    "copy['year'] = copy.promo2.map(int)\n",
    "copy['month'] = copy.promo2.map(int)\n",
    "copy['day'] = copy.promo2.map(int)\n",
    "copy['day_of_week'] = copy.promo2.map(int)\n",
    "corr_all = copy.corr()\n",
    "del copy\n",
    "\n",
    "# Set up the matplotlib figure\n",
    "f, ax = plt.subplots(figsize = (11, 9))\n",
    "\n",
    "# Draw the heatmap with the mask and correct aspect ratio\n",
    "sns.heatmap(corr_all, square = True, linewidths = .5, ax = ax, cmap = \"BuPu\")      \n",
    "plt.show()"
   ]
  },
  {
   "cell_type": "markdown",
   "metadata": {},
   "source": [
    "## Observation\n",
    "- **Although Pearson Coefficient is for continuous attributes, categorical variables can still be used with Pearson Coefficient under the condition that they show nominal characteristics after being mapped to numbers.**\n",
    "- Date-related features have high relevance with one another, but these information are not truly useful. And since `promo2` is obtained based on date, it naturally shows high relevance with these features, though not useful for prediction.\n",
    "- `customers` have significant positive correlation; `sales_mean` is extended from `sales`and thus is significant too. `customs_mean`, extended from `customers` which is highly related to `sales`, surely is significant.\n",
    "- `promo` has positive linear correlation with `sales` and `customer`; however, we find out that `test.csv` does NOT have the customer column, therefore we cannot serve `customer, customer_mean` features to the model.\n",
    "- And unfortunately, none of the newly-added `competition_open_since`, `promo2since` has significant linear relation with `sales`. We still use them during training nevertheless.\n",
    "<br/>\n",
    "<br/>"
   ]
  },
  {
   "cell_type": "markdown",
   "metadata": {},
   "source": [
    "<br/>\n",
    "<br/>\n",
    "<br/>\n",
    "<br/>\n",
    "\n",
    "## Univariate Analysis"
   ]
  },
  {
   "cell_type": "markdown",
   "metadata": {},
   "source": [
    "<br/>\n",
    "<br/>\n",
    "<br/>\n",
    "\n",
    "### Promo: Take a look at the comparison between normal days and promotion days"
   ]
  },
  {
   "cell_type": "code",
   "execution_count": 87,
   "metadata": {},
   "outputs": [
    {
     "name": "stdout",
     "output_type": "stream",
     "text": [
      "promo\n",
      "0    2.771974e+09\n",
      "1    3.101206e+09\n",
      "Name: sales, dtype: float64\n"
     ]
    },
    {
     "data": {
      "text/plain": [
       "<seaborn.axisgrid.FacetGrid at 0x29ddf6a9da0>"
      ]
     },
     "execution_count": 87,
     "metadata": {},
     "output_type": "execute_result"
    },
    {
     "data": {
      "image/png": "[encoded data removed]",
      "text/plain": [
       "<Figure size 584x144 with 2 Axes>"
      ]
     },
     "metadata": {},
     "output_type": "display_data"
    },
    {
     "data": {
      "image/png": "[encoded data removed]",
      "text/plain": [
       "<Figure size 576x288 with 1 Axes>"
      ]
     },
     "metadata": {},
     "output_type": "display_data"
    }
   ],
   "source": [
    "# plt.figure(figsize=(12, 6))\n",
    "print(tr_merge.groupby('promo').sales.sum())\n",
    "g = sns.FacetGrid(tr_merge, row='open', col='promo', height=2, aspect=2)\n",
    "g = g.map(plt.hist, \"sales\").add_legend()\n",
    "\n",
    "meanprops = dict(marker='D', markeredgecolor='black', markerfacecolor='firebrick')\n",
    "sns.catplot(x=\"promo\", y=\"sales\", data=tr_merge, kind=\"box\", height=4, aspect=2, showmeans=True, meanprops=meanprops)"
   ]
  },
  {
   "cell_type": "code",
   "execution_count": 88,
   "metadata": {},
   "outputs": [
    {
     "data": {
      "text/html": [
       "<div>\n",
       "<style scoped>\n",
       "    .dataframe tbody tr th:only-of-type {\n",
       "        vertical-align: middle;\n",
       "    }\n",
       "\n",
       "    .dataframe tbody tr th {\n",
       "        vertical-align: top;\n",
       "    }\n",
       "\n",
       "    .dataframe thead th {\n",
       "        text-align: right;\n",
       "    }\n",
       "</style>\n",
       "<table border=\"1\" class=\"dataframe\">\n",
       "  <thead>\n",
       "    <tr style=\"text-align: right;\">\n",
       "      <th></th>\n",
       "      <th>count</th>\n",
       "      <th>mean</th>\n",
       "      <th>std</th>\n",
       "      <th>min</th>\n",
       "      <th>25%</th>\n",
       "      <th>50%</th>\n",
       "      <th>75%</th>\n",
       "      <th>max</th>\n",
       "      <th>sum</th>\n",
       "    </tr>\n",
       "    <tr>\n",
       "      <th>promo</th>\n",
       "      <th></th>\n",
       "      <th></th>\n",
       "      <th></th>\n",
       "      <th></th>\n",
       "      <th></th>\n",
       "      <th></th>\n",
       "      <th></th>\n",
       "      <th></th>\n",
       "      <th></th>\n",
       "    </tr>\n",
       "  </thead>\n",
       "  <tbody>\n",
       "    <tr>\n",
       "      <th>0</th>\n",
       "      <td>467496.0</td>\n",
       "      <td>5929.407603</td>\n",
       "      <td>2629.648385</td>\n",
       "      <td>0.0</td>\n",
       "      <td>4242.0</td>\n",
       "      <td>5459.0</td>\n",
       "      <td>7004.0</td>\n",
       "      <td>41551.0</td>\n",
       "      <td>2.771974e+09</td>\n",
       "    </tr>\n",
       "    <tr>\n",
       "      <th>1</th>\n",
       "      <td>376896.0</td>\n",
       "      <td>8228.281239</td>\n",
       "      <td>3175.759157</td>\n",
       "      <td>0.0</td>\n",
       "      <td>6069.0</td>\n",
       "      <td>7649.0</td>\n",
       "      <td>9686.0</td>\n",
       "      <td>38722.0</td>\n",
       "      <td>3.101206e+09</td>\n",
       "    </tr>\n",
       "  </tbody>\n",
       "</table>\n",
       "</div>"
      ],
      "text/plain": [
       "          count         mean          std  min     25%     50%     75%  \\\n",
       "promo                                                                    \n",
       "0      467496.0  5929.407603  2629.648385  0.0  4242.0  5459.0  7004.0   \n",
       "1      376896.0  8228.281239  3175.759157  0.0  6069.0  7649.0  9686.0   \n",
       "\n",
       "           max           sum  \n",
       "promo                         \n",
       "0      41551.0  2.771974e+09  \n",
       "1      38722.0  3.101206e+09  "
      ]
     },
     "execution_count": 88,
     "metadata": {},
     "output_type": "execute_result"
    }
   ],
   "source": [
    "agg = tr_merge.groupby(['promo']).sales.describe()\n",
    "agg['sum'] = agg['count'] * agg['mean']\n",
    "agg"
   ]
  },
  {
   "cell_type": "markdown",
   "metadata": {},
   "source": [
    "Obviously during promotion the number of customers increased, as well as the average expense per customer.\n",
    "<br/>\n",
    "<br/>\n",
    "<br/>"
   ]
  },
  {
   "cell_type": "markdown",
   "metadata": {},
   "source": [
    "<br/>\n",
    "<br/>\n",
    "<br/>\n",
    "\n",
    "### Whether periodical promotion (promo2) affects revenue"
   ]
  },
  {
   "cell_type": "code",
   "execution_count": 89,
   "metadata": {},
   "outputs": [
    {
     "data": {
      "text/plain": [
       "<seaborn.axisgrid.FacetGrid at 0x29ddf62ef60>"
      ]
     },
     "execution_count": 89,
     "metadata": {},
     "output_type": "execute_result"
    },
    {
     "data": {
      "image/png": "[encoded data removed]",
      "text/plain": [
       "<Figure size 584x144 with 2 Axes>"
      ]
     },
     "metadata": {},
     "output_type": "display_data"
    },
    {
     "data": {
      "image/png": "[encoded data removed]",
      "text/plain": [
       "<Figure size 576x288 with 1 Axes>"
      ]
     },
     "metadata": {},
     "output_type": "display_data"
    }
   ],
   "source": [
    "# plt.figure(figsize=(12, 6))\n",
    "g = sns.FacetGrid(tr_merge, row='open', col='promo2', height=2, aspect=2)\n",
    "g = g.map(plt.hist, \"sales\").add_legend()\n",
    "\n",
    "sns.catplot(x=\"promo2\", y=\"sales\", data=tr_merge, kind=\"box\", height=4, aspect=2, showmeans=True, meanprops=meanprops)"
   ]
  },
  {
   "cell_type": "code",
   "execution_count": 90,
   "metadata": {},
   "outputs": [
    {
     "data": {
      "text/html": [
       "<div>\n",
       "<style scoped>\n",
       "    .dataframe tbody tr th:only-of-type {\n",
       "        vertical-align: middle;\n",
       "    }\n",
       "\n",
       "    .dataframe tbody tr th {\n",
       "        vertical-align: top;\n",
       "    }\n",
       "\n",
       "    .dataframe thead th {\n",
       "        text-align: right;\n",
       "    }\n",
       "</style>\n",
       "<table border=\"1\" class=\"dataframe\">\n",
       "  <thead>\n",
       "    <tr style=\"text-align: right;\">\n",
       "      <th></th>\n",
       "      <th>count</th>\n",
       "      <th>mean</th>\n",
       "      <th>std</th>\n",
       "      <th>min</th>\n",
       "      <th>25%</th>\n",
       "      <th>50%</th>\n",
       "      <th>75%</th>\n",
       "      <th>max</th>\n",
       "      <th>sum</th>\n",
       "    </tr>\n",
       "    <tr>\n",
       "      <th>promo2</th>\n",
       "      <th></th>\n",
       "      <th></th>\n",
       "      <th></th>\n",
       "      <th></th>\n",
       "      <th></th>\n",
       "      <th></th>\n",
       "      <th></th>\n",
       "      <th></th>\n",
       "      <th></th>\n",
       "    </tr>\n",
       "  </thead>\n",
       "  <tbody>\n",
       "    <tr>\n",
       "      <th>0</th>\n",
       "      <td>699164.0</td>\n",
       "      <td>7051.816202</td>\n",
       "      <td>3185.964977</td>\n",
       "      <td>0.0</td>\n",
       "      <td>4908.0</td>\n",
       "      <td>6440.0</td>\n",
       "      <td>8476.0</td>\n",
       "      <td>41551.0</td>\n",
       "      <td>4.930376e+09</td>\n",
       "    </tr>\n",
       "    <tr>\n",
       "      <th>1</th>\n",
       "      <td>145228.0</td>\n",
       "      <td>6491.892748</td>\n",
       "      <td>2626.976161</td>\n",
       "      <td>0.0</td>\n",
       "      <td>4650.0</td>\n",
       "      <td>6044.0</td>\n",
       "      <td>7837.0</td>\n",
       "      <td>31523.0</td>\n",
       "      <td>9.428046e+08</td>\n",
       "    </tr>\n",
       "  </tbody>\n",
       "</table>\n",
       "</div>"
      ],
      "text/plain": [
       "           count         mean          std  min     25%     50%     75%  \\\n",
       "promo2                                                                    \n",
       "0       699164.0  7051.816202  3185.964977  0.0  4908.0  6440.0  8476.0   \n",
       "1       145228.0  6491.892748  2626.976161  0.0  4650.0  6044.0  7837.0   \n",
       "\n",
       "            max           sum  \n",
       "promo2                         \n",
       "0       41551.0  4.930376e+09  \n",
       "1       31523.0  9.428046e+08  "
      ]
     },
     "execution_count": 90,
     "metadata": {},
     "output_type": "execute_result"
    }
   ],
   "source": [
    "agg = tr_merge.groupby(['promo2']).sales.describe()\n",
    "agg['sum'] = agg['count'] * agg['mean']\n",
    "agg"
   ]
  },
  {
   "cell_type": "markdown",
   "metadata": {},
   "source": [
    "- Data from `promo2` is clearly less, since promotion does not go on forever (which can be observed in `promo` too). The sales also fails to increase as much as during `promo`.\n",
    "\n",
    "<br/>\n",
    "<br/>\n",
    "<br/>"
   ]
  },
  {
   "cell_type": "markdown",
   "metadata": {},
   "source": [
    "<br/>\n",
    "<br/>\n",
    "<br/>\n",
    "\n",
    "### DayOfWeek"
   ]
  },
  {
   "cell_type": "code",
   "execution_count": 91,
   "metadata": {
    "scrolled": false
   },
   "outputs": [
    {
     "data": {
      "text/plain": [
       "<seaborn.axisgrid.FacetGrid at 0x29ddf56edd8>"
      ]
     },
     "execution_count": 91,
     "metadata": {},
     "output_type": "execute_result"
    },
    {
     "data": {
      "image/png": "[encoded data removed]",
      "text/plain": [
       "<Figure size 1512x216 with 7 Axes>"
      ]
     },
     "metadata": {},
     "output_type": "display_data"
    },
    {
     "data": {
      "image/png": "[encoded data removed]",
      "text/plain": [
       "<Figure size 864x288 with 1 Axes>"
      ]
     },
     "metadata": {},
     "output_type": "display_data"
    }
   ],
   "source": [
    "# plt.figure(figsize=(12, 6))\n",
    "g = sns.FacetGrid(tr_merge, col='day_of_week', sharey=True, height=3, aspect=1)\n",
    "g = g.map(plt.hist, \"sales\")\n",
    "\n",
    "sns.catplot(x=\"day_of_week\", y=\"sales\", data=tr_merge, kind=\"box\", height=4, aspect=3, showmeans=True, meanprops=meanprops)"
   ]
  },
  {
   "cell_type": "code",
   "execution_count": 93,
   "metadata": {},
   "outputs": [
    {
     "data": {
      "text/html": [
       "<div>\n",
       "<style scoped>\n",
       "    .dataframe tbody tr th:only-of-type {\n",
       "        vertical-align: middle;\n",
       "    }\n",
       "\n",
       "    .dataframe tbody tr th {\n",
       "        vertical-align: top;\n",
       "    }\n",
       "\n",
       "    .dataframe thead th {\n",
       "        text-align: right;\n",
       "    }\n",
       "</style>\n",
       "<table border=\"1\" class=\"dataframe\">\n",
       "  <thead>\n",
       "    <tr style=\"text-align: right;\">\n",
       "      <th></th>\n",
       "      <th>count</th>\n",
       "      <th>mean</th>\n",
       "      <th>std</th>\n",
       "      <th>min</th>\n",
       "      <th>25%</th>\n",
       "      <th>50%</th>\n",
       "      <th>75%</th>\n",
       "      <th>max</th>\n",
       "      <th>sum</th>\n",
       "    </tr>\n",
       "    <tr>\n",
       "      <th>day_of_week</th>\n",
       "      <th></th>\n",
       "      <th></th>\n",
       "      <th></th>\n",
       "      <th></th>\n",
       "      <th></th>\n",
       "      <th></th>\n",
       "      <th></th>\n",
       "      <th></th>\n",
       "      <th></th>\n",
       "    </tr>\n",
       "  </thead>\n",
       "  <tbody>\n",
       "    <tr>\n",
       "      <th>1</th>\n",
       "      <td>137560.0</td>\n",
       "      <td>8216.073074</td>\n",
       "      <td>3691.768876</td>\n",
       "      <td>0.0</td>\n",
       "      <td>5538.0</td>\n",
       "      <td>7539.0</td>\n",
       "      <td>10133.0</td>\n",
       "      <td>41551.0</td>\n",
       "      <td>1.130203e+09</td>\n",
       "    </tr>\n",
       "    <tr>\n",
       "      <th>2</th>\n",
       "      <td>143961.0</td>\n",
       "      <td>7088.113656</td>\n",
       "      <td>3066.237110</td>\n",
       "      <td>0.0</td>\n",
       "      <td>4960.0</td>\n",
       "      <td>6502.0</td>\n",
       "      <td>8521.0</td>\n",
       "      <td>34692.0</td>\n",
       "      <td>1.020412e+09</td>\n",
       "    </tr>\n",
       "    <tr>\n",
       "      <th>3</th>\n",
       "      <td>141936.0</td>\n",
       "      <td>6728.122978</td>\n",
       "      <td>2781.775174</td>\n",
       "      <td>0.0</td>\n",
       "      <td>4829.0</td>\n",
       "      <td>6210.0</td>\n",
       "      <td>7987.0</td>\n",
       "      <td>33151.0</td>\n",
       "      <td>9.549629e+08</td>\n",
       "    </tr>\n",
       "    <tr>\n",
       "      <th>4</th>\n",
       "      <td>134644.0</td>\n",
       "      <td>6767.310159</td>\n",
       "      <td>2764.548119</td>\n",
       "      <td>0.0</td>\n",
       "      <td>4900.0</td>\n",
       "      <td>6246.0</td>\n",
       "      <td>7987.0</td>\n",
       "      <td>38367.0</td>\n",
       "      <td>9.111777e+08</td>\n",
       "    </tr>\n",
       "    <tr>\n",
       "      <th>5</th>\n",
       "      <td>138640.0</td>\n",
       "      <td>7072.677012</td>\n",
       "      <td>2764.915744</td>\n",
       "      <td>0.0</td>\n",
       "      <td>5205.0</td>\n",
       "      <td>6580.0</td>\n",
       "      <td>8324.0</td>\n",
       "      <td>38722.0</td>\n",
       "      <td>9.805559e+08</td>\n",
       "    </tr>\n",
       "    <tr>\n",
       "      <th>6</th>\n",
       "      <td>144058.0</td>\n",
       "      <td>5874.840238</td>\n",
       "      <td>2852.730426</td>\n",
       "      <td>0.0</td>\n",
       "      <td>3925.0</td>\n",
       "      <td>5425.0</td>\n",
       "      <td>7232.0</td>\n",
       "      <td>31683.0</td>\n",
       "      <td>8.463177e+08</td>\n",
       "    </tr>\n",
       "    <tr>\n",
       "      <th>7</th>\n",
       "      <td>3593.0</td>\n",
       "      <td>8224.723908</td>\n",
       "      <td>6235.152960</td>\n",
       "      <td>286.0</td>\n",
       "      <td>3314.0</td>\n",
       "      <td>6876.0</td>\n",
       "      <td>11418.0</td>\n",
       "      <td>37376.0</td>\n",
       "      <td>2.955143e+07</td>\n",
       "    </tr>\n",
       "  </tbody>\n",
       "</table>\n",
       "</div>"
      ],
      "text/plain": [
       "                count         mean          std    min     25%     50%  \\\n",
       "day_of_week                                                              \n",
       "1            137560.0  8216.073074  3691.768876    0.0  5538.0  7539.0   \n",
       "2            143961.0  7088.113656  3066.237110    0.0  4960.0  6502.0   \n",
       "3            141936.0  6728.122978  2781.775174    0.0  4829.0  6210.0   \n",
       "4            134644.0  6767.310159  2764.548119    0.0  4900.0  6246.0   \n",
       "5            138640.0  7072.677012  2764.915744    0.0  5205.0  6580.0   \n",
       "6            144058.0  5874.840238  2852.730426    0.0  3925.0  5425.0   \n",
       "7              3593.0  8224.723908  6235.152960  286.0  3314.0  6876.0   \n",
       "\n",
       "                 75%      max           sum  \n",
       "day_of_week                                  \n",
       "1            10133.0  41551.0  1.130203e+09  \n",
       "2             8521.0  34692.0  1.020412e+09  \n",
       "3             7987.0  33151.0  9.549629e+08  \n",
       "4             7987.0  38367.0  9.111777e+08  \n",
       "5             8324.0  38722.0  9.805559e+08  \n",
       "6             7232.0  31683.0  8.463177e+08  \n",
       "7            11418.0  37376.0  2.955143e+07  "
      ]
     },
     "execution_count": 93,
     "metadata": {},
     "output_type": "execute_result"
    }
   ],
   "source": [
    "agg = tr_merge.groupby('day_of_week').sales.describe()\n",
    "agg['sum'] = agg['count'] * agg['mean']\n",
    "agg"
   ]
  },
  {
   "cell_type": "markdown",
   "metadata": {},
   "source": [
    "### Observation\n",
    "- `day_of_week` = 7 is holiday; while there are still opened shops, `count` is surely low. The average `sales` is however comparable to that of `day_of_week` = 1.\n",
    "\n",
    "<br/>\n",
    "<br/>\n",
    "<br/>"
   ]
  },
  {
   "cell_type": "markdown",
   "metadata": {},
   "source": [
    "<br/>\n",
    "<br/>\n",
    "<br/>\n",
    "## StoreType"
   ]
  },
  {
   "cell_type": "code",
   "execution_count": 96,
   "metadata": {},
   "outputs": [
    {
     "data": {
      "text/plain": [
       "<seaborn.axisgrid.FacetGrid at 0x29ddf36e2b0>"
      ]
     },
     "execution_count": 96,
     "metadata": {},
     "output_type": "execute_result"
    },
    {
     "data": {
      "image/png": "[encoded data removed]",
      "text/plain": [
       "<Figure size 864x216 with 4 Axes>"
      ]
     },
     "metadata": {},
     "output_type": "display_data"
    },
    {
     "data": {
      "image/png": "[encoded data removed]",
      "text/plain": [
       "<Figure size 864x288 with 1 Axes>"
      ]
     },
     "metadata": {},
     "output_type": "display_data"
    }
   ],
   "source": [
    "g = sns.FacetGrid(tr_merge, col='store_type', sharey=True, height=3, aspect=1)\n",
    "g = g.map(plt.hist, \"sales\")\n",
    "\n",
    "sns.catplot(x=\"store_type\", y=\"sales\", data=tr_merge, kind=\"box\", height=4, aspect=3, showmeans=True, meanprops=meanprops)"
   ]
  },
  {
   "cell_type": "code",
   "execution_count": 97,
   "metadata": {},
   "outputs": [
    {
     "data": {
      "text/html": [
       "<div>\n",
       "<style scoped>\n",
       "    .dataframe tbody tr th:only-of-type {\n",
       "        vertical-align: middle;\n",
       "    }\n",
       "\n",
       "    .dataframe tbody tr th {\n",
       "        vertical-align: top;\n",
       "    }\n",
       "\n",
       "    .dataframe thead th {\n",
       "        text-align: right;\n",
       "    }\n",
       "</style>\n",
       "<table border=\"1\" class=\"dataframe\">\n",
       "  <thead>\n",
       "    <tr style=\"text-align: right;\">\n",
       "      <th></th>\n",
       "      <th>count</th>\n",
       "      <th>mean</th>\n",
       "      <th>std</th>\n",
       "      <th>min</th>\n",
       "      <th>25%</th>\n",
       "      <th>50%</th>\n",
       "      <th>75%</th>\n",
       "      <th>max</th>\n",
       "      <th>sum</th>\n",
       "    </tr>\n",
       "    <tr>\n",
       "      <th>store_type</th>\n",
       "      <th></th>\n",
       "      <th></th>\n",
       "      <th></th>\n",
       "      <th></th>\n",
       "      <th></th>\n",
       "      <th></th>\n",
       "      <th></th>\n",
       "      <th></th>\n",
       "      <th></th>\n",
       "    </tr>\n",
       "  </thead>\n",
       "  <tbody>\n",
       "    <tr>\n",
       "      <th>a</th>\n",
       "      <td>457077.0</td>\n",
       "      <td>6925.167661</td>\n",
       "      <td>3277.786381</td>\n",
       "      <td>0.0</td>\n",
       "      <td>4695.0</td>\n",
       "      <td>6285.0</td>\n",
       "      <td>8406.0</td>\n",
       "      <td>41551.0</td>\n",
       "      <td>3.165335e+09</td>\n",
       "    </tr>\n",
       "    <tr>\n",
       "      <th>b</th>\n",
       "      <td>15563.0</td>\n",
       "      <td>10231.407505</td>\n",
       "      <td>5157.190155</td>\n",
       "      <td>0.0</td>\n",
       "      <td>6344.0</td>\n",
       "      <td>9130.0</td>\n",
       "      <td>13183.5</td>\n",
       "      <td>38722.0</td>\n",
       "      <td>1.592314e+08</td>\n",
       "    </tr>\n",
       "    <tr>\n",
       "      <th>c</th>\n",
       "      <td>112978.0</td>\n",
       "      <td>6932.512755</td>\n",
       "      <td>2897.564578</td>\n",
       "      <td>0.0</td>\n",
       "      <td>4915.0</td>\n",
       "      <td>6407.0</td>\n",
       "      <td>8349.0</td>\n",
       "      <td>31448.0</td>\n",
       "      <td>7.832214e+08</td>\n",
       "    </tr>\n",
       "    <tr>\n",
       "      <th>d</th>\n",
       "      <td>258774.0</td>\n",
       "      <td>6822.141881</td>\n",
       "      <td>2556.582881</td>\n",
       "      <td>0.0</td>\n",
       "      <td>5050.0</td>\n",
       "      <td>6395.0</td>\n",
       "      <td>8123.0</td>\n",
       "      <td>38037.0</td>\n",
       "      <td>1.765393e+09</td>\n",
       "    </tr>\n",
       "  </tbody>\n",
       "</table>\n",
       "</div>"
      ],
      "text/plain": [
       "               count          mean          std  min     25%     50%      75%  \\\n",
       "store_type                                                                      \n",
       "a           457077.0   6925.167661  3277.786381  0.0  4695.0  6285.0   8406.0   \n",
       "b            15563.0  10231.407505  5157.190155  0.0  6344.0  9130.0  13183.5   \n",
       "c           112978.0   6932.512755  2897.564578  0.0  4915.0  6407.0   8349.0   \n",
       "d           258774.0   6822.141881  2556.582881  0.0  5050.0  6395.0   8123.0   \n",
       "\n",
       "                max           sum  \n",
       "store_type                         \n",
       "a           41551.0  3.165335e+09  \n",
       "b           38722.0  1.592314e+08  \n",
       "c           31448.0  7.832214e+08  \n",
       "d           38037.0  1.765393e+09  "
      ]
     },
     "execution_count": 97,
     "metadata": {},
     "output_type": "execute_result"
    }
   ],
   "source": [
    "agg = tr_merge.groupby('store_type').sales.describe()\n",
    "agg['sum'] = agg['count'] * agg['mean']\n",
    "agg"
   ]
  },
  {
   "cell_type": "markdown",
   "metadata": {},
   "source": [
    "### Observation\n",
    "- Although `store_type` = b has smaller quantity, its `sales` is higher, representing a higher average expense per customer. This is significant information.\n",
    "- `store_type` = a has the most visiting customers\n",
    "\n",
    "<br/>\n",
    "<br/>\n",
    "<br/>"
   ]
  },
  {
   "cell_type": "markdown",
   "metadata": {},
   "source": [
    "<br/>\n",
    "<br/>\n",
    "<br/>\n",
    "\n",
    "## Bivariate analysis"
   ]
  },
  {
   "cell_type": "markdown",
   "metadata": {},
   "source": [
    "### Promo, SchoolHoliday "
   ]
  },
  {
   "cell_type": "code",
   "execution_count": 100,
   "metadata": {},
   "outputs": [
    {
     "data": {
      "image/png": "[encoded data removed]",
      "text/plain": [
       "<Figure size 584x288 with 4 Axes>"
      ]
     },
     "metadata": {},
     "output_type": "display_data"
    },
    {
     "data": {
      "image/png": "[encoded data removed]",
      "text/plain": [
       "<Figure size 864x216 with 2 Axes>"
      ]
     },
     "metadata": {},
     "output_type": "display_data"
    },
    {
     "data": {
      "image/png": "[encoded data removed]",
      "text/plain": [
       "<Figure size 1152x288 with 4 Axes>"
      ]
     },
     "metadata": {},
     "output_type": "display_data"
    }
   ],
   "source": [
    "# print(tr_merge.groupby(['Store', 'SchoolHoliday', 'Promo']).Sales.sum())\n",
    "g = sns.FacetGrid(tr_merge, row='school_holiday', col='promo', height=2, aspect=2)\n",
    "g = g.map(plt.hist, \"sales\").add_legend()\n",
    "\n",
    "sns.catplot(x=\"promo\", y=\"sales\", col='school_holiday', data=tr_merge, kind=\"box\", height=3, aspect=2, showmeans=True, meanprops=meanprops)\n",
    "\n",
    "utils.heatmap(tr_merge, 'promo', 'school_holiday')"
   ]
  },
  {
   "cell_type": "markdown",
   "metadata": {},
   "source": [
    "### Observation\n",
    "- We already knew that `promo` increases `sales`, even though we have fewer data for `school_holiday`. Sales can be seen to increase on `school_holiday`.\n",
    "\n",
    "<br/>\n",
    "<br/>\n",
    "<br/>"
   ]
  },
  {
   "cell_type": "markdown",
   "metadata": {},
   "source": [
    "### Promo, StateHoliday "
   ]
  },
  {
   "cell_type": "code",
   "execution_count": 102,
   "metadata": {
    "scrolled": false
   },
   "outputs": [
    {
     "data": {
      "image/png": "[encoded data removed]",
      "text/plain": [
       "<Figure size 1728x216 with 4 Axes>"
      ]
     },
     "metadata": {},
     "output_type": "display_data"
    },
    {
     "data": {
      "image/png": "[encoded data removed]",
      "text/plain": [
       "<Figure size 1152x288 with 4 Axes>"
      ]
     },
     "metadata": {},
     "output_type": "display_data"
    }
   ],
   "source": [
    "# g = sns.FacetGrid(tr_merge, row='StateHoliday', col='Promo', size=2, aspect=2)\n",
    "# g = g.map(plt.hist, \"Sales\").add_legend()\n",
    "\n",
    "sns.catplot(x=\"promo\", y=\"sales\", col='state_holiday', data=tr_merge, kind=\"box\", height=3, aspect=2, showmeans=True, meanprops=meanprops)\n",
    "utils.heatmap(tr_merge, 'promo', 'state_holiday')"
   ]
  },
  {
   "cell_type": "markdown",
   "metadata": {},
   "source": [
    "### Observation\n",
    "- `state_holiday = 0` has the most amount of data.\n",
    "-  `sales` has substantial increase when `state_holiday = b` and paired with promotion period, but it exhibits no such phenomenon during normal period. This is also remarkable.\n",
    "- No data when `state_holiday = c` paired with `promo = 1`.\n",
    "\n",
    "<br/>\n",
    "<br/>\n",
    "<br/>"
   ]
  },
  {
   "cell_type": "markdown",
   "metadata": {},
   "source": [
    "### StateHoliday, StoreType"
   ]
  },
  {
   "cell_type": "code",
   "execution_count": 111,
   "metadata": {},
   "outputs": [
    {
     "data": {
      "image/png": "[encoded data removed]",
      "text/plain": [
       "<Figure size 1728x216 with 4 Axes>"
      ]
     },
     "metadata": {},
     "output_type": "display_data"
    },
    {
     "data": {
      "image/png": "[encoded data removed]",
      "text/plain": [
       "<Figure size 1152x288 with 4 Axes>"
      ]
     },
     "metadata": {},
     "output_type": "display_data"
    }
   ],
   "source": [
    "meanprops = dict(marker='D', markeredgecolor='black', markerfacecolor='firebrick')\n",
    "sns.catplot(x=\"store_type\", y=\"sales\", col='state_holiday', # row='promo', hue='assortment', \n",
    "            data=tr_merge, kind=\"box\", height=3, aspect=2, showmeans=True, meanprops=meanprops)\n",
    "utils.heatmap(tr_merge, 'state_holiday', 'store_type', annot=True)"
   ]
  },
  {
   "cell_type": "markdown",
   "metadata": {},
   "source": [
    "### Observation\n",
    "- `stor_type = a` has the most amount of data\n",
    "- Mean `sales` increases substantially (not data-wise) when `state_holiday = b` paired with `store_type = b`.\n",
    "\n",
    "<br/>\n",
    "<br/>\n",
    "<br/>"
   ]
  },
  {
   "cell_type": "markdown",
   "metadata": {},
   "source": [
    "### State, StoreType"
   ]
  },
  {
   "cell_type": "code",
   "execution_count": 104,
   "metadata": {
    "scrolled": false
   },
   "outputs": [
    {
     "data": {
      "image/png": "[encoded data removed]",
      "text/plain": [
       "<Figure size 864x1152 with 4 Axes>"
      ]
     },
     "metadata": {},
     "output_type": "display_data"
    },
    {
     "data": {
      "image/png": "[encoded data removed]",
      "text/plain": [
       "<Figure size 1152x288 with 4 Axes>"
      ]
     },
     "metadata": {},
     "output_type": "display_data"
    }
   ],
   "source": [
    "# g = sns.FacetGrid(tr_merge, col='State', row='StoreType', sharey=True, size=4, aspect=.5)\n",
    "# g = g.map(plt.hist, \"Sales\")\n",
    "meanprops = dict(marker='D', markeredgecolor='black', markerfacecolor='firebrick')\n",
    "sns.catplot(x=\"state\", y=\"sales\", row='store_type', data=tr_merge, kind=\"box\", \n",
    "               height=4, aspect=3, showmeans=True, meanprops=meanprops)\n",
    "\n",
    "utils.heatmap(tr_merge, 'state', 'store_type', annot=False)"
   ]
  },
  {
   "cell_type": "markdown",
   "metadata": {},
   "source": [
    "### Observation\n",
    "- Many states do not have sales data for `store_type = b`, but since `state = 'HB,NI' 'HH' 'NW'` have very high average sales, the `store_type = b` still possesses higher average sales in total (resulted from the concentration on certain states).\n",
    "\n",
    "<br/>\n",
    "<br/>\n",
    "<br/>"
   ]
  },
  {
   "cell_type": "markdown",
   "metadata": {},
   "source": [
    "### Month, Day: We have date in the feature under the assumption that on certain days the sales could be different from normal days"
   ]
  },
  {
   "cell_type": "code",
   "execution_count": 126,
   "metadata": {
    "scrolled": false
   },
   "outputs": [
    {
     "data": {
      "image/png": "[encoded data removed]",
      "text/plain": [
       "<Figure size 1152x288 with 4 Axes>"
      ]
     },
     "metadata": {},
     "output_type": "display_data"
    }
   ],
   "source": [
    "# sns.factorplot(x=\"day\", y=\"Sales\", row='month', data=tr_merge, kind=\"box\", size=4, aspect=3)\n",
    "xtick = pd.Series(tr_merge.day.unique()).map(int).sort_values().map(str)\n",
    "ytick = pd.Series(tr_merge.month.unique()).map(int).sort_values(ascending=False).map(str)\n",
    "utils.heatmap(tr_merge, 'month', 'day', xtick=xtick, ytick=ytick,\n",
    "              annot=False)"
   ]
  },
  {
   "cell_type": "markdown",
   "metadata": {},
   "source": [
    "### Observation\n",
    "- We see fewer customer count after July, but since the data for all shops in the training Data does not go after 2015-07-31, we figure the phenomenon should be resulted from the lack of data starting August during the last year.\n",
    "- Wee see higher average sales in Mean during `12/15 ~ 12/22`, supposedbly due to Christmas season.\n",
    "\n",
    "<br/>\n",
    "<br/>\n",
    "<br/>"
   ]
  },
  {
   "cell_type": "markdown",
   "metadata": {},
   "source": [
    "<br/>\n",
    "<br/>\n",
    "<br/>\n",
    "\n",
    "## Multivariate Analysis"
   ]
  },
  {
   "cell_type": "markdown",
   "metadata": {},
   "source": [
    "### StoreType, StateHoliday, Promo, Assortment"
   ]
  },
  {
   "cell_type": "code",
   "execution_count": 132,
   "metadata": {},
   "outputs": [
    {
     "data": {
      "image/png": "[encoded data removed]",
      "text/plain": [
       "<Figure size 1210.12x576 with 8 Axes>"
      ]
     },
     "metadata": {},
     "output_type": "display_data"
    }
   ],
   "source": [
    "meanprops = dict(marker='D', markeredgecolor='black', markerfacecolor='firebrick')\n",
    "sns.catplot(data=tr_merge, x='store_type', y=\"sales\", row='promo', col='state_holiday', hue='assortment', \n",
    "            kind='box', height=4, palette = 'plasma', meanprops=meanprops)\n",
    "plt.show()"
   ]
  },
  {
   "cell_type": "markdown",
   "metadata": {},
   "source": [
    "### Observation\n",
    "- We had observed that when `state_holiday = b and store_type = b` has the highest average sales; here we add in `assortment` to see that `assortment = c` contributes the most.\n",
    "\n",
    "<br/>\n",
    "<br/>\n",
    "<br/>"
   ]
  },
  {
   "cell_type": "markdown",
   "metadata": {},
   "source": [
    "### DayOfWeek, Promo, Promo2"
   ]
  },
  {
   "cell_type": "code",
   "execution_count": 137,
   "metadata": {
    "scrolled": false
   },
   "outputs": [
    {
     "data": {
      "image/png": "[encoded data removed]",
      "text/plain": [
       "<Figure size 576x576 with 4 Axes>"
      ]
     },
     "metadata": {},
     "output_type": "display_data"
    },
    {
     "data": {
      "image/png": "[encoded data removed]",
      "text/plain": [
       "<Figure size 1152x288 with 4 Axes>"
      ]
     },
     "metadata": {},
     "output_type": "display_data"
    }
   ],
   "source": [
    "meanprops = dict(marker='D', markeredgecolor='red', markerfacecolor='firebrick')\n",
    "sns.catplot(data=tr_merge, x='day_of_week', y=\"sales\", row='promo', col='promo2',\n",
    "            kind='box', height=4, palette = 'plasma', meanprops=meanprops)\n",
    "plt.show()\n",
    "utils.heatmap(tr_merge, 'promo', 'day_of_week')"
   ]
  },
  {
   "cell_type": "markdown",
   "metadata": {},
   "source": [
    "### Observation\n",
    "- No data exists for `promo = 1 and day_of_week in (6, 7)`. It is peculiar to see no promotion during Saturday and Sunday.\n",
    "- Saturday has the most customers, but the average sales is modest. Meanwhile, Monday usually has rather high average sales.\n",
    "- `promo2` has no significant information.\n",
    "\n",
    "<br/>\n",
    "<br/>\n",
    "<br/>"
   ]
  },
  {
   "cell_type": "markdown",
   "metadata": {},
   "source": [
    "## Data Exploratory Conclusion\n",
    "- `store_type = a` has the most customers but does not have the highest sales mean.\n",
    "- `store_type = b` has the highest sales mean, but the contribution of states is highly skewed.\n",
    "- Date-related features `day_of_week, month, day` have direct impact on sales under certain circumstances, proving to be significant features.\n",
    "- `state, state_holiday` are significant feature.\n",
    "\n",
    "<br/>\n",
    "<br/>\n",
    "<br/>"
   ]
  },
  {
   "cell_type": "markdown",
   "metadata": {},
   "source": [
    "## Module structure\n",
    "    ```\n",
    "    └─trainer\n",
    "        │  app_conf.py\n",
    "        │  ctrl.py\n",
    "        │  input.py\n",
    "        │  logging.yaml\n",
    "        │  metadata.py\n",
    "        │  model.py\n",
    "        │  service.py\n",
    "        └─ utils.py        \n",
    "    ```\n",
    "    Directory 'trainer' contains all modules: \n",
    "    \n",
    "|File Name| Purpose\n",
    "|:---|:---\n",
    "|[app_conf.py](trainer/app_conf.py) | Applicaiton configures, tell where are the training data, the model checkpoint directory, and hyperparameter suggested to put app_conf.py instead of pass on the fly to controller.\n",
    "|[ctrl.py](trainer/ctrl.py) |The entrance of the program, accept any parameters, protable for local terminal or restful style environment. \n",
    "|[service.py](trainer/service.py) |The business logic module behind the controller(ctrl.py) \n",
    "|[utils.py](trainer/utils.py) | Utility module, some common function to put here, like logging function. \n",
    "|[metadata.py](trainer/metadata.py)|Defines: 1) task type, 2) input data header, 3) numeric and categorical feature names, 4) target feature name (and labels, for a classification task), and 5) unused feature names. \n",
    "|[input.py](trainer/input.py)| Includes: 1) data input functions to read data from csv and tfrecords files, 2) parsing functions to convert csv and tf.example to tensors, 3) function to implement your features custom  processing and creation functionality, and 4) prediction functions (for serving the model) that accepts CSV, JSON, and tf.example instances. \n",
    "|[model.py](trainer/model.py)|Includes: 1) function to create DNNRegressor, 2) function to implement for a custom estimator model_fn. 3) include **Feature class** to assign the feature spec, the feature spec usually bind for specific model, so we put them together. "
   ]
  },
  {
   "cell_type": "markdown",
   "metadata": {},
   "source": [
    "<br/>\n",
    "<br/>\n",
    "<br/>\n",
    "\n",
    "## Data preprocessing\n",
    "1. Data is provided in the following format:\n",
    "    ```\n",
    "    │  store.csv\n",
    "    │  store_states.csv\n",
    "    │  test.csv\n",
    "    └─ train.csv\n",
    "    ```\n",
    "2. We propose 4 steps for the data pipeline during training period : **Clean -> Prepare -> Fit -> Transform(Split)**, each step will persistent files respectively, you should create directory `{project home}/data/processed`, and create **clean, fitted, prepared, transformed** directories here. At runtime the program will create data like below:\n",
    "    ```\n",
    "    └─data\n",
    "        └─processed\n",
    "            ├─cleaned\n",
    "            │      store.csv\n",
    "            │      store_states.csv\n",
    "            │      tr.csv\n",
    "            ├─fitted\n",
    "            │      stats.json\n",
    "            ├─prepared\n",
    "            │      store.csv\n",
    "            │      tr.csv\n",
    "            └─transformed\n",
    "                   store.csv\n",
    "                   tr.csv\n",
    "                   tr_date.json\n",
    "                   vl.csv\n",
    "                   vl_date.json\n",
    "    ```\n",
    "    - Clean: \n",
    "        - Fill cells with missing value, drop unnecessary features\n",
    "        - Rename features\n",
    "        \n",
    "    - Prepare: \n",
    "        - Join 'store' and 'store_states' to make the **Fat table**\n",
    "        - Add (and drop) features we mentioned in data exploration\n",
    "        - Filter out unsuitable records, e.g. open = 0\n",
    "        - Persist certain files\n",
    "\n",
    "    - Fit: \n",
    "        - Persist the statistical information of numeric features\n",
    "        - Persist the unique count value of categorical features\n",
    "        \n",
    "    - Transform:\n",
    "        - Normalization, logarithm, etc.\n",
    "        - Convert all categorical variables to int, one-hot encoding, etc.\n",
    "        - Because the scale of sales is large (hence large standard deviation), **we use the logarithm of the target column**\n",
    "        \n",
    "    - Split: in this case we groupby 'store' and order by date, and take 0.3 as the portion of validation data size. That is, the first 70% is used in training and the rest for validation.\n",
    "        \n",
    "    ---\n",
    "    A data preprocess example:\n",
    "    ```python\n",
    "    data = self.input.clean(p.fpath, is_serving=False)\n",
    "    data = self.input.prepare(data, is_serving=False)\n",
    "    data = self.input.fit(data).transform(data, is_serving=False)\n",
    "    self.input.split(data)\n",
    "    ```    \n",
    "3. What is weird is that the feature `Customers` is not in the test.csv. From the heatmap of Pearson Corr. we know that this feature has linear relation with the target column; it sure is a pity that we have to drop the column."
   ]
  },
  {
   "cell_type": "code",
   "execution_count": 3,
   "metadata": {
    "scrolled": false
   },
   "outputs": [
    {
     "name": "stdout",
     "output_type": "stream",
     "text": [
      "2018-09-12 15:49:28,175 - trainer.input - INFO [line:42] - Clean start, is_serving: False\n",
      "2018-09-12 15:49:33,471 - trainer.input - INFO [line:71] - Clean take time 0:00:05.295302\n",
      "2018-09-12 15:49:33,491 - trainer.input - INFO [line:81] - Prepare start, is_serving: False\n",
      "2018-09-12 15:49:33,515 - trainer.input - INFO [line:119] - Persisten store to H:/workspace/notebook/ml-specialized/rossmann/data/processed/prepared/store.csv\n",
      "2018-09-12 15:49:52,293 - trainer.input - INFO [line:157] - Prepare take time 0:00:18.801075\n",
      "2018-09-12 15:49:52,467 - trainer.input - INFO [line:170] - sales_mean.mean: 5790.497727770823, sales_mean.stdv: 2082.5033707220155, sales_mean.median: 5471.351380042463\n",
      "2018-09-12 15:49:52,532 - trainer.input - INFO [line:170] - competition_open_since.mean: 14424.153547512962, competition_open_since.stdv: 1805.9849602002341, competition_open_since.median: 14641.0\n",
      "2018-09-12 15:49:52,597 - trainer.input - INFO [line:170] - promo2since.mean: 15295.40708578792, promo2since.stdv: 430.7254916875331, promo2since.median: 15340.0\n",
      "2018-09-12 15:49:52,666 - trainer.input - INFO [line:170] - competition_distance.mean: 5450.044851706307, competition_distance.stdv: 7801.082007118503, competition_distance.median: 2325.0\n",
      "2018-09-12 15:49:52,729 - trainer.input - INFO [line:170] - competition_open_since.mean: 14424.153547512962, competition_open_since.stdv: 1805.9849602002341, competition_open_since.median: 14641.0\n",
      "2018-09-12 15:49:52,791 - trainer.input - INFO [line:170] - promo2since.mean: 15295.40708578792, promo2since.stdv: 430.7254916875331, promo2since.median: 15340.0\n",
      "2018-09-12 15:49:52,856 - trainer.input - INFO [line:170] - competition_distance.mean: 5450.044851706307, competition_distance.stdv: 7801.082007118503, competition_distance.median: 2325.0\n",
      "2018-09-12 15:49:52,924 - trainer.input - INFO [line:191] - Transform start, is_serving: False\n",
      "2018-09-12 15:49:52,926 - trainer.input - INFO [line:199] - Do np.log(data.sales) !\n",
      "2018-09-12 15:49:53,592 - trainer.input - INFO [line:208] - Transform take time 0:00:00.667038\n",
      "2018-09-12 15:49:53,593 - trainer.input - INFO [line:225] - Split start\n",
      "2018-09-12 15:50:09,504 - trainer.input - INFO [line:249] - Split take time 0:00:15.910910\n",
      "Wall time: 41.5 s\n"
     ]
    },
    {
     "data": {
      "text/plain": [
       "<trainer.ctrl.Ctrl at 0x513d128>"
      ]
     },
     "execution_count": 3,
     "metadata": {},
     "output_type": "execute_result"
    }
   ],
   "source": [
    "%%time\n",
    "\n",
    "ctrl.prepare({'fpath': './data/train.csv'})"
   ]
  },
  {
   "cell_type": "markdown",
   "metadata": {},
   "source": [
    "<br/>\n",
    "<br/>\n",
    "<br/>\n",
    "\n",
    "## Model Structure\n",
    "\n",
    "![model structure](./model_structure.jpg)\n",
    "\n",
    "We use Google's `Wide and Deep Model` and DNN Regressor (the Deep Part in the graph) for comparison. When dealing with time serie data having sequential characteristics, one tends to use RNN. However, due to the model complexity of RNN, we prefer using embedding generated for date-related features to extract the pattern or information from data. This way, we deal the time-series data much more easy.\n",
    "\n",
    "- **Deep Model**\n",
    "    ```python\n",
    "    est = tf.estimator.DNNRegressor(\n",
    "        hidden_units=[128, 64, 32],\n",
    "        feature_columns=deep_columns,\n",
    "        model_dir=model_dir,\n",
    "        label_dimension=1,\n",
    "        weight_column=None,\n",
    "        optimizer=tf.train.AdamOptimizer(0.005),\n",
    "        activation_fn=tf.nn.selu,\n",
    "        dropout=0.3,\n",
    "        input_layer_partitioner=None\n",
    "    )\n",
    "    ```\n",
    "    - Loss function: `tf.estimator.DNNRegressor` uses 'mean square error' by default\n",
    "    - Optimizer: `tf.train.AdamOptimizer` \n",
    "    - Overfitting check: Performed during training section. Best checkpoint (`trainer.model.BestScoreExporter`) is used to avoid overfitting.\n",
    "    - SeLU activation function at each layer (Self Normalization)\n",
    "    - DNN Structure: `input dim -> 128 -> 64 -> 32 -> 1`, embedding dimension = 3 for all category features except 'store'\n",
    "    \n",
    "- **Wide and Deep Model**\n",
    "    ```python\n",
    "    est = tf.estimator.DNNLinearCombinedRegressor(\n",
    "        model_dir=model_dir,\n",
    "        linear_feature_columns=wide_columns,\n",
    "        linear_optimizer='Ftrl',\n",
    "        dnn_feature_columns=deep_columns,\n",
    "        dnn_optimizer=tf.train.AdamOptimizer(learning_rate),\n",
    "        dnn_hidden_units=[128, 64, 32],\n",
    "        dnn_activation_fn=tf.nn.selu,\n",
    "        dnn_dropout=0.3,\n",
    "        label_dimension=1\n",
    "    )\n",
    "    ```\n",
    "    - 'Deep' part has the same setting as Deep Model\n",
    "    - 'Wide' part uses the default [FTRL Optimizer](https://www.tensorflow.org/api_docs/python/tf/train/FtrlOptimizer). For the cross-column part we use the following features:\n",
    "    ```python\n",
    "    feature_columns[f'promo_datetime_cross'] = tf.feature_column.crossed_column(\n",
    "        ['promo', 'promo2', 'year', 'month', 'day', 'day_of_week'], hash_bucket_size=int(1e4))\n",
    "    feature_columns[f'promo_holiday_cross'] = tf.feature_column.crossed_column(\n",
    "        ['promo', 'promo2', 'state', 'state_holiday', 'school_holiday'], hash_bucket_size=int(1e4))\n",
    "    feature_columns[f'store_type_cross'] = tf.feature_column.crossed_column(\n",
    "        ['state', 'store_type', 'assortment', 'day_of_week'], hash_bucket_size=int(1e4))\n",
    "    feature_columns[f'competition_cross'] = tf.feature_column.crossed_column(\n",
    "        ['competition_open_since_month', 'competition_open_since_year'], hash_bucket_size=int(1e4))\n",
    "    ```\n",
    "      Basically they are crosses between dates and promotions, betweem differnt holiday types and promotions, lastly between month and year of competition initiated.\n",
    "      \n",
    "      <br/>\n",
    "      \n",
    "    - During validation, we observe the `RMSPE(Root Mean Square Percentage Error)` error metrics\n",
    "    $$ \\sqrt{\\frac{1}{n} \\sum^{n}_{i=1} {\\frac{y_i - \\hat{y_i}}{y_i}}^2} $$\n",
    "<br/>\n",
    "<br/>\n"
   ]
  },
  {
   "cell_type": "markdown",
   "metadata": {},
   "source": [
    "## Training\n",
    "\n",
    "We use `tf.estimator.train_and_evaluate` function, which requires `estimator, train_spec, eval_spec` as parameters.\n",
    "- estimator: `tf.estimator.DNNRegressor` or `tf.estimator.DNNLinearCombinedRegressor`\n",
    "- train_spec and eval_spec: \n",
    "  train_spec and eval_spec both requires a data function that can serve data in batches with an implicit loop. Here we use [tf.data.Dataset](https://www.tensorflow.org/api_docs/python/tf/data/Dataset) API for data extraction, which supports multi-core processing to speed up the IO. The example is as follows:\n",
    "    ```python\n",
    "    def generate_input_fn(self,\n",
    "        file_names_pattern, mode, skip_header_lines=False, is_serving=False,\n",
    "        batch_size=256, num_epochs=1, num_threads=4):\n",
    "\n",
    "        buffer_size = batch_size * 2\n",
    "        def _input_fn():\n",
    "            num_threads = multiprocessing.cpu_count() if multi_threading else 1\n",
    "            file_names = tf.matching_files(file_names_pattern)\n",
    "\n",
    "            is_serving = True if mode == tf.estimator.ModeKeys.PREDICT else False\n",
    "            dataset = tf.data.TextLineDataset(filenames=file_names)\n",
    "            dataset = dataset.skip(skip_header_lines)\n",
    "            dataset = dataset.map(lambda csv_row: self.parse_csv(csv_row, is_serving=is_serving))\n",
    "            dataset = dataset.map(lambda features: self.get_features_target_tuple(features), \n",
    "                                  num_parallel_calls=num_threads)\n",
    "            if shuffle:\n",
    "                dataset = dataset.shuffle(buffer_size)\n",
    "            dataset = dataset.batch(batch_size)\\\n",
    "                             .prefetch(buffer_size)\\\n",
    "                             .repeat(num_epochs)\n",
    "            iterator = dataset.make_one_shot_iterator()\n",
    "            features, target = iterator.get_next()\n",
    "            return features, target\n",
    "        return _input_fn\n",
    "    ```\n",
    "  Here, `num_threads` specifies the number of CPU cores for the job.\n",
    "  \n",
    "  <br/>\n",
    "  \n",
    "  Train, eval spec:\n",
    "    ```python\n",
    "    # Train spec\n",
    "    train_fn = generate_input_fn(...)\n",
    "    train_spec = tf.estimator.TrainSpec(\n",
    "        train_fn,\n",
    "        max_steps=train_steps,\n",
    "    )\n",
    "    # Valid spec\n",
    "    valid_fn = generate_input_fn(...)\n",
    "    eval_spec = tf.estimator.EvalSpec(\n",
    "        valid_fn,\n",
    "        steps=valid_steps,\n",
    "        exporters=[exporter]\n",
    "    )\n",
    "    ```\n",
    "  The `exporters` in EvalSpec gives you the option of choosing how to export your model during evaluation; instead of using model checkpoint files, we are using [protobufs](https://www.tensorflow.org/extend/tool_developers/#protocol_buffers) files (`.pb`). We can also customize exporter through inheriting `tf.estimator.Exporter` to write your own export logic. Here we implement `BestScoreExporter` from scratch (tensorflow 1.10 now has [BestScoreExporter](https://www.tensorflow.org/api_docs/python/tf/estimator/BestExporter) for you to call directly, unfortunately this was not available at our time of development). During evaluation we compare the metric from previous iterations, such as loss and accuracy; we ONLY export the model if the result from this evaluation is better than the previous ones.\n",
    "    ```python\n",
    "    class BestScoreExporter(tf.estimator.Exporter):\n",
    "        # ...\n",
    "        def export(self, estimator, export_path, checkpoint_path, eval_result,\n",
    "             is_the_final_export):\n",
    "\n",
    "            print(f'eval_result: {eval_result}')\n",
    "            curloss = eval_result['rmspe']\n",
    "            if self.best is None or self.best >= curloss:\n",
    "                estimator.export_savedmodel(\n",
    "                    export_path,\n",
    "                    self.serving_input_receiver_fn,\n",
    "                    assets_extra=self.assets_extra,\n",
    "                    as_text=self.as_text,\n",
    "                    checkpoint_path=checkpoint_path)\n",
    "            else:\n",
    "                # do nothing\n",
    "    ```\n",
    "    While we export the model we also implement an important function, `serving_input_receiver_fn`, to be passed to `tf.estimator.Exporter`. The function is responsible for format transformation, since very often the data format during serving period is not the same as that of data actually sent to the model. The function will return `tf.estimator.export.ServingInputReceiver`. The example is as follows:\n",
    "    ```python\n",
    "    def json_serving_input_fn(self):\n",
    "        # ...\n",
    "        inputs = {}\n",
    "        for column in input_feature_columns:\n",
    "            if column.name in metadata.INPUT_CATEGORICAL_FEATURE_NAMES_WITH_IDENTITY:\n",
    "                inputs[column.name] = tf.placeholder(shape=[None], dtype=tf.int32, name=column.name)\n",
    "            else:\n",
    "                inputs[column.name] = tf.placeholder(shape=[None], dtype=column.dtype, name=column.name)\n",
    "                \n",
    "        features = {\n",
    "            key: tf.expand_dims(tensor, -1)\n",
    "            for key, tensor in inputs.items()\n",
    "        }\n",
    "\n",
    "        return tf.estimator.export.ServingInputReceiver(\n",
    "            features=self.process_features(features), receiver_tensors=inputs\n",
    "        )\n",
    "    ```\n",
    "    From the metadata above we can see how to define the dtype and shape for placeholders. Transforming `receiver_tensors` to `features` is simply expand one more dimension for each feature; online prediction usually uses JSON format. If we are dealing file in batches, then we can utilize .csv reading functions where we provide at least one .csv filename as the parameters. 'receiver_tensors' could be placeholder with dtype=string, and features are supposedbly in the tensor form recognizable by model.\n",
    "    \n",
    "    <br/>\n",
    "    \n",
    "- Other settings:\n",
    "    - Batch size = 256\n",
    "    - Train steps = 2308 * 8 (about 8 epochs)\n",
    "    - Valid steps = 989 (about 1 epoch)\n",
    "    - Drop out rate: 0.3"
   ]
  },
  {
   "cell_type": "markdown",
   "metadata": {},
   "source": [
    "## Model comparison\n",
    "\n",
    "We provide four sets of experiments for comparison:\n",
    "- DNN with hidden layer [128, 64, 32, 1]\n",
    "- DNN with hidden layer [1024, 512, 256, 1]\n",
    "- Wide and Deep with hidden layer [128, 64, 32, 1]\n",
    "- Ridge regression\n",
    "    - The objective function of ridge regression already contains L2 regularization, which prevents overfitting\n",
    "    $$ \\min_w {\\left|\\left| X_w - y \\right|\\right|_2}^2 + \\alpha{\\left|\\left| w \\right|\\right|_2}^2 $$\n",
    "    - 'alpha' is the extent of regularization; through experiment we conclude that a value larger than 0.1 would yield better performance on validation data."
   ]
  },
  {
   "cell_type": "markdown",
   "metadata": {},
   "source": [
    "### Deep model\n",
    "- We can change settings in `trainer.app_conf.Config.mlp_layers`"
   ]
  },
  {
   "cell_type": "code",
   "execution_count": null,
   "metadata": {
    "scrolled": true
   },
   "outputs": [],
   "source": [
    "%%time\n",
    "ctrl.train({\n",
    "    'train_steps': 300,\n",
    "    'reset': True,\n",
    "    'model_name': 'deep',\n",
    "    'job_dir': '{}/dnn_regressor'.format(conf.model_path)\n",
    "})"
   ]
  },
  {
   "cell_type": "markdown",
   "metadata": {},
   "source": [
    "### Wide and deep model"
   ]
  },
  {
   "cell_type": "code",
   "execution_count": null,
   "metadata": {
    "scrolled": true
   },
   "outputs": [],
   "source": [
    "%%time\n",
    "\n",
    "ctrl.train({\n",
    "    'reset': True,\n",
    "    'model_name': 'wide_and_deep', # 'wide_and_deep',\n",
    "    'job_dir': '{}/wnd_regressor'.format(app_conf.get_config().model_path),\n",
    "    'train_steps': 300\n",
    "})"
   ]
  },
  {
   "cell_type": "markdown",
   "metadata": {},
   "source": [
    "### Ridge Regression"
   ]
  },
  {
   "cell_type": "code",
   "execution_count": 5,
   "metadata": {},
   "outputs": [
    {
     "name": "stdout",
     "output_type": "stream",
     "text": [
      "2018-09-12 16:25:40,022 - trainer.service - INFO [line:41] - Split train valid\n",
      "2018-09-12 16:27:24,941 - trainer.service - INFO [line:67] - RMSPE on train data: 0.25172015125764696, valid data: 0.3254622870756842\n",
      "2018-09-12 16:27:25,066 - trainer.service - INFO [line:68] - RMSE on train data: 0.19294010751115764, valid data: 0.2069660080082862\n",
      "Wall time: 2min\n"
     ]
    },
    {
     "data": {
      "text/plain": [
       "<trainer.ctrl.Ctrl at 0x4f5a048>"
      ]
     },
     "execution_count": 5,
     "metadata": {},
     "output_type": "execute_result"
    }
   ],
   "source": [
    "%%time\n",
    "\n",
    "ctrl.train({\n",
    "    'reset': False,\n",
    "    'model_name': 'ridge'\n",
    "})"
   ]
  },
  {
   "cell_type": "markdown",
   "metadata": {},
   "source": [
    "## Model Comparison Observation\n",
    "\n",
    "We use the logarithm of `sales` for convenience of computation. Also, we observe `RMSPE` in addition to `RMSE` since Kaggle evaluates with the former. We obtain `RMSPE` with np.expm1.\n",
    "\n",
    "<br/>\n",
    "<br/>\n",
    "\n",
    "### We can obtain the following table\n",
    "\n",
    "------------\n",
    "\n",
    "   | DNNRegressor | DNNRegressor(large layer dimension) | DNNLinearCombinedRegressor(Wide and Deep) | Scikit-learn Ridge Regression \n",
    "---|---\n",
    "RMSPE | 0.2537  | 0.2669 | **0.2495** | 0.3255\n",
    "RMSE  | **0.1983** | 0.2067 | 0.2015 | 0.2069\n",
    "\n",
    "\n",
    "From the RMSPE in the table it seems that Wide and Deep Model performs best, but in this case we will use DNNRegressor, simply because of its comparable results from fewer parameters. In fact, difference less than 0.05 could be safely neglected, since sometimes the same model will produce difference larger than 0.05 after re-training."
   ]
  },
  {
   "cell_type": "markdown",
   "metadata": {},
   "source": [
    "## Cloud Machine Learning Engine\n",
    "\n"
   ]
  },
  {
   "cell_type": "code",
   "execution_count": 21,
   "metadata": {
    "scrolled": true
   },
   "outputs": [
    {
     "name": "stdout",
     "output_type": "stream",
     "text": [
      "init logger instance ...\n",
      "project_id                                              ml-team-cloudmile\n",
      "api_key_path                             C:/Users/gary/client_secret.json\n",
      "base_dir                                     gs://ml-specialized/rossmann\n",
      "data_path                               gs://ml-specialized/rossmann/data\n",
      "proc_path                     gs://ml-specialized/rossmann/data/processed\n",
      "model_path                            gs://ml-specialized/rossmann/models\n",
      "store_data                    gs://ml-specialized/rossmann/data/store.csv\n",
      "store_state             gs://ml-specialized/rossmann/data/store_states...\n",
      "train_data                    gs://ml-specialized/rossmann/data/train.csv\n",
      "valid_data                    gs://ml-specialized/rossmann/data/valid.csv\n",
      "test_data                      gs://ml-specialized/rossmann/data/test.csv\n",
      "cleaned_path            gs://ml-specialized/rossmann/data/processed/cl...\n",
      "prepared_path           gs://ml-specialized/rossmann/data/processed/pr...\n",
      "fitted_path             gs://ml-specialized/rossmann/data/processed/fi...\n",
      "transformed_path        gs://ml-specialized/rossmann/data/processed/tr...\n",
      "train_files             gs://ml-specialized/rossmann/data/processed/tr...\n",
      "valid_files             gs://ml-specialized/rossmann/data/processed/tr...\n",
      "feature_stats_file      gs://ml-specialized/rossmann/data/processed/fi...\n",
      "tr_dt_file              gs://ml-specialized/rossmann/data/processed/tr...\n",
      "vl_dt_file              gs://ml-specialized/rossmann/data/processed/tr...\n",
      "valid_size                                                            0.3\n",
      "export_name                                                     estimator\n",
      "mlp_layers                                                  [128, 64, 32]\n",
      "learning_rate                                                       0.001\n",
      "drop_rate                                                               0\n",
      "keep_checkpoint_max                                                     3\n",
      "log_step_count_steps                                                  500\n",
      "train_steps                                                         18464\n",
      "valid_steps                                                           989\n",
      "batch_size                                                            200\n",
      "num_epochs                                                              1\n",
      "serving_format                                                       json\n",
      "env                                                                 cloud\n",
      "reset                                                                True\n",
      "model_name                                                           deep\n",
      "method                                                              train\n",
      "job_dir                                                              None\n",
      "runtime_version                                                      1.10\n",
      "dtype: object\n"
     ]
    }
   ],
   "source": [
    "!python -m trainer.ctrl"
   ]
  },
  {
   "cell_type": "code",
   "execution_count": 23,
   "metadata": {},
   "outputs": [
    {
     "name": "stdout",
     "output_type": "stream",
     "text": [
      "2018-09-12 22:56:51,760 - trainer.ctrl - INFO [line:103] - submit cmd:\n",
      "gcloud ml-engine jobs submit training ml_specilized_rossmann_BASIC_20180912_225651\n",
      "  --job-dir=gs://ml-specialized/rossmann/models\n",
      "  --runtime-version=1.10\n",
      "  --region=asia-east1\n",
      "  --scale-tier=BASIC\n",
      "  --module-name=trainer.ctrl\n",
      "  --package-path=trainer\n",
      "  --config=config.yaml\n",
      "  --\n",
      "  --method=train\n",
      "  --model-name=deep\n",
      "  --train-steps=300\n",
      "2018-09-12 22:56:56,496 - trainer.ctrl - INFO [line:104] - jobId: ml_specilized_rossmann_BASIC_20180912_225651\n",
      "state: QUEUED\n",
      "Job [ml_specilized_rossmann_BASIC_20180912_225651] submitted successfully.\n",
      "Your job is still active. You may view the status of your job with the command\n",
      "\n",
      "  $ gcloud ml-engine jobs describe ml_specilized_rossmann_BASIC_20180912_225651\n",
      "\n",
      "or continue streaming the logs with the command\n",
      "\n",
      "  $ gcloud ml-engine jobs stream-logs ml_specilized_rossmann_BASIC_20180912_225651\n",
      "\n"
     ]
    },
    {
     "data": {
      "text/plain": [
       "<trainer.ctrl.Ctrl at 0x4fcaa20>"
      ]
     },
     "execution_count": 23,
     "metadata": {},
     "output_type": "execute_result"
    }
   ],
   "source": [
    "from datetime import datetime\n",
    "\n",
    "bucket_name = 'gs://ml-specialized'\n",
    "base_name = 'ml_specilized_rossmann'\n",
    "scale_tier = 'BASIC'\n",
    "now = datetime.strftime(datetime.now(), '%Y%m%d_%H%M%S')\n",
    "\n",
    "ctrl.submit({\n",
    "    'job_name': '{}_{}_{}'.format(base_name, scale_tier, now),\n",
    "    'train_steps': 300,\n",
    "    'scale_tier': scale_tier,\n",
    "    'job_dir': '{}/rossmann/models'.format(bucket_name),\n",
    "    'model_name': 'deep'\n",
    "})"
   ]
  },
  {
   "cell_type": "code",
   "execution_count": 7,
   "metadata": {},
   "outputs": [
    {
     "name": "stdout",
     "output_type": "stream",
     "text": [
      "createTime: '2018-09-12T13:37:44Z'\n",
      "etag: X4EzcCePBs8=\n",
      "jobId: ml_specilized_rossmann_BASIC_GPU_20180912_213739\n",
      "state: PREPARING\n",
      "trainingInput:\n",
      "  args:\n",
      "  - --method=train\n",
      "  - --train_steps=300\n",
      "  jobDir: gs://ml-specialized/rossmann/models\n",
      "  packageUris:\n",
      "  - gs://ml-specialized/rossmann/models/packages/c7932e7a873dc3146be182fb94f3096a8e8e67ebeb75578c700547e8679a454f/trainer-0.1.tar.gz\n",
      "  pythonModule: trainer.ctrl\n",
      "  pythonVersion: '3.5'\n",
      "  region: asia-east1\n",
      "  runtimeVersion: '1.10'\n",
      "  scaleTier: BASIC_GPU\n",
      "trainingOutput: {}\n"
     ]
    },
    {
     "name": "stderr",
     "output_type": "stream",
     "text": [
      "\n",
      "View job in the Cloud Console at:\n",
      "https://console.cloud.google.com/ml/jobs/ml_specilized_rossmann_BASIC_GPU_20180912_213739?project=ml-team-cloudmile\n",
      "\n",
      "View logs at:\n",
      "https://console.cloud.google.com/logs?resource=ml.googleapis.com%2Fjob_id%2Fml_specilized_rossmann_BASIC_GPU_20180912_213739&project=ml-team-cloudmile\n"
     ]
    }
   ],
   "source": [
    "# Replace the job name you just submit at last\n",
    "!gcloud ml-engine jobs describe ml_specilized_rossmann_BASIC_GPU_20180912_213739"
   ]
  },
  {
   "cell_type": "markdown",
   "metadata": {},
   "source": [
    "<br/>\n",
    "<br/>\n",
    "<br/>\n",
    "<br/>\n",
    "<br/>\n",
    "<br/>"
   ]
  },
  {
   "cell_type": "markdown",
   "metadata": {},
   "source": [
    "## Protocol buffer file inspection\n",
    "After training the model we use `saved_model_cli` to inspect Protocol Buffers file for a better understanding of the model. Generally, we inspect this file before using model already trained by other developers. Ref: [CLI to inspect SavedModel](https://www.tensorflow.org/guide/saved_model)"
   ]
  },
  {
   "cell_type": "code",
   "execution_count": 6,
   "metadata": {},
   "outputs": [
    {
     "name": "stdout",
     "output_type": "stream",
     "text": [
      "The given SavedModel contains the following tag-sets:\r\n",
      "serve\r\n",
      "\n"
     ]
    }
   ],
   "source": [
    "export_dir = svc.find_latest_expdir(conf, 'deep', '{}/dnn_regressor'.format(conf.model_path))\n",
    "print( utils.cmd(f'saved_model_cli show --dir {export_dir}') )"
   ]
  },
  {
   "cell_type": "code",
   "execution_count": 7,
   "metadata": {
    "scrolled": true
   },
   "outputs": [
    {
     "name": "stdout",
     "output_type": "stream",
     "text": [
      "The given SavedModel MetaGraphDef contains SignatureDefs with the following keys:\r\n",
      "SignatureDef key: \"predict\"\r\n",
      "\n"
     ]
    }
   ],
   "source": [
    "export_dir = svc.find_latest_expdir(conf, 'deep', '{}/dnn_regressor'.format(conf.model_path))\n",
    "print( utils.cmd(f'saved_model_cli show --dir {export_dir} --tag_set serve') )"
   ]
  },
  {
   "cell_type": "code",
   "execution_count": 8,
   "metadata": {
    "scrolled": true
   },
   "outputs": [
    {
     "name": "stdout",
     "output_type": "stream",
     "text": [
      "The given SavedModel SignatureDef contains the following input(s):\r\n",
      "  inputs['assortment'] tensor_info:\r\n",
      "      dtype: DT_STRING\r\n",
      "      shape: (-1)\r\n",
      "      name: assortment:0\r\n",
      "  inputs['competition_distance'] tensor_info:\r\n",
      "      dtype: DT_FLOAT\r\n",
      "      shape: (-1)\r\n",
      "      name: competition_distance:0\r\n",
      "  inputs['competition_open_since'] tensor_info:\r\n",
      "      dtype: DT_FLOAT\r\n",
      "      shape: (-1)\r\n",
      "      name: competition_open_since:0\r\n",
      "  inputs['competition_open_since_month'] tensor_info:\r\n",
      "      dtype: DT_STRING\r\n",
      "      shape: (-1)\r\n",
      "      name: competition_open_since_month:0\r\n",
      "  inputs['competition_open_since_year'] tensor_info:\r\n",
      "      dtype: DT_STRING\r\n",
      "      shape: (-1)\r\n",
      "      name: competition_open_since_year:0\r\n",
      "  inputs['day'] tensor_info:\r\n",
      "      dtype: DT_STRING\r\n",
      "      shape: (-1)\r\n",
      "      name: day:0\r\n",
      "  inputs['day_of_week'] tensor_info:\r\n",
      "      dtype: DT_STRING\r\n",
      "      shape: (-1)\r\n",
      "      name: day_of_week:0\r\n",
      "  inputs['month'] tensor_info:\r\n",
      "      dtype: DT_STRING\r\n",
      "      shape: (-1)\r\n",
      "      name: month:0\r\n",
      "  inputs['open'] tensor_info:\r\n",
      "      dtype: DT_STRING\r\n",
      "      shape: (-1)\r\n",
      "      name: open:0\r\n",
      "  inputs['promo'] tensor_info:\r\n",
      "      dtype: DT_STRING\r\n",
      "      shape: (-1)\r\n",
      "      name: promo:0\r\n",
      "  inputs['promo2'] tensor_info:\r\n",
      "      dtype: DT_STRING\r\n",
      "      shape: (-1)\r\n",
      "      name: promo2:0\r\n",
      "  inputs['promo2since'] tensor_info:\r\n",
      "      dtype: DT_FLOAT\r\n",
      "      shape: (-1)\r\n",
      "      name: promo2since:0\r\n",
      "  inputs['promo2since_week'] tensor_info:\r\n",
      "      dtype: DT_STRING\r\n",
      "      shape: (-1)\r\n",
      "      name: promo2since_week:0\r\n",
      "  inputs['promo2since_year'] tensor_info:\r\n",
      "      dtype: DT_STRING\r\n",
      "      shape: (-1)\r\n",
      "      name: promo2since_year:0\r\n",
      "  inputs['sales_mean'] tensor_info:\r\n",
      "      dtype: DT_FLOAT\r\n",
      "      shape: (-1)\r\n",
      "      name: sales_mean:0\r\n",
      "  inputs['school_holiday'] tensor_info:\r\n",
      "      dtype: DT_STRING\r\n",
      "      shape: (-1)\r\n",
      "      name: school_holiday:0\r\n",
      "  inputs['state'] tensor_info:\r\n",
      "      dtype: DT_STRING\r\n",
      "      shape: (-1)\r\n",
      "      name: state:0\r\n",
      "  inputs['state_holiday'] tensor_info:\r\n",
      "      dtype: DT_STRING\r\n",
      "      shape: (-1)\r\n",
      "      name: state_holiday:0\r\n",
      "  inputs['store'] tensor_info:\r\n",
      "      dtype: DT_INT32\r\n",
      "      shape: (-1)\r\n",
      "      name: store:0\r\n",
      "  inputs['store_type'] tensor_info:\r\n",
      "      dtype: DT_STRING\r\n",
      "      shape: (-1)\r\n",
      "      name: store_type:0\r\n",
      "  inputs['year'] tensor_info:\r\n",
      "      dtype: DT_STRING\r\n",
      "      shape: (-1)\r\n",
      "      name: year:0\r\n",
      "The given SavedModel SignatureDef contains the following output(s):\r\n",
      "  outputs['predictions'] tensor_info:\r\n",
      "      dtype: DT_FLOAT\r\n",
      "      shape: (-1, 1)\r\n",
      "      name: dnn/logits/BiasAdd:0\r\n",
      "Method name is: tensorflow/serving/predict\r\n",
      "\n"
     ]
    }
   ],
   "source": [
    "export_dir = svc.find_latest_expdir(conf, 'deep', '{}/dnn_regressor'.format(conf.model_path))\n",
    "command = f'saved_model_cli show --dir {export_dir} --tag_set serve --signature_def predict'\n",
    "print( utils.cmd(command) )"
   ]
  },
  {
   "cell_type": "markdown",
   "metadata": {},
   "source": [
    "### Observation\n",
    "From the above we can cleary see that the dtype and shape of the data input placeholder can be obtained from an exported .pb files. We can also see the last output node `dnn/logits/BiasAdd:0`\n",
    "\n",
    "<br/>\n",
    "<br/>\n",
    "<br/>"
   ]
  },
  {
   "cell_type": "markdown",
   "metadata": {},
   "source": [
    "## Serving\n",
    "The system has to transform raw data before serving it to the model for prediction. The general actions are the same as during the training, while skipping the Fit Phase.\n",
    "- Clean: Deal with the missing values, drop unneeded columns\n",
    "- Prepare: Add features as mentioned in feature engineering period\n",
    "- Transform: Convert column values, normalization of continuous attributes, one-hot encoding for categorical features, etc"
   ]
  },
  {
   "cell_type": "markdown",
   "metadata": {},
   "source": [
    "## Local prediction\n",
    "1. Transform raw input data for prediction\n",
    "    - We call `Ctrl.instance.transform` to transform raw data, followed by merging with `store` to become **Fat Table** for the model to predict\n",
    "    ```python\n",
    "    def transform(self, p):\n",
    "        data = self.input.clean(fpath, is_serving=True)\n",
    "        data = self.input.prepare(data, is_serving=True)\n",
    "        data = self.input.transform(data, is_serving=True)\n",
    "        return data\n",
    "    ```\n",
    "    \n",
    "2. Local prediction\n",
    "    - call ctrl.local_predict: simply use `tensorflow.contrib.predictor`\n",
    "        ```python\n",
    "        from tensorflow.contrib import predictor\n",
    "        predict_fn = predictor.from_saved_model(export_dir, signature_def_key='predict')\n",
    "        pred = predict_fn( ... )\n",
    "        ```\n",
    "        \n",
    "3. In this case, we need to take np.expm1 to the prediction result"
   ]
  },
  {
   "cell_type": "code",
   "execution_count": 9,
   "metadata": {
    "scrolled": true
   },
   "outputs": [
    {
     "name": "stdout",
     "output_type": "stream",
     "text": [
      "2018-09-12 19:30:47,997 - trainer.input - INFO [line:42] - Clean start, is_serving: True\n",
      "2018-09-12 19:30:48,057 - trainer.input - INFO [line:71] - Clean take time 0:00:00.059003\n",
      "2018-09-12 19:30:48,058 - trainer.input - INFO [line:81] - Prepare start, is_serving: True\n",
      "2018-09-12 19:30:48,520 - trainer.input - INFO [line:156] - Prepare take time 0:00:00.461027\n",
      "2018-09-12 19:30:48,522 - trainer.input - INFO [line:190] - Transform start, is_serving: True\n",
      "2018-09-12 19:30:49,708 - trainer.input - INFO [line:207] - Transform take time 0:00:01.186068\n",
      "INFO:tensorflow:Restoring parameters from H:/workspace/notebook/ml-specialized/rossmann/models/wnd_regressor/export/estimator/1536751800\\variables\\variables\n",
      "2018-09-12 19:30:50,190 - tensorflow - INFO [line:115] - Restoring parameters from H:/workspace/notebook/ml-specialized/rossmann/models/wnd_regressor/export/estimator/1536751800\\variables\\variables\n",
      "[10288. 12296. 13944. ...  9294. 14385. 10230.]\n"
     ]
    }
   ],
   "source": [
    "test_df = ctrl.transform({'fpath': './data/test.csv'})\n",
    "\n",
    "pred = ctrl.local_predict({\n",
    "    'datasource': test_df,\n",
    "    'is_src_file': True,\n",
    "    'model_name': 'wide_and_deep',\n",
    "    'job_dir': '{}/wnd_regressor'.format(conf.model_path)\n",
    "})\n",
    "print(pred)"
   ]
  },
  {
   "cell_type": "code",
   "execution_count": 6,
   "metadata": {},
   "outputs": [
    {
     "data": {
      "text/html": [
       "<div>\n",
       "<style scoped>\n",
       "    .dataframe tbody tr th:only-of-type {\n",
       "        vertical-align: middle;\n",
       "    }\n",
       "\n",
       "    .dataframe tbody tr th {\n",
       "        vertical-align: top;\n",
       "    }\n",
       "\n",
       "    .dataframe thead th {\n",
       "        text-align: right;\n",
       "    }\n",
       "</style>\n",
       "<table border=\"1\" class=\"dataframe\">\n",
       "  <thead>\n",
       "    <tr style=\"text-align: right;\">\n",
       "      <th></th>\n",
       "      <th>store</th>\n",
       "      <th>day_of_week</th>\n",
       "      <th>open</th>\n",
       "      <th>promo2</th>\n",
       "      <th>promo</th>\n",
       "      <th>state_holiday</th>\n",
       "      <th>school_holiday</th>\n",
       "      <th>store_type</th>\n",
       "      <th>assortment</th>\n",
       "      <th>state</th>\n",
       "      <th>...</th>\n",
       "      <th>month</th>\n",
       "      <th>day</th>\n",
       "      <th>sales_mean</th>\n",
       "      <th>competition_distance</th>\n",
       "      <th>competition_open_since</th>\n",
       "      <th>competition_open_since_month</th>\n",
       "      <th>competition_open_since_year</th>\n",
       "      <th>promo2since</th>\n",
       "      <th>promo2since_week</th>\n",
       "      <th>promo2since_year</th>\n",
       "    </tr>\n",
       "  </thead>\n",
       "  <tbody>\n",
       "    <tr>\n",
       "      <th>0</th>\n",
       "      <td>1</td>\n",
       "      <td>4</td>\n",
       "      <td>1</td>\n",
       "      <td>0</td>\n",
       "      <td>1</td>\n",
       "      <td>0</td>\n",
       "      <td>0</td>\n",
       "      <td>c</td>\n",
       "      <td>a</td>\n",
       "      <td>HE</td>\n",
       "      <td>...</td>\n",
       "      <td>9</td>\n",
       "      <td>17</td>\n",
       "      <td>4759.096031</td>\n",
       "      <td>1270.0</td>\n",
       "      <td>14123.0</td>\n",
       "      <td>9</td>\n",
       "      <td>2008</td>\n",
       "      <td>15340.0</td>\n",
       "      <td></td>\n",
       "      <td></td>\n",
       "    </tr>\n",
       "    <tr>\n",
       "      <th>1</th>\n",
       "      <td>3</td>\n",
       "      <td>4</td>\n",
       "      <td>1</td>\n",
       "      <td>0</td>\n",
       "      <td>1</td>\n",
       "      <td>0</td>\n",
       "      <td>0</td>\n",
       "      <td>a</td>\n",
       "      <td>a</td>\n",
       "      <td>NW</td>\n",
       "      <td>...</td>\n",
       "      <td>9</td>\n",
       "      <td>17</td>\n",
       "      <td>6942.568678</td>\n",
       "      <td>14130.0</td>\n",
       "      <td>13483.0</td>\n",
       "      <td>12</td>\n",
       "      <td>2006</td>\n",
       "      <td>14975.0</td>\n",
       "      <td>14</td>\n",
       "      <td>2011</td>\n",
       "    </tr>\n",
       "    <tr>\n",
       "      <th>2</th>\n",
       "      <td>7</td>\n",
       "      <td>4</td>\n",
       "      <td>1</td>\n",
       "      <td>0</td>\n",
       "      <td>1</td>\n",
       "      <td>0</td>\n",
       "      <td>0</td>\n",
       "      <td>a</td>\n",
       "      <td>c</td>\n",
       "      <td>SH</td>\n",
       "      <td>...</td>\n",
       "      <td>9</td>\n",
       "      <td>17</td>\n",
       "      <td>8817.050891</td>\n",
       "      <td>24000.0</td>\n",
       "      <td>15796.0</td>\n",
       "      <td>4</td>\n",
       "      <td>2013</td>\n",
       "      <td>15340.0</td>\n",
       "      <td></td>\n",
       "      <td></td>\n",
       "    </tr>\n",
       "    <tr>\n",
       "      <th>3</th>\n",
       "      <td>8</td>\n",
       "      <td>4</td>\n",
       "      <td>1</td>\n",
       "      <td>0</td>\n",
       "      <td>1</td>\n",
       "      <td>0</td>\n",
       "      <td>0</td>\n",
       "      <td>a</td>\n",
       "      <td>a</td>\n",
       "      <td>SH</td>\n",
       "      <td>...</td>\n",
       "      <td>9</td>\n",
       "      <td>17</td>\n",
       "      <td>5539.358418</td>\n",
       "      <td>7520.0</td>\n",
       "      <td>16344.0</td>\n",
       "      <td>10</td>\n",
       "      <td>2014</td>\n",
       "      <td>15340.0</td>\n",
       "      <td></td>\n",
       "      <td></td>\n",
       "    </tr>\n",
       "    <tr>\n",
       "      <th>4</th>\n",
       "      <td>9</td>\n",
       "      <td>4</td>\n",
       "      <td>1</td>\n",
       "      <td>0</td>\n",
       "      <td>1</td>\n",
       "      <td>0</td>\n",
       "      <td>0</td>\n",
       "      <td>a</td>\n",
       "      <td>c</td>\n",
       "      <td>NW</td>\n",
       "      <td>...</td>\n",
       "      <td>9</td>\n",
       "      <td>17</td>\n",
       "      <td>6562.337612</td>\n",
       "      <td>2030.0</td>\n",
       "      <td>11170.0</td>\n",
       "      <td>8</td>\n",
       "      <td>2000</td>\n",
       "      <td>15340.0</td>\n",
       "      <td></td>\n",
       "      <td></td>\n",
       "    </tr>\n",
       "  </tbody>\n",
       "</table>\n",
       "<p>5 rows × 21 columns</p>\n",
       "</div>"
      ],
      "text/plain": [
       "   store day_of_week open promo2 promo state_holiday school_holiday  \\\n",
       "0      1           4    1      0     1             0              0   \n",
       "1      3           4    1      0     1             0              0   \n",
       "2      7           4    1      0     1             0              0   \n",
       "3      8           4    1      0     1             0              0   \n",
       "4      9           4    1      0     1             0              0   \n",
       "\n",
       "  store_type assortment state       ...        month day   sales_mean  \\\n",
       "0          c          a    HE       ...            9  17  4759.096031   \n",
       "1          a          a    NW       ...            9  17  6942.568678   \n",
       "2          a          c    SH       ...            9  17  8817.050891   \n",
       "3          a          a    SH       ...            9  17  5539.358418   \n",
       "4          a          c    NW       ...            9  17  6562.337612   \n",
       "\n",
       "   competition_distance  competition_open_since  competition_open_since_month  \\\n",
       "0                1270.0                 14123.0                             9   \n",
       "1               14130.0                 13483.0                            12   \n",
       "2               24000.0                 15796.0                             4   \n",
       "3                7520.0                 16344.0                            10   \n",
       "4                2030.0                 11170.0                             8   \n",
       "\n",
       "  competition_open_since_year promo2since  promo2since_week promo2since_year  \n",
       "0                        2008     15340.0                                     \n",
       "1                        2006     14975.0                14             2011  \n",
       "2                        2013     15340.0                                     \n",
       "3                        2014     15340.0                                     \n",
       "4                        2000     15340.0                                     \n",
       "\n",
       "[5 rows x 21 columns]"
      ]
     },
     "execution_count": 6,
     "metadata": {},
     "output_type": "execute_result"
    }
   ],
   "source": [
    "test_df.head()"
   ]
  },
  {
   "cell_type": "markdown",
   "metadata": {},
   "source": [
    "<br/>\n",
    "<br/>\n",
    "<br/>\n",
    "\n",
    "## Deply to ml-engine\n",
    "- Since the model is to be deployed on ML Engine of GCP, one requires a GCP account to obtain a service account key file, so to access GCP service from your AP server. The `trainer.app_conf.Config.api_key_path` is the path specifying where your key file is stored.\n",
    "- ML Engine initializes a repository when saving ML model to provide developers the convenience of switching between different versions of model. Here, however, we leave only one version of the model in the repository; while deploying model, all other models previously stored will be deleted."
   ]
  },
  {
   "cell_type": "markdown",
   "metadata": {},
   "source": [
    "<br/>\n",
    "<br/>\n",
    "<br/>\n",
    "\n",
    "Appoint key file to the `GOOGLE_APPLICATION_CREDENTIALS` environment variable"
   ]
  },
  {
   "cell_type": "code",
   "execution_count": 10,
   "metadata": {},
   "outputs": [
    {
     "name": "stdout",
     "output_type": "stream",
     "text": [
      "2018-09-12 19:30:57,000 - trainer.ctrl - INFO [line:28] - Set env variable [GOOGLE_APPLICATION_CREDENTIALS]\n",
      "Wall time: 2 ms\n"
     ]
    },
    {
     "data": {
      "text/plain": [
       "<trainer.ctrl.Ctrl at 0x2e78a860>"
      ]
     },
     "execution_count": 10,
     "metadata": {},
     "output_type": "execute_result"
    }
   ],
   "source": [
    "%%time\n",
    "ctrl.set_client_secret(conf.__dict__)"
   ]
  },
  {
   "cell_type": "markdown",
   "metadata": {},
   "source": [
    "Here we are uploading the folder of exported model to GCS with path `gs://ml-specialized/rossmann/models`. All GCS buckets are unique, so remember to change the bucket name to your own bucket. Also, select `neu_mf` at `model_path`."
   ]
  },
  {
   "cell_type": "code",
   "execution_count": null,
   "metadata": {
    "scrolled": false
   },
   "outputs": [],
   "source": [
    "%%time\n",
    "ctrl.upload_model({\n",
    "    # `bucket_name` and `prefix` tell Where to place the model on cloud ==> gs://{bucket_name}/{prefix}\n",
    "    'bucket_name': 'ml-specialized',\n",
    "    'prefix': 'rossmann/models',\n",
    "    'model_path': svc.find_latest_expdir(conf, 'deep', '{}/dnn_regressor'.format(conf.model_path)),\n",
    "})"
   ]
  },
  {
   "cell_type": "markdown",
   "metadata": {},
   "source": [
    "### Deploy\n",
    "Here is an example of deploying model with RESTful API:\n",
    "```python\n",
    "def create_model_ver(self, ml, model_name, deployment_uri):\n",
    "    model_uri = f'projects/{self.p.project_id}/models/{model_name}'\n",
    "    now = datetime.now().strftime('%Y_%m_%d__%H_%M_%S')\n",
    "    version = f'v{now}'\n",
    "    \n",
    "    res = ml.projects().models().versions().create(\n",
    "        parent=model_uri,\n",
    "        body={\n",
    "            'name': version,\n",
    "            'description': 'Regression model use tf.estimator.DNNRegressor',\n",
    "            'deploymentUri': deployment_uri,\n",
    "            'runtimeVersion': '1.8'\n",
    "        }\n",
    "    ).execute()\n",
    "    return res\n",
    "```\n",
    "- ml: a GCP resource object, usually acquired with\n",
    "    ```python\n",
    "    from googleapiclient import discovery\n",
    "\n",
    "    credentials = GoogleCredentials.get_application_default()\n",
    "    ml = discovery.build('ml', 'v1', credentials=credentials)\n",
    "    ```\n",
    "- deployment_uri: the path for storing GCS model"
   ]
  },
  {
   "cell_type": "code",
   "execution_count": null,
   "metadata": {},
   "outputs": [],
   "source": [
    "%%time\n",
    "ctrl.deploy({\n",
    "    'model_name': 'ml_specilized_rossmann',\n",
    "    'deployment_uri': 'gs://ml-specialized/rossmann/models'\n",
    "})"
   ]
  },
  {
   "cell_type": "markdown",
   "metadata": {},
   "source": [
    "### Call deployed model\n",
    "Because of the traffic volume limitation, just show first 100 rows online prediction\n",
    "\n",
    "---\n",
    "There are some limitations when using GCP online prediction. For instance, the input placeholders for a model are column-based, while online prediction requires the data to be uploaded in row-based format, as below:\n",
    "```python\n",
    "[\n",
    "    {\n",
    "        'assortment': 'a',\n",
    "        'competition_distance': 1270.0,\n",
    "        'competition_open_since': 14123.0\n",
    "        ...\n",
    "    },\n",
    "    {...}\n",
    "    {...}\n",
    "    ...\n",
    "]\n",
    "```"
   ]
  },
  {
   "cell_type": "code",
   "execution_count": null,
   "metadata": {
    "scrolled": true
   },
   "outputs": [],
   "source": [
    "test_df = ctrl.transform({'fpath': './data/test.csv'})\n",
    "\n",
    "result = ctrl.online_predict({\n",
    "    'model_name': 'ml_specilized_rossmann',\n",
    "    'datasource': test_df[:100].to_dict('records')\n",
    "})\n",
    "result"
   ]
  },
  {
   "cell_type": "markdown",
   "metadata": {},
   "source": [
    "<br/>\n",
    "<br/>\n",
    "<br/>\n",
    "\n",
    "## Check Predictions\n",
    "---\n",
    "Plot timeline for each store sales. Prev 70% of data is uses for training and the remaining 30% are for validation; predictions are made with validation data and compared with the ground truth."
   ]
  },
  {
   "cell_type": "code",
   "execution_count": 13,
   "metadata": {
    "scrolled": true
   },
   "outputs": [
    {
     "name": "stdout",
     "output_type": "stream",
     "text": [
      "INFO:tensorflow:Restoring parameters from H:/workspace/notebook/ml-specialized/rossmann/models/dnn_regressor/export/estimator/1536751589\\variables\\variables\n",
      "2018-09-12 19:32:02,749 - tensorflow - INFO [line:115] - Restoring parameters from H:/workspace/notebook/ml-specialized/rossmann/models/dnn_regressor/export/estimator/1536751589\\variables\\variables\n"
     ]
    },
    {
     "data": {
      "text/html": [
       "<div>\n",
       "<style scoped>\n",
       "    .dataframe tbody tr th:only-of-type {\n",
       "        vertical-align: middle;\n",
       "    }\n",
       "\n",
       "    .dataframe tbody tr th {\n",
       "        vertical-align: top;\n",
       "    }\n",
       "\n",
       "    .dataframe thead th {\n",
       "        text-align: right;\n",
       "    }\n",
       "</style>\n",
       "<table border=\"1\" class=\"dataframe\">\n",
       "  <thead>\n",
       "    <tr style=\"text-align: right;\">\n",
       "      <th></th>\n",
       "      <th>store</th>\n",
       "      <th>day_of_week</th>\n",
       "      <th>open</th>\n",
       "      <th>promo2</th>\n",
       "      <th>promo</th>\n",
       "      <th>state_holiday</th>\n",
       "      <th>school_holiday</th>\n",
       "      <th>store_type</th>\n",
       "      <th>assortment</th>\n",
       "      <th>state</th>\n",
       "      <th>...</th>\n",
       "      <th>competition_distance</th>\n",
       "      <th>competition_open_since</th>\n",
       "      <th>competition_open_since_month</th>\n",
       "      <th>competition_open_since_year</th>\n",
       "      <th>promo2since</th>\n",
       "      <th>promo2since_week</th>\n",
       "      <th>promo2since_year</th>\n",
       "      <th>sales</th>\n",
       "      <th>date</th>\n",
       "      <th>predict</th>\n",
       "    </tr>\n",
       "  </thead>\n",
       "  <tbody>\n",
       "    <tr>\n",
       "      <th>0</th>\n",
       "      <td>1</td>\n",
       "      <td>3</td>\n",
       "      <td>1</td>\n",
       "      <td>0</td>\n",
       "      <td>0</td>\n",
       "      <td>0</td>\n",
       "      <td>1</td>\n",
       "      <td>c</td>\n",
       "      <td>a</td>\n",
       "      <td>HE</td>\n",
       "      <td>...</td>\n",
       "      <td>1270.0</td>\n",
       "      <td>14123.0</td>\n",
       "      <td>9</td>\n",
       "      <td>2008</td>\n",
       "      <td>15340.0</td>\n",
       "      <td></td>\n",
       "      <td></td>\n",
       "      <td>5530.0</td>\n",
       "      <td>2013-01-02</td>\n",
       "      <td>NaN</td>\n",
       "    </tr>\n",
       "    <tr>\n",
       "      <th>1</th>\n",
       "      <td>1</td>\n",
       "      <td>4</td>\n",
       "      <td>1</td>\n",
       "      <td>0</td>\n",
       "      <td>0</td>\n",
       "      <td>0</td>\n",
       "      <td>1</td>\n",
       "      <td>c</td>\n",
       "      <td>a</td>\n",
       "      <td>HE</td>\n",
       "      <td>...</td>\n",
       "      <td>1270.0</td>\n",
       "      <td>14123.0</td>\n",
       "      <td>9</td>\n",
       "      <td>2008</td>\n",
       "      <td>15340.0</td>\n",
       "      <td></td>\n",
       "      <td></td>\n",
       "      <td>4327.0</td>\n",
       "      <td>2013-01-03</td>\n",
       "      <td>NaN</td>\n",
       "    </tr>\n",
       "    <tr>\n",
       "      <th>2</th>\n",
       "      <td>1</td>\n",
       "      <td>5</td>\n",
       "      <td>1</td>\n",
       "      <td>0</td>\n",
       "      <td>0</td>\n",
       "      <td>0</td>\n",
       "      <td>1</td>\n",
       "      <td>c</td>\n",
       "      <td>a</td>\n",
       "      <td>HE</td>\n",
       "      <td>...</td>\n",
       "      <td>1270.0</td>\n",
       "      <td>14123.0</td>\n",
       "      <td>9</td>\n",
       "      <td>2008</td>\n",
       "      <td>15340.0</td>\n",
       "      <td></td>\n",
       "      <td></td>\n",
       "      <td>4486.0</td>\n",
       "      <td>2013-01-04</td>\n",
       "      <td>NaN</td>\n",
       "    </tr>\n",
       "    <tr>\n",
       "      <th>3</th>\n",
       "      <td>1</td>\n",
       "      <td>6</td>\n",
       "      <td>1</td>\n",
       "      <td>0</td>\n",
       "      <td>0</td>\n",
       "      <td>0</td>\n",
       "      <td>1</td>\n",
       "      <td>c</td>\n",
       "      <td>a</td>\n",
       "      <td>HE</td>\n",
       "      <td>...</td>\n",
       "      <td>1270.0</td>\n",
       "      <td>14123.0</td>\n",
       "      <td>9</td>\n",
       "      <td>2008</td>\n",
       "      <td>15340.0</td>\n",
       "      <td></td>\n",
       "      <td></td>\n",
       "      <td>4997.0</td>\n",
       "      <td>2013-01-05</td>\n",
       "      <td>NaN</td>\n",
       "    </tr>\n",
       "    <tr>\n",
       "      <th>4</th>\n",
       "      <td>1</td>\n",
       "      <td>1</td>\n",
       "      <td>1</td>\n",
       "      <td>0</td>\n",
       "      <td>1</td>\n",
       "      <td>0</td>\n",
       "      <td>1</td>\n",
       "      <td>c</td>\n",
       "      <td>a</td>\n",
       "      <td>HE</td>\n",
       "      <td>...</td>\n",
       "      <td>1270.0</td>\n",
       "      <td>14123.0</td>\n",
       "      <td>9</td>\n",
       "      <td>2008</td>\n",
       "      <td>15340.0</td>\n",
       "      <td></td>\n",
       "      <td></td>\n",
       "      <td>7176.0</td>\n",
       "      <td>2013-01-07</td>\n",
       "      <td>NaN</td>\n",
       "    </tr>\n",
       "  </tbody>\n",
       "</table>\n",
       "<p>5 rows × 24 columns</p>\n",
       "</div>"
      ],
      "text/plain": [
       "   store day_of_week open promo2 promo state_holiday school_holiday  \\\n",
       "0      1           3    1      0     0             0              1   \n",
       "1      1           4    1      0     0             0              1   \n",
       "2      1           5    1      0     0             0              1   \n",
       "3      1           6    1      0     0             0              1   \n",
       "4      1           1    1      0     1             0              1   \n",
       "\n",
       "  store_type assortment state   ...   competition_distance  \\\n",
       "0          c          a    HE   ...                 1270.0   \n",
       "1          c          a    HE   ...                 1270.0   \n",
       "2          c          a    HE   ...                 1270.0   \n",
       "3          c          a    HE   ...                 1270.0   \n",
       "4          c          a    HE   ...                 1270.0   \n",
       "\n",
       "  competition_open_since competition_open_since_month  \\\n",
       "0                14123.0                            9   \n",
       "1                14123.0                            9   \n",
       "2                14123.0                            9   \n",
       "3                14123.0                            9   \n",
       "4                14123.0                            9   \n",
       "\n",
       "   competition_open_since_year  promo2since  promo2since_week  \\\n",
       "0                         2008      15340.0                     \n",
       "1                         2008      15340.0                     \n",
       "2                         2008      15340.0                     \n",
       "3                         2008      15340.0                     \n",
       "4                         2008      15340.0                     \n",
       "\n",
       "  promo2since_year   sales       date predict  \n",
       "0                   5530.0 2013-01-02     NaN  \n",
       "1                   4327.0 2013-01-03     NaN  \n",
       "2                   4486.0 2013-01-04     NaN  \n",
       "3                   4997.0 2013-01-05     NaN  \n",
       "4                   7176.0 2013-01-07     NaN  \n",
       "\n",
       "[5 rows x 24 columns]"
      ]
     },
     "execution_count": 13,
     "metadata": {},
     "output_type": "execute_result"
    }
   ],
   "source": [
    "dtype = inp.get_processed_dtype(is_serving=True)\n",
    "tr = pd.read_csv('./data/processed/transformed/tr.csv', dtype=dtype).query('open == \"1\" and sales > 0')\n",
    "vl = pd.read_csv('./data/processed/transformed/vl.csv', dtype=dtype).query('open == \"1\" and sales > 0')\n",
    "# Fill empty string to categorical features\n",
    "tr = inp.fill_catg_na(tr)\n",
    "vl = inp.fill_catg_na(vl)\n",
    "# Add date column for time series inspection\n",
    "tr['date'] = pd.read_json(conf.tr_dt_file, typ='series').values\n",
    "vl['date'] = pd.read_json(conf.vl_dt_file, typ='series').values\n",
    "\n",
    "tr['predict'] = np.nan\n",
    "vl['predict'] = ctrl.local_predict({\n",
    "    'datasource': vl.drop(['sales', 'date'], 1),\n",
    "    'is_src_file': True,\n",
    "    'model_name': 'deep',\n",
    "    'job_dir': '{}/dnn_regressor'.format(conf.model_path)\n",
    "})\n",
    "\n",
    "merge = pd.concat([tr, vl], 0)\n",
    "merge['sales'] = np.expm1(merge.sales)\n",
    "merge.head()"
   ]
  },
  {
   "cell_type": "markdown",
   "metadata": {},
   "source": [
    "<br/>\n",
    "<br/>\n",
    "\n",
    "Below we can modify the `pos` variable to control the starting position. The following plot will show 3 figures at a time; you can keep running the following 2 cells to view all timeline plots between prediction and label."
   ]
  },
  {
   "cell_type": "code",
   "execution_count": 14,
   "metadata": {},
   "outputs": [],
   "source": [
    "pos = 100"
   ]
  },
  {
   "cell_type": "code",
   "execution_count": null,
   "metadata": {
    "scrolled": false
   },
   "outputs": [],
   "source": [
    "n_rows, n_cols = 3, 1\n",
    "f, ax = plt.subplots(n_rows, n_cols, figsize=(20, 8), sharex=True, sharey=True)\n",
    "\n",
    "for r, idx in enumerate(np.arange(pos, pos + n_rows)):\n",
    "    samples = merge.query(f'store == {idx}').sort_values('date')\n",
    "    hist = samples[samples.predict.isnull()]\n",
    "    predict = samples[samples.predict.notnull()]\n",
    "    ax[r].plot(np.arange(len(hist)), hist.sales.values, c='gray', label='history')\n",
    "    ax[r].plot(np.arange(len(hist), len(hist) + len(predict)), predict.sales.values, label='actual')\n",
    "    ax[r].plot(np.arange(len(hist), len(hist) + len(predict)), predict.predict.values, label='predict')\n",
    "    ax[r].set_title(f'{idx}', size=18)\n",
    "    ax[r].set_ylabel('sales')\n",
    "    ax[r].set_ylabel('sales')\n",
    "    ax[r].grid(True)\n",
    "    ax[r].legend(loc='best', prop={'size': 16})\n",
    "pos += n_rows\n",
    "plt.show()"
   ]
  },
  {
   "cell_type": "markdown",
   "metadata": {},
   "source": [
    "### Observation\n",
    "\n",
    "The title of each figure is the store ID. The grey part is the timeline for the training data, while the timeline in blue is the actual sales, with predictions in orange. It is clear that the prediction matches nicely with the trend, even for the peak event."
   ]
  },
  {
   "cell_type": "code",
   "execution_count": null,
   "metadata": {},
   "outputs": [],
   "source": []
  }
 ],
 "metadata": {
  "anaconda-cloud": {},
  "kernelspec": {
   "display_name": "Python 3",
   "language": "python",
   "name": "python3"
  },
  "language_info": {
   "codemirror_mode": {
    "name": "ipython",
    "version": 3
   },
   "file_extension": ".py",
   "mimetype": "text/x-python",
   "name": "python",
   "nbconvert_exporter": "python",
   "pygments_lexer": "ipython3",
   "version": "3.6.0"
  }
 },
 "nbformat": 4,
 "nbformat_minor": 1
}
